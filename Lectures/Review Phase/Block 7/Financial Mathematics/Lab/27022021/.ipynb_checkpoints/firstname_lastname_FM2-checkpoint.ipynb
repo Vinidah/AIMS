{
 "cells": [
  {
   "cell_type": "code",
   "execution_count": 29,
   "metadata": {},
   "outputs": [],
   "source": [
    "import datetime\n",
    "import numpy as np\n",
    "from pandas_datareader import data\n",
    "from scipy.stats import norm\n",
    "import matplotlib.pyplot as plt"
   ]
  },
  {
   "cell_type": "code",
   "execution_count": 31,
   "metadata": {},
   "outputs": [
    {
     "data": {
      "image/png": "[encoded data removed]",
      "text/plain": [
       "<Figure size 432x288 with 1 Axes>"
      ]
     },
     "metadata": {
      "needs_background": "light"
     },
     "output_type": "display_data"
    }
   ],
   "source": [
    "Ex_return = np.linspace(0.1, 1,200)\n",
    "\n",
    "Risk = (1.3125* Ex_return **2 - 0.2625*Ex_return + 0.014725 )**(1/2)\n",
    "\n",
    "CML = 0.060 + 1.327367 * Risk \n",
    "\n",
    "\n",
    "\n",
    "\n",
    "plt.plot(Risk,Ex_return)\n",
    "plt.plot(Risk, CML)\n",
    "\n",
    "plt.show()\n"
   ]
  },
  {
   "cell_type": "code",
   "execution_count": 28,
   "metadata": {},
   "outputs": [
    {
     "name": "stdout",
     "output_type": "stream",
     "text": [
      "Value-at-Risk: $36.878877\n",
      "===========================\n",
      "Mean is: $0.0015091\n",
      "===========================\n",
      "Variance is: $0.023338\n"
     ]
    }
   ],
   "source": [
    "\n",
    "\n",
    "\n",
    "def var_cov_var(P, c, mu, sigma):\n",
    "    \"\"\"\n",
    "    Variance-Covariance calculation of daily Value-at-Risk\n",
    "    using confidence level c, with mean of returns mu\n",
    "    and standard deviation of returns sigma, on a portfolio\n",
    "    of value P.\n",
    "    \"\"\"\n",
    "    alpha = norm.ppf(1-c, mu, sigma)\n",
    "    return P - P*(alpha + 1)\n",
    "\n",
    "if __name__ == \"__main__\":\n",
    "    start = datetime.datetime(2017, 1, 1)\n",
    "    end = datetime.datetime(2020, 1, 1)\n",
    "\n",
    "    Netflix = data.DataReader(\"NFLX\", 'yahoo', start, end)\n",
    "    Netflix[\"rets\"] = Netflix[\"Adj Close\"].pct_change()\n",
    "\n",
    "    P = 1000  # 1,000 USD\n",
    "    c = 0.95  # 95% confidence interval\n",
    "    mu = np.mean(Netflix[\"rets\"])\n",
    "    \n",
    "   \n",
    "    \n",
    "    sigma = np.std(Netflix[\"rets\"])\n",
    "\n",
    "    var = var_cov_var(P, c, mu, sigma)\n",
    "    print (\"Value-at-Risk: $%0.6f\" % var)\n",
    "    print (\"===========================\")\n",
    "    print (\"Mean is: $%0.7f\" % mu)\n",
    "    print (\"===========================\")\n",
    "    print (\"Variance is: $%0.6f\" % sigma)\n",
    "    "
   ]
  },
  {
   "cell_type": "markdown",
   "metadata": {},
   "source": [
    "\\begin{equation}\n",
    "        P(R\\leq -t) = 1-c\n",
    "    \\end{equation}\n",
    "    Substituting $R$ we have\n",
    "    \\begin{align*}\n",
    "        P(Q\\times X\\leq -t) =& 1-c\\\\\n",
    "        P(Q\\{\\mu + \\sigma \\mathbb{N}(0,1)\\} \\leg -t)  =& 1-c\\\\\n",
    "        P(\\mu +\\sigma \\mathbb{N}[0,1] \\leg - \\frac{t}{Q}) =& 1-c\\\\\n",
    "        P ( \\mathbb{N}(0,1)\\leq -\\frac{t}{Q\\sigma} - \\frac{\\mu}{\\sigma} ) =& 1-c\\\\\n",
    "        \\Phi\\bigg[ -\\bigg( \\frac{t}{Q \\sigma} + \\frac{\\mu}{\\sigma}\\bigg)\\bigg] =& 1-c\\\\\n",
    "        1 - \\Phi\\bigg[\\bigg( \\frac{t}{Q \\sigma} + \\frac{\\mu}{\\sigma}\\bigg)\\bigg] =& 1-c\\\\\n",
    "        \\Phi\\bigg[ \\bigg( \\frac{t}{Q \\sigma} + \\frac{\\mu}{\\sigma}\\bigg)\\bigg] =& c\\\\\n",
    "        \\frac{t}{\\sigma Q} + \\frac{\\mu}{\\sigma} = & \\Phi^{-1} (c) \\quad \\quad  \\text{But} \\quad\\quad  \\Phi^{-1} (-c)  = 1- \\Phi (c)\\\\\n",
    "        t + Q\\mu = & Q \\sigma \\Phi^{-1} (c)\\\\\n",
    "        \\text{Therefore}\\quad \\quad t = & Q\\bigg( \\sigma \\Phi^{-1}(c) - \\mu  \\bigg)\\\\\n",
    "    \\end{align*}\n",
    "Thus shown."
   ]
  },
  {
   "cell_type": "code",
   "execution_count": null,
   "metadata": {},
   "outputs": [],
   "source": []
  }
 ],
 "metadata": {
  "kernelspec": {
   "display_name": "Python 3",
   "language": "python",
   "name": "python3"
  },
  "language_info": {
   "codemirror_mode": {
    "name": "ipython",
    "version": 3
   },
   "file_extension": ".py",
   "mimetype": "text/x-python",
   "name": "python",
   "nbconvert_exporter": "python",
   "pygments_lexer": "ipython3",
   "version": "3.7.4"
  }
 },
 "nbformat": 4,
 "nbformat_minor": 2
}
