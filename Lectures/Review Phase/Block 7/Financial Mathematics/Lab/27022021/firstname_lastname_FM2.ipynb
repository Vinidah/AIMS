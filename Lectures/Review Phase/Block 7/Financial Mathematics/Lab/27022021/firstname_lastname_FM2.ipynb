{
 "cells": [
  {
   "cell_type": "code",
   "execution_count": 8,
   "metadata": {},
   "outputs": [],
   "source": [
    "%matplotlib  inline\n",
    "import datetime as dt\n",
    "import numpy as np\n",
    "from pandas_datareader import data\n",
    "from scipy.stats import norm\n",
    "import matplotlib.pyplot as plt"
   ]
  },
  {
   "cell_type": "code",
   "execution_count": 6,
   "metadata": {},
   "outputs": [
    {
     "data": {
      "image/png": "[encoded data removed]",
      "text/plain": [
       "<Figure size 432x288 with 1 Axes>"
      ]
     },
     "metadata": {
      "needs_background": "light"
     },
     "output_type": "display_data"
    }
   ],
   "source": [
    "Expected_return = np.linspace(0.1, 1,100)\n",
    "\n",
    "Risk = np.sqrt((1.3125* Expected_return **2 - 0.2625*Expected_return + 0.014725 ))\n",
    "\n",
    "CML = 0.060 + 1.327367 * Risk \n",
    "\n",
    "\n",
    "\n",
    "plt.figure()\n",
    "plt.plot(Risk,Expected_return)\n",
    "plt.plot(Risk, CML)\n",
    "plt.xlabel(\"xlabel\")\n",
    "plt.ylabel(\"ylabel\")\n",
    "plt.title(\"put the title of your graph here!!!!\")\n",
    "plt.grid()\n",
    "plt.show()"
   ]
  },
  {
   "cell_type": "code",
   "execution_count": 9,
   "metadata": {},
   "outputs": [
    {
     "name": "stdout",
     "output_type": "stream",
     "text": [
      "Value-at-Risk: $36.878877\n",
      "===========================\n",
      "Mean is: $0.0015091\n",
      "===========================\n",
      "Variance is: $0.023338\n"
     ]
    }
   ],
   "source": [
    "def var_cov_var(P, c, mu, sigma):\n",
    "    alpha = norm.ppf(1-c, mu, sigma)\n",
    "    return P - P*(alpha + 1)\n",
    "\n",
    "start = dt.datetime(2017, 1, 1)\n",
    "end = dt.datetime(2020, 1, 1)\n",
    "\n",
    "Netflix = data.DataReader(\"NFLX\", 'yahoo', start, end)\n",
    "Netflix[\"rets\"] = Netflix[\"Adj Close\"].pct_change()\n",
    "\n",
    "P = 1000  # 1,000 USD\n",
    "c = 0.95  # 95% confidence interval\n",
    "mu = np.mean(Netflix[\"rets\"])\n",
    "\n",
    "\n",
    "\n",
    "sigma = np.std(Netflix[\"rets\"])\n",
    "\n",
    "var = var_cov_var(P, c, mu, sigma)\n",
    "print (\"Value-at-Risk: $%0.6f\" % var)\n",
    "print (\"===========================\")\n",
    "print (\"Mean is: $%0.7f\" % mu)\n",
    "print (\"===========================\")\n",
    "print (\"Variance is: $%0.6f\" % sigma)\n",
    "    "
   ]
  },
  {
   "cell_type": "code",
   "execution_count": null,
   "metadata": {},
   "outputs": [],
   "source": []
  }
 ],
 "metadata": {
  "kernelspec": {
   "display_name": "Python 3",
   "language": "python",
   "name": "python3"
  },
  "language_info": {
   "codemirror_mode": {
    "name": "ipython",
    "version": 3
   },
   "file_extension": ".py",
   "mimetype": "text/x-python",
   "name": "python",
   "nbconvert_exporter": "python",
   "pygments_lexer": "ipython3",
   "version": "3.7.6"
  }
 },
 "nbformat": 4,
 "nbformat_minor": 2
}
