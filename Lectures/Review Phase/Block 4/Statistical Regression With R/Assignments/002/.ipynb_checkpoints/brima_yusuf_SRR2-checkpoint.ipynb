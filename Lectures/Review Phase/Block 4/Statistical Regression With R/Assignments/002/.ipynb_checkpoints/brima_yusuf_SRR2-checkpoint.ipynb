{
 "cells": [
  {
   "cell_type": "code",
   "execution_count": 1,
   "metadata": {},
   "outputs": [],
   "source": [
    "#Install package to plot correlation matrix\n",
    "#install.packages(\"corrplot\")\n",
    "library(glue)\n",
    "#general R custom data loader function\n",
    "\n",
    "#install.packages(\"ggpubr\")\n",
    "\n",
    "\n",
    "#function to compute coefficient of linear correlation between two independent random variables\n",
    "corr_arr <- function(a,b){\n",
    "  \n",
    "  corr = 0\n",
    "  a_bar <-  sum(a)/length(a)\n",
    "  \n",
    "  b_bar <- sum(b)/length(b)\n",
    "  \n",
    "  var_a  =  sum((a - a_bar)^2)/(length(a) - 1)\n",
    "  \n",
    "  var_b  =  sum((b - b_bar)^2)/(length(b) - 1)\n",
    "  \n",
    "  covar_a_b =  sum((a -  a_bar) * (b -  b_bar))/ (length(b) - 1)\n",
    "  \n",
    "  corr = covar_a_b/sqrt(var_a * var_b)\n",
    "  return(corr)\n",
    "}\n",
    "\n",
    "\n",
    "#function to compute and build the correlation matrix between the variables under our observation\n",
    "display_correlation  <-  function(female_data){\n",
    "  #we are encoding the sex feature (F,M) -> (1,2)\n",
    "  data$Sex = as.numeric(factor(data$Sex,levels = c(\"F\",\"M\"),labels = c(1, 2)))\n",
    "  result <- matrix(, nrow = ncol(data), ncol =ncol(data))\n",
    "  for (i in  1:ncol(data)){\n",
    "    for (j in 1:ncol(data)){\n",
    "      result[i,j] <- corr_arr(data[,i],data[,j])\n",
    "    }\n",
    "  }\n",
    "  colnames(result) <- colnames(data)\n",
    "  rownames(result) <- colnames(data)\n",
    "  return(result)\n",
    "}\n"
   ]
  },
  {
   "cell_type": "markdown",
   "metadata": {},
   "source": [
    "## (1) Undertake a descriptive analysis of the variables in this dataset."
   ]
  },
  {
   "cell_type": "code",
   "execution_count": 3,
   "metadata": {},
   "outputs": [
    {
     "name": "stderr",
     "output_type": "stream",
     "text": [
      "The following objects are masked from data (pos = 3):\n",
      "\n",
      "    Age_num, City_Category, Gender, Marital_Status, Purchase,\n",
      "    Stay_In_Current_City_Years, User_ID\n",
      "\n",
      "\n"
     ]
    },
    {
     "ename": "ERROR",
     "evalue": "Error in `$<-.data.frame`(`*tmp*`, \"Sex\", value = numeric(0)): replacement has 0 rows, data has 159000\n",
     "output_type": "error",
     "traceback": [
      "Error in `$<-.data.frame`(`*tmp*`, \"Sex\", value = numeric(0)): replacement has 0 rows, data has 159000\nTraceback:\n",
      "1. display_correlation(data)",
      "2. `$<-`(`*tmp*`, \"Sex\", value = numeric(0))   # at line 31 of file <text>",
      "3. `$<-.data.frame`(`*tmp*`, \"Sex\", value = numeric(0))   # at line 31 of file <text>",
      "4. stop(sprintf(ngettext(N, \"replacement has %d row, data has %d\", \n .     \"replacement has %d rows, data has %d\"), N, nrows), domain = NA)"
     ]
    }
   ],
   "source": [
    "##We load the data \n",
    "data <-  read.csv(\"data_purchase_behaviour.csv\",header = T)\n",
    "data$X <- NULL\n",
    "#We attach the data to give the column names global scope\n",
    "attach(data)\n",
    "\n",
    "\n",
    "#We are observing the correlation between the variables in the dataset\n",
    "res <-  display_correlation(data)\n",
    "options(repr.plot.width=14, repr.plot.height=8)\n",
    "corrplot::corrplot(res,method=\"color\",title=\"Correlation matrix\")"
   ]
  },
  {
   "cell_type": "raw",
   "metadata": {},
   "source": []
  },
  {
   "cell_type": "markdown",
   "metadata": {},
   "source": [
    "## (2) Undertake a descriptive analysis of the variables in this dataset.\n",
    "### Justify all the choices you make to arrive at your final model"
   ]
  },
  {
   "cell_type": "code",
   "execution_count": null,
   "metadata": {},
   "outputs": [],
   "source": []
  },
  {
   "cell_type": "markdown",
   "metadata": {},
   "source": [
    "## (3) Interpret your final model."
   ]
  },
  {
   "cell_type": "code",
   "execution_count": null,
   "metadata": {},
   "outputs": [],
   "source": []
  },
  {
   "cell_type": "markdown",
   "metadata": {},
   "source": [
    "## (4) Are all the assumptions about your model met?"
   ]
  },
  {
   "cell_type": "code",
   "execution_count": null,
   "metadata": {},
   "outputs": [],
   "source": []
  },
  {
   "cell_type": "markdown",
   "metadata": {},
   "source": [
    "## (5) Explain how you can use your final model to help the company improve theirsales?"
   ]
  },
  {
   "cell_type": "code",
   "execution_count": null,
   "metadata": {},
   "outputs": [],
   "source": []
  },
  {
   "cell_type": "markdown",
   "metadata": {},
   "source": [
    "## (6) Suggest possible ways of improving your model \n",
    "### (google!)"
   ]
  },
  {
   "cell_type": "code",
   "execution_count": null,
   "metadata": {},
   "outputs": [],
   "source": []
  },
  {
   "cell_type": "markdown",
   "metadata": {},
   "source": [
    "## (7) Compare your final model to the model built on Gender and Age only"
   ]
  },
  {
   "cell_type": "code",
   "execution_count": null,
   "metadata": {},
   "outputs": [],
   "source": []
  }
 ],
 "metadata": {
  "kernelspec": {
   "display_name": "R",
   "language": "R",
   "name": "ir"
  },
  "language_info": {
   "codemirror_mode": "r",
   "file_extension": ".r",
   "mimetype": "text/x-r-source",
   "name": "R",
   "pygments_lexer": "r",
   "version": "4.0.3"
  }
 },
 "nbformat": 4,
 "nbformat_minor": 4
}
