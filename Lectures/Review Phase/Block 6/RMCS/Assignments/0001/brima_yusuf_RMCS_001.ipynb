{
 "cells": [
  {
   "cell_type": "code",
   "execution_count": 21,
   "metadata": {},
   "outputs": [],
   "source": [
    "import numpy as np\n",
    "import pandas as pd\n",
    "import matplotlib.pyplot as plt\n",
    "from sklearn.decomposition import PCA\n",
    "from sklearn.cluster import KMeans"
   ]
  },
  {
   "cell_type": "code",
   "execution_count": 36,
   "metadata": {},
   "outputs": [],
   "source": [
    "#,usecols=('PRED','PETD','CLDD','DTRD','TMPD','TMND','TMXD','VAPD','WETD','FRSD')\n",
    "df = pd.read_table(\"./Dataset/sample.dat\", sep=\"\\s+\")"
   ]
  },
  {
   "cell_type": "code",
   "execution_count": 42,
   "metadata": {},
   "outputs": [
    {
     "data": {
      "text/plain": [
       "16-JAN-1960  0  /  709:     24.4\n",
       "15-FEB-1960  0  /  710:     26.7\n",
       "16-MAR-1960  0  /  711:     26.7\n",
       "16-APR-1960  0  /  712:     27.5\n",
       "16-MAY-1960  0  /  713:     29.0\n",
       "                            ... \n",
       "16-AUG-2010  0  /  1316:    28.4\n",
       "16-SEP-2010  0  /  1317:    27.7\n",
       "16-OCT-2010  0  /  1318:    29.0\n",
       "16-NOV-2010  0  /  1319:    27.9\n",
       "16-DEC-2010  0  /  1320:    26.9\n",
       "Name: TMPD, Length: 612, dtype: float64"
      ]
     },
     "execution_count": 42,
     "metadata": {},
     "output_type": "execute_result"
    }
   ],
   "source": [
    "df.iloc[:,4]"
   ]
  },
  {
   "cell_type": "code",
   "execution_count": 33,
   "metadata": {},
   "outputs": [],
   "source": [
    "??pd.read_table"
   ]
  },
  {
   "cell_type": "code",
   "execution_count": 43,
   "metadata": {},
   "outputs": [
    {
     "data": {
      "text/plain": [
       "(612, 10)"
      ]
     },
     "execution_count": 43,
     "metadata": {},
     "output_type": "execute_result"
    }
   ],
   "source": [
    "df.shape"
   ]
  },
  {
   "cell_type": "code",
   "execution_count": 32,
   "metadata": {},
   "outputs": [
    {
     "data": {
      "text/plain": [
       "16-JAN-1960  0  /  709:     4.9\n",
       "15-FEB-1960  0  /  710:     5.7\n",
       "16-MAR-1960  0  /  711:     6.3\n",
       "16-APR-1960  0  /  712:     6.8\n",
       "16-MAY-1960  0  /  713:     6.5\n",
       "                           ... \n",
       "16-AUG-2010  0  /  1316:    4.4\n",
       "16-SEP-2010  0  /  1317:    4.0\n",
       "16-OCT-2010  0  /  1318:    4.5\n",
       "16-NOV-2010  0  /  1319:    4.6\n",
       "16-DEC-2010  0  /  1320:    4.9\n",
       "Name: PETD, Length: 612, dtype: float64"
      ]
     },
     "execution_count": 32,
     "metadata": {},
     "output_type": "execute_result"
    }
   ],
   "source": [
    "df['PETD']"
   ]
  },
  {
   "cell_type": "code",
   "execution_count": null,
   "metadata": {},
   "outputs": [],
   "source": []
  }
 ],
 "metadata": {
  "kernelspec": {
   "display_name": "Python 3",
   "language": "python",
   "name": "python3"
  },
  "language_info": {
   "codemirror_mode": {
    "name": "ipython",
    "version": 3
   },
   "file_extension": ".py",
   "mimetype": "text/x-python",
   "name": "python",
   "nbconvert_exporter": "python",
   "pygments_lexer": "ipython3",
   "version": "3.7.6"
  }
 },
 "nbformat": 4,
 "nbformat_minor": 4
}
