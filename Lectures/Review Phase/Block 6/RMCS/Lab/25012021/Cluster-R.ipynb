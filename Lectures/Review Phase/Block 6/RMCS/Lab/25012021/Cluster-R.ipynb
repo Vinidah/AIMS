{
 "cells": [
  {
   "cell_type": "code",
   "execution_count": 1,
   "metadata": {},
   "outputs": [],
   "source": [
    "rm(list=ls())\n",
    "\n",
    "#opening the file\n",
    "egs=read.table('Droughts.txt',skip=22,header=T)"
   ]
  },
  {
   "cell_type": "code",
   "execution_count": 2,
   "metadata": {},
   "outputs": [],
   "source": [
    "# Removing Year and Month\n",
    "xx=egs[,3:18]"
   ]
  },
  {
   "cell_type": "code",
   "execution_count": 10,
   "metadata": {},
   "outputs": [],
   "source": [
    "# Replacing the missing values (-999) with -2.33\n",
    "\n",
    "xx[xx==-999]=-2.33"
   ]
  },
  {
   "cell_type": "code",
   "execution_count": 30,
   "metadata": {},
   "outputs": [],
   "source": [
    "# Creating a sequence  of january from all the months\n",
    "jan=seq(1,612,12)"
   ]
  },
  {
   "cell_type": "code",
   "execution_count": 36,
   "metadata": {},
   "outputs": [],
   "source": [
    "# Creating an array to keep all the 51 januaries\n",
    "# for the 16 variables\n",
    "\n",
    "yy=array(NA,c(51,16))"
   ]
  },
  {
   "cell_type": "code",
   "execution_count": 44,
   "metadata": {},
   "outputs": [],
   "source": [
    "# selecting the month of january \n",
    "for ( i in 1 :16){\n",
    "\n",
    "yy[,i]=xx[,i][jan]\n",
    "}\n"
   ]
  },
  {
   "cell_type": "code",
   "execution_count": 46,
   "metadata": {},
   "outputs": [],
   "source": [
    "# scaling the array\n",
    "\n",
    "yy.scaled=scale(yy)"
   ]
  },
  {
   "cell_type": "code",
   "execution_count": 53,
   "metadata": {},
   "outputs": [],
   "source": [
    "\n",
    "colnames(yy.scaled)=names(xx)"
   ]
  },
  {
   "cell_type": "code",
   "execution_count": 5,
   "metadata": {},
   "outputs": [
    {
     "ename": "ERROR",
     "evalue": "Error in t(yy.scaled): object 'yy.scaled' not found\n",
     "output_type": "error",
     "traceback": [
      "Error in t(yy.scaled): object 'yy.scaled' not found\nTraceback:\n",
      "1. hclust(dist(t(yy.scaled)), method = \"ward.D2\")",
      "2. dist(t(yy.scaled))",
      "3. as.matrix(x)",
      "4. t(yy.scaled)"
     ]
    }
   ],
   "source": [
    "\n",
    "\n",
    "####### performing the clustering############\n",
    "yy.clus=hclust(dist(t(yy.scaled)),method='ward.D2')\n",
    "\n",
    "#####plotting the tree#################\n",
    "plot(yy.clus,hang=-6,col='blue')\n",
    "\n",
    "#cutree(yy.clus,k=4)"
   ]
  },
  {
   "cell_type": "code",
   "execution_count": null,
   "metadata": {},
   "outputs": [],
   "source": []
  }
 ],
 "metadata": {
  "kernelspec": {
   "display_name": "R",
   "language": "R",
   "name": "ir"
  },
  "language_info": {
   "codemirror_mode": "r",
   "file_extension": ".r",
   "mimetype": "text/x-r-source",
   "name": "R",
   "pygments_lexer": "r",
   "version": "4.0.3"
  }
 },
 "nbformat": 4,
 "nbformat_minor": 4
}
