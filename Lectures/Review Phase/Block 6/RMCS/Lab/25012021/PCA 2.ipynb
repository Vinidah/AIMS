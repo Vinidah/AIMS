{
 "cells": [
  {
   "cell_type": "code",
   "execution_count": 4,
   "metadata": {},
   "outputs": [
    {
     "ename": "ImportError",
     "evalue": "cannot import name 'PCA' from 'matplotlib.mlab' (/opt/anaconda3/lib/python3.7/site-packages/matplotlib/mlab.py)",
     "output_type": "error",
     "traceback": [
      "\u001b[0;31m---------------------------------------------------------------------------\u001b[0m",
      "\u001b[0;31mImportError\u001b[0m                               Traceback (most recent call last)",
      "\u001b[0;32m<ipython-input-4-a5ecc18a36cf>\u001b[0m in \u001b[0;36m<module>\u001b[0;34m\u001b[0m\n\u001b[1;32m      2\u001b[0m \u001b[0;32mfrom\u001b[0m \u001b[0mnumpy\u001b[0m \u001b[0;32mimport\u001b[0m\u001b[0;34m*\u001b[0m\u001b[0;34m\u001b[0m\u001b[0;34m\u001b[0m\u001b[0m\n\u001b[1;32m      3\u001b[0m \u001b[0;32mimport\u001b[0m \u001b[0mmatplotlib\u001b[0m\u001b[0;34m.\u001b[0m\u001b[0mpyplot\u001b[0m \u001b[0;32mas\u001b[0m \u001b[0mplt\u001b[0m\u001b[0;34m\u001b[0m\u001b[0;34m\u001b[0m\u001b[0m\n\u001b[0;32m----> 4\u001b[0;31m \u001b[0;32mfrom\u001b[0m \u001b[0mmatplotlib\u001b[0m\u001b[0;34m.\u001b[0m\u001b[0mmlab\u001b[0m \u001b[0;32mimport\u001b[0m \u001b[0mPCA\u001b[0m\u001b[0;34m\u001b[0m\u001b[0;34m\u001b[0m\u001b[0m\n\u001b[0m",
      "\u001b[0;31mImportError\u001b[0m: cannot import name 'PCA' from 'matplotlib.mlab' (/opt/anaconda3/lib/python3.7/site-packages/matplotlib/mlab.py)"
     ]
    }
   ],
   "source": [
    "#CAlling the relevant libraries\n",
    "from numpy import*\n",
    "import matplotlib.pyplot as plt\n",
    "from matplotlib.mlab import PCA"
   ]
  },
  {
   "cell_type": "code",
   "execution_count": null,
   "metadata": {},
   "outputs": [],
   "source": [
    "# reading the data from the file\n",
    "table=loadtxt('Droughts.txt',skiprows=23,usecols=(2,3,4,5,6,7,8,9,10,11,12,13,14,15,16,17))\n",
    "# Replacing the missing values (-999) with -2.33 \n",
    "table[table==-999]=-2.33\n"
   ]
  },
  {
   "cell_type": "code",
   "execution_count": null,
   "metadata": {},
   "outputs": [],
   "source": [
    "#This is where the PCA method is called and different variables are calculated\n",
    "drought_PCA=PCA(table)\n",
    "a=drought_PCA.a\n",
    "weights=drought_PCA.Wt\n",
    "projected=drought_PCA.Y\n",
    "variance=drought_PCA.fracs\n",
    "loadings=empty_like(drought_PCA.Wt)\n",
    "U,s,V = linalg.svd(table) \n",
    "eigenvals = linalg.eigvals(cov(a.T))\n",
    "for i in range(0,16):\n",
    "\tloadings[i]=weights[i]*projected.std(axis=0)[i]"
   ]
  },
  {
   "cell_type": "code",
   "execution_count": null,
   "metadata": {},
   "outputs": [],
   "source": [
    "# headings for matrix\n",
    "header1=(\" \",\"PC1\",\"PC2\",\"PC3\",\"PC4\",\"PC5\",\"PC6\",\"PC7\",\"PC8\",\"PC9\",\"PC10\",\"PC11\",\"PC12\",\"PC13\",\"PC14\",\"PC15\",\"PC16\")\n",
    "nameset=('Cld','Pet','Pre','Tmn','Tmp','Tmx','Vap','Wet','spei01','MEI','NINO34','QBO','SOI','AO','ONI','WP','var')\n",
    "# Creating a new matrix with headings\n",
    "loadings=loadings.round(5)\n",
    "variance=variance.round(5)\n",
    "new=column_stack((loadings,variance*100))\n",
    "new=row_stack((nameset,new))\n",
    "new=column_stack((header1,new))\n",
    "# saving the loadings and explained variance to a file\n",
    "savetxt('PCA.txt',new.T,delimiter=\"\t \",fmt='%s')\n"
   ]
  },
  {
   "cell_type": "code",
   "execution_count": null,
   "metadata": {},
   "outputs": [],
   "source": [
    "#Plotting the scree plot\n",
    "pca_list=range(1,17)\n",
    "plt.plot(pca_list,eigenvals)\n",
    "plt.xlim(1,17)\n",
    "plt.xlabel(\"principal components\")\n",
    "plt.ylabel(\"var\")\n",
    "plt.title(\"Scree Plot\")\n",
    "plt.savefig('scree.png')"
   ]
  }
 ],
 "metadata": {
  "kernelspec": {
   "display_name": "Python 3",
   "language": "python",
   "name": "python3"
  },
  "language_info": {
   "codemirror_mode": {
    "name": "ipython",
    "version": 3
   },
   "file_extension": ".py",
   "mimetype": "text/x-python",
   "name": "python",
   "nbconvert_exporter": "python",
   "pygments_lexer": "ipython3",
   "version": "3.7.6"
  }
 },
 "nbformat": 4,
 "nbformat_minor": 4
}
