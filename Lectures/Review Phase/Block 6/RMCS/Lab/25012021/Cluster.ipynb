{
 "cells": [
  {
   "cell_type": "code",
   "execution_count": 11,
   "metadata": {},
   "outputs": [],
   "source": [
    "#!/usr/bin/env python\n",
    "#importing packages to use\n",
    "from numpy import*\n",
    "from scipy.cluster.hierarchy import linkage,dendrogram,distance\n",
    "import matplotlib.pyplot as plt"
   ]
  },
  {
   "cell_type": "code",
   "execution_count": 2,
   "metadata": {},
   "outputs": [],
   "source": [
    "#defining a function that standardizes the data\n",
    "def scale(matrix):\n",
    "    import numpy as np\n",
    "    result=np.empty_like(matrix)\n",
    "    for column in range(0,matrix.shape[0]):\n",
    "        tmp=matrix[column,:]\n",
    "        result[column,:]=(tmp-np.mean(tmp))/np.std(tmp)\n",
    "    return result\n"
   ]
  },
  {
   "cell_type": "code",
   "execution_count": 6,
   "metadata": {},
   "outputs": [],
   "source": [
    "# reading the data from the file\n",
    "table=loadtxt('Droughts.txt',skiprows=23,usecols=(2,3,4,5,6,7,8,9,10,11,12,13,14,15,16,17)).T\n",
    "# Replacing the missing values (-999) with -2.33 \n",
    "table[table==-999]=-2.33\n",
    "#calling the standardizing function\n",
    "table1=scale(table[:,0:612:12])\n",
    "#clustering\n",
    "Y=linkage(table1,method='ward',metric='euclidean')\n",
    "#nameset for labeling\n",
    "nameset=('Year','Month','Cld','Pet','Pre','Tmn','Tmp','Tmx','Vap','Wet','spei01','MEI','NINO34','QBO','SOI','AO','ONI','WP')\n",
    "cluster_nameset=nameset[2:18]\n",
    "# defines the color of the dendrogram'\n",
    "def f(x): \n",
    "       return 'blue'\n"
   ]
  },
  {
   "cell_type": "code",
   "execution_count": 7,
   "metadata": {},
   "outputs": [
    {
     "data": {
      "image/png": "[encoded data removed]",
      "text/plain": [
       "<Figure size 432x288 with 1 Axes>"
      ]
     },
     "metadata": {
      "needs_background": "light"
     },
     "output_type": "display_data"
    }
   ],
   "source": [
    "# plotting a dendrogram to visualise the clustering\n",
    "dendrogram(Y,labels=cluster_nameset,leaf_rotation=90,color_threshold=10,leaf_font_size=10,link_color_func=f)\n",
    "plt.ylabel('height')\n",
    "plt.title('Cluster Analysis Droughts')\n",
    "#creating a horizontal line\n",
    "#plt.axhline(y=15)\n",
    "#saving the plot \n",
    "plt.show()\n",
    "#plt.savefig('dendro.png')\n",
    "#plt.close()"
   ]
  },
  {
   "cell_type": "code",
   "execution_count": 20,
   "metadata": {},
   "outputs": [],
   "source": [
    "import matplotlib"
   ]
  },
  {
   "cell_type": "code",
   "execution_count": 21,
   "metadata": {},
   "outputs": [
    {
     "name": "stdout",
     "output_type": "stream",
     "text": [
      "3.1.3\n"
     ]
    }
   ],
   "source": [
    "print(matplotlib.__version__)"
   ]
  },
  {
   "cell_type": "code",
   "execution_count": 17,
   "metadata": {},
   "outputs": [
    {
     "name": "stdout",
     "output_type": "stream",
     "text": [
      "2.22.0\n"
     ]
    }
   ],
   "source": [
    "import requests\n",
    "print(requests.__version__)"
   ]
  },
  {
   "cell_type": "code",
   "execution_count": 19,
   "metadata": {},
   "outputs": [
    {
     "name": "stdout",
     "output_type": "stream",
     "text": [
      "Defaulting to user installation because normal site-packages is not writeable\n",
      "Requirement already satisfied: matplotlib in /Library/Python/3.7/site-packages (3.3.2)\n",
      "Requirement already satisfied: cycler>=0.10 in /Library/Python/3.7/site-packages (from matplotlib) (0.10.0)\n",
      "Requirement already satisfied: kiwisolver>=1.0.1 in /Library/Python/3.7/site-packages (from matplotlib) (1.3.1)\n",
      "Requirement already satisfied: pillow>=6.2.0 in /Library/Python/3.7/site-packages (from matplotlib) (8.0.1)\n",
      "Requirement already satisfied: certifi>=2020.06.20 in /Library/Python/3.7/site-packages (from matplotlib) (2020.6.20)\n",
      "Requirement already satisfied: python-dateutil>=2.1 in /Library/Python/3.7/site-packages (from matplotlib) (2.8.1)\n",
      "Requirement already satisfied: pyparsing!=2.0.4,!=2.1.2,!=2.1.6,>=2.0.3 in /Library/Python/3.7/site-packages (from matplotlib) (2.4.7)\n",
      "Requirement already satisfied: numpy>=1.15 in /Library/Python/3.7/site-packages (from matplotlib) (1.19.4)\n",
      "Requirement already satisfied: six in /Library/Developer/CommandLineTools/Library/Frameworks/Python3.framework/Versions/3.7/lib/python3.7/site-packages (from cycler>=0.10->matplotlib) (1.12.0)\n",
      "\u001b[33mWARNING: You are using pip version 20.3.3; however, version 21.0 is available.\n",
      "You should consider upgrading via the '/Library/Developer/CommandLineTools/usr/bin/python3 -m pip install --upgrade pip' command.\u001b[0m\n"
     ]
    }
   ],
   "source": [
    "!pip install matplotlib"
   ]
  },
  {
   "cell_type": "code",
   "execution_count": null,
   "metadata": {},
   "outputs": [],
   "source": []
  }
 ],
 "metadata": {
  "kernelspec": {
   "display_name": "Python 3",
   "language": "python",
   "name": "python3"
  },
  "language_info": {
   "codemirror_mode": {
    "name": "ipython",
    "version": 3
   },
   "file_extension": ".py",
   "mimetype": "text/x-python",
   "name": "python",
   "nbconvert_exporter": "python",
   "pygments_lexer": "ipython3",
   "version": "3.7.6"
  }
 },
 "nbformat": 4,
 "nbformat_minor": 4
}
