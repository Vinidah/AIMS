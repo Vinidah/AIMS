{
 "cells": [
  {
   "cell_type": "code",
   "execution_count": 183,
   "metadata": {},
   "outputs": [],
   "source": [
    "import numpy as np\n",
    "import matplotlib.pyplot as plt"
   ]
  },
  {
   "cell_type": "code",
   "execution_count": 184,
   "metadata": {},
   "outputs": [],
   "source": [
    "class vanillaPCA:\n",
    "    resultset = {}\n",
    "    def __init__(self,x):\n",
    "        self.x  = x\n",
    "    def scale(self):\n",
    "        n,k = self.x.shape\n",
    "        xnew   = np.zeros((n,k))\n",
    "        for i in range(0,k):\n",
    "            xnew[:,i] =  (self.x[:,i] - np.sum(self.x[:,i]))/np.std(self.x[:,i])\n",
    "        return xnew\n",
    "    def pca(self):\n",
    "        cov = np.cov(self.scale(),rowvar=False)\n",
    "        e_val, e_vector =  np.linalg.eig(cov)\n",
    "        scores =   np.transpose((e_vector @ np.transpose(self.x)))\n",
    "        self.resultset[\"values\"]  = e_val\n",
    "        self.resultset[\"Loadings\"] = e_vector\n",
    "        self.resultset[\"scores\"] =  scores\n",
    "        return self.resultset"
   ]
  },
  {
   "cell_type": "code",
   "execution_count": 185,
   "metadata": {},
   "outputs": [
    {
     "data": {
      "text/plain": [
       "<matplotlib.collections.PathCollection at 0x7fc39903c510>"
      ]
     },
     "execution_count": 185,
     "metadata": {},
     "output_type": "execute_result"
    },
    {
     "data": {
      "image/png": "[encoded data removed]",
      "text/plain": [
       "<Figure size 432x288 with 1 Axes>"
      ]
     },
     "metadata": {
      "needs_background": "light"
     },
     "output_type": "display_data"
    }
   ],
   "source": [
    "data = np.random.randn(40, 4) \n",
    "plt.scatter(data[:,0],data[:,1])"
   ]
  },
  {
   "cell_type": "code",
   "execution_count": 111,
   "metadata": {},
   "outputs": [],
   "source": [
    "pca1 = vanillaPCA(data)"
   ]
  },
  {
   "cell_type": "code",
   "execution_count": 114,
   "metadata": {},
   "outputs": [],
   "source": [
    "res = pca1.pca()"
   ]
  }
 ],
 "metadata": {
  "kernelspec": {
   "display_name": "Python 3",
   "language": "python",
   "name": "python3"
  },
  "language_info": {
   "codemirror_mode": {
    "name": "ipython",
    "version": 3
   },
   "file_extension": ".py",
   "mimetype": "text/x-python",
   "name": "python",
   "nbconvert_exporter": "python",
   "pygments_lexer": "ipython3",
   "version": "3.7.6"
  }
 },
 "nbformat": 4,
 "nbformat_minor": 4
}
