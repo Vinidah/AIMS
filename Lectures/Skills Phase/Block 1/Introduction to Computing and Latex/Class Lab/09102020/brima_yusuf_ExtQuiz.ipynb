{
 "cells": [
  {
   "cell_type": "markdown",
   "metadata": {},
   "source": [
    "# $$ \\text{Extended Quiz}$$\n",
    "\n"
   ]
  },
  {
   "cell_type": "markdown",
   "metadata": {},
   "source": [
    "# Exercise 1\n",
    "\n",
    "Write a program that asks the user for a positive integer $k$ and $n$,  and compute and displays the value of $$A = \\frac{1}{k}+ \\frac{1}{kk}+ \\frac{1}{kkk}+ \\frac{1}{kkkk}+\\frac{1}{kk...k},$$\n",
    "where the last term $kk...k$ has a length $n$. Test the program by inputing $2$ and $1$ for $k$ and $n$, respectively."
   ]
  },
  {
   "cell_type": "code",
   "execution_count": 6,
   "metadata": {},
   "outputs": [],
   "source": [
    "def f(k,n):\n",
    "    A = 0\n",
    "    for i in range(1,n+1):\n",
    "        A += 1/(k * int(str(1) * i ))\n",
    "    return A"
   ]
  },
  {
   "cell_type": "code",
   "execution_count": 5,
   "metadata": {},
   "outputs": [
    {
     "data": {
      "text/plain": [
       "0.5504540954135548"
      ]
     },
     "execution_count": 5,
     "metadata": {},
     "output_type": "execute_result"
    }
   ],
   "source": [
    "f(2,5)"
   ]
  },
  {
   "cell_type": "code",
   "execution_count": null,
   "metadata": {},
   "outputs": [],
   "source": [
    "P ()\n",
    "E 2**n\n",
    "M *\n",
    "D / \n",
    "A +\n",
    "S -"
   ]
  },
  {
   "cell_type": "markdown",
   "metadata": {},
   "source": [
    "# Exercise 2\n",
    "\n",
    "1. Write a function called <b>showEmployee</b> in such a way that it should accept employee name and its salary and display both. For axemaple, <b>showEmployee(\"John\",100000)</b> must return <b>\"Employee John's salary is 100000\"</b>.\n",
    "if the salary is not given, the function <b>showEmployee</b> must consider 50000 as the salary."
   ]
  },
  {
   "cell_type": "code",
   "execution_count": 19,
   "metadata": {},
   "outputs": [],
   "source": [
    "def showEmployee(name,salary=50000):\n",
    "    return f\"Employee {name}'s salary is {salary}\""
   ]
  },
  {
   "cell_type": "code",
   "execution_count": 20,
   "metadata": {},
   "outputs": [
    {
     "data": {
      "text/plain": [
       "\"Employee Yusuf's salary is 50000\""
      ]
     },
     "execution_count": 20,
     "metadata": {},
     "output_type": "execute_result"
    }
   ],
   "source": [
    "showEmployee(\"Yusuf\")"
   ]
  },
  {
   "cell_type": "markdown",
   "metadata": {},
   "source": [
    "# Exercise 3\n",
    "Write a function called <b>Root_Power</b> that is given a positive number $x$ and a positive integer $n$ and returns $x^{1/n}$ and $x^n$. In\n",
    "the function definition, set the default value of $n$ to $2$. Test the function <b>root</b> by inputing only $x=49$"
   ]
  },
  {
   "cell_type": "code",
   "execution_count": 23,
   "metadata": {},
   "outputs": [],
   "source": [
    "def Root_Power(x,n=2):\n",
    "    return x**(1/n),x**n"
   ]
  },
  {
   "cell_type": "code",
   "execution_count": 24,
   "metadata": {},
   "outputs": [
    {
     "name": "stdout",
     "output_type": "stream",
     "text": [
      "a = 7.0 and b = 2401\n"
     ]
    }
   ],
   "source": [
    "a,b = Root_Power(49)\n",
    "print(\"a = {} and b = {}\".format(a,b))"
   ]
  },
  {
   "cell_type": "markdown",
   "metadata": {},
   "source": [
    "# Exercise 4\n",
    "1. Write a Python function called <b>OddNum</b> that  returns the list of odd numbers from a given list."
   ]
  },
  {
   "cell_type": "code",
   "execution_count": 113,
   "metadata": {},
   "outputs": [],
   "source": [
    "def OddNum(lst):\n",
    "    return [x for x in lst if x % 2 != 0 ] "
   ]
  },
  {
   "cell_type": "markdown",
   "metadata": {},
   "source": [
    "2. Test the function <b>OddNum</b> by using the list $[-14, 45.5,27,0,-4,7]$"
   ]
  },
  {
   "cell_type": "code",
   "execution_count": 114,
   "metadata": {},
   "outputs": [
    {
     "data": {
      "text/plain": [
       "[45.5, 27, 7]"
      ]
     },
     "execution_count": 114,
     "metadata": {},
     "output_type": "execute_result"
    }
   ],
   "source": [
    "OddNum([-14,45.5,27,0,-4,7])"
   ]
  },
  {
   "cell_type": "markdown",
   "metadata": {},
   "source": [
    "# Exercise 5\n",
    "\n",
    "1. Write a function called <b>SolveQuadratic</b> that takes three real numbers $a\\neq 0$, $b$, $c$ and  returns the list of the solutions in <b>R</b> of the quadratic equation $ax^2 + bx + c = 0.$ "
   ]
  },
  {
   "cell_type": "code",
   "execution_count": 48,
   "metadata": {},
   "outputs": [],
   "source": [
    "\n",
    "def SolveQuadratic(a,b,c):\n",
    "    n = b**2 - (4*a*c)\n",
    "    if (n >=0):\n",
    "        r1 = (-b + n**(1/2))/(2*a)\n",
    "        r2 = (-b - n**(1/2))/(2*a)\n",
    "        return [r1,r2]\n",
    "    else:\n",
    "        return []"
   ]
  },
  {
   "cell_type": "markdown",
   "metadata": {},
   "source": [
    "2. Print the output of <b>SolveQuadratic</b> when\n",
    "    - $a = 2, b=0, c=-8$\n",
    "    - $a = 2, b=0, c=8$\n",
    "    - $a = 1, b=2, c=1$"
   ]
  },
  {
   "cell_type": "code",
   "execution_count": 115,
   "metadata": {},
   "outputs": [
    {
     "data": {
      "text/plain": [
       "[2.0, -2.0]"
      ]
     },
     "execution_count": 115,
     "metadata": {},
     "output_type": "execute_result"
    }
   ],
   "source": [
    "SolveQuadratic(2,0,-8)"
   ]
  },
  {
   "cell_type": "code",
   "execution_count": 116,
   "metadata": {},
   "outputs": [
    {
     "data": {
      "text/plain": [
       "[]"
      ]
     },
     "execution_count": 116,
     "metadata": {},
     "output_type": "execute_result"
    }
   ],
   "source": [
    "SolveQuadratic(2,0,8)"
   ]
  },
  {
   "cell_type": "code",
   "execution_count": 51,
   "metadata": {},
   "outputs": [
    {
     "data": {
      "text/plain": [
       "[-1.0, -1.0]"
      ]
     },
     "execution_count": 51,
     "metadata": {},
     "output_type": "execute_result"
    }
   ],
   "source": [
    "SolveQuadratic(1,2,1)"
   ]
  },
  {
   "cell_type": "markdown",
   "metadata": {},
   "source": [
    "# Exercise 6\n",
    "1. Write a function called <b>FunDig</b> that takes an integer  $n$ and returns the sum of the cubes of it’s digits.\n",
    "For example, <b>FunDig</b>$(203)$ must compute $ 2^3 + 0^3 + 3^3 $ and return $35$.\n"
   ]
  },
  {
   "cell_type": "code",
   "execution_count": 52,
   "metadata": {},
   "outputs": [],
   "source": [
    "def FunDig(n):\n",
    "    _Sum = 0\n",
    "    for c in str(n):\n",
    "        _Sum +=  int(c)**3\n",
    "    return _Sum"
   ]
  },
  {
   "cell_type": "code",
   "execution_count": 53,
   "metadata": {},
   "outputs": [
    {
     "data": {
      "text/plain": [
       "35"
      ]
     },
     "execution_count": 53,
     "metadata": {},
     "output_type": "execute_result"
    }
   ],
   "source": [
    "FunDig(203)"
   ]
  },
  {
   "cell_type": "markdown",
   "metadata": {},
   "source": [
    "2. Write a python code to find all integers below 1000 such that <b>FunDig</b>$(n) > n$. "
   ]
  },
  {
   "cell_type": "code",
   "execution_count": null,
   "metadata": {
    "scrolled": false
   },
   "outputs": [],
   "source": [
    "def HyperFunDig():\n",
    "    lst = []\n",
    "    for i in range(1,1000):\n",
    "        if(FunDig(i) > i):\n",
    "            lst.append(i)\n",
    "    return lst\n",
    "\n",
    "HyperFunDig()"
   ]
  },
  {
   "cell_type": "markdown",
   "metadata": {},
   "source": [
    "# Exercise 7\n",
    "\n",
    "Recall that if <b>s</b> is a string, then <b>s.find('a')</b> will find the location of the first a in <b>s</b>. The\n",
    "problem is that it does not find the location of every a. Write a function called <b>findall</b> that\n",
    "given a string and a single character, returns a list containing all of the locations of that character\n",
    "in the string. It should return an empty list if there are no occurrences of the character\n",
    "in the string."
   ]
  },
  {
   "cell_type": "code",
   "execution_count": 58,
   "metadata": {},
   "outputs": [],
   "source": [
    "def findall(s,a):\n",
    "    lst = []\n",
    "    for i in range(len(s)):\n",
    "        if(s[i] == a):\n",
    "            lst.append(i)\n",
    "    return lst"
   ]
  },
  {
   "cell_type": "code",
   "execution_count": 119,
   "metadata": {},
   "outputs": [
    {
     "data": {
      "text/plain": [
       "[0, 4, 6]"
      ]
     },
     "execution_count": 119,
     "metadata": {},
     "output_type": "execute_result"
    }
   ],
   "source": [
    "findall(\"maximum\",'m')"
   ]
  },
  {
   "cell_type": "markdown",
   "metadata": {},
   "source": [
    "# Exercise 8\n",
    "\n",
    "1. Write a function called <b>List_of_factors</b> that takes a positive integer $n$ and returns a list of all the factors of $n$. Test this function by printint the output of <b>List_of_factors</b> for $n=15$"
   ]
  },
  {
   "cell_type": "code",
   "execution_count": 64,
   "metadata": {},
   "outputs": [],
   "source": [
    "def List_of_factors(n):\n",
    "    return [x for x in range(1,n+1) if n % x == 0]"
   ]
  },
  {
   "cell_type": "code",
   "execution_count": 121,
   "metadata": {},
   "outputs": [
    {
     "data": {
      "text/plain": [
       "[1, 3, 5, 15]"
      ]
     },
     "execution_count": 121,
     "metadata": {},
     "output_type": "execute_result"
    }
   ],
   "source": [
    "List_of_factors(15)"
   ]
  },
  {
   "cell_type": "markdown",
   "metadata": {},
   "source": [
    "2. Using <b>List_of_factors</b>, write a Python function called <b>IsPrime</b> that takes a positive integer $n$  as a argument and returs the boolean <b>True</b> if $n$ is a prime number otherwise it returns the boolean <b> False</b>. Test this function by printing the output of <b>IsPrime</b> for  $n=15$ and $n=97$.\n",
    "\n",
    "    Note : A prime number (or a prime) is a natural number greater than 1 and that has no positive divisors other than 1 and itself."
   ]
  },
  {
   "cell_type": "code",
   "execution_count": 91,
   "metadata": {},
   "outputs": [],
   "source": [
    "def  IsPrime(n):\n",
    "    if(len(List_of_factors(n)) == 2 or n == 2):\n",
    "        return True\n",
    "    else:\n",
    "        return  False"
   ]
  },
  {
   "cell_type": "code",
   "execution_count": 94,
   "metadata": {},
   "outputs": [
    {
     "data": {
      "text/plain": [
       "False"
      ]
     },
     "execution_count": 94,
     "metadata": {},
     "output_type": "execute_result"
    }
   ],
   "source": [
    "IsPrime(15)"
   ]
  },
  {
   "cell_type": "code",
   "execution_count": 95,
   "metadata": {},
   "outputs": [
    {
     "data": {
      "text/plain": [
       "True"
      ]
     },
     "execution_count": 95,
     "metadata": {},
     "output_type": "execute_result"
    }
   ],
   "source": [
    "IsPrime(97)"
   ]
  },
  {
   "cell_type": "markdown",
   "metadata": {},
   "source": [
    "3. Using <b>IsPrime</b>, write the function <b>primes_start</b> that takes two positive integers $n$, $start$ and return a list of the first n primes that are greater than or equal to $start$. The default value of $start$ should be $2$."
   ]
  },
  {
   "cell_type": "code",
   "execution_count": 97,
   "metadata": {},
   "outputs": [],
   "source": [
    "def primes_start(n,start=2):\n",
    "    lst = []\n",
    "    while(len(lst) <= n):\n",
    "        if(IsPrime(start)):\n",
    "            lst.append(start)\n",
    "        start += 1\n",
    "    return lst"
   ]
  },
  {
   "cell_type": "code",
   "execution_count": 101,
   "metadata": {},
   "outputs": [
    {
     "data": {
      "text/plain": [
       "[5, 7, 11, 13, 17, 19, 23, 29, 31, 37, 41]"
      ]
     },
     "execution_count": 101,
     "metadata": {},
     "output_type": "execute_result"
    }
   ],
   "source": [
    "primes_start(10,5)"
   ]
  },
  {
   "cell_type": "code",
   "execution_count": null,
   "metadata": {},
   "outputs": [],
   "source": []
  }
 ],
 "metadata": {
  "kernelspec": {
   "display_name": "Python 3",
   "language": "python",
   "name": "python3"
  },
  "language_info": {
   "codemirror_mode": {
    "name": "ipython",
    "version": 3
   },
   "file_extension": ".py",
   "mimetype": "text/x-python",
   "name": "python",
   "nbconvert_exporter": "python",
   "pygments_lexer": "ipython3",
   "version": "3.7.3"
  }
 },
 "nbformat": 4,
 "nbformat_minor": 4
}
