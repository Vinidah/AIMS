{
 "cells": [
  {
   "cell_type": "code",
   "execution_count": 1,
   "metadata": {},
   "outputs": [],
   "source": [
    "import math"
   ]
  },
  {
   "cell_type": "markdown",
   "metadata": {},
   "source": [
    "Write an algorithm that asks a user to enter a number between $1$ and $12$ corresponding to a month within a year and returns the season of which that month belongs to. Translate into python code."
   ]
  },
  {
   "cell_type": "code",
   "execution_count": 2,
   "metadata": {},
   "outputs": [
    {
     "name": "stdout",
     "output_type": "stream",
     "text": [
      "Enter the month number: 12\n",
      "Winter\n"
     ]
    }
   ],
   "source": [
    "x = int(input(\"Enter the month number: \"))\n",
    "if(x >=1 and x<= 12):\n",
    "    if( x >= 3 and x <= 5): \n",
    "        print(\"Spring\")\n",
    "    elif (x >= 6 and x<=8): \n",
    "        print(\"Summer\")\n",
    "    elif(x >= 9 and x <=  11): \n",
    "        print(\"Fall or Autumn\")\n",
    "    else:\n",
    "        print(\"Winter\")\n",
    "else:\n",
    "    print(\"Please enter a month number between 1 and 12\")"
   ]
  },
  {
   "cell_type": "markdown",
   "metadata": {},
   "source": [
    "Sum of numbers below $N_0$ divisible by $5, 7$ or both"
   ]
  },
  {
   "cell_type": "code",
   "execution_count": 3,
   "metadata": {},
   "outputs": [
    {
     "name": "stdout",
     "output_type": "stream",
     "text": [
      "Enter an interger: 10\n",
      "12\n"
     ]
    }
   ],
   "source": [
    "N_0 = int(input(\"Enter an interger: \"))\n",
    "i = 1\n",
    "total = 0\n",
    "while(i < N_0):\n",
    "    if (i % 5 == 0 or i % 7 == 0):\n",
    "        total = total + i \n",
    "    i = i + 1\n",
    "print(total)"
   ]
  },
  {
   "cell_type": "markdown",
   "metadata": {},
   "source": [
    "Sum of a finite series"
   ]
  },
  {
   "cell_type": "code",
   "execution_count": 5,
   "metadata": {},
   "outputs": [
    {
     "name": "stdout",
     "output_type": "stream",
     "text": [
      "Please enter the value of n = 4\n",
      "Please enter the value of x = 3\n",
      "a 1.6 and b 0.24691358024691357\n"
     ]
    }
   ],
   "source": [
    "n=int(input(\"Please enter the value of n = \"))\n",
    "x=int(input(\"Please enter the value of x = \"))\n",
    "sum=0\n",
    "a=0\n",
    "b = 0\n",
    "for i in range(1,n+1):\n",
    "    sum=sum+i\n",
    "    a += 1/sum\n",
    "    b += ((-1)**(i+1))/(x**i)\n",
    "print(\"a {} and b {}\".format(a,b))"
   ]
  },
  {
   "cell_type": "markdown",
   "metadata": {},
   "source": [
    "Write an algorithm that asks the user for an integer $k, 1 ≤ k ≤ 9$ and\n",
    "compute and displays the value of $k + kk + kkk$. Translate into python\n",
    "code."
   ]
  },
  {
   "cell_type": "code",
   "execution_count": 6,
   "metadata": {},
   "outputs": [],
   "source": [
    "def rep(n):\n",
    "    return (n * 1) + (n * 11) + (n * 111)\n"
   ]
  },
  {
   "cell_type": "code",
   "execution_count": 7,
   "metadata": {},
   "outputs": [
    {
     "data": {
      "text/plain": [
       "861"
      ]
     },
     "execution_count": 7,
     "metadata": {},
     "output_type": "execute_result"
    }
   ],
   "source": [
    "rep(7)"
   ]
  },
  {
   "cell_type": "markdown",
   "metadata": {},
   "source": [
    "Write an algorithm that calculates and displays the sum of the digits in\n",
    "an integer. Note that in algorithm, for a given string $S$, $length(S)$ gives\n",
    "you the number of characters (with repetition) in $S$."
   ]
  },
  {
   "cell_type": "code",
   "execution_count": 9,
   "metadata": {},
   "outputs": [
    {
     "name": "stdout",
     "output_type": "stream",
     "text": [
      "5\n"
     ]
    }
   ],
   "source": [
    "n = 12345\n",
    "count = 0 \n",
    "total = 0\n",
    "while(n != 0):\n",
    "    count = count + 1\n",
    "    n //= 10\n",
    "print(count)"
   ]
  },
  {
   "cell_type": "markdown",
   "metadata": {},
   "source": [
    "Write an algorithm that converts a number of seconds (integer) enter by\n",
    "a user to day, hour, minutes and seconds;"
   ]
  },
  {
   "cell_type": "code",
   "execution_count": 10,
   "metadata": {},
   "outputs": [
    {
     "name": "stdout",
     "output_type": "stream",
     "text": [
      "Enter a number 1234565\n",
      "day 14 hour 6 minutes 56  and seconds 5\n"
     ]
    }
   ],
   "source": [
    "#1234565 is equal to 14 days 6 hours 56 minutes and 5 seconds\n",
    "\n",
    "time = int(input(\"Enter a number \"))\n",
    "day = time // (24 * 3600)\n",
    "time = time % (24 * 3600)\n",
    "hour = time // 3600\n",
    "time %= 3600\n",
    "minutes = time // 60\n",
    "time %= 60\n",
    "seconds = time\n",
    "\n",
    "print(\"day {} hour {} minutes {}  and seconds {}\".format(day,hour,minutes,seconds))"
   ]
  },
  {
   "cell_type": "markdown",
   "metadata": {},
   "source": [
    "Given the following function $f(x) = x^3 + x + 1$; let $x_0 \\in [−2, 2]$ be the solution\n",
    "of the equation $f(x) = 0$. Write an algorithm that compute an approximation $x$ of $x_0$ such that $\\overline{x} − x_0 |≤ 10−4$"
   ]
  },
  {
   "cell_type": "code",
   "execution_count": 14,
   "metadata": {},
   "outputs": [
    {
     "name": "stdout",
     "output_type": "stream",
     "text": [
      "The approximate value of x is -0.68231201171875\n"
     ]
    }
   ],
   "source": [
    "def f(x):\n",
    "    return math.pow(x,3) + x + 1\n",
    "\n",
    "def midpoint(a,b):\n",
    "    return (b+a)/2\n",
    "a = -2\n",
    "b = 2\n",
    "\n",
    "# f(x) = x^3 + x + 1\n",
    "\n",
    "\n",
    "if (f(a) * f(b) >= 0):\n",
    "    print(\"The Dichotomy can't  be applied in this case\")\n",
    "else:\n",
    "    while abs(b - a) > math.pow(10,-4):\n",
    "        c =  midpoint(a,b) # midpoint\n",
    "        #print(\"The point: c = \",c,\"is the solution of the equation\")\n",
    "        if f(c) == 0:\n",
    "            print(\"The point: c {0} is the solution of the equation\".format(c))\n",
    "            break\n",
    "        elif (f(a)*f(c) < 0):\n",
    "            b = c\n",
    "        else:\n",
    "            a = c\n",
    "print(\"The approximate value of x is {0}\".format(c))"
   ]
  },
  {
   "cell_type": "markdown",
   "metadata": {},
   "source": [
    "Real roots of a Quadratic Equation  $x_1, x_2 = \\frac{-b \\pm \\sqrt(b^2 -  4ac} {2c} $"
   ]
  },
  {
   "cell_type": "code",
   "execution_count": null,
   "metadata": {},
   "outputs": [],
   "source": [
    "a = float(input(\"Enter a: \"))\n",
    "b = float(input(\"Enter b: \"))\n",
    "c = float(input(\"Enter c: \"))\n",
    " \n",
    "if(math.pow(b,2) -  (4*a*c) >= 0):\n",
    "    x_1 = (-b  + math.sqrt(math.pow(b,2) -  (4*a*c)))/(2*a)\n",
    "    x_2 = (-b  - math.sqrt(math.pow(b,2) -  (4*a*c)))/(2*a)\n",
    "    print(\"x1 {}  and x2 {}\".format(x_1,x_2))\n",
    "else:\n",
    "    print(\"The root of the equation are imaginary numbers\")"
   ]
  }
 ],
 "metadata": {
  "kernelspec": {
   "display_name": "Python 3",
   "language": "python",
   "name": "python3"
  },
  "language_info": {
   "codemirror_mode": {
    "name": "ipython",
    "version": 3
   },
   "file_extension": ".py",
   "mimetype": "text/x-python",
   "name": "python",
   "nbconvert_exporter": "python",
   "pygments_lexer": "ipython3",
   "version": "3.7.6"
  }
 },
 "nbformat": 4,
 "nbformat_minor": 4
}
