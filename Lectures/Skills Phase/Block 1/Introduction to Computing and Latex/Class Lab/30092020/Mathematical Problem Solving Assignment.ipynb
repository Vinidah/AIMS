{
 "cells": [
  {
   "cell_type": "code",
   "execution_count": 1,
   "metadata": {},
   "outputs": [],
   "source": [
    "import math\n"
   ]
  },
  {
   "cell_type": "code",
   "execution_count": 12,
   "metadata": {},
   "outputs": [
    {
     "name": "stdout",
     "output_type": "stream",
     "text": [
      "x 2 y 3 z 9 and n 18 \n",
      "x 2 y 3 z 12 and n 12 \n",
      "x 2 y 4 z 8 and n 8 \n",
      "x 2 y 4 z 12 and n 6 \n",
      "x 2 y 6 z 12 and n 4 \n",
      "x 3 y 3 z 12 and n 4 \n"
     ]
    }
   ],
   "source": [
    "for i in range(2,5):\n",
    "    for j in range(3,7):\n",
    "        for k in range(7,13):\n",
    "            for q in range(1,10000):\n",
    "                if(((1/i) + (1/j) + (1/k))  == (1 - (1/q))):\n",
    "                    print(\"x {} y {} z {} and n {} \".format(i,j,k,q))"
   ]
  },
  {
   "cell_type": "code",
   "execution_count": null,
   "metadata": {},
   "outputs": [],
   "source": []
  }
 ],
 "metadata": {
  "kernelspec": {
   "display_name": "Python 3",
   "language": "python",
   "name": "python3"
  },
  "language_info": {
   "codemirror_mode": {
    "name": "ipython",
    "version": 3
   },
   "file_extension": ".py",
   "mimetype": "text/x-python",
   "name": "python",
   "nbconvert_exporter": "python",
   "pygments_lexer": "ipython3",
   "version": "3.7.3"
  }
 },
 "nbformat": 4,
 "nbformat_minor": 2
}
