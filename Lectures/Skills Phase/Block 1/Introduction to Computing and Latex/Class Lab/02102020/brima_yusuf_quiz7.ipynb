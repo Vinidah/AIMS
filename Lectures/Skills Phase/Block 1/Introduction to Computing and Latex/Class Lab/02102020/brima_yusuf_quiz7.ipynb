{
 "cells": [
  {
   "cell_type": "markdown",
   "metadata": {},
   "source": [
    "<b>Exercise 1 </b>\n",
    "\n",
    "Write an algorithm that calculates and displays the sum of the digits in an integer given by a user. Translate in python code."
   ]
  },
  {
   "cell_type": "code",
   "execution_count": 3,
   "metadata": {},
   "outputs": [
    {
     "name": "stdout",
     "output_type": "stream",
     "text": [
      "Enter the integer: 1234\n",
      "10\n"
     ]
    }
   ],
   "source": [
    "n = input(\"Enter the integer: \")\n",
    "\n",
    "_sum = 0\n",
    "\n",
    "for i in range(len(n)):\n",
    "    _sum = _sum + int(n[i])\n",
    "\n",
    "print(_sum)"
   ]
  },
  {
   "cell_type": "markdown",
   "metadata": {},
   "source": [
    "<b>Exercise 2 </b>\n",
    "\n",
    "Write a program that takes input a number of seconds and outputs the\n",
    "equivalent number of weeks, days, hours, minute and seconds. Your output should look like\n",
    "\n",
    "Input a number in seconds: 3994648\n",
    "\n",
    "3994648 seconds = 6 weeks, 4 days, 5 hours, 37 minutes and  28 seconds"
   ]
  },
  {
   "cell_type": "code",
   "execution_count": 27,
   "metadata": {},
   "outputs": [
    {
     "name": "stdout",
     "output_type": "stream",
     "text": [
      "Enter the unix timestamp 3994648\n",
      "Weeks 6 days 4 hours 5 minutes 37 seconds 28\n"
     ]
    }
   ],
   "source": [
    "n = int(input(\"Enter the unix timestamp \"))\n",
    "\n",
    "#n  = 3994648\n",
    "if(n>=0):\n",
    "    weeks = n // ( 7*24 * 3600)\n",
    "    n  = n % (7*24 * 3600)\n",
    "    days = n // (24 * 3600)\n",
    "    n  = n % (24 * 3600)\n",
    "    hours = n // 3600\n",
    "    n =  n % (3600)\n",
    "    minutes = n // 60\n",
    "    seconds = n%60\n",
    "    print(f\"Weeks {weeks} days {days} hours {hours} minutes {minutes} seconds {seconds}\")\n",
    "else:\n",
    "    print(\"Only non-negative integers are allowed\")\n"
   ]
  },
  {
   "cell_type": "markdown",
   "metadata": {},
   "source": [
    "<b>Exercise 3</b>\n",
    "\n",
    "Write an algorithm that asks the user for a positive integer $k$,  and compute and displays the value of $k+kk+kkk$. Translate into python code."
   ]
  },
  {
   "cell_type": "code",
   "execution_count": 17,
   "metadata": {},
   "outputs": [
    {
     "name": "stdout",
     "output_type": "stream",
     "text": [
      "Enter the value of k: 1\n",
      "123\n"
     ]
    }
   ],
   "source": [
    "k = int(input(\"Enter the value of k: \"))\n",
    "\n",
    "_result =  (k *1) + (k * 11) + (k * 111)\n",
    "print(_result)\n"
   ]
  },
  {
   "cell_type": "markdown",
   "metadata": {},
   "source": [
    "<b>Exercise 4 (Bonus)</b>\n",
    "\n",
    "Write an algorithm that asks the user for a positive integer $k$ and $n$,  and compute and displays the value of $k+kk+kkk + kkkk+ ...+ kk...k$, the last term $kk...k$ has a length $n$. Translate into python code."
   ]
  },
  {
   "cell_type": "code",
   "execution_count": 32,
   "metadata": {},
   "outputs": [],
   "source": [
    "def generator():\n",
    "    k = input(\"Enter the value of k: \")\n",
    "    n = int(input(\"Enter the value of n: \"))\n",
    "    _result =  0\n",
    "    for i in range(1,n):\n",
    "        _result = _result +  int(k*i)\n",
    "        print(_result)"
   ]
  },
  {
   "cell_type": "code",
   "execution_count": 33,
   "metadata": {},
   "outputs": [
    {
     "name": "stdout",
     "output_type": "stream",
     "text": [
      "Enter the value of k: 5\n",
      "Enter the value of n: 20\n",
      "5\n",
      "60\n",
      "615\n",
      "6170\n",
      "61725\n",
      "617280\n",
      "6172835\n",
      "61728390\n",
      "617283945\n",
      "6172839500\n",
      "61728395055\n",
      "617283950610\n",
      "6172839506165\n",
      "61728395061720\n",
      "617283950617275\n",
      "6172839506172830\n",
      "61728395061728385\n",
      "617283950617283940\n",
      "6172839506172839495\n"
     ]
    }
   ],
   "source": [
    "generator()"
   ]
  },
  {
   "cell_type": "code",
   "execution_count": 34,
   "metadata": {},
   "outputs": [
    {
     "name": "stdout",
     "output_type": "stream",
     "text": [
      "Enter the value of k: 6\n",
      "Enter the value of n: 20\n",
      "6\n",
      "72\n",
      "738\n",
      "7404\n",
      "74070\n",
      "740736\n",
      "7407402\n",
      "74074068\n",
      "740740734\n",
      "7407407400\n",
      "74074074066\n",
      "740740740732\n",
      "7407407407398\n",
      "74074074074064\n",
      "740740740740730\n",
      "7407407407407396\n",
      "74074074074074062\n",
      "740740740740740728\n",
      "7407407407407407394\n"
     ]
    }
   ],
   "source": [
    "generator()"
   ]
  },
  {
   "cell_type": "code",
   "execution_count": 35,
   "metadata": {},
   "outputs": [
    {
     "name": "stdout",
     "output_type": "stream",
     "text": [
      "Enter the value of k: 7\n",
      "Enter the value of n: 20\n",
      "7\n",
      "84\n",
      "861\n",
      "8638\n",
      "86415\n",
      "864192\n",
      "8641969\n",
      "86419746\n",
      "864197523\n",
      "8641975300\n",
      "86419753077\n",
      "864197530854\n",
      "8641975308631\n",
      "86419753086408\n",
      "864197530864185\n",
      "8641975308641962\n",
      "86419753086419739\n",
      "864197530864197516\n",
      "8641975308641975293\n"
     ]
    }
   ],
   "source": [
    "generator()"
   ]
  },
  {
   "cell_type": "code",
   "execution_count": 41,
   "metadata": {},
   "outputs": [
    {
     "data": {
      "text/plain": [
       "20"
      ]
     },
     "execution_count": 41,
     "metadata": {},
     "output_type": "execute_result"
    }
   ],
   "source": [
    "import numpy as np\n",
    "divisor_list = [2,4,5]\n",
    "int(np.lcm.reduce(divisor_list))"
   ]
  },
  {
   "cell_type": "code",
   "execution_count": null,
   "metadata": {},
   "outputs": [],
   "source": []
  }
 ],
 "metadata": {
  "kernelspec": {
   "display_name": "Python 3",
   "language": "python",
   "name": "python3"
  },
  "language_info": {
   "codemirror_mode": {
    "name": "ipython",
    "version": 3
   },
   "file_extension": ".py",
   "mimetype": "text/x-python",
   "name": "python",
   "nbconvert_exporter": "python",
   "pygments_lexer": "ipython3",
   "version": "3.7.3"
  }
 },
 "nbformat": 4,
 "nbformat_minor": 4
}
