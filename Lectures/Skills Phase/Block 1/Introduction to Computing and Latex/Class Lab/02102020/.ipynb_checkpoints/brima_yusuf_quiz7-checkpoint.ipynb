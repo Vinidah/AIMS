{
 "cells": [
  {
   "cell_type": "markdown",
   "metadata": {},
   "source": [
    "<b>Exercise 1 </b>\n",
    "\n",
    "Write an algorithm that calculates and displays the sum of the digits in an integer given by a user. Translate in python code."
   ]
  },
  {
   "cell_type": "code",
   "execution_count": 3,
   "metadata": {},
   "outputs": [
    {
     "name": "stdout",
     "output_type": "stream",
     "text": [
      "Enter the integer: 1234\n",
      "10\n"
     ]
    }
   ],
   "source": [
    "n = input(\"Enter the integer: \")\n",
    "\n",
    "_sum = 0\n",
    "\n",
    "for i in range(len(n)):\n",
    "    _sum = _sum + int(n[i])\n",
    "\n",
    "print(_sum)"
   ]
  },
  {
   "cell_type": "markdown",
   "metadata": {},
   "source": [
    "<b>Exercise 2 </b>\n",
    "\n",
    "Write a program that takes input a number of seconds and outputs the\n",
    "equivalent number of weeks, days, hours, minute and seconds. Your output should look like\n",
    "\n",
    "Input a number in seconds: 3994648\n",
    "\n",
    "3994648 seconds = 6 weeks, 4 days, 5 hours, 37 minutes and  28 seconds"
   ]
  },
  {
   "cell_type": "code",
   "execution_count": 27,
   "metadata": {},
   "outputs": [
    {
     "name": "stdout",
     "output_type": "stream",
     "text": [
      "Enter the unix timestamp 3994648\n",
      "Weeks 6 days 4 hours 5 minutes 37 seconds 28\n"
     ]
    }
   ],
   "source": [
    "n = int(input(\"Enter the unix timestamp \"))\n",
    "\n",
    "#n  = 3994648\n",
    "if(n>=0):\n",
    "    weeks = n // ( 7*24 * 3600)\n",
    "    n  = n % (7*24 * 3600)\n",
    "    days = n // (24 * 3600)\n",
    "    n  = n % (24 * 3600)\n",
    "    hours = n // 3600\n",
    "    n =  n % (3600)\n",
    "    minutes = n // 60\n",
    "    seconds = n%60\n",
    "    print(f\"Weeks {weeks} days {days} hours {hours} minutes {minutes} seconds {seconds}\")\n",
    "else:\n",
    "    print(\"Only non-negative integers are allowed\")\n"
   ]
  },
  {
   "cell_type": "markdown",
   "metadata": {},
   "source": [
    "<b>Exercise 3</b>\n",
    "\n",
    "Write an algorithm that asks the user for a positive integer $k$,  and compute and displays the value of $k+kk+kkk$. Translate into python code."
   ]
  },
  {
   "cell_type": "code",
   "execution_count": 17,
   "metadata": {},
   "outputs": [
    {
     "name": "stdout",
     "output_type": "stream",
     "text": [
      "Enter the value of k: 1\n",
      "123\n"
     ]
    }
   ],
   "source": [
    "k = int(input(\"Enter the value of k: \"))\n",
    "\n",
    "_result =  (k *1) + (k * 11) + (k * 111)\n",
    "print(_result)\n"
   ]
  },
  {
   "cell_type": "markdown",
   "metadata": {},
   "source": [
    "<b>Exercise 4 (Bonus)</b>\n",
    "\n",
    "Write an algorithm that asks the user for a positive integer $k$ and $n$,  and compute and displays the value of $k+kk+kkk + kkkk+ ...+ kk...k$, the last term $kk...k$ has a length $n$. Translate into python code."
   ]
  },
  {
   "cell_type": "code",
   "execution_count": 20,
   "metadata": {},
   "outputs": [
    {
     "name": "stdout",
     "output_type": "stream",
     "text": [
      "Enter the value of k: 10\n",
      "Enter the value of n: 10\n",
      "102030405060708090\n"
     ]
    }
   ],
   "source": [
    "k = input(\"Enter the value of k: \")\n",
    "n = int(input(\"Enter the value of n: \"))\n",
    "_result =  0\n",
    "for i in range(1,n):\n",
    "    _result = _result +  int(k*i)\n",
    "print(_result)"
   ]
  },
  {
   "cell_type": "code",
   "execution_count": null,
   "metadata": {},
   "outputs": [],
   "source": []
  }
 ],
 "metadata": {
  "kernelspec": {
   "display_name": "Python 3",
   "language": "python",
   "name": "python3"
  },
  "language_info": {
   "codemirror_mode": {
    "name": "ipython",
    "version": 3
   },
   "file_extension": ".py",
   "mimetype": "text/x-python",
   "name": "python",
   "nbconvert_exporter": "python",
   "pygments_lexer": "ipython3",
   "version": "3.7.3"
  }
 },
 "nbformat": 4,
 "nbformat_minor": 4
}
