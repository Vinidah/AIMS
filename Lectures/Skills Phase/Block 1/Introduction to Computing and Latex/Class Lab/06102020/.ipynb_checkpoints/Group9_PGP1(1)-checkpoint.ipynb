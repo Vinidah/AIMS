{
 "cells": [
  {
   "cell_type": "markdown",
   "metadata": {},
   "source": [
    "# Group 9"
   ]
  },
  {
   "cell_type": "markdown",
   "metadata": {},
   "source": [
    "- Yusuf Brima\n",
    "- Jeannette Mukangango\n",
    "- Emmanuel Niyibizi\n",
    "- Isaac Newton Nsengiyumva"
   ]
  },
  {
   "cell_type": "markdown",
   "metadata": {},
   "source": [
    "# Exercise 1"
   ]
  },
  {
   "cell_type": "code",
   "execution_count": 11,
   "metadata": {},
   "outputs": [
    {
     "name": "stdout",
     "output_type": "stream",
     "text": [
      "Enter value of seconds x = 3994648\n",
      "weeks=6 days=4 hours=5 minutes=37 seconds=28\n"
     ]
    }
   ],
   "source": [
    "x = int(input(\"Enter value of seconds x = \"))\n",
    "weeks = x // (7*24*60*60)\n",
    "y = x - (weeks * 7* 24 * 60 * 60)\n",
    "days = y // (24 * 60 * 60)\n",
    "z =  y -  (days * 24 * 60 * 60)\n",
    "hours = z // (60 * 60)\n",
    "w = z -  (hours * 60 * 60)\n",
    "minutes = w // 60\n",
    "seconds = w - (minutes * 60)\n",
    "print(f'weeks={weeks} days={days} hours={hours} minutes={minutes} seconds={seconds}')"
   ]
  },
  {
   "cell_type": "markdown",
   "metadata": {},
   "source": [
    "# Exercise 2"
   ]
  },
  {
   "cell_type": "code",
   "execution_count": 13,
   "metadata": {},
   "outputs": [
    {
     "name": "stdout",
     "output_type": "stream",
     "text": [
      "enter the number= 5\n",
      "enter the number= 9\n",
      "quotient =0.5555555555555556\n"
     ]
    }
   ],
   "source": [
    "x = float(input('enter the number= '))\n",
    "y = float(input('enter the number= '))\n",
    "if (y != 0):\n",
    "    quotient = x/y\n",
    "    print(f'quotient ={quotient}')\n",
    "else:\n",
    "    print(f'quotient is indeterminate')\n"
   ]
  },
  {
   "cell_type": "markdown",
   "metadata": {},
   "source": [
    "# Exercise 3"
   ]
  },
  {
   "cell_type": "code",
   "execution_count": 60,
   "metadata": {},
   "outputs": [
    {
     "name": "stdout",
     "output_type": "stream",
     "text": [
      "Enter a number 1\n",
      "Enter a real number: 2.5\n",
      "97.6562500000\n"
     ]
    }
   ],
   "source": [
    "n = int(input(\"Enter a number \"))\n",
    "x = [1,0,2]\n",
    "while(n not in x):\n",
    "    n = int(input(\"enter a number \"))\n",
    "    \n",
    "if(n == x[0]):\n",
    "    y = float(input(\"Enter a real number: \"))\n",
    "    z = str(y**5)\n",
    "    w = z[z.index('.')+1:]\n",
    "    q = '0' \n",
    "    if(len(w) >= 10):\n",
    "        print(round(float(z),10))\n",
    "    else:\n",
    "        print(z + (q * (10 - len(w))))\n",
    "elif(n== x[2]):\n",
    "    n = int(input('enter a number'))\n",
    "    print(n % 2)\n",
    "else:\n",
    "    print(\"I hate zero!\")"
   ]
  },
  {
   "cell_type": "markdown",
   "metadata": {},
   "source": [
    "# Exercise 4"
   ]
  },
  {
   "cell_type": "code",
   "execution_count": 39,
   "metadata": {},
   "outputs": [
    {
     "name": "stdout",
     "output_type": "stream",
     "text": [
      "Enter side a = 3\n",
      "Enter side b = 4\n",
      "Enter side c = 5\n",
      "This is right triangle\n"
     ]
    }
   ],
   "source": [
    "a = float(input(\"Enter side a = \"))\n",
    "b = float(input(\"Enter side b = \"))\n",
    "c= float(input(\"Enter side c = \"))\n",
    "if (c**2 < a**2 + b**2):\n",
    "    print('This is acute triangle')\n",
    "elif (c**2 > a**2 + b**2):\n",
    "    print('This is obtuse triangle')\n",
    "else: \n",
    "    print('This is right triangle')\n",
    "    "
   ]
  },
  {
   "cell_type": "markdown",
   "metadata": {},
   "source": [
    "# Exercise 5\n"
   ]
  },
  {
   "cell_type": "code",
   "execution_count": 224,
   "metadata": {},
   "outputs": [
    {
     "name": "stdout",
     "output_type": "stream",
     "text": [
      "Enter a string S spring\n",
      "spng\n"
     ]
    }
   ],
   "source": [
    "s = input(\"Enter a string S \")\n",
    "if(len(s) < 2):\n",
    "    print(s)\n",
    "else:\n",
    "    print(s[:2] + s[-2:])"
   ]
  },
  {
   "cell_type": "markdown",
   "metadata": {},
   "source": [
    "# Exercise 6\n"
   ]
  },
  {
   "cell_type": "code",
   "execution_count": 225,
   "metadata": {},
   "outputs": [
    {
     "name": "stdout",
     "output_type": "stream",
     "text": [
      "Enter a string s: play\n",
      "playing\n"
     ]
    }
   ],
   "source": [
    "s = input(\"Enter a string s: \")\n",
    "if len(s)>=3:\n",
    "    if(s.find(\"ing\") == -1):\n",
    "        print(s+\"ing\")\n",
    "    else:\n",
    "        print(s+\"ly\")\n",
    "else:\n",
    "    print(s)"
   ]
  },
  {
   "cell_type": "markdown",
   "metadata": {},
   "source": [
    "# Exercise 7"
   ]
  },
  {
   "cell_type": "code",
   "execution_count": 88,
   "metadata": {},
   "outputs": [
    {
     "name": "stdout",
     "output_type": "stream",
     "text": [
      "inter the number =2\n",
      "246\n"
     ]
    }
   ],
   "source": [
    "k = int(input('inter the number ='))\n",
    "s = (k*1) + (k*11) + (k*111)\n",
    "print(s)"
   ]
  },
  {
   "cell_type": "markdown",
   "metadata": {},
   "source": [
    "# Exercise 8"
   ]
  },
  {
   "cell_type": "code",
   "execution_count": 226,
   "metadata": {},
   "outputs": [
    {
     "name": "stdout",
     "output_type": "stream",
     "text": [
      "inter the number k =2\n",
      "inter the number n =3\n",
      "246\n"
     ]
    }
   ],
   "source": [
    "k = int(input('inter the number k ='))\n",
    "\n",
    "n = int(input('inter the number n ='))\n",
    "T = 0\n",
    "for i in range(1,n+1):\n",
    "    T = T+(k * int(str(1) * i))\n",
    "print(T)"
   ]
  },
  {
   "cell_type": "markdown",
   "metadata": {},
   "source": [
    "# Exercise 9"
   ]
  },
  {
   "cell_type": "code",
   "execution_count": 227,
   "metadata": {},
   "outputs": [
    {
     "name": "stdout",
     "output_type": "stream",
     "text": [
      "Enter a year = 1700\n",
      "y is not a leap year\n"
     ]
    }
   ],
   "source": [
    "y=int(input('Enter a year = '))\n",
    "if ( (y%4==0 and y % 100 != 0) or  y % 400 == 0):\n",
    "    print(\"y is a leap year\")\n",
    "else:\n",
    "    print('y is not a leap year')\n",
    "    "
   ]
  },
  {
   "cell_type": "markdown",
   "metadata": {},
   "source": [
    "# Exercise 10"
   ]
  },
  {
   "cell_type": "code",
   "execution_count": 228,
   "metadata": {},
   "outputs": [
    {
     "name": "stdout",
     "output_type": "stream",
     "text": [
      "T= 17\n"
     ]
    }
   ],
   "source": [
    "A = '0.123456789101112131415161718192021'\n",
    "\n",
    "\n",
    "T = 0\n",
    "FA = A[A.index('.'):]\n",
    "\n",
    "i = 1\n",
    "while(2**i <= len(FA)):\n",
    "    T = T + int(FA[2**i])\n",
    "    i = i + 1\n",
    "print('T=',T)"
   ]
  },
  {
   "cell_type": "markdown",
   "metadata": {},
   "source": [
    "# Exercise 11"
   ]
  },
  {
   "cell_type": "code",
   "execution_count": 162,
   "metadata": {},
   "outputs": [
    {
     "name": "stdout",
     "output_type": "stream",
     "text": [
      "The approximate value of x is 2.2789764404296875\n"
     ]
    }
   ],
   "source": [
    "a = -10\n",
    "b = 10\n",
    "\n",
    "# f(x) = x^3 + x + 1\n",
    "\n",
    "\n",
    "if (((a**3)-(3*a)-5) * ((b**3)-(3*b)-5) >= 0):\n",
    "    print(\"The Dichotomy can't  be applied in this case\")\n",
    "else:\n",
    "    while abs(b - a) > 10**-4:\n",
    "        c =  (b+a)/2 # midpoint\n",
    "        #print(\"The point: c = \",c,\"is the solution of the equation\")\n",
    "        if ((c**3)-(3*c)-5) == 0:\n",
    "            print(\"The point: c {0} is the solution of the equation\".format(c))\n",
    "            break\n",
    "        elif (((a**3)-(3*a)-5) * ((c**3)-(3*c)-5) < 0):\n",
    "            b = c\n",
    "        else:\n",
    "            a = c\n",
    "print(\"The approximate value of x is {0}\".format(c))"
   ]
  },
  {
   "cell_type": "markdown",
   "metadata": {},
   "source": [
    "# Exercise 12"
   ]
  },
  {
   "cell_type": "code",
   "execution_count": 229,
   "metadata": {},
   "outputs": [
    {
     "name": "stdout",
     "output_type": "stream",
     "text": [
      "enter a number 3\n",
      "-2\n"
     ]
    }
   ],
   "source": [
    "n = int(input('enter a number '))\n",
    "\n",
    "U = [0] * (n +1)\n",
    "\n",
    "\n",
    "U[0] = 1\n",
    "U[1] = 2\n",
    "U[2]  = 3\n",
    "\n",
    "\n",
    "for i in range(0,n-2):\n",
    "    U[i+3] = U[i+2] - 3* U[i+1] + U[i] \n",
    "\n",
    "print(U[n])\n",
    "\n"
   ]
  },
  {
   "cell_type": "code",
   "execution_count": 192,
   "metadata": {},
   "outputs": [
    {
     "name": "stdout",
     "output_type": "stream",
     "text": [
      "enter a number 5\n",
      "[1, 2, 3, -2, -9, 0]\n"
     ]
    }
   ],
   "source": [
    "n = int(input('enter a number '))\n",
    "\n",
    "U = [0] * (n +1)\n",
    "\n",
    "\n",
    "U[0] = 1\n",
    "U[1] = 2\n",
    "U[2]  = 3\n",
    "\n",
    "\n",
    "for i in range(0,n-2):\n",
    "    U[i+3] = U[i+2] - 3* U[i+1] + U[i] \n",
    "\n",
    "print(U)"
   ]
  },
  {
   "cell_type": "markdown",
   "metadata": {},
   "source": [
    "# Exercise 13"
   ]
  },
  {
   "cell_type": "code",
   "execution_count": 215,
   "metadata": {},
   "outputs": [],
   "source": [
    "inventory = { 'gold': 500, 'pouch' : ['flint', 'twine', 'gemstone'], 'backpack'\n",
    ": ['xylophone','dagger', 'bedroll','bread loaf'] }\n",
    "\n",
    "inventory['pocket'] = ['seashell','strange berry','lint']"
   ]
  },
  {
   "cell_type": "code",
   "execution_count": 216,
   "metadata": {},
   "outputs": [],
   "source": [
    "inventory['backpack'].sort()"
   ]
  },
  {
   "cell_type": "code",
   "execution_count": 217,
   "metadata": {},
   "outputs": [],
   "source": [
    "inventory['backpack'].remove('dagger')\n"
   ]
  },
  {
   "cell_type": "code",
   "execution_count": 208,
   "metadata": {},
   "outputs": [
    {
     "data": {
      "text/plain": [
       "['bedroll', 'bread loaf', 'xylophone']"
      ]
     },
     "execution_count": 208,
     "metadata": {},
     "output_type": "execute_result"
    }
   ],
   "source": [
    "inventory['backpack']"
   ]
  },
  {
   "cell_type": "code",
   "execution_count": 209,
   "metadata": {},
   "outputs": [
    {
     "data": {
      "text/plain": [
       "{'gold': 500,\n",
       " 'pouch': ['flint', 'twine', 'gemstone'],\n",
       " 'backpack': ['bedroll', 'bread loaf', 'xylophone'],\n",
       " 'pocket': ['seashell', 'strange berry', 'lint']}"
      ]
     },
     "execution_count": 209,
     "metadata": {},
     "output_type": "execute_result"
    }
   ],
   "source": [
    "inventory"
   ]
  },
  {
   "cell_type": "code",
   "execution_count": 210,
   "metadata": {},
   "outputs": [
    {
     "data": {
      "text/plain": [
       "['bedroll', 'bread loaf', 'xylophone']"
      ]
     },
     "execution_count": 210,
     "metadata": {},
     "output_type": "execute_result"
    }
   ],
   "source": [
    "inventory['backpack']"
   ]
  },
  {
   "cell_type": "code",
   "execution_count": 221,
   "metadata": {},
   "outputs": [],
   "source": [
    "inventory['gold'] = inventory['gold'] + 50"
   ]
  },
  {
   "cell_type": "code",
   "execution_count": 222,
   "metadata": {},
   "outputs": [
    {
     "data": {
      "text/plain": [
       "{'gold': 550,\n",
       " 'pouch': ['flint', 'twine', 'gemstone'],\n",
       " 'backpack': ['bedroll', 'bread loaf', 'xylophone'],\n",
       " 'pocket': ['seashell', 'strange berry', 'lint']}"
      ]
     },
     "execution_count": 222,
     "metadata": {},
     "output_type": "execute_result"
    }
   ],
   "source": [
    "inventory"
   ]
  },
  {
   "cell_type": "code",
   "execution_count": null,
   "metadata": {},
   "outputs": [],
   "source": []
  }
 ],
 "metadata": {
  "kernelspec": {
   "display_name": "Python 3",
   "language": "python",
   "name": "python3"
  },
  "language_info": {
   "codemirror_mode": {
    "name": "ipython",
    "version": 3
   },
   "file_extension": ".py",
   "mimetype": "text/x-python",
   "name": "python",
   "nbconvert_exporter": "python",
   "pygments_lexer": "ipython3",
   "version": "3.7.6"
  }
 },
 "nbformat": 4,
 "nbformat_minor": 4
}
