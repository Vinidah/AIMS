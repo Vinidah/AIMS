{
 "cells": [
  {
   "cell_type": "markdown",
   "metadata": {},
   "source": [
    "## Question 1\n",
    "Write a function, called <b>Welcome_quest</b>, that asks the user his/her name and returns 'Welcome! name'. Check the function by inputing your name, for example if my name is Bourgeois, the function shall return  'Welcome! Bourgeois'.\n"
   ]
  },
  {
   "cell_type": "code",
   "execution_count": 26,
   "metadata": {},
   "outputs": [
    {
     "data": {
      "text/plain": [
       "'Welcome! Bourgeois'"
      ]
     },
     "execution_count": 26,
     "metadata": {},
     "output_type": "execute_result"
    }
   ],
   "source": [
    "def Welcome_quest(name):\n",
    "    return f\"Welcome! {name}\"\n",
    "\n",
    "Welcome_quest(\"Bourgeois\")"
   ]
  },
  {
   "cell_type": "markdown",
   "metadata": {},
   "source": [
    "## Question 2\n",
    "write a python function called <b>distance_from_zero</b>, with one argument (choose x). If the type of the argument is either int or float, the function should return the absolute value of the function input. Otherwise, the function should return \"Nope\". Check if it works calling the function with -5.6 and \"what?\".\n",
    "\n",
    "Note that   <b> type($x$)==int </b> returns <b>True</b> if $x$ is an integer otherwise it returns <b>False</b>. Also, <b>abs($x$)</b> return the absolute value of $x$."
   ]
  },
  {
   "cell_type": "code",
   "execution_count": 19,
   "metadata": {},
   "outputs": [
    {
     "data": {
      "text/plain": [
       "'Nope'"
      ]
     },
     "execution_count": 19,
     "metadata": {},
     "output_type": "execute_result"
    }
   ],
   "source": [
    "def distance_from_zero(x):\n",
    "    if (type(x) is int or type(x) is float):\n",
    "        return abs(x)\n",
    "    else:\n",
    "        return \"Nope\"\n",
    "\n",
    "distance_from_zero(\"Hello\")"
   ]
  },
  {
   "cell_type": "markdown",
   "metadata": {
    "collapsed": true
   },
   "source": [
    "## Question 3\n",
    "\n",
    "Write a python function, called <b>sum_prod</b>, that takes as input two positive integers $k$ and $n$,  and return $A$ and $B$  given by $$A=k+kk+kkk + kkkk+ ...+ kk...k, $$ $$B=k*kk*kkk * kkkk* ...* kk...k$$ Here, the last term $kk...k$ has a length equal to $n$. Test if if the function works by using $k= 10$ and $n=3$."
   ]
  },
  {
   "cell_type": "code",
   "execution_count": 21,
   "metadata": {},
   "outputs": [
    {
     "name": "stdout",
     "output_type": "stream",
     "text": [
      "A =  102030\n",
      "B =  1020201000\n"
     ]
    }
   ],
   "source": [
    "def sum_prod(k,n):\n",
    "    A = 0\n",
    "    B =  1\n",
    "    for i in range(1,n+1):\n",
    "        A += int(str(k) * i)\n",
    "        B *= int(str(k) * i)\n",
    "    return A,B\n",
    "\n",
    "A,B = sum_prod(10,3)\n",
    "print(\"A = \",A)\n",
    "print(\"B = \",B)"
   ]
  },
  {
   "cell_type": "markdown",
   "metadata": {},
   "source": [
    "## Question 4\n",
    "Write a python function, called <b>DivisorList</b>, that takes as input a positive integer $m$,  and return a list of all divisors of $m$. For example, if $m = 10$ then the function should return the list $[1,2,5,10]$."
   ]
  },
  {
   "cell_type": "code",
   "execution_count": 22,
   "metadata": {},
   "outputs": [
    {
     "data": {
      "text/plain": [
       "[1, 2, 5, 10]"
      ]
     },
     "execution_count": 22,
     "metadata": {},
     "output_type": "execute_result"
    }
   ],
   "source": [
    "def DivisorList(m):\n",
    "    lst = []\n",
    "    for i in range(1,m+1):\n",
    "        if(m % i == 0):\n",
    "            lst.append(i)\n",
    "    return lst\n",
    "\n",
    "DivisorList(10)"
   ]
  },
  {
   "cell_type": "code",
   "execution_count": null,
   "metadata": {},
   "outputs": [],
   "source": []
  }
 ],
 "metadata": {
  "kernelspec": {
   "display_name": "Python 3",
   "language": "python",
   "name": "python3"
  },
  "language_info": {
   "codemirror_mode": {
    "name": "ipython",
    "version": 3
   },
   "file_extension": ".py",
   "mimetype": "text/x-python",
   "name": "python",
   "nbconvert_exporter": "python",
   "pygments_lexer": "ipython3",
   "version": "3.7.3"
  }
 },
 "nbformat": 4,
 "nbformat_minor": 2
}
