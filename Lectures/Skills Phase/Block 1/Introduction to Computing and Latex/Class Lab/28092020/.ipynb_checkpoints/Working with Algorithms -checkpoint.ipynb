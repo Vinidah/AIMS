{
 "cells": [
  {
   "cell_type": "markdown",
   "metadata": {},
   "source": [
    "# Conditional Statements"
   ]
  },
  {
   "cell_type": "code",
   "execution_count": 1,
   "metadata": {},
   "outputs": [
    {
     "name": "stdout",
     "output_type": "stream",
     "text": [
      "20\n"
     ]
    }
   ],
   "source": [
    "x  = 20\n",
    "\n",
    "if x > 0:\n",
    "    print(x)"
   ]
  },
  {
   "cell_type": "code",
   "execution_count": 2,
   "metadata": {},
   "outputs": [
    {
     "name": "stdout",
     "output_type": "stream",
     "text": [
      "15\n"
     ]
    }
   ],
   "source": [
    "x  =  15\n",
    "if x > 10:\n",
    "    print(x)\n",
    "y  = x\n"
   ]
  },
  {
   "cell_type": "code",
   "execution_count": 4,
   "metadata": {},
   "outputs": [
    {
     "name": "stdout",
     "output_type": "stream",
     "text": [
      "11\n"
     ]
    }
   ],
   "source": [
    "x  = 11\n",
    "if x > 10 and x < 15:\n",
    "    print(x)"
   ]
  },
  {
   "cell_type": "code",
   "execution_count": 5,
   "metadata": {},
   "outputs": [],
   "source": [
    "x = 12\n",
    "\n",
    "if x < 10:\n",
    "    if x > 15:\n",
    "        print(x)"
   ]
  },
  {
   "cell_type": "code",
   "execution_count": 6,
   "metadata": {},
   "outputs": [
    {
     "name": "stdout",
     "output_type": "stream",
     "text": [
      "11\n"
     ]
    }
   ],
   "source": [
    "x = 11\n",
    "\n",
    "if x > 10:\n",
    "    if x < 15:\n",
    "        print(x)"
   ]
  },
  {
   "cell_type": "markdown",
   "metadata": {},
   "source": [
    "# Compound Conditional Structure"
   ]
  },
  {
   "cell_type": "code",
   "execution_count": 7,
   "metadata": {},
   "outputs": [
    {
     "name": "stdout",
     "output_type": "stream",
     "text": [
      "Error\n"
     ]
    }
   ],
   "source": [
    "x  = 8\n",
    "\n",
    "if x < 10 and x  > 15:\n",
    "    print(x)\n",
    "else:\n",
    "    print(\"Error\")"
   ]
  },
  {
   "cell_type": "markdown",
   "metadata": {},
   "source": [
    "### Absolute value of a number"
   ]
  },
  {
   "cell_type": "code",
   "execution_count": 15,
   "metadata": {},
   "outputs": [
    {
     "name": "stdout",
     "output_type": "stream",
     "text": [
      "Enter a number -7.9\n",
      "7.9\n"
     ]
    }
   ],
   "source": [
    "x =  float(input(\"Enter a number \"))\n",
    "\n",
    "if x >= 0:\n",
    "    print(x)\n",
    "else:\n",
    "    print(-1 * x)"
   ]
  },
  {
   "cell_type": "markdown",
   "metadata": {},
   "source": [
    "###  Comparing two real numbers"
   ]
  },
  {
   "cell_type": "code",
   "execution_count": 31,
   "metadata": {},
   "outputs": [
    {
     "name": "stdout",
     "output_type": "stream",
     "text": [
      "Enter a number 3\n",
      "Enter another number 3\n",
      "Both numbers are equal\n"
     ]
    }
   ],
   "source": [
    "x =  float(input(\"Enter a number \"))\n",
    "\n",
    "y =  float(input(\"Enter another number \"))\n",
    "\n",
    "if x  == y :\n",
    "    print(\"Both numbers are equal\")\n",
    "elif x > y:\n",
    "    print(\"{} is greater than {}\".format(x,y))\n",
    "else:\n",
    "    print(\"{} is less than {}\".format(x,y))"
   ]
  },
  {
   "cell_type": "markdown",
   "metadata": {},
   "source": [
    "### Largest of three numbers"
   ]
  },
  {
   "cell_type": "code",
   "execution_count": 37,
   "metadata": {},
   "outputs": [
    {
     "name": "stdout",
     "output_type": "stream",
     "text": [
      "Enter a number 2\n",
      "Enter another number 1\n",
      "Enter a third number 2\n",
      "2.0 is greater\n"
     ]
    }
   ],
   "source": [
    "x =  float(input(\"Enter a number \"))\n",
    "\n",
    "\n",
    "y =  float(input(\"Enter another number \"))\n",
    "\n",
    "\n",
    "z =  float(input(\"Enter a third number \"))\n",
    "\n",
    "if x > y:\n",
    "    if x > z:\n",
    "        print(\"{} is greater\".format(x))\n",
    "    elif y > z:\n",
    "        print(\"{} is geater\".format(y))\n",
    "    else:\n",
    "        print(\"{} is greater\".format(z))\n",
    "else:\n",
    "    print(x,\" = \",y,\" = \",z)"
   ]
  },
  {
   "cell_type": "markdown",
   "metadata": {},
   "source": [
    "\\begin{align}\n",
    "ax^2 +bx + c = 0\n",
    "\\end{align}"
   ]
  },
  {
   "cell_type": "code",
   "execution_count": 36,
   "metadata": {},
   "outputs": [
    {
     "name": "stdout",
     "output_type": "stream",
     "text": [
      "3\n"
     ]
    }
   ],
   "source": [
    "x =3\n",
    "y = 2\n",
    "z = 1\n",
    "if x >y and y >= z:\n",
    "    print(x)"
   ]
  },
  {
   "cell_type": "code",
   "execution_count": null,
   "metadata": {},
   "outputs": [],
   "source": []
  }
 ],
 "metadata": {
  "kernelspec": {
   "display_name": "Python 3",
   "language": "python",
   "name": "python3"
  },
  "language_info": {
   "codemirror_mode": {
    "name": "ipython",
    "version": 3
   },
   "file_extension": ".py",
   "mimetype": "text/x-python",
   "name": "python",
   "nbconvert_exporter": "python",
   "pygments_lexer": "ipython3",
   "version": "3.7.3"
  }
 },
 "nbformat": 4,
 "nbformat_minor": 2
}
