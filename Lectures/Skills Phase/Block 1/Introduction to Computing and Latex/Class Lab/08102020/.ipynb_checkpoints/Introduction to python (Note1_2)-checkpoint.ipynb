{
 "cells": [
  {
   "cell_type": "markdown",
   "metadata": {},
   "source": [
    "###  Introduction to python\n",
    "Python is a programming language that boasts ease of use. Python as a language has gained a lot of recognition from the scientific community for the following reasons:\n",
    "\n",
    "1. <b color='red'>Ease of Use</b> : Python as a language was created to be easy to use by even beginner programmers. It has been used in many institutions to teach introductory programming.\n",
    "2. <b color='red'>Dynamic typing</b>: In python one can easily replace one variable value with another that is not the same data type. It does not enforce data types strictly and it does all the work in the background related to dynamic memory allocation for new data types.\n",
    "3. <b color='red'>Batteries included</b>: The web page pypi.python.org has more than 10,000 python modules developped by developpers available for use. Modules include those for machine learning, image/signal processing, visualization, differential equations, interpolation, etc and are available for free download. Chances are, whatever you want to do, you can find a base module without resorting to reinventing the wheel.\n",
    "## 1. Using Python as a Calculator\n",
    "Python 3 can be used as a calculator to perform simple arithmetic operations such as addition (+), substraction (-), multiplication (\\*), division (/), power (\\**) and the remainder (%) and integer division (//).\n"
   ]
  },
  {
   "cell_type": "code",
   "execution_count": 163,
   "metadata": {},
   "outputs": [
    {
     "name": "stdout",
     "output_type": "stream",
     "text": [
      "7+2 =  9\n",
      "18-37 =  -19\n",
      "18*2 =  36\n",
      "20/3 =  6.666666666666667\n",
      "4**2 =  16\n",
      "10%3 =  1\n",
      "10//3 = 3\n"
     ]
    }
   ],
   "source": [
    "print('7+2 = ',7+2)       #summation\n",
    "print('18-37 = ',18-37)   #substraction\n",
    "print('18*2 = ',18*2)     #multiplication\n",
    "print('20/3 = ', 20/3)    #division\n",
    "print('4**2 = ',4**2)     #powering\n",
    "print('10%3 = ', 10%3)    #remainder\n",
    "print('10//3 =',10//3)    #integer division"
   ]
  },
  {
   "cell_type": "code",
   "execution_count": 161,
   "metadata": {},
   "outputs": [
    {
     "data": {
      "text/plain": [
       "14"
      ]
     },
     "execution_count": 161,
     "metadata": {},
     "output_type": "execute_result"
    }
   ],
   "source": [
    "1435//10**2"
   ]
  },
  {
   "cell_type": "markdown",
   "metadata": {},
   "source": [
    "<b>NB: The symbol # is used for comments in python. Python will ignore anything that starts with a # sign till the end of the line.</b>\n",
    "\n",
    "Python also supports the use of <b>parenthesis</b> to make evident the <b>order in which the calculations</b> are\n",
    "performed."
   ]
  },
  {
   "cell_type": "code",
   "execution_count": 98,
   "metadata": {},
   "outputs": [
    {
     "data": {
      "text/plain": [
       "-1.5"
      ]
     },
     "execution_count": 98,
     "metadata": {},
     "output_type": "execute_result"
    }
   ],
   "source": [
    "(3*(4+6) - 12)/4 - 27//4"
   ]
  },
  {
   "cell_type": "markdown",
   "metadata": {},
   "source": [
    "## 2. Variable Names and Assignment Operation\n",
    "Variable names can take many forms, although they can only contain numbers, letters (both upper and\n",
    "lower), and underscores (_). \n",
    "- They must begin with a letter or an underscore and are <b color='red' >case sensitive</b> meaning that python distinguishes between upper and lower case. E.g. Age, age and aGe are three different variables\n",
    "- Additionally, some words are <b color='red'>reserved in Python</b> and so cannot be used for variable names (e.g. <b color='red'>import</b> or <b color='red'>for</b> ). \n",
    "- Double leading and trailing underscores are reserved for magic variable (e.g. init ), and so should be avoided except when specifically accessing a feature.\n",
    "- the single equal sign (=) is used to assign a value the a variable"
   ]
  },
  {
   "cell_type": "code",
   "execution_count": 164,
   "metadata": {},
   "outputs": [
    {
     "name": "stdout",
     "output_type": "stream",
     "text": [
      "10\n"
     ]
    }
   ],
   "source": [
    "Age = 10\n",
    "print(Age)"
   ]
  },
  {
   "cell_type": "code",
   "execution_count": 99,
   "metadata": {
    "collapsed": true
   },
   "outputs": [
    {
     "name": "stdout",
     "output_type": "stream",
     "text": [
      "Age = 10\n",
      "age = 20\n",
      "aGe = 30\n"
     ]
    }
   ],
   "source": [
    "Age =10\n",
    "age = 20\n",
    "aGe = 30\n",
    "print('Age =', Age)\n",
    "print('age =', age)\n",
    "print('aGe =', aGe)"
   ]
  },
  {
   "cell_type": "markdown",
   "metadata": {},
   "source": [
    "What will happen if I run the code bellow"
   ]
  },
  {
   "cell_type": "code",
   "execution_count": 166,
   "metadata": {},
   "outputs": [
    {
     "ename": "NameError",
     "evalue": "name 'XX' is not defined",
     "output_type": "error",
     "traceback": [
      "\u001b[1;31m---------------------------------------------------------------------------\u001b[0m",
      "\u001b[1;31mNameError\u001b[0m                                 Traceback (most recent call last)",
      "\u001b[1;32m<ipython-input-166-134d5edaf748>\u001b[0m in \u001b[0;36m<module>\u001b[1;34m\u001b[0m\n\u001b[0;32m      1\u001b[0m \u001b[0mxx\u001b[0m \u001b[1;33m=\u001b[0m \u001b[1;36m10\u001b[0m\u001b[1;33m\u001b[0m\u001b[1;33m\u001b[0m\u001b[0m\n\u001b[1;32m----> 2\u001b[1;33m \u001b[0mprint\u001b[0m\u001b[1;33m(\u001b[0m\u001b[0mXX\u001b[0m\u001b[1;33m)\u001b[0m\u001b[1;33m\u001b[0m\u001b[1;33m\u001b[0m\u001b[0m\n\u001b[0m",
      "\u001b[1;31mNameError\u001b[0m: name 'XX' is not defined"
     ]
    }
   ],
   "source": [
    "xx = 10\n",
    "print(XX)"
   ]
  },
  {
   "cell_type": "markdown",
   "metadata": {},
   "source": [
    "It is advisable to also use descriptive names for variables. This way, the purpose of the variable can be understood by others."
   ]
  },
  {
   "cell_type": "code",
   "execution_count": 101,
   "metadata": {
    "collapsed": true
   },
   "outputs": [],
   "source": [
    "students = 45\n",
    "std_in_cls = 30\n",
    "n = 100"
   ]
  },
  {
   "cell_type": "markdown",
   "metadata": {},
   "source": [
    "The reserved Python names includes: and, else, if, print, assert, except, import, raise, break exec, in, return, continue, finally, is, try, def,for, lambda, while, del, from, not, elif, global\n",
    "or, class, yield, pass.\n",
    "\n",
    "Example of bad assignment"
   ]
  },
  {
   "cell_type": "code",
   "execution_count": 102,
   "metadata": {},
   "outputs": [
    {
     "ename": "SyntaxError",
     "evalue": "invalid syntax (<ipython-input-102-e981fd7acb5d>, line 2)",
     "output_type": "error",
     "traceback": [
      "\u001b[1;36m  File \u001b[1;32m\"<ipython-input-102-e981fd7acb5d>\"\u001b[1;36m, line \u001b[1;32m2\u001b[0m\n\u001b[1;33m    x: = 1\u001b[0m\n\u001b[1;37m       ^\u001b[0m\n\u001b[1;31mSyntaxError\u001b[0m\u001b[1;31m:\u001b[0m invalid syntax\n"
     ]
    }
   ],
   "source": [
    "#Not allowed\n",
    "x: = 1\n",
    "1X = 10\n",
    "X-1 = 1\n",
    "for = 20"
   ]
  },
  {
   "cell_type": "markdown",
   "metadata": {},
   "source": [
    "Multiple variables can be assigned on the same line using commas"
   ]
  },
  {
   "cell_type": "code",
   "execution_count": 168,
   "metadata": {
    "collapsed": true
   },
   "outputs": [],
   "source": [
    "X, y, z = 1, 3.1415, 'a' # multiple assignments\n",
    "Age =10; age = 20; aGe = 30 # multiple assignments"
   ]
  },
  {
   "cell_type": "markdown",
   "metadata": {},
   "source": [
    "Other assignment operations include:\n",
    "1. Add to (+=) or substract from (-=).\n",
    "2. Multiply by (*=) or divide by (/=).\n",
    "3. Remainder when divided by (%=).\n",
    "4. Raise to power (**=).\n",
    "This assignments operations are used to update the value of a variable that has already be defined."
   ]
  },
  {
   "cell_type": "code",
   "execution_count": 104,
   "metadata": {},
   "outputs": [
    {
     "name": "stdout",
     "output_type": "stream",
     "text": [
      "10\n",
      "20\n",
      "2\n"
     ]
    }
   ],
   "source": [
    "volume = 7\n",
    "volume += 3 # add 3 to the value of volume and store the result in volume\n",
    "#volume = volume +3\n",
    "print(volume)\n",
    "# the value of volume is now 10\n",
    "volume *= 2 # multipy the value of volume by 2, store the result in volume\n",
    "volume = volume*2\n",
    "print(volume)\n",
    "20 # the new value of volume is now 2\n",
    "volume %=3 # compute the remainder when divided the value of volume by 3, store the result in volume\n",
    "print(volume)\n"
   ]
  },
  {
   "cell_type": "markdown",
   "metadata": {},
   "source": [
    "## 3. Basics types\n",
    "Python has some fundamental/built-in data types that are available with the raw installation. Examples include:\n",
    "\n",
    "- <font color='blue'>Numeric data types</font>: \n",
    "    - Floating point numbers\n",
    "    - Integers\n",
    "    - Complex Numbers \n",
    "    - Boolean\n",
    "- <font color='blue'>containers</font>\n",
    "    - Strings\n",
    "    - Lists\n",
    "    - Tuples\n",
    "    - Dictionaries\n",
    "    - Sets\n",
    "\n",
    "# 3.1. Numeric data types"
   ]
  },
  {
   "cell_type": "markdown",
   "metadata": {},
   "source": [
    "# 3.1.1. Floatint numbers \n",
    "The most important (scalar) data type for numerical analysis is the float. Unfortunately, not all non- complex\n",
    "numeric data types are floats. To input a floating data type, it is necessary to include a . (period, dot) in\n",
    "the expression."
   ]
  },
  {
   "cell_type": "code",
   "execution_count": 105,
   "metadata": {},
   "outputs": [
    {
     "data": {
      "text/plain": [
       "float"
      ]
     },
     "execution_count": 105,
     "metadata": {},
     "output_type": "execute_result"
    }
   ],
   "source": [
    "x = 2.0\n",
    "type(x)"
   ]
  },
  {
   "cell_type": "code",
   "execution_count": 106,
   "metadata": {},
   "outputs": [
    {
     "name": "stdout",
     "output_type": "stream",
     "text": [
      "2.0\n"
     ]
    },
    {
     "data": {
      "text/plain": [
       "float"
      ]
     },
     "execution_count": 106,
     "metadata": {},
     "output_type": "execute_result"
    }
   ],
   "source": [
    "x = float(2)\n",
    "print(x)\n",
    "type(x)"
   ]
  },
  {
   "cell_type": "markdown",
   "metadata": {},
   "source": [
    "The funtion type() is used to determine the data type of a variable."
   ]
  },
  {
   "cell_type": "markdown",
   "metadata": {},
   "source": [
    "# 3.1.2. Integer\n",
    "Integers store numerical values without fractional parts. Integers therefore have no decimals. An integer is defined by just assigning a number to a variable without any decimals trailing. Example:"
   ]
  },
  {
   "cell_type": "code",
   "execution_count": 107,
   "metadata": {},
   "outputs": [
    {
     "data": {
      "text/plain": [
       "int"
      ]
     },
     "execution_count": 107,
     "metadata": {},
     "output_type": "execute_result"
    }
   ],
   "source": [
    "students = 20\n",
    "type(students)"
   ]
  },
  {
   "cell_type": "code",
   "execution_count": 108,
   "metadata": {},
   "outputs": [
    {
     "data": {
      "text/plain": [
       "int"
      ]
     },
     "execution_count": 108,
     "metadata": {},
     "output_type": "execute_result"
    }
   ],
   "source": [
    "num = 0\n",
    "type(num)"
   ]
  },
  {
   "cell_type": "code",
   "execution_count": 109,
   "metadata": {},
   "outputs": [
    {
     "data": {
      "text/plain": [
       "int"
      ]
     },
     "execution_count": 109,
     "metadata": {},
     "output_type": "execute_result"
    }
   ],
   "source": [
    "num_ppl = -5\n",
    "type(num_ppl)"
   ]
  },
  {
   "cell_type": "code",
   "execution_count": 175,
   "metadata": {},
   "outputs": [
    {
     "name": "stdout",
     "output_type": "stream",
     "text": [
      "55\n"
     ]
    },
    {
     "data": {
      "text/plain": [
       "int"
      ]
     },
     "execution_count": 175,
     "metadata": {},
     "output_type": "execute_result"
    }
   ],
   "source": [
    "aa = 666.5\n",
    "x = int(aa)\n",
    "print(x)\n",
    "type(x)"
   ]
  },
  {
   "cell_type": "markdown",
   "metadata": {},
   "source": [
    "# 3.1.3. Complex numbers\n",
    "Complex numbers are also important for numerical analysis. Complex numbers are created in Python using $j$ where ($j^2 = -1$) or the function complex().\n",
    "\n",
    "<b>Note: a + bj is the same as complex(a,b) , while complex(a) is the same as a + 0j.</b>"
   ]
  },
  {
   "cell_type": "code",
   "execution_count": 111,
   "metadata": {},
   "outputs": [
    {
     "data": {
      "text/plain": [
       "complex"
      ]
     },
     "execution_count": 111,
     "metadata": {},
     "output_type": "execute_result"
    }
   ],
   "source": [
    "x = 2 + 4j\n",
    "type(x)"
   ]
  },
  {
   "cell_type": "code",
   "execution_count": 176,
   "metadata": {},
   "outputs": [
    {
     "name": "stdout",
     "output_type": "stream",
     "text": [
      "(2+0j)\n"
     ]
    },
    {
     "data": {
      "text/plain": [
       "complex"
      ]
     },
     "execution_count": 176,
     "metadata": {},
     "output_type": "execute_result"
    }
   ],
   "source": [
    "x = complex(2,0)\n",
    "print(x)\n",
    "type(x)"
   ]
  },
  {
   "cell_type": "markdown",
   "metadata": {},
   "source": [
    "Complex numbers posses certain properties. They have a real part and an imaginary part. They also have a conjugate. Which is the number with the same real part but the sign of the imaginary part changed. Python can calculate the conjugate of the complex number as a method and also return the real and imaginary parts of the number. These are built into the complex number as defined in python. \n",
    "\n",
    "- These attributes can be accessed using the dot operator (.) as in c.property or c.method(). \n",
    "- Methods are invoked with brackets at the end while properties are not. Essentially, the attributes are variables contained in the objects while the methods are functions built into the object. Example usage of attributes and methods of the string class are as follows"
   ]
  },
  {
   "cell_type": "code",
   "execution_count": 113,
   "metadata": {
    "collapsed": true
   },
   "outputs": [],
   "source": [
    "cmp_num = 5+25j"
   ]
  },
  {
   "cell_type": "code",
   "execution_count": 114,
   "metadata": {},
   "outputs": [
    {
     "data": {
      "text/plain": [
       "5.0"
      ]
     },
     "execution_count": 114,
     "metadata": {},
     "output_type": "execute_result"
    }
   ],
   "source": [
    "cmp_num.real"
   ]
  },
  {
   "cell_type": "code",
   "execution_count": 115,
   "metadata": {},
   "outputs": [
    {
     "data": {
      "text/plain": [
       "25.0"
      ]
     },
     "execution_count": 115,
     "metadata": {},
     "output_type": "execute_result"
    }
   ],
   "source": [
    "cmp_num.imag"
   ]
  },
  {
   "cell_type": "code",
   "execution_count": 200,
   "metadata": {},
   "outputs": [
    {
     "data": {
      "text/plain": [
       "(5-25j)"
      ]
     },
     "execution_count": 200,
     "metadata": {},
     "output_type": "execute_result"
    }
   ],
   "source": [
    "a = cmp_num.conjugate\n",
    "a()"
   ]
  },
  {
   "cell_type": "code",
   "execution_count": 117,
   "metadata": {},
   "outputs": [
    {
     "ename": "TypeError",
     "evalue": "'float' object is not callable",
     "output_type": "error",
     "traceback": [
      "\u001b[1;31m---------------------------------------------------------------------------\u001b[0m",
      "\u001b[1;31mTypeError\u001b[0m                                 Traceback (most recent call last)",
      "\u001b[1;32m<ipython-input-117-b8c771b3b727>\u001b[0m in \u001b[0;36m<module>\u001b[1;34m\u001b[0m\n\u001b[1;32m----> 1\u001b[1;33m \u001b[0mcmp_num\u001b[0m\u001b[1;33m.\u001b[0m\u001b[0mreal\u001b[0m\u001b[1;33m(\u001b[0m\u001b[1;33m)\u001b[0m\u001b[1;33m\u001b[0m\u001b[1;33m\u001b[0m\u001b[0m\n\u001b[0m",
      "\u001b[1;31mTypeError\u001b[0m: 'float' object is not callable"
     ]
    }
   ],
   "source": [
    "cmp_num.real()"
   ]
  },
  {
   "cell_type": "markdown",
   "metadata": {},
   "source": [
    "# 3.1.4. Boolean\n",
    "The Boolean data type is used to represent true and false, using the reserved keywords <b>True</b> and <b>False</b>. The following expressions return a boolean value,\n",
    "- a == b\n",
    "- a! = b\n",
    "- a < b\n",
    "- a > b\n",
    "- a <= b\n",
    "- a >= b\n",
    "- a in b\n",
    "\n"
   ]
  },
  {
   "cell_type": "code",
   "execution_count": 118,
   "metadata": {},
   "outputs": [
    {
     "data": {
      "text/plain": [
       "bool"
      ]
     },
     "execution_count": 118,
     "metadata": {},
     "output_type": "execute_result"
    }
   ],
   "source": [
    "test = (3>4)\n",
    "type(test)"
   ]
  },
  {
   "cell_type": "markdown",
   "metadata": {},
   "source": [
    "# 3.2. containers"
   ]
  },
  {
   "cell_type": "markdown",
   "metadata": {},
   "source": [
    "# 3.2.1. String\n",
    "In python, strings are defined by placing them between matching quotes. We have different string syntaxes (simple, double or triple quotes):"
   ]
  },
  {
   "cell_type": "code",
   "execution_count": 119,
   "metadata": {},
   "outputs": [
    {
     "name": "stdout",
     "output_type": "stream",
     "text": [
      "Hello, how are you?\n"
     ]
    }
   ],
   "source": [
    "s1 = 'Hello, how are you?'\n",
    "print(s1)"
   ]
  },
  {
   "cell_type": "code",
   "execution_count": 120,
   "metadata": {},
   "outputs": [
    {
     "name": "stdout",
     "output_type": "stream",
     "text": [
      "Hi, what's up\n"
     ]
    }
   ],
   "source": [
    "s2 = \"Hi, what's up\"\n",
    "print(s2)"
   ]
  },
  {
   "cell_type": "code",
   "execution_count": 179,
   "metadata": {},
   "outputs": [
    {
     "name": "stdout",
     "output_type": "stream",
     "text": [
      "Hello,\n",
      "     how are you\n"
     ]
    }
   ],
   "source": [
    "s3 = '''Hello,\n",
    "     how are you'''         # tripling the quotes allows the\n",
    "print(s3)                            # string to span more than one line"
   ]
  },
  {
   "cell_type": "code",
   "execution_count": 122,
   "metadata": {},
   "outputs": [
    {
     "name": "stdout",
     "output_type": "stream",
     "text": [
      "Hi,\n",
      "what's up?\n"
     ]
    }
   ],
   "source": [
    "s4 = \"\"\"Hi,\n",
    "what's up?\"\"\"\n",
    "print(s4)"
   ]
  },
  {
   "cell_type": "code",
   "execution_count": 123,
   "metadata": {},
   "outputs": [
    {
     "ename": "SyntaxError",
     "evalue": "invalid syntax (<ipython-input-123-f2801e14a432>, line 1)",
     "output_type": "error",
     "traceback": [
      "\u001b[1;36m  File \u001b[1;32m\"<ipython-input-123-f2801e14a432>\"\u001b[1;36m, line \u001b[1;32m1\u001b[0m\n\u001b[1;33m    s5 = 'Hi, what's up?'\u001b[0m\n\u001b[1;37m                   ^\u001b[0m\n\u001b[1;31mSyntaxError\u001b[0m\u001b[1;31m:\u001b[0m invalid syntax\n"
     ]
    }
   ],
   "source": [
    "s5 = 'Hi, what's up?'\n",
    "#s5 = \"Hi, what's up?\"\n",
    "print(s5)"
   ]
  },
  {
   "cell_type": "markdown",
   "metadata": {},
   "source": [
    "This syntax error can be avoided by enclosing the string in double quotes instead of single quotes. Alternatively, one can prepend a backslash to the second single quote. Other uses of the backslash are, e.g., the newline character <b>\\n</b> and the tab character <b>\\t</b>."
   ]
  },
  {
   "cell_type": "code",
   "execution_count": 124,
   "metadata": {},
   "outputs": [
    {
     "name": "stdout",
     "output_type": "stream",
     "text": [
      "Hi,\n",
      "what's up?\n"
     ]
    }
   ],
   "source": [
    "s6 =\"Hi,\\nwhat's up?\"#\\n is used to continue the string on the next line\n",
    "print(s6)"
   ]
  },
  {
   "cell_type": "code",
   "execution_count": 125,
   "metadata": {},
   "outputs": [
    {
     "name": "stdout",
     "output_type": "stream",
     "text": [
      "Hi,\twhat's up?\n"
     ]
    }
   ],
   "source": [
    "s6 =\"Hi,\\twhat's up?\"#\\t is used to generate verticale space as tab\n",
    "print(s6)"
   ]
  },
  {
   "cell_type": "markdown",
   "metadata": {},
   "source": [
    "# 3.2.1.1 String Manipulation\n",
    "\n",
    "# a- <b>String operations</b>\n",
    "\n",
    "- <font color=red>' '</font> or <font color=red>\" \"</font> is a string (empty string)\n",
    "- if s1 and s2 are strings, then s1 + s2 is a string (string concatenation)."
   ]
  },
  {
   "cell_type": "code",
   "execution_count": 184,
   "metadata": {},
   "outputs": [
    {
     "name": "stdout",
     "output_type": "stream",
     "text": [
      "Enter a number :7\n",
      "777\n"
     ]
    },
    {
     "data": {
      "text/plain": [
       "str"
      ]
     },
     "execution_count": 184,
     "metadata": {},
     "output_type": "execute_result"
    }
   ],
   "source": [
    "k = input('Enter a number :')\n",
    "kk = k+k\n",
    "kkk = k + k + k\n",
    "print(kkk)\n",
    "type(kk)"
   ]
  },
  {
   "cell_type": "code",
   "execution_count": 180,
   "metadata": {},
   "outputs": [
    {
     "data": {
      "text/plain": [
       "'Python is a rewarding language.'"
      ]
     },
     "execution_count": 180,
     "metadata": {},
     "output_type": "execute_result"
    }
   ],
   "source": [
    "a = 'Python is'\n",
    "b = ' a rewarding language.'\n",
    "a  + b"
   ]
  },
  {
   "cell_type": "code",
   "execution_count": 127,
   "metadata": {},
   "outputs": [
    {
     "data": {
      "text/plain": [
       "'extraordinary'"
      ]
     },
     "execution_count": 127,
     "metadata": {},
     "output_type": "execute_result"
    }
   ],
   "source": [
    "\"extra\" + \"ordinary\" # string concatenation"
   ]
  },
  {
   "cell_type": "code",
   "execution_count": 187,
   "metadata": {},
   "outputs": [
    {
     "data": {
      "text/plain": [
       "'TomatoesTomatoes'"
      ]
     },
     "execution_count": 187,
     "metadata": {},
     "output_type": "execute_result"
    }
   ],
   "source": [
    "a = \"Tomatoes\" # string repetition\n",
    "a*2"
   ]
  },
  {
   "cell_type": "code",
   "execution_count": 188,
   "metadata": {},
   "outputs": [
    {
     "data": {
      "text/plain": [
       "8"
      ]
     },
     "execution_count": 188,
     "metadata": {},
     "output_type": "execute_result"
    }
   ],
   "source": [
    "len(a) # string length"
   ]
  },
  {
   "cell_type": "markdown",
   "metadata": {},
   "source": [
    "<b>Exercise 1</b>\n",
    "\n",
    "1. Write an algorithm that asks the user for a positive integer $k$,  and compute and displays the value of $k+kk+kkk$. Translate into python code.\n",
    "\n",
    "2. Write an algorithm that asks the user for a positive integer $k$ and $n$,  and compute and displays the value of $k+kk+kkk + kkkk+ ...+ kk...k$, the last term $kk...k$ has a length $n$. Translate into python code."
   ]
  },
  {
   "cell_type": "markdown",
   "metadata": {},
   "source": [
    "# b- <b>String Indexing</b>"
   ]
  },
  {
   "cell_type": "code",
   "execution_count": 190,
   "metadata": {},
   "outputs": [
    {
     "ename": "IndexError",
     "evalue": "string index out of range",
     "output_type": "error",
     "traceback": [
      "\u001b[1;31m---------------------------------------------------------------------------\u001b[0m",
      "\u001b[1;31mIndexError\u001b[0m                                Traceback (most recent call last)",
      "\u001b[1;32m<ipython-input-190-f14df252971e>\u001b[0m in \u001b[0;36m<module>\u001b[1;34m\u001b[0m\n\u001b[0;32m      1\u001b[0m \u001b[0ma\u001b[0m \u001b[1;33m=\u001b[0m \u001b[1;34m\"hello\"\u001b[0m\u001b[1;33m\u001b[0m\u001b[1;33m\u001b[0m\u001b[0m\n\u001b[1;32m----> 2\u001b[1;33m \u001b[0mprint\u001b[0m\u001b[1;33m(\u001b[0m\u001b[0ma\u001b[0m\u001b[1;33m[\u001b[0m\u001b[1;36m5\u001b[0m\u001b[1;33m]\u001b[0m\u001b[1;33m)\u001b[0m\u001b[1;31m# return the element at index 0\u001b[0m\u001b[1;33m\u001b[0m\u001b[1;33m\u001b[0m\u001b[0m\n\u001b[0m\u001b[0;32m      3\u001b[0m \u001b[1;31m#print(a[1]) #return the element at index 1\u001b[0m\u001b[1;33m\u001b[0m\u001b[1;33m\u001b[0m\u001b[1;33m\u001b[0m\u001b[0m\n\u001b[0;32m      4\u001b[0m \u001b[1;31m#print(a[2]) # return the element at index 2\u001b[0m\u001b[1;33m\u001b[0m\u001b[1;33m\u001b[0m\u001b[1;33m\u001b[0m\u001b[0m\n",
      "\u001b[1;31mIndexError\u001b[0m: string index out of range"
     ]
    }
   ],
   "source": [
    "a = \"hello\"\n",
    "print(a[3])# return the element at index 0\n",
    "#print(a[1]) #return the element at index 1\n",
    "#print(a[2]) # return the element at index 2"
   ]
  },
  {
   "cell_type": "markdown",
   "metadata": {},
   "source": [
    "<b>Exercise </b>\n",
    "\n",
    "Write an algorithm that calculates and displays the sum of the digits in an integer given by a user. Translate in python code."
   ]
  },
  {
   "cell_type": "markdown",
   "metadata": {},
   "source": [
    "# c- <b>String slicing</b>"
   ]
  },
  {
   "cell_type": "code",
   "execution_count": 193,
   "metadata": {},
   "outputs": [
    {
     "ename": "TypeError",
     "evalue": "string indices must be integers",
     "output_type": "error",
     "traceback": [
      "\u001b[1;31m---------------------------------------------------------------------------\u001b[0m",
      "\u001b[1;31mTypeError\u001b[0m                                 Traceback (most recent call last)",
      "\u001b[1;32m<ipython-input-193-f3bad99019d2>\u001b[0m in \u001b[0;36m<module>\u001b[1;34m\u001b[0m\n\u001b[0;32m      1\u001b[0m \u001b[0ma\u001b[0m \u001b[1;33m=\u001b[0m \u001b[1;34m\"hello, world!\"\u001b[0m\u001b[1;33m\u001b[0m\u001b[1;33m\u001b[0m\u001b[0m\n\u001b[1;32m----> 2\u001b[1;33m \u001b[0ma\u001b[0m\u001b[1;33m[\u001b[0m\u001b[1;33m[\u001b[0m\u001b[1;36m3\u001b[0m\u001b[1;33m,\u001b[0m\u001b[1;36m6\u001b[0m\u001b[1;33m]\u001b[0m\u001b[1;33m]\u001b[0m \u001b[1;31m# 3rd to 6th (excluded) elements: elements 3, 4, 5\u001b[0m\u001b[1;33m\u001b[0m\u001b[1;33m\u001b[0m\u001b[0m\n\u001b[0m",
      "\u001b[1;31mTypeError\u001b[0m: string indices must be integers"
     ]
    }
   ],
   "source": [
    "a = \"hello, world!\"\n",
    "a[3:6] # 3rd to 6th (excluded) elements: elements 3, 4, 5"
   ]
  },
  {
   "cell_type": "code",
   "execution_count": 132,
   "metadata": {},
   "outputs": [
    {
     "data": {
      "text/plain": [
       "'hello,'"
      ]
     },
     "execution_count": 132,
     "metadata": {},
     "output_type": "execute_result"
    }
   ],
   "source": [
    "a[:6] # returns the first 6 charters (from index 0 to index 5)"
   ]
  },
  {
   "cell_type": "code",
   "execution_count": 133,
   "metadata": {},
   "outputs": [
    {
     "data": {
      "text/plain": [
       "'o, world!'"
      ]
     },
     "execution_count": 133,
     "metadata": {},
     "output_type": "execute_result"
    }
   ],
   "source": [
    "a[4:] # returns all the charters from index 4 to the end"
   ]
  },
  {
   "cell_type": "code",
   "execution_count": 134,
   "metadata": {},
   "outputs": [
    {
     "data": {
      "text/plain": [
       "'hello, wor'"
      ]
     },
     "execution_count": 134,
     "metadata": {},
     "output_type": "execute_result"
    }
   ],
   "source": [
    "a[:-3] # returns all except the last 3 characters"
   ]
  },
  {
   "cell_type": "code",
   "execution_count": 135,
   "metadata": {},
   "outputs": [
    {
     "data": {
      "text/plain": [
       "'hl r!'"
      ]
     },
     "execution_count": 135,
     "metadata": {},
     "output_type": "execute_result"
    }
   ],
   "source": [
    "a[::3] # every three characters, from beginning to end"
   ]
  },
  {
   "cell_type": "code",
   "execution_count": 136,
   "metadata": {},
   "outputs": [
    {
     "data": {
      "text/plain": [
       "'lo o'"
      ]
     },
     "execution_count": 136,
     "metadata": {},
     "output_type": "execute_result"
    }
   ],
   "source": [
    "a[2:10:2] # Syntax: a[start:stop:step]"
   ]
  },
  {
   "cell_type": "markdown",
   "metadata": {},
   "source": [
    "A string is an <b>immutable object</b> and it is not possible to modify its contents."
   ]
  },
  {
   "cell_type": "code",
   "execution_count": 137,
   "metadata": {},
   "outputs": [
    {
     "ename": "TypeError",
     "evalue": "'str' object does not support item assignment",
     "output_type": "error",
     "traceback": [
      "\u001b[1;31m---------------------------------------------------------------------------\u001b[0m",
      "\u001b[1;31mTypeError\u001b[0m                                 Traceback (most recent call last)",
      "\u001b[1;32m<ipython-input-137-1d1bb05046fe>\u001b[0m in \u001b[0;36m<module>\u001b[1;34m\u001b[0m\n\u001b[0;32m      1\u001b[0m \u001b[0ma\u001b[0m \u001b[1;33m=\u001b[0m \u001b[1;34m\"hello, world!\"\u001b[0m\u001b[1;33m\u001b[0m\u001b[1;33m\u001b[0m\u001b[0m\n\u001b[1;32m----> 2\u001b[1;33m \u001b[0ma\u001b[0m\u001b[1;33m[\u001b[0m\u001b[1;36m2\u001b[0m\u001b[1;33m]\u001b[0m \u001b[1;33m=\u001b[0m \u001b[1;34m'z'\u001b[0m\u001b[1;33m\u001b[0m\u001b[1;33m\u001b[0m\u001b[0m\n\u001b[0m",
      "\u001b[1;31mTypeError\u001b[0m: 'str' object does not support item assignment"
     ]
    }
   ],
   "source": [
    "a = \"hello, world!\"\n",
    "a[2] = 'z'"
   ]
  },
  {
   "cell_type": "markdown",
   "metadata": {},
   "source": [
    "# d- <b>String formatting</b>\n",
    "\n",
    "Sometimes, we will like to print our data with a specific format. Python uses the format specifiers (%d, %s, %f, etc.) as a space holder for data\n",
    "- %d is a space holder for integers\n",
    "- %f is a space holder for float\n",
    "- %s is a space holder for strings\n",
    "- %0.3f is a space holder for a float rounded off to 3 decimal places\n",
    "- %0.5e is a space holder for float in scientific notation, accurate to 5 decimal plac"
   ]
  },
  {
   "cell_type": "code",
   "execution_count": 196,
   "metadata": {},
   "outputs": [
    {
     "name": "stdout",
     "output_type": "stream",
     "text": [
      "enter a your nameDaniel\n",
      "Your name Daniel has 6 characters\n"
     ]
    }
   ],
   "source": [
    "T = input('enter a your name')\n",
    "L = len(T)\n",
    "print (\"Your name %s has %d characters\" %(T, L))"
   ]
  },
  {
   "cell_type": "code",
   "execution_count": 139,
   "metadata": {},
   "outputs": [
    {
     "name": "stdout",
     "output_type": "stream",
     "text": [
      "An integer: 1; a float: 0.100000; another string: string\n"
     ]
    }
   ],
   "source": [
    "a = 'An integer: %i; a float: %f; another string: %s' % (1, 0.1, 'string') # with more values use tuple after %\n",
    "print(a)"
   ]
  },
  {
   "cell_type": "code",
   "execution_count": 140,
   "metadata": {},
   "outputs": [
    {
     "name": "stdout",
     "output_type": "stream",
     "text": [
      "processing_of_dataset_102.txt\n"
     ]
    }
   ],
   "source": [
    "i = 102\n",
    "filename = 'processing_of_dataset_%d.txt' % i   # no need for tuples with just one value after %\n",
    "print(filename)"
   ]
  },
  {
   "cell_type": "code",
   "execution_count": 141,
   "metadata": {},
   "outputs": [
    {
     "data": {
      "text/plain": [
       "'A 10 decimal places precision of the number sqrt(2) is 1.4142135624'"
      ]
     },
     "execution_count": 141,
     "metadata": {},
     "output_type": "execute_result"
    }
   ],
   "source": [
    "\"A 10 decimal places precision of the number %s is %0.10f\" %('sqrt(2)' , 2**0.5)"
   ]
  },
  {
   "cell_type": "markdown",
   "metadata": {},
   "source": [
    "Another way to print our data with a specific format is as follows"
   ]
  },
  {
   "cell_type": "code",
   "execution_count": 198,
   "metadata": {},
   "outputs": [
    {
     "data": {
      "text/plain": [
       "'jhdff jhhjjlh hbbvahwi 3 hddvas'"
      ]
     },
     "execution_count": 198,
     "metadata": {},
     "output_type": "execute_result"
    }
   ],
   "source": [
    "q= 'jhhjjlh'\n",
    "z = 3\n",
    "'jhdff {} hbbvahwi {} hddvas'.format(q,z)"
   ]
  },
  {
   "cell_type": "markdown",
   "metadata": {},
   "source": [
    "# <b>More String Functions</b>\n",
    "\n",
    "In addition to treating strings as a data type on its own with string operations, string functions and string indexing, strings are python objects. Meaning that they are associated with data (string data type or text) and functions (or methods) acting on them. Classes and Objects will be covered in details later on in the course. Below is a list os string methods commonly used.\n",
    "\n",
    "- S.isupper() # returns True if the string contains only uppercase characters.\n",
    "- S.upper() # returns a copy of the string containing only uppercase characters.\n",
    "- S.islower() # returns True if the string contains only lowercase characters.\n",
    "- S.lower() # returns a copy the string containing only lowercase characters.\n",
    "- S.isdigit() # returns True if the string contains only digits.\n",
    "- S.endswith(substring) # returns True if the string ends with the substring substring.\n",
    "- S.startswith(substring) # returns True is the string starts with the substring substring.\n",
    "- S.split('substring') # returns a list of strings, such that the string is split by 'substring' and each portion is an element of the returned list. If substring is not specified, the string is split on whitespace.\n",
    "- S.rstrip() # removes the end of line character \\n (if any) at the end\n",
    "- S.count(substring) # returns the number of times substring occurs within the string.\n",
    "- S.find(substring) # returns the index within the string of the first (from the left) occurrence of substring. Returns -1 if substring cannot be found.\n",
    "- S.rfind(substring) # returns the index within the string of the last (from the right) occurrence of substring. Returns -1 if substring cannot be found.\n",
    "- S.index(substring) # returns the index within the string of the first (from the left) occurrence of'substring'. Causes an error if substring cannot be"
   ]
  },
  {
   "cell_type": "code",
   "execution_count": 142,
   "metadata": {
    "collapsed": true
   },
   "outputs": [],
   "source": [
    "s = \"The quick brown fox jumps slowly over the lazy cow \\n\""
   ]
  },
  {
   "cell_type": "code",
   "execution_count": 143,
   "metadata": {},
   "outputs": [
    {
     "data": {
      "text/plain": [
       "False"
      ]
     },
     "execution_count": 143,
     "metadata": {},
     "output_type": "execute_result"
    }
   ],
   "source": [
    "s.islower()"
   ]
  },
  {
   "cell_type": "code",
   "execution_count": 144,
   "metadata": {},
   "outputs": [
    {
     "data": {
      "text/plain": [
       "3"
      ]
     },
     "execution_count": 144,
     "metadata": {},
     "output_type": "execute_result"
    }
   ],
   "source": [
    "s.count(\"ow\") # number of instances of ow"
   ]
  },
  {
   "cell_type": "code",
   "execution_count": 145,
   "metadata": {},
   "outputs": [
    {
     "data": {
      "text/plain": [
       "10"
      ]
     },
     "execution_count": 145,
     "metadata": {},
     "output_type": "execute_result"
    }
   ],
   "source": [
    "s.find(\"brown\") # index of the first occurrence on brown"
   ]
  },
  {
   "cell_type": "code",
   "execution_count": 146,
   "metadata": {},
   "outputs": [
    {
     "data": {
      "text/plain": [
       "-1"
      ]
     },
     "execution_count": 146,
     "metadata": {},
     "output_type": "execute_result"
    }
   ],
   "source": [
    "s.find(\"not here\")"
   ]
  },
  {
   "cell_type": "code",
   "execution_count": 147,
   "metadata": {},
   "outputs": [
    {
     "data": {
      "text/plain": [
       "12"
      ]
     },
     "execution_count": 147,
     "metadata": {},
     "output_type": "execute_result"
    }
   ],
   "source": [
    "s.find(\"ow\")"
   ]
  },
  {
   "cell_type": "code",
   "execution_count": 148,
   "metadata": {},
   "outputs": [
    {
     "data": {
      "text/plain": [
       "48"
      ]
     },
     "execution_count": 148,
     "metadata": {},
     "output_type": "execute_result"
    }
   ],
   "source": [
    "s.rfind(\"ow\") # index of the first instance of ow, starting at the end"
   ]
  },
  {
   "cell_type": "code",
   "execution_count": 149,
   "metadata": {},
   "outputs": [
    {
     "data": {
      "text/plain": [
       "12"
      ]
     },
     "execution_count": 149,
     "metadata": {},
     "output_type": "execute_result"
    }
   ],
   "source": [
    "s.index(\"ow\")"
   ]
  },
  {
   "cell_type": "code",
   "execution_count": 150,
   "metadata": {},
   "outputs": [
    {
     "data": {
      "text/plain": [
       "48"
      ]
     },
     "execution_count": 150,
     "metadata": {},
     "output_type": "execute_result"
    }
   ],
   "source": [
    "s.rindex(\"ow\")"
   ]
  },
  {
   "cell_type": "code",
   "execution_count": 151,
   "metadata": {},
   "outputs": [
    {
     "name": "stdout",
     "output_type": "stream",
     "text": [
      "THE QUICK BROWN FOX JUMPS SLOWLY OVER THE LAZY COW \n",
      "\n"
     ]
    }
   ],
   "source": [
    "S = s.upper()\n",
    "print(S)"
   ]
  },
  {
   "cell_type": "code",
   "execution_count": 152,
   "metadata": {},
   "outputs": [
    {
     "data": {
      "text/plain": [
       "'The quick brown fox jumps slowly over the lazy cow'"
      ]
     },
     "execution_count": 152,
     "metadata": {},
     "output_type": "execute_result"
    }
   ],
   "source": [
    "s.rstrip()"
   ]
  },
  {
   "cell_type": "code",
   "execution_count": 2,
   "metadata": {},
   "outputs": [
    {
     "data": {
      "text/plain": [
       "['Great,', 'I', 'am', 'a', 'student']"
      ]
     },
     "execution_count": 2,
     "metadata": {},
     "output_type": "execute_result"
    }
   ],
   "source": [
    "b = \"Great, I am a student\"\n",
    "b.split() #split wherever there is a white space"
   ]
  },
  {
   "cell_type": "code",
   "execution_count": 3,
   "metadata": {},
   "outputs": [
    {
     "data": {
      "text/plain": [
       "['Great', ' I am a student']"
      ]
     },
     "execution_count": 3,
     "metadata": {},
     "output_type": "execute_result"
    }
   ],
   "source": [
    "b.split(',') #split wherever there is a comma"
   ]
  },
  {
   "cell_type": "code",
   "execution_count": 4,
   "metadata": {},
   "outputs": [
    {
     "data": {
      "text/plain": [
       "['Great, I ', ' a student']"
      ]
     },
     "execution_count": 4,
     "metadata": {},
     "output_type": "execute_result"
    }
   ],
   "source": [
    "b.split('am') #split wherever there is a am"
   ]
  },
  {
   "cell_type": "markdown",
   "metadata": {},
   "source": [
    "\n",
    "\n",
    "## 3.2.2 Lists\n",
    "\n",
    "Lists store a group of variables so they can be accessed individually or collectively. The list is a most versatile datatype available in Python which can be written as a <b>list of comma-separated\n",
    "values (items) between square brackets.</b> The variables do not need to be of the same type and/or with repetition.\n",
    "\n",
    "# a- Creating a list\n",
    "\n",
    "- <b> Empty list </b>\n",
    "\n",
    "\n",
    "List can be created empty or be populated during creation.\n",
    "\n",
    "Creating an empty list is as simple as for example:\n",
    "\n",
    "(1) [] or list() is a list (the empty list)\n",
    "\n",
    "(2) If L1 and L2 are lists, then L1 + L2 is a list (concatenation)\n",
    "\n",
    "Creating by putting different comma-separated values between square brackets. For example:"
   ]
  },
  {
   "cell_type": "code",
   "execution_count": 2,
   "metadata": {},
   "outputs": [
    {
     "data": {
      "text/plain": [
       "[]"
      ]
     },
     "execution_count": 2,
     "metadata": {},
     "output_type": "execute_result"
    }
   ],
   "source": [
    "emp_list =[]\n",
    "emp_list"
   ]
  },
  {
   "cell_type": "code",
   "execution_count": 96,
   "metadata": {},
   "outputs": [
    {
     "data": {
      "text/plain": [
       "[]"
      ]
     },
     "execution_count": 96,
     "metadata": {},
     "output_type": "execute_result"
    }
   ],
   "source": [
    "emp_list"
   ]
  },
  {
   "cell_type": "code",
   "execution_count": 3,
   "metadata": {},
   "outputs": [
    {
     "data": {
      "text/plain": [
       "[]"
      ]
     },
     "execution_count": 3,
     "metadata": {},
     "output_type": "execute_result"
    }
   ],
   "source": [
    "emp_lis2 = list()\n",
    "emp_lis2"
   ]
  },
  {
   "cell_type": "code",
   "execution_count": 99,
   "metadata": {},
   "outputs": [
    {
     "data": {
      "text/plain": [
       "[]"
      ]
     },
     "execution_count": 99,
     "metadata": {},
     "output_type": "execute_result"
    }
   ],
   "source": [
    "emp_lis2"
   ]
  },
  {
   "cell_type": "markdown",
   "metadata": {},
   "source": [
    "- <b>Creating by putting different comma-separated values between square brackets</b>"
   ]
  },
  {
   "cell_type": "code",
   "execution_count": 86,
   "metadata": {},
   "outputs": [],
   "source": [
    "List = [1, 3, 4.5]\n",
    "List2 = [7, 'kkk', 'comote', 0.9, [1,2,'toto']]\n",
    "L = List + List2  # this line does a list concatanation"
   ]
  },
  {
   "cell_type": "code",
   "execution_count": 7,
   "metadata": {},
   "outputs": [],
   "source": [
    "\n",
    "mylist = [0.0,0.1,0.2,0.3,0.4,0.5,0.6,0.7]\n",
    "mylist2 = [0.0,'a',2+4j,2000,'learn python',[1,2,3,4,5,6,7]]\n"
   ]
  },
  {
   "cell_type": "markdown",
   "metadata": {},
   "source": [
    "Python also makes it possible to create a numeric sequence as a list using the range function. In\n",
    "this case, we can create the sequence a+di, i = 0, ..., n. This is equivalent to a, a+d, a+ 2d, . . . , a+\n",
    "nd. This can be done using the range function as list(range(a,b,d)) or [*range(a,b,d)] where b = a + nd + 1.\n"
   ]
  },
  {
   "cell_type": "code",
   "execution_count": 8,
   "metadata": {},
   "outputs": [
    {
     "data": {
      "text/plain": [
       "[0, 1, 2, 3, 4, 5, 6, 7, 8, 9, 10]"
      ]
     },
     "execution_count": 8,
     "metadata": {},
     "output_type": "execute_result"
    }
   ],
   "source": [
    "#Example\n",
    "seq1 = list(range(0,11))  # since we omitted the stepsize, its default value is one.\n",
    "seq1"
   ]
  },
  {
   "cell_type": "code",
   "execution_count": 9,
   "metadata": {},
   "outputs": [
    {
     "data": {
      "text/plain": [
       "[0, 1, 2, 3, 4, 5, 6, 7, 8, 9, 10]"
      ]
     },
     "execution_count": 9,
     "metadata": {},
     "output_type": "execute_result"
    }
   ],
   "source": [
    "seq1 = [*range(0,11)]\n",
    "seq1"
   ]
  },
  {
   "cell_type": "code",
   "execution_count": 10,
   "metadata": {},
   "outputs": [
    {
     "data": {
      "text/plain": [
       "[0, 2, 4, 6, 8, 10]"
      ]
     },
     "execution_count": 10,
     "metadata": {},
     "output_type": "execute_result"
    }
   ],
   "source": [
    "seq2 = list(range(0,11,2))\n",
    "seq2"
   ]
  },
  {
   "cell_type": "code",
   "execution_count": 11,
   "metadata": {},
   "outputs": [
    {
     "data": {
      "text/plain": [
       "2"
      ]
     },
     "execution_count": 11,
     "metadata": {},
     "output_type": "execute_result"
    }
   ],
   "source": [
    "seq2[1]"
   ]
  },
  {
   "cell_type": "code",
   "execution_count": 12,
   "metadata": {},
   "outputs": [
    {
     "data": {
      "text/plain": [
       "[0, -3, -6, -9, -12, -15, -18, -21]"
      ]
     },
     "execution_count": 12,
     "metadata": {},
     "output_type": "execute_result"
    }
   ],
   "source": [
    "seq3 = list(range(0,-24,-3))\n",
    "seq3"
   ]
  },
  {
   "cell_type": "markdown",
   "metadata": {
    "collapsed": true
   },
   "source": [
    "Note that the range function expects all arguments (inputs to the funtion) to be integers. You\n",
    "get an error when that restriction is not respected. \n",
    "\n",
    "Example\n"
   ]
  },
  {
   "cell_type": "code",
   "execution_count": 13,
   "metadata": {},
   "outputs": [
    {
     "data": {
      "text/plain": [
       "[0, -3, -6, -9, -12, -15, -18, -21]"
      ]
     },
     "execution_count": 13,
     "metadata": {},
     "output_type": "execute_result"
    }
   ],
   "source": [
    "seq4 = list(range(0,-24,-3))\n",
    "seq4"
   ]
  },
  {
   "cell_type": "code",
   "execution_count": 14,
   "metadata": {},
   "outputs": [
    {
     "data": {
      "text/plain": [
       "[0, 1, 2, 3, 4, 5, 6, 7, 8, 9, 10, 11, 12, 13, 14, 15, 16, 17, 18, 19]"
      ]
     },
     "execution_count": 14,
     "metadata": {},
     "output_type": "execute_result"
    }
   ],
   "source": [
    "seq5 = list(range(0,20))\n",
    "seq5"
   ]
  },
  {
   "cell_type": "code",
   "execution_count": 15,
   "metadata": {},
   "outputs": [
    {
     "data": {
      "text/plain": [
       "[20, 19, 18, 17, 16, 15, 14, 13, 12, 11, 10, 9, 8, 7, 6, 5, 4, 3, 2, 1]"
      ]
     },
     "execution_count": 15,
     "metadata": {},
     "output_type": "execute_result"
    }
   ],
   "source": [
    "seq5 = list(range(20,0,-1))\n",
    "seq5"
   ]
  },
  {
   "cell_type": "markdown",
   "metadata": {},
   "source": [
    "# b- Accessing and Updating Items (values) in Lists\n",
    "\n",
    "- <b>Accessing</b>: The elements of lists and other iterables (sequences) can be accessed using their indexes. Sequence indexing in python begins from 0. So the first element is index 0, the second is 1, the third is 2 and so on. To access the first element in seq3, we type"
   ]
  },
  {
   "cell_type": "code",
   "execution_count": 89,
   "metadata": {},
   "outputs": [
    {
     "name": "stdout",
     "output_type": "stream",
     "text": [
      "[0, -3, -6, -9, -12, -15, -18, -21]\n"
     ]
    },
    {
     "data": {
      "text/plain": [
       "-15"
      ]
     },
     "execution_count": 89,
     "metadata": {},
     "output_type": "execute_result"
    }
   ],
   "source": [
    "seq3 = list(range(0,-24,-3))\n",
    "print(seq3)\n",
    "seq3[5] # access the 4th element of the list seq3"
   ]
  },
  {
   "cell_type": "code",
   "execution_count": 23,
   "metadata": {},
   "outputs": [
    {
     "data": {
      "text/plain": [
       "[0.0, 'a', (2+4j), 2000, 'learn python', [1, 2, 3, 4, 5, 6, 7]]"
      ]
     },
     "execution_count": 23,
     "metadata": {},
     "output_type": "execute_result"
    }
   ],
   "source": [
    "mylist2"
   ]
  },
  {
   "cell_type": "markdown",
   "metadata": {},
   "source": [
    "mylist2 has different kinds of elements including two strings and a list. To access the elements\n",
    "sequences contained in other sequences like in this case, we use two indices; the first one points to\n",
    "the location of the inner list and the second the location of the element in the inner list. \n",
    "\n",
    "Example"
   ]
  },
  {
   "cell_type": "code",
   "execution_count": 94,
   "metadata": {},
   "outputs": [
    {
     "data": {
      "text/plain": [
       "'o'"
      ]
     },
     "execution_count": 94,
     "metadata": {},
     "output_type": "execute_result"
    }
   ],
   "source": [
    "mylist2[1][3]# since the 2nd element of the list is string then indexing can be applied"
   ]
  },
  {
   "cell_type": "code",
   "execution_count": 24,
   "metadata": {},
   "outputs": [
    {
     "ename": "TypeError",
     "evalue": "'float' object is not subscriptable",
     "output_type": "error",
     "traceback": [
      "\u001b[1;31m---------------------------------------------------------------------------\u001b[0m",
      "\u001b[1;31mTypeError\u001b[0m                                 Traceback (most recent call last)",
      "\u001b[1;32m<ipython-input-24-9de420a76fef>\u001b[0m in \u001b[0;36m<module>\u001b[1;34m\u001b[0m\n\u001b[1;32m----> 1\u001b[1;33m \u001b[0mmylist2\u001b[0m\u001b[1;33m[\u001b[0m\u001b[1;36m0\u001b[0m\u001b[1;33m]\u001b[0m\u001b[1;33m[\u001b[0m\u001b[1;36m0\u001b[0m\u001b[1;33m]\u001b[0m\u001b[1;33m\u001b[0m\u001b[1;33m\u001b[0m\u001b[0m\n\u001b[0m",
      "\u001b[1;31mTypeError\u001b[0m: 'float' object is not subscriptable"
     ]
    }
   ],
   "source": [
    "mylist2[0][0]# since the 1st element of the list is a float then indexing can't be applied"
   ]
  },
  {
   "cell_type": "code",
   "execution_count": 119,
   "metadata": {},
   "outputs": [
    {
     "data": {
      "text/plain": [
       "4"
      ]
     },
     "execution_count": 119,
     "metadata": {},
     "output_type": "execute_result"
    }
   ],
   "source": [
    "mylist2[5][3]# since the 2nd element of the list is list then indexing can be applied"
   ]
  },
  {
   "cell_type": "markdown",
   "metadata": {},
   "source": [
    "Python uses the negative index to return elements from the back of the list. In this sense, -1 is\n",
    "for the last element, -2 for the element before the last and so on.\n"
   ]
  },
  {
   "cell_type": "code",
   "execution_count": 22,
   "metadata": {},
   "outputs": [
    {
     "name": "stdout",
     "output_type": "stream",
     "text": [
      "[0.0, 'toto', (2+4j), 2000, 'learn python', [1, 2, 3, 4, 5, 6, 7]]\n"
     ]
    },
    {
     "data": {
      "text/plain": [
       "'learn python'"
      ]
     },
     "execution_count": 22,
     "metadata": {},
     "output_type": "execute_result"
    }
   ],
   "source": [
    "print(mylist2)\n",
    "mylist2[-2]"
   ]
  },
  {
   "cell_type": "markdown",
   "metadata": {},
   "source": [
    "- <b>Updating</b>"
   ]
  },
  {
   "cell_type": "code",
   "execution_count": 95,
   "metadata": {},
   "outputs": [
    {
     "name": "stdout",
     "output_type": "stream",
     "text": [
      "[0.0, 2222, (2+4j), 2000, 'learn python', [1, 2, 3, 4, 5, 6, 7]]\n"
     ]
    }
   ],
   "source": [
    "mylist2 = [0.0, 'a', (2+4j), 2000, 'learn python', [1, 2, 3, 4, 5, 6, 7]]\n",
    "mylist2[1] = 2222\n",
    "print(mylist2)"
   ]
  },
  {
   "cell_type": "markdown",
   "metadata": {},
   "source": [
    "# c- List Slicing\n",
    "Apart from accessing individual elements, it is also possible to access a group of elements in a\n",
    "sequence using a sequence. This is called slicing. The slicing operator in python is the colon (:).\n",
    "\n",
    "Let L be a list, we can\n",
    "- L[i:j]       yields elements from index i to index j-1.\n",
    "- L[i: ]       yields elements from index i to the ends.\n",
    "- L[ :j]       yields elements from the beginning to index j-1.\n",
    "- L[i:j:k]     yields elements from index i to index j-1, taking only the k-th elements.\n",
    "- L[ : ]       yields a copy of the list L.\n",
    "- L[ ::k]      yields all the k-th elements of L starting at index 0."
   ]
  },
  {
   "cell_type": "code",
   "execution_count": 102,
   "metadata": {},
   "outputs": [
    {
     "name": "stdout",
     "output_type": "stream",
     "text": [
      "[0, 1, 2, 3, 4, 5, 6, 7, 8, 9, 10]\n"
     ]
    },
    {
     "data": {
      "text/plain": [
       "[10, 9, 8, 7, 6, 5, 4, 3, 2, 1, 0]"
      ]
     },
     "execution_count": 102,
     "metadata": {},
     "output_type": "execute_result"
    }
   ],
   "source": [
    "print(seq1)\n",
    "seq1[::-1]"
   ]
  },
  {
   "cell_type": "code",
   "execution_count": 124,
   "metadata": {},
   "outputs": [
    {
     "data": {
      "text/plain": [
       "[0, 2]"
      ]
     },
     "execution_count": 124,
     "metadata": {},
     "output_type": "execute_result"
    }
   ],
   "source": [
    "seq1[0:4:2]"
   ]
  },
  {
   "cell_type": "code",
   "execution_count": 125,
   "metadata": {},
   "outputs": [
    {
     "data": {
      "text/plain": [
       "[0, 1, 2, 3, 4, 5, 6, 7, 8, 9, 10]"
      ]
     },
     "execution_count": 125,
     "metadata": {},
     "output_type": "execute_result"
    }
   ],
   "source": [
    "seq1[::]"
   ]
  },
  {
   "cell_type": "code",
   "execution_count": 127,
   "metadata": {},
   "outputs": [
    {
     "data": {
      "text/plain": [
       "[10, 9, 8, 7, 6, 5, 4, 3, 2, 1, 0]"
      ]
     },
     "execution_count": 127,
     "metadata": {},
     "output_type": "execute_result"
    }
   ],
   "source": [
    "seq1[::-1]"
   ]
  },
  {
   "cell_type": "markdown",
   "metadata": {},
   "source": [
    "# d- List Comprehension\n",
    "List comprehension provides an elegant and compact way of creating lists. Many authors say it is used to create lists like mathematicians do in the area of sets. For example to create the list [ $x^3$  | $x$ is in the list [0 .. 9]] we can use the list comprehension\n"
   ]
  },
  {
   "cell_type": "code",
   "execution_count": 108,
   "metadata": {},
   "outputs": [
    {
     "data": {
      "text/plain": [
       "[0, 1, 8, 27, 64, 125, 216, 343, 512, 729]"
      ]
     },
     "execution_count": 108,
     "metadata": {},
     "output_type": "execute_result"
    }
   ],
   "source": [
    "a = [x**3 for x in range(10)]\n",
    "a"
   ]
  },
  {
   "cell_type": "markdown",
   "metadata": {},
   "source": [
    "For [ $2^x$  | $x$ is in the list [0 .. 10]], we use "
   ]
  },
  {
   "cell_type": "code",
   "execution_count": null,
   "metadata": {},
   "outputs": [],
   "source": [
    "#Ask students"
   ]
  },
  {
   "cell_type": "markdown",
   "metadata": {},
   "source": [
    "For the list [$(x,y)$|$ x $ ∈  [0 .. 5] and $y$  ∈  [5 .. 0] ], we have"
   ]
  },
  {
   "cell_type": "code",
   "execution_count": 110,
   "metadata": {},
   "outputs": [
    {
     "name": "stdout",
     "output_type": "stream",
     "text": [
      "[[0, 5], [0, 4], [0, 3], [0, 2], [0, 1], [0, 0], [1, 5], [1, 4], [1, 3], [1, 2], [1, 1], [1, 0], [2, 5], [2, 4], [2, 3], [2, 2], [2, 1], [2, 0], [3, 5], [3, 4], [3, 3], [3, 2], [3, 1], [3, 0], [4, 5], [4, 4], [4, 3], [4, 2], [4, 1], [4, 0], [5, 5], [5, 4], [5, 3], [5, 2], [5, 1], [5, 0]]\n"
     ]
    }
   ],
   "source": [
    "a = [[x,y] for x in range(6) for y in range(5,-1,-1)]\n",
    "print(a)"
   ]
  },
  {
   "cell_type": "markdown",
   "metadata": {},
   "source": [
    "how can I create a list of the 1st, 3rd,7th,9th, 11th elements a?"
   ]
  },
  {
   "cell_type": "code",
   "execution_count": 111,
   "metadata": {},
   "outputs": [
    {
     "data": {
      "text/plain": [
       "[[0, 5], [0, 3], [1, 5], [1, 3], [1, 1]]"
      ]
     },
     "execution_count": 111,
     "metadata": {},
     "output_type": "execute_result"
    }
   ],
   "source": [
    "[a[i] for i in [0,2,6,8,10]]"
   ]
  },
  {
   "cell_type": "markdown",
   "metadata": {},
   "source": [
    "List comprehensions can include conditional statements. Let us modify a above so the list comprehension only has the elements with x and y even"
   ]
  },
  {
   "cell_type": "code",
   "execution_count": 35,
   "metadata": {},
   "outputs": [
    {
     "name": "stdout",
     "output_type": "stream",
     "text": [
      "[(0, 4), (0, 2), (0, 0), (2, 4), (2, 2), (2, 0), (4, 4), (4, 2), (4, 0)]\n"
     ]
    }
   ],
   "source": [
    "b = [[x,y] for x in range(6) for y in range(5,-1,-1) if x%2==0 and y%2==0]\n",
    "print(b)"
   ]
  },
  {
   "cell_type": "markdown",
   "metadata": {},
   "source": [
    "# e- Summary: Built-in Basic List Functions and Methods:\n",
    "\n",
    "Let L, list1, list2 be three defined lists\n",
    "\n",
    "- Function related to List itself\n",
    "    - cmp(list1, list2): Compares elements of both lists.\n",
    "    - len(list): Gives the total length of the list.\n",
    "    - max(list): Returns item from the list with max value.\n",
    "    - min(list): Returns item from the list with min value.\n",
    "    - list(seq or set): Converts a tuple or set into list.\n",
    "- Function related to item of List\n",
    "    - L.append(item): Appends object item to list\n",
    "    - L.count(item): count Returns count of how many times item occurs in list\n",
    "    - L.extend(seq): Appends the contents of seq to list.\n",
    "    - L.index(item): Returns the lowest index in list that item appears.\n",
    "    - L.insert(index, Item): Inserts item into list at offset index\n",
    "    - L.pop(item=list[-1]): Removes and returns last item from list\n",
    "    - L.remove(item): Removes object item from list\n",
    "    - L.reverse(): Reverses objects of list in place\n",
    "    - L.sort([func]): Sorts items of list, use compare func if given"
   ]
  },
  {
   "cell_type": "code",
   "execution_count": 30,
   "metadata": {},
   "outputs": [
    {
     "data": {
      "text/plain": [
       "[0.1, 0.2, 0.3, 0.4, 0.5, 0.6, 0.7, 0.9]"
      ]
     },
     "execution_count": 30,
     "metadata": {},
     "output_type": "execute_result"
    }
   ],
   "source": [
    "mylist = [0.9,0.1,0.2,0.3,0.4,0.5,0.6,0.7]\n",
    "mylist.sort()\n",
    "mylist"
   ]
  },
  {
   "cell_type": "code",
   "execution_count": 27,
   "metadata": {},
   "outputs": [
    {
     "data": {
      "text/plain": [
       "[0.5, 0.1, 0.2, 0.3, 0.4, 0.5, 0.6, 0.7, 11]"
      ]
     },
     "execution_count": 27,
     "metadata": {},
     "output_type": "execute_result"
    }
   ],
   "source": [
    "mylist = [0.9,0.1,0.2,0.3,0.4,0.5,0.6,0.7]\n",
    "mylist.append(11)\n",
    "mylist"
   ]
  },
  {
   "cell_type": "code",
   "execution_count": 31,
   "metadata": {},
   "outputs": [
    {
     "name": "stdout",
     "output_type": "stream",
     "text": [
      "0.7\n",
      "[0.9, 0.1, 0.2, 0.3, 0.4, 0.5, 0.6]\n"
     ]
    }
   ],
   "source": [
    "mylist = [0.9,0.1,0.2,0.3,0.4,0.5,0.6,0.7]\n",
    "print(mylist.pop())\n",
    "print(mylist)"
   ]
  },
  {
   "cell_type": "markdown",
   "metadata": {},
   "source": [
    "To add multiple elements to the end of the list, the extend method is used. Extend allows to\n",
    "add multiple elements to the list."
   ]
  },
  {
   "cell_type": "code",
   "execution_count": 34,
   "metadata": {},
   "outputs": [
    {
     "data": {
      "text/plain": [
       "[0.0, 0.1, 0.2, 0.3, 0.4, 0.5, 0.6, 0.7, 11, 'Eish', 13, 'daddy', 'comote']"
      ]
     },
     "execution_count": 34,
     "metadata": {},
     "output_type": "execute_result"
    }
   ],
   "source": [
    "mylist.extend([ 'Eish', 13, 'daddy', 'comote'])\n",
    "mylist"
   ]
  },
  {
   "cell_type": "code",
   "execution_count": 86,
   "metadata": {},
   "outputs": [
    {
     "data": {
      "text/plain": [
       "[0.0, 0.1, 0.2, 0.3, 0.4, 0.5, 0.6, 0.7, 11, 'Eish', 13, 'daddy', 'comote']"
      ]
     },
     "execution_count": 86,
     "metadata": {},
     "output_type": "execute_result"
    }
   ],
   "source": [
    "mylist"
   ]
  },
  {
   "cell_type": "code",
   "execution_count": 144,
   "metadata": {
    "collapsed": true
   },
   "outputs": [],
   "source": [
    "mylist.append([ 'Eish', 13, 'daddy', 'comote']) # we add a list to a list\n",
    "mylist"
   ]
  },
  {
   "cell_type": "markdown",
   "metadata": {},
   "source": [
    "## 3.2.3. Tuples\n",
    "A Python tuple is another iterable. A tuple is created using the bracket but accessed in the same\n",
    "manner as lists are.\n"
   ]
  },
  {
   "cell_type": "code",
   "execution_count": 113,
   "metadata": {},
   "outputs": [],
   "source": [
    "a = (1,2,3,4,5,6,7)"
   ]
  },
  {
   "cell_type": "code",
   "execution_count": 116,
   "metadata": {},
   "outputs": [
    {
     "data": {
      "text/plain": [
       "4"
      ]
     },
     "execution_count": 116,
     "metadata": {},
     "output_type": "execute_result"
    }
   ],
   "source": [
    "a[3]"
   ]
  },
  {
   "cell_type": "markdown",
   "metadata": {},
   "source": [
    "## 3.2.4. Set\n",
    "A set is an unordered collection of items. Unlike sequence items such as lists and tuples, in which each\n",
    "element is indexed, set elements are not indexed and <b>are not duplicated</b>.\n",
    "\n",
    "# a- Constructing a set\n",
    "\n",
    "- You can create an empty set using the function set()\n",
    "- You can also create a set from a list using set(L) where L is the list\n",
    "- You can also create a set from a string using set(S) where S is the string"
   ]
  },
  {
   "cell_type": "code",
   "execution_count": 44,
   "metadata": {},
   "outputs": [
    {
     "name": "stdout",
     "output_type": "stream",
     "text": [
      "X =  set()\n",
      "Z =  {1, 2, 'v', 'emile', 'w'}\n",
      "W =  {'a', 'b', 'n', 's'}\n"
     ]
    }
   ],
   "source": [
    "X = set() #Creating empty set\n",
    "print('X = ',X)\n",
    "\n",
    "\n",
    "\n",
    "#Create set from a list\n",
    "Y = [\"emile\",1,2,\"w\",\"v\",2,\"emile\"]\n",
    "Z = set(Y) # passing a list\n",
    "print('Z = ', Z)\n",
    "S = 'bananas'\n",
    "W = set(S)\n",
    "print('W = ', W)"
   ]
  },
  {
   "cell_type": "markdown",
   "metadata": {},
   "source": [
    "# b- Accessing\n",
    "<b> Note that you can't access the set element using indeces since the element of the set are not orderred. </b>"
   ]
  },
  {
   "cell_type": "code",
   "execution_count": 117,
   "metadata": {},
   "outputs": [
    {
     "data": {
      "text/plain": [
       "'n'"
      ]
     },
     "execution_count": 117,
     "metadata": {},
     "output_type": "execute_result"
    }
   ],
   "source": [
    "list(W)[2]"
   ]
  },
  {
   "cell_type": "markdown",
   "metadata": {},
   "source": [
    "But you can access the element of the set by converting them into list first."
   ]
  },
  {
   "cell_type": "code",
   "execution_count": 54,
   "metadata": {},
   "outputs": [
    {
     "name": "stdout",
     "output_type": "stream",
     "text": [
      "W =  {'a', 'b', 'n', 's'}\n",
      "aa =  n\n"
     ]
    }
   ],
   "source": [
    "S = 'bananas'\n",
    "W = set(S)\n",
    "print('W = ', W)\n",
    "aa = list(W)[2]\n",
    "print('aa = ', aa)"
   ]
  },
  {
   "cell_type": "markdown",
   "metadata": {},
   "source": [
    "# c- Sets methods\n",
    "\n",
    "add(), update(), copy(), discard(), clear()"
   ]
  },
  {
   "cell_type": "code",
   "execution_count": 47,
   "metadata": {},
   "outputs": [
    {
     "data": {
      "text/plain": [
       "{1, 4, 5, 6, 'blue'}"
      ]
     },
     "execution_count": 47,
     "metadata": {},
     "output_type": "execute_result"
    }
   ],
   "source": [
    "x = set([1, 4, 6,'blue'])\n",
    "x.add(5) # adding a new element\n",
    "x"
   ]
  },
  {
   "cell_type": "code",
   "execution_count": 49,
   "metadata": {},
   "outputs": [
    {
     "data": {
      "text/plain": [
       "{1, 4, 5, 6, 7, 'blue'}"
      ]
     },
     "execution_count": 49,
     "metadata": {},
     "output_type": "execute_result"
    }
   ],
   "source": [
    "x.update([4, 1, 7]) # adding a list of new elements, avoiding repetition\n",
    "x"
   ]
  },
  {
   "cell_type": "code",
   "execution_count": 52,
   "metadata": {},
   "outputs": [
    {
     "data": {
      "text/plain": [
       "{1, 5, 6, 7, 'blue'}"
      ]
     },
     "execution_count": 52,
     "metadata": {},
     "output_type": "execute_result"
    }
   ],
   "source": [
    "\"\"\"\n",
    "x.remove(element) acts exatly like x.discard(element) except that it will\n",
    "yield an error if element is not in x\n",
    "\"\"\"\n",
    "x.discard(4) # remove an element from x\n",
    "x"
   ]
  },
  {
   "cell_type": "markdown",
   "metadata": {},
   "source": [
    "# d- Sets operations\n",
    "\n",
    "- Union\n",
    "- intersection\n",
    "- difference\n",
    "- symetric difference"
   ]
  },
  {
   "cell_type": "code",
   "execution_count": 60,
   "metadata": {},
   "outputs": [
    {
     "data": {
      "text/plain": [
       "{0, 1, 2, 3, 4, 5}"
      ]
     },
     "execution_count": 60,
     "metadata": {},
     "output_type": "execute_result"
    }
   ],
   "source": [
    "X = set([1,2,3,4])\n",
    "Y = set([0,2,4,5])\n",
    "X.union(Y) # sets union\n",
    "#  X|Y # same as X.union(Y)"
   ]
  },
  {
   "cell_type": "code",
   "execution_count": 61,
   "metadata": {},
   "outputs": [
    {
     "data": {
      "text/plain": [
       "{2, 4}"
      ]
     },
     "execution_count": 61,
     "metadata": {},
     "output_type": "execute_result"
    }
   ],
   "source": [
    "X.intersection(Y) # sets intersection\n",
    "#X & Y # same as X.intersection(Y)"
   ]
  },
  {
   "cell_type": "code",
   "execution_count": 62,
   "metadata": {},
   "outputs": [
    {
     "data": {
      "text/plain": [
       "{1, 3}"
      ]
     },
     "execution_count": 62,
     "metadata": {},
     "output_type": "execute_result"
    }
   ],
   "source": [
    "X - Y # sets difference"
   ]
  },
  {
   "cell_type": "code",
   "execution_count": 64,
   "metadata": {},
   "outputs": [
    {
     "data": {
      "text/plain": [
       "{0, 1, 3, 5}"
      ]
     },
     "execution_count": 64,
     "metadata": {},
     "output_type": "execute_result"
    }
   ],
   "source": [
    "X^Y # set symmetric difference"
   ]
  },
  {
   "cell_type": "markdown",
   "metadata": {},
   "source": [
    "## 3.2.5. Dictionaries\n",
    "A dictionary is a set of key:value elements. An element key:value is accessible by its key rather than by an\n",
    "index. As opposed to lists, strings and tuples, the ordering of the elements of a dictionary does not matter.\n",
    "Keys can be of any non-mutable type, and values can be of any type including other dictionaries, lists, or\n",
    "tuples.\n",
    "# a- Creating  dictionary"
   ]
  },
  {
   "cell_type": "code",
   "execution_count": 66,
   "metadata": {},
   "outputs": [
    {
     "data": {
      "text/plain": [
       "dict"
      ]
     },
     "execution_count": 66,
     "metadata": {},
     "output_type": "execute_result"
    }
   ],
   "source": [
    "X= {}\n",
    "type(X)"
   ]
  },
  {
   "cell_type": "code",
   "execution_count": 67,
   "metadata": {},
   "outputs": [
    {
     "data": {
      "text/plain": [
       "dict"
      ]
     },
     "execution_count": 67,
     "metadata": {},
     "output_type": "execute_result"
    }
   ],
   "source": [
    "Y = dict()\n",
    "type(Y)"
   ]
  },
  {
   "cell_type": "code",
   "execution_count": 35,
   "metadata": {},
   "outputs": [],
   "source": [
    "count_cap = {'Benin': 'Porto-Novo','Togo': 'Lome', 'Cameroon': 'Yahounde', 'Nigeria': 'Abuja', 'Rwanda': 'Kigali', 'Kenya': 'Nairobia'}"
   ]
  },
  {
   "cell_type": "code",
   "execution_count": 92,
   "metadata": {},
   "outputs": [
    {
     "data": {
      "text/plain": [
       "{'Benin': 'Porto-Novo',\n",
       " 'Cameroon': 'Yahounde',\n",
       " 'Kenya': 'Nairobia',\n",
       " 'Nigeria': 'Abuja',\n",
       " 'Rwanda': 'Kigali',\n",
       " 'Togo': 'Lome'}"
      ]
     },
     "execution_count": 92,
     "metadata": {},
     "output_type": "execute_result"
    }
   ],
   "source": [
    "count_cap"
   ]
  },
  {
   "cell_type": "code",
   "execution_count": 37,
   "metadata": {},
   "outputs": [],
   "source": [
    "count_pop = {'Benin': 10000000,'Togo': 9000000, 'Cameroon': 30000000, 'Nigeria': 150000000, 'Rwanda': 12000000, 'Kenya': 47000000}"
   ]
  },
  {
   "cell_type": "code",
   "execution_count": 38,
   "metadata": {},
   "outputs": [
    {
     "data": {
      "text/plain": [
       "{'Benin': 1000000,\n",
       " 'Togo': 9000000,\n",
       " 'Cameroon': 30000000,\n",
       " 'Nigeria': 150000000,\n",
       " 'Rwanda': 12000000,\n",
       " 'Kenya': 47000000}"
      ]
     },
     "execution_count": 38,
     "metadata": {},
     "output_type": "execute_result"
    }
   ],
   "source": [
    "count_pop"
   ]
  },
  {
   "cell_type": "markdown",
   "metadata": {},
   "source": [
    "# b- Adding and Updating items in a dictionary"
   ]
  },
  {
   "cell_type": "code",
   "execution_count": 71,
   "metadata": {},
   "outputs": [
    {
     "data": {
      "text/plain": [
       "{'Name': 'Jean Irenee', 'Age': 26, 'Class': 'First'}"
      ]
     },
     "execution_count": 71,
     "metadata": {},
     "output_type": "execute_result"
    }
   ],
   "source": [
    "Record = {'Name': 'Jean Irenee', 'Age': 7, 'Class': 'First'};\n",
    "Record['Age'] = 20; # update existing entry\n",
    "Record"
   ]
  },
  {
   "cell_type": "code",
   "execution_count": 72,
   "metadata": {},
   "outputs": [
    {
     "data": {
      "text/plain": [
       "{'Name': 'Jean Irenee', 'Age': 26, 'Class': 'First', 'School': 'AIMS'}"
      ]
     },
     "execution_count": 72,
     "metadata": {},
     "output_type": "execute_result"
    }
   ],
   "source": [
    "Record['School'] = \"AIMS\"; # Add new entry\n",
    "Record"
   ]
  },
  {
   "cell_type": "markdown",
   "metadata": {},
   "source": [
    "# c- Deleting items in a dictionary"
   ]
  },
  {
   "cell_type": "code",
   "execution_count": 73,
   "metadata": {},
   "outputs": [
    {
     "data": {
      "text/plain": [
       "{'Age': 26, 'Class': 'First', 'School': 'AIMS'}"
      ]
     },
     "execution_count": 73,
     "metadata": {},
     "output_type": "execute_result"
    }
   ],
   "source": [
    "del Record['Name']; # remove entry with key ’Name’\n",
    "Record"
   ]
  },
  {
   "cell_type": "code",
   "execution_count": 75,
   "metadata": {},
   "outputs": [
    {
     "data": {
      "text/plain": [
       "{}"
      ]
     },
     "execution_count": 75,
     "metadata": {},
     "output_type": "execute_result"
    }
   ],
   "source": [
    "Record.clear(); # remove all entries in dict\n",
    "Record"
   ]
  },
  {
   "cell_type": "markdown",
   "metadata": {},
   "source": [
    "# d- Built-in Dictionary Functions and Methods:\n",
    "\n",
    "Let dict, dict1 and dict2 be three defined  dictionaries\n",
    "\n",
    "-  Function related to Dictionary itself\n",
    "    - cmp(dict1, dict2): Compares elements of both dict.\n",
    "    - len(dict): Gives the total length of the dictionary.\n",
    "    - str(dict): Produces a printable string representation of a dictionary.\n",
    "- Function related to item of Dictionary\n",
    "    - dict.clear(): Removes all elements of dictionary dictionary\n",
    "    - dict.copy(): Returns a shallow copy of dictionary dictionary\n",
    "    - dict.fromkeys(): Create a new dictionary with keys from seq and values set to value.\n",
    "    - dict.get(key, default=None): For key key, returns value or default if key not in dictionary.\n",
    "    - dict.has key(key): Returns true if key in dictionary dict, false otherwise\n",
    "    - dict.items(): Returns a list of dict’s (key, value) tuple pairs\n",
    "    - dict.keys(): Returns list of dictionary dict’s keys\n",
    "    - del dict[key]: delete entry with key key\n",
    "    - dict.update(dict2): Adds dictionary dict2’s key-values pairs to dict\n",
    "    - dict.values(): Returns list of dictionary dict’s values\n",
    "    \n",
    "\n",
    "\n",
    "\n",
    "\n"
   ]
  },
  {
   "cell_type": "code",
   "execution_count": null,
   "metadata": {},
   "outputs": [],
   "source": []
  },
  {
   "cell_type": "markdown",
   "metadata": {},
   "source": [
    "# e- Traversing a dictionary with a for loop"
   ]
  },
  {
   "cell_type": "code",
   "execution_count": 119,
   "metadata": {},
   "outputs": [
    {
     "name": "stdout",
     "output_type": "stream",
     "text": [
      "1 :  one\n",
      "two :  2\n",
      "(1, 3) :  A key can be a tuple\n"
     ]
    }
   ],
   "source": [
    "D = { 1: \"one\", \"two\": 2, (1, 3): \"A key can be a tuple\"}\n",
    "for keyey in D:\n",
    "    print(keyey, \": \", D[keyey]) # indentation"
   ]
  },
  {
   "cell_type": "markdown",
   "metadata": {},
   "source": [
    "<b>Turning Keys Into Values and Vice Versa</b>\n",
    "Suppose you have a dictionary and for some reason need to turn keys into values and vice versa. In this situation, you can use a for loop to iterate through the dictionary and build the new dictionary by using the keys as values and vice versa:\n"
   ]
  },
  {
   "cell_type": "code",
   "execution_count": null,
   "metadata": {},
   "outputs": [],
   "source": [
    "a_dict = {'one': 1, 'two': 2, 'thee': 3, 'four': 4}\n",
    "new_dict = {}\n",
    "\n",
    "\n",
    "\n",
    "for key, value in a_dict.items():\n",
    "    new_dict[value] = key\n",
    "new_dict"
   ]
  },
  {
   "cell_type": "markdown",
   "metadata": {},
   "source": [
    "<b> Exercise </b>\n",
    "\n",
    "Write a Python program to count the number of characters (character frequency) in a word enter by a user.\n",
    "\n",
    "For example,if the user enter the word <font color = red> google  </font> \n",
    "\n",
    "the output should be <font color = red> {'g': 2, 'o': 2, 'l': 1, 'e': 1} </font>\n"
   ]
  },
  {
   "cell_type": "code",
   "execution_count": 126,
   "metadata": {},
   "outputs": [
    {
     "name": "stdout",
     "output_type": "stream",
     "text": [
      "Enter a string: google\n",
      "{'o': 2, 'e': 1, 'g': 2, 'l': 1}\n"
     ]
    }
   ],
   "source": [
    "s =  input(\"Enter a string: \")\n",
    "\n",
    "d =  set(s)#convert the string s into a set of induvidual characters\n",
    "\n",
    "result = {}# create empty dictionary\n",
    "\n",
    "for key in d:# loop over the characters in the set d\n",
    "    value =  s.count(key)#number of time key appears in s\n",
    "    result[key] = value# add key:value to dictionary result\n",
    "print(result)"
   ]
  },
  {
   "cell_type": "code",
   "execution_count": 78,
   "metadata": {},
   "outputs": [
    {
     "name": "stdout",
     "output_type": "stream",
     "text": [
      "Enter your wordgoogle\n"
     ]
    },
    {
     "data": {
      "text/plain": [
       "{'g': 2, 'o': 2, 'l': 1, 'e': 1}"
      ]
     },
     "execution_count": 78,
     "metadata": {},
     "output_type": "execute_result"
    }
   ],
   "source": [
    "str1 = input('Enter your word')\n",
    "Num_Char = {}\n",
    "for n in str1:\n",
    "    keys = Num_Char.keys()\n",
    "    if n in keys:\n",
    "        Num_Char[n] += 1\n",
    "    else:\n",
    "        Num_Char[n] = 1\n",
    "Num_Char"
   ]
  },
  {
   "cell_type": "markdown",
   "metadata": {},
   "source": [
    "## 4- Defining Functions in python\n",
    "# 4.1. lambda functions \n",
    "\n",
    "Python provides the keyword lambda which is used to create anonymous functions. These are functions assigned to variables and they are generally short functions. In the case of lambda, usually, one liners. The syntax of the lambda statement is:\n",
    "\n",
    "$$ \\text{varname = lambda variables: function_statement} $$\n",
    "\n",
    "Examples are:"
   ]
  },
  {
   "cell_type": "code",
   "execution_count": 82,
   "metadata": {},
   "outputs": [
    {
     "name": "stdout",
     "output_type": "stream",
     "text": [
      "f(1) = 4\n",
      "g(1,2) = 1\n"
     ]
    }
   ],
   "source": [
    "f = lambda x: x**2 + 2*x + 1\n",
    "g = lambda x,y : x**y\n",
    "sign = lambda x: 1 if x > 0 else -1 if x < 0 else 0\n",
    "x = 1\n",
    "y = 2\n",
    "f_x = f(x)\n",
    "g_xy = g(x,y)\n",
    "sign_x = sign(x)\n",
    "\n",
    "# print('f({}) = {}'.format(x,f_x))\n",
    "# print('g({},{}) = {}'.format(x,y,g_xy))"
   ]
  },
  {
   "cell_type": "code",
   "execution_count": 127,
   "metadata": {},
   "outputs": [
    {
     "data": {
      "text/plain": [
       "1021060"
      ]
     },
     "execution_count": 127,
     "metadata": {},
     "output_type": "execute_result"
    }
   ],
   "source": [
    "h = lambda x,y,u : x**3 + u**3+ y*3 + x*y*u\n",
    "h(10,20,100)"
   ]
  },
  {
   "cell_type": "markdown",
   "metadata": {},
   "source": [
    "The expression used inside the sign function is an example or a conditional expression or a ternary operator. This evaluates x and returns 1 if x > 0 if not it goes into the else expression where we have another ternary operator that test whether X < 0. \n",
    "\n",
    "# 4.2. Complex functions \n",
    "More complex functions are defined using python's <font color = red> def  </font> statement. <font color = red> def  </font> has the following syntax:\n",
    "$$ \\text{def funcname(var_list):} $$\n",
    "$$ \\text{statement_1} $$\n",
    "$$ \\text{statement_2} $$\n",
    "$$ \\cdots \\text{       } $$\n",
    "$$ \\quad\\text{return statement} $$\n",
    "\n",
    "<font color = red> def  </font>  is a block statement. This means the rules of working with python blocks apply. The def statement is part of the block heading which ends in a colon. The body of the block is indented. The return statement transfers control back to the calling function. The return statement can be just the return statement or return followed by an object that is returned as the result of the function evaluation. Example:\n",
    "\n"
   ]
  },
  {
   "cell_type": "code",
   "execution_count": 68,
   "metadata": {},
   "outputs": [],
   "source": [
    "def f(x):\n",
    "    y = x**2 + 2*x +1\n",
    "    return y\n",
    "\n",
    "def g(x):\n",
    "    return x**2 + 2*x +1\n",
    "\n",
    "def h(x,y):\n",
    "    return x**y\n",
    "\n",
    "def sign(x):\n",
    "    if x > 0:\n",
    "        return 1\n",
    "    elif x < 0:\n",
    "        return -1\n",
    "    else:\n",
    "        return 0"
   ]
  },
  {
   "cell_type": "code",
   "execution_count": 69,
   "metadata": {},
   "outputs": [
    {
     "data": {
      "text/plain": [
       "9"
      ]
     },
     "execution_count": 69,
     "metadata": {},
     "output_type": "execute_result"
    }
   ],
   "source": [
    "def f(t):\n",
    "    return t**2\n",
    "f(3)"
   ]
  },
  {
   "cell_type": "code",
   "execution_count": 71,
   "metadata": {},
   "outputs": [
    {
     "data": {
      "text/plain": [
       "141.29999999999998"
      ]
     },
     "execution_count": 71,
     "metadata": {},
     "output_type": "execute_result"
    }
   ],
   "source": [
    "def disk_area(radius, hight):\n",
    "     return 3.14 * radius * radius*hight\n",
    "    \n",
    "disk_area(3,5)\n",
    "#disk_area(4)"
   ]
  },
  {
   "cell_type": "code",
   "execution_count": 4,
   "metadata": {},
   "outputs": [],
   "source": [
    "aa = disk_area(4)"
   ]
  },
  {
   "cell_type": "markdown",
   "metadata": {},
   "source": [
    "<b> Exercise</b> (Bissection method)\n",
    "\n",
    "Given the following function $ f(x) = x^3 -3x - 5;$ let $x_0 \\in [a,b]=[-10,10]$ be the solution of the equation $f(x) = 0$. \n",
    "\n",
    "- Write a function named Bissection1 that return an approximation $\\bar{x}$ of $x_0$ such that $$ \\mid \\bar{x} - x_0 \\mid \\leq \\epsilon, $$\n",
    "for a given parameter, $\\epsilon>0$.\n",
    "\n",
    "- Write the function named Bissection2 that complete the same task but has as parameters $f,a,b,\\epsilon$."
   ]
  },
  {
   "cell_type": "code",
   "execution_count": 74,
   "metadata": {},
   "outputs": [],
   "source": [
    "# def f(x):\n",
    "#     return x**3 - 3*x -5\n",
    "\n",
    "def Bissection1(epsilon):\n",
    "    a = -10\n",
    "    b = 10\n",
    "    f = lambda x: x**3 - 3*x -5\n",
    "    \n",
    "    if f(a)*f(b) >= 0:\n",
    "        print('Bissection Method Fails')\n",
    "    else:\n",
    "        while abs(b-a) > epsilon:\n",
    "            c = (a+b)/2 #the midpoint\n",
    "            \n",
    "            if f(c) == 0:\n",
    "                return c\n",
    "#                 print('The exact solution is: ',c)\n",
    "            elif f(a)*f(c) < 0:\n",
    "                b = c\n",
    "            else:\n",
    "                a = c\n",
    "        return c\n",
    "#         print('The approximate solution of x0 is :',c)\n"
   ]
  },
  {
   "cell_type": "code",
   "execution_count": 75,
   "metadata": {},
   "outputs": [
    {
     "data": {
      "text/plain": [
       "2.279024124145508"
      ]
     },
     "execution_count": 75,
     "metadata": {},
     "output_type": "execute_result"
    }
   ],
   "source": [
    "Bissection1(10**(-5))"
   ]
  },
  {
   "cell_type": "code",
   "execution_count": 77,
   "metadata": {},
   "outputs": [],
   "source": [
    "# def f(x):\n",
    "#     return x**3 - 3*x -5\n",
    "\n",
    "def Bissection2(epsilon, a, b, f):\n",
    "    if f(a)*f(b) >= 0:\n",
    "        print('Bissection Method Fails')\n",
    "    else:\n",
    "        while abs(b-a) > epsilon:\n",
    "            c = (a+b)/2 #the midpoint\n",
    "            \n",
    "            if f(c) == 0:\n",
    "                return c\n",
    "#                 print('The exact solution is: ',c)\n",
    "            elif f(a)*f(c) < 0:\n",
    "                b = c\n",
    "            else:\n",
    "                a = c\n",
    "        return c\n",
    "#         print('The approximate solution of x0 is :',c)\n"
   ]
  },
  {
   "cell_type": "code",
   "execution_count": 80,
   "metadata": {},
   "outputs": [
    {
     "name": "stdout",
     "output_type": "stream",
     "text": [
      "2.279541015625\n"
     ]
    }
   ],
   "source": [
    "f = lambda x: x**3 - 3*x -5\n",
    "a = -5\n",
    "b = 7\n",
    "epsilon = 0.001\n",
    "x_bar = Bissection2(epsilon, a, b, f)\n",
    "print(x_bar)"
   ]
  },
  {
   "cell_type": "markdown",
   "metadata": {},
   "source": [
    "# <b>write a function, called num_char, that takes a name as input and return the number of characters of the inouted name.</b>"
   ]
  },
  {
   "cell_type": "code",
   "execution_count": null,
   "metadata": {},
   "outputs": [],
   "source": [
    "# def Bissection1(epsilon):\n",
    "#     f = lambda x : x**3 -3*x -5\n",
    "#     a=-10\n",
    "#     b=10\n",
    "#     if f(a)*f(b)>=0:\n",
    "#         print(\"Dichotomy Method fails\")\n",
    "#     else:\n",
    "#         while abs(b-a) > epsilon:\n",
    "#             c=(b+a)/2\n",
    "#             if f(c)==0:\n",
    "#                 return c\n",
    "#             elif f(a)*f(c)<0:\n",
    "#                 b=c\n",
    "#             else:\n",
    "#                 a=c\n",
    "#     return c"
   ]
  },
  {
   "cell_type": "markdown",
   "metadata": {},
   "source": [
    "# 4.3. Returning Multiple Values functions\n",
    "<font color = red> def  </font> has the following syntax to return multiple values:\n",
    "$$ \\text{def funcname(var_list):} $$\n",
    "$$ \\text{statement_1} $$\n",
    "$$ \\text{statement_2} $$\n",
    "$$ \\cdots \\text{       } $$\n",
    "$$ \\qquad\\qquad\\qquad\\qquad\\qquad\\text{return output_1, output_2, }\\cdots,\\text{output_n} $$\n"
   ]
  },
  {
   "cell_type": "code",
   "execution_count": null,
   "metadata": {},
   "outputs": [],
   "source": []
  },
  {
   "cell_type": "code",
   "execution_count": 1,
   "metadata": {},
   "outputs": [
    {
     "name": "stdout",
     "output_type": "stream",
     "text": [
      "geeksforgeeks 25\n"
     ]
    }
   ],
   "source": [
    "# A Python program to return multiple  \n",
    "# values from a method using tuple \n",
    "  \n",
    "# This function returns a tuple \n",
    "def fun(n): \n",
    "    string = \"geeksforgeeks\"\n",
    "    x   = 20 +n\n",
    "    return string, x;  # Return tuple, we could also \n",
    "                    # write (str, x) \n",
    "  \n",
    "# Driver code to test above method \n",
    "s, x_0 = fun(5) # Assign returned tuple \n",
    "#print(s) \n",
    "#print(x_0) \n",
    "print(s, x_0)\n",
    "\n"
   ]
  },
  {
   "cell_type": "markdown",
   "metadata": {},
   "source": [
    "<b> Exercise</b> (Bissection method)\n",
    "\n",
    "Considering the bissection exercise above, write a function named Bissection3 that takes the same input as Bissection2 and return the approximation value $\\bar{x}$ and its image $f(\\bar{x})$."
   ]
  },
  {
   "cell_type": "code",
   "execution_count": 9,
   "metadata": {},
   "outputs": [
    {
     "name": "stdout",
     "output_type": "stream",
     "text": [
      "2.279541015625 , 0.006572440863237716\n"
     ]
    }
   ],
   "source": [
    "def Bissection3(epsilon, a, b, f):\n",
    "    if f(a)*f(b) >= 0:\n",
    "        print('Bissection Method Fails')\n",
    "    else:\n",
    "        while abs(b-a) > epsilon:\n",
    "            c = (a+b)/2 #the midpoint\n",
    "            \n",
    "            if f(c) == 0:\n",
    "                return c, f(c)\n",
    "#                 print('The exact solution is: ',c)\n",
    "            elif f(a)*f(c) < 0:\n",
    "                b = c\n",
    "            else:\n",
    "                a = c\n",
    "        return c, f(c)\n",
    "    \n",
    "f = lambda x: x**3 - 3*x -5\n",
    "a = -5\n",
    "b = 7\n",
    "epsilon = 0.001\n",
    "x_bar, f_xbar = Bissection3(epsilon, a, b, f)\n",
    "print(x_bar, ',', f_xbar)"
   ]
  },
  {
   "cell_type": "markdown",
   "metadata": {},
   "source": [
    " write a function, called sum_prod, that takes $n$ and $M$ as input and return return A and B given by $$A = \\sum_{i=m}^{n} i, \\quad B = \\prod_{i=m}^{n} i $$\n",
    "    \n",
    "    \n",
    "\n"
   ]
  },
  {
   "cell_type": "code",
   "execution_count": 12,
   "metadata": {},
   "outputs": [
    {
     "name": "stdout",
     "output_type": "stream",
     "text": [
      "sum is  3  and product is  2\n"
     ]
    }
   ],
   "source": [
    "def sum_prod(m,n):\n",
    "    a=0\n",
    "    b=1\n",
    "    for i in range(m,n+1):\n",
    "        a+=i\n",
    "        b*=i\n",
    "    return a,b\n",
    "\n",
    "x,y=sum_prod(1,2)\n",
    "print('sum is ',x,' and product is ',y )"
   ]
  },
  {
   "cell_type": "markdown",
   "metadata": {},
   "source": [
    "# 4.3. functions with default values\n",
    "\n",
    "Keyword arguments allow you to specify default values. Default values are evaluated when the function is defined, not when it is called. For example,"
   ]
  },
  {
   "cell_type": "code",
   "execution_count": 17,
   "metadata": {},
   "outputs": [
    {
     "name": "stdout",
     "output_type": "stream",
     "text": [
      "28\n"
     ]
    }
   ],
   "source": [
    "def P(t,x = 2):\n",
    "    y = x**2 + 1 + t\n",
    "    return y\n",
    "\n",
    "aa = P(2,5)\n",
    "print(aa)"
   ]
  },
  {
   "cell_type": "code",
   "execution_count": 15,
   "metadata": {},
   "outputs": [
    {
     "data": {
      "text/plain": [
       "4"
      ]
     },
     "execution_count": 15,
     "metadata": {},
     "output_type": "execute_result"
    }
   ],
   "source": [
    "P(2)"
   ]
  },
  {
   "cell_type": "markdown",
   "metadata": {},
   "source": [
    "<b>This can be problematic when using mutable types (e.g. dictionary or list) and modifying them in the function body, since the modifications will be persistent across invocations of the function.</b>"
   ]
  },
  {
   "cell_type": "code",
   "execution_count": 29,
   "metadata": {},
   "outputs": [],
   "source": [
    "def add_to_dict(args={'a': 1, 'b': 2}):\n",
    "    for i in args.keys():\n",
    "        args[i] += 1\n",
    "    print(args)\n",
    "    \n",
    "#add_to_dict()    "
   ]
  },
  {
   "cell_type": "code",
   "execution_count": 37,
   "metadata": {},
   "outputs": [
    {
     "name": "stdout",
     "output_type": "stream",
     "text": [
      "{'a': 2, 'b': 3}\n"
     ]
    }
   ],
   "source": [
    "add_to_dict() "
   ]
  },
  {
   "cell_type": "markdown",
   "metadata": {},
   "source": [
    "<b>Shallow copy vs Deep copy of mutable variable</b>"
   ]
  },
  {
   "cell_type": "code",
   "execution_count": 24,
   "metadata": {},
   "outputs": [
    {
     "name": "stdout",
     "output_type": "stream",
     "text": [
      "7\n",
      "[1, 4, 5, 9]\n",
      "5\n"
     ]
    }
   ],
   "source": [
    "#shallow copy\n",
    "L1 = [1,4,7,9]\n",
    "print(L1[2])\n",
    "L2 = L1\n",
    "L2[2] = 5\n",
    "print(L2)\n",
    "print(L1[2])"
   ]
  },
  {
   "cell_type": "code",
   "execution_count": 25,
   "metadata": {},
   "outputs": [
    {
     "name": "stdout",
     "output_type": "stream",
     "text": [
      "7\n"
     ]
    }
   ],
   "source": [
    "#deep copy\n",
    "L1 = [1,4,7,9]\n",
    "L2 = L1.copy()\n",
    "L2[2] = 5\n",
    "#print(L2)\n",
    "print(L1[2])"
   ]
  },
  {
   "cell_type": "code",
   "execution_count": 38,
   "metadata": {},
   "outputs": [
    {
     "name": "stdout",
     "output_type": "stream",
     "text": [
      "{'a': 2, 'b': 3}\n"
     ]
    }
   ],
   "source": [
    "def add_to_dict1(args={'a': 1, 'b': 2}):\n",
    "    dic = args.copy()\n",
    "    for i in dic.keys():\n",
    "        dic[i] += 1\n",
    "    print(dic)\n",
    "    \n",
    "add_to_dict1()   "
   ]
  },
  {
   "cell_type": "code",
   "execution_count": 39,
   "metadata": {},
   "outputs": [
    {
     "name": "stdout",
     "output_type": "stream",
     "text": [
      "{'a': 2, 'b': 3}\n"
     ]
    }
   ],
   "source": [
    "add_to_dict1()   "
   ]
  },
  {
   "cell_type": "markdown",
   "metadata": {},
   "source": [
    "## 4.4. Passing by value\n",
    "\n",
    "If the value passed in a function is immutable, the function does not modify the caller’s variable. If the value is mutable, the function may modify the caller’s variable in-place:\n"
   ]
  },
  {
   "cell_type": "code",
   "execution_count": 47,
   "metadata": {},
   "outputs": [],
   "source": [
    "def try_to_modify(x, y, z):\n",
    "    x = 23\n",
    "    y.append(42)\n",
    "    z = [99] # new reference\n",
    "    print(x)\n",
    "    print(y)\n",
    "    print(z)"
   ]
  },
  {
   "cell_type": "code",
   "execution_count": 48,
   "metadata": {},
   "outputs": [],
   "source": [
    "a = 77\n",
    "b=[99]\n",
    "c=28\n",
    "\n",
    "# prop 1: 77,[99,42], [99]\n",
    "\n",
    "# prop 2: 23,[99,42], [99]"
   ]
  },
  {
   "cell_type": "code",
   "execution_count": 49,
   "metadata": {},
   "outputs": [
    {
     "name": "stdout",
     "output_type": "stream",
     "text": [
      "23\n",
      "[99, 42]\n",
      "[99]\n"
     ]
    }
   ],
   "source": [
    "a = 77    # immutable variable\n",
    "b = [99]  # mutable variable\n",
    "c = [28]\n",
    "try_to_modify(a, b, c)"
   ]
  },
  {
   "cell_type": "code",
   "execution_count": 52,
   "metadata": {},
   "outputs": [
    {
     "data": {
      "text/plain": [
       "[99, 42]"
      ]
     },
     "execution_count": 52,
     "metadata": {},
     "output_type": "execute_result"
    }
   ],
   "source": [
    "b"
   ]
  },
  {
   "cell_type": "code",
   "execution_count": 53,
   "metadata": {},
   "outputs": [
    {
     "data": {
      "text/plain": [
       "[28]"
      ]
     },
     "execution_count": 53,
     "metadata": {},
     "output_type": "execute_result"
    }
   ],
   "source": [
    "c"
   ]
  },
  {
   "cell_type": "code",
   "execution_count": null,
   "metadata": {},
   "outputs": [],
   "source": []
  },
  {
   "cell_type": "code",
   "execution_count": 51,
   "metadata": {},
   "outputs": [
    {
     "name": "stdout",
     "output_type": "stream",
     "text": [
      "a =  77\n",
      "b =  [99, 42]\n",
      "c =  [28]\n"
     ]
    }
   ],
   "source": [
    "print('a = ', a)\n",
    "\n",
    "print('b = ',b)\n",
    "\n",
    "print('c = ',c)"
   ]
  },
  {
   "cell_type": "code",
   "execution_count": null,
   "metadata": {},
   "outputs": [],
   "source": []
  },
  {
   "cell_type": "markdown",
   "metadata": {},
   "source": [
    "Functions have a local variable table called a local namespace.\n",
    "\n",
    "The variable x only exists within the function try_to_modify."
   ]
  },
  {
   "cell_type": "markdown",
   "metadata": {},
   "source": [
    "# 4.5 Global variables\n",
    "\n",
    "Variables declared outside the function can be referenced within the function:\n"
   ]
  },
  {
   "cell_type": "code",
   "execution_count": 68,
   "metadata": {},
   "outputs": [],
   "source": [
    "z = 6\n",
    "def f1(x):\n",
    "    global z\n",
    "    #y = x**2 + z\n",
    "    z = x\n",
    "    return z\n",
    "\n"
   ]
  },
  {
   "cell_type": "code",
   "execution_count": 69,
   "metadata": {},
   "outputs": [
    {
     "data": {
      "text/plain": [
       "2"
      ]
     },
     "execution_count": 69,
     "metadata": {},
     "output_type": "execute_result"
    }
   ],
   "source": [
    "f1(2)\n",
    "\n"
   ]
  },
  {
   "cell_type": "code",
   "execution_count": 70,
   "metadata": {},
   "outputs": [
    {
     "data": {
      "text/plain": [
       "2"
      ]
     },
     "execution_count": 70,
     "metadata": {},
     "output_type": "execute_result"
    }
   ],
   "source": [
    "z"
   ]
  },
  {
   "cell_type": "markdown",
   "metadata": {},
   "source": [
    "<b>But these “global” variables cannot be modified within the function, unless declared global in the function.</b>"
   ]
  },
  {
   "cell_type": "code",
   "execution_count": 63,
   "metadata": {},
   "outputs": [
    {
     "name": "stdout",
     "output_type": "stream",
     "text": [
      "x is 5\n"
     ]
    }
   ],
   "source": [
    "x = 10\n",
    "def setx(y):\n",
    "     x = y\n",
    "     print('x is %d' % x)\n",
    "    \n",
    "setx(5)"
   ]
  },
  {
   "cell_type": "code",
   "execution_count": 43,
   "metadata": {},
   "outputs": [
    {
     "name": "stdout",
     "output_type": "stream",
     "text": [
      "10\n"
     ]
    }
   ],
   "source": [
    "print(x)"
   ]
  },
  {
   "cell_type": "code",
   "execution_count": 47,
   "metadata": {},
   "outputs": [
    {
     "name": "stdout",
     "output_type": "stream",
     "text": [
      "x is 5\n"
     ]
    }
   ],
   "source": [
    "x=10\n",
    "def setx1(y):\n",
    "    global x\n",
    "    x = y\n",
    "    print('x is %d' % x)\n",
    "    \n",
    "setx1(5)\n",
    "        "
   ]
  },
  {
   "cell_type": "code",
   "execution_count": 48,
   "metadata": {},
   "outputs": [
    {
     "name": "stdout",
     "output_type": "stream",
     "text": [
      "5\n"
     ]
    }
   ],
   "source": [
    "print(x)"
   ]
  },
  {
   "cell_type": "markdown",
   "metadata": {},
   "source": [
    "\n",
    "# Exercise 1\n",
    "Write a shutting down program:\n",
    "\n",
    "First, define a function, shut_down, that takes one argument s. Then, if the shut_down function receives an s equal to \"yes\", it should return \"Shutting down\" Alternatively, elif s is equal to \"no\", then the function should return \"Shutdown aborted\". Finally, if shut_down gets anything other than those inputs, the function should return \"Sorry\"."
   ]
  },
  {
   "cell_type": "code",
   "execution_count": 3,
   "metadata": {},
   "outputs": [],
   "source": [
    "def shut_down(s):\n",
    "    if s=='yes':\n",
    "        return 'shutting down'\n",
    "    elif s== 'no':\n",
    "        return 'shutdown aborted'\n",
    "    else:\n",
    "        return 'sorry'"
   ]
  },
  {
   "cell_type": "code",
   "execution_count": 4,
   "metadata": {},
   "outputs": [
    {
     "data": {
      "text/plain": [
       "'shutting down'"
      ]
     },
     "execution_count": 4,
     "metadata": {},
     "output_type": "execute_result"
    }
   ],
   "source": [
    "shut_down('yes')"
   ]
  },
  {
   "cell_type": "code",
   "execution_count": 6,
   "metadata": {},
   "outputs": [
    {
     "data": {
      "text/plain": [
       "'sorry'"
      ]
     },
     "execution_count": 6,
     "metadata": {},
     "output_type": "execute_result"
    }
   ],
   "source": [
    "shut_down('hove')"
   ]
  },
  {
   "cell_type": "markdown",
   "metadata": {},
   "source": [
    "# Exercise 2\n",
    "First, define a function called distance_from_zero, with one argument (choose any argument name you like). If the type of the argument is either int or float, the function should return the absolute value of the function input. Otherwise, the function should return \"Nope\". Check if it works calling the function with -5.6 and \"what?\"."
   ]
  },
  {
   "cell_type": "code",
   "execution_count": null,
   "metadata": {},
   "outputs": [],
   "source": [
    "def distance_from_zero(x):\n",
    "    if type(x)==int or type(x)==float:\n",
    "        return abs(x)\n",
    "    else:\n",
    "        return 'Nope'"
   ]
  },
  {
   "cell_type": "markdown",
   "metadata": {},
   "source": [
    "# Exercise 3\n",
    "Follow the stpes:\n",
    "\n",
    "First, define a function called cube that takes an argument called number.\n",
    "Make that function return the cube of that number (i.e. that number multiplied by itself and multiplied by itself once again).\n",
    "Define a second function called by_three that takes an argument called number. if that number is divisible by 3, by_threeshould call cube(number) and return its result. Otherwise, by_three should return False. -Check if it works."
   ]
  },
  {
   "cell_type": "code",
   "execution_count": 13,
   "metadata": {},
   "outputs": [
    {
     "data": {
      "text/plain": [
       "27"
      ]
     },
     "execution_count": 13,
     "metadata": {},
     "output_type": "execute_result"
    }
   ],
   "source": [
    "def cube(num):\n",
    "    return num**3\n",
    "\n",
    "def by_three(number):\n",
    "    if number%3==0:\n",
    "        return cube(number)\n",
    "    else:\n",
    "        return False\n",
    "\n",
    "by_three(3)\n"
   ]
  },
  {
   "cell_type": "markdown",
   "metadata": {},
   "source": [
    "# Exercise 4\n",
    "Write a Python function that accepts a string and calculate the number of upper case letters and lower case letters. Check for 'The quick Brow Fox and 'I am proud of Mr McDonald'."
   ]
  },
  {
   "cell_type": "code",
   "execution_count": 15,
   "metadata": {},
   "outputs": [
    {
     "data": {
      "text/plain": [
       "{'up': 7, 'lc': 31}"
      ]
     },
     "execution_count": 15,
     "metadata": {},
     "output_type": "execute_result"
    }
   ],
   "source": [
    "def characterCase(S):\n",
    "    result =  {\"up\":0,\"lc\":0}\n",
    "    for c in S:\n",
    "        if c.isupper() == True:\n",
    "            result[\"up\"] += 1\n",
    "        elif c.islower():\n",
    "            result[\"lc\"] += 1\n",
    "    return result\n",
    "characterCase(\"The quick Brow Fox and 'I am proud of Mr McDonald\")"
   ]
  },
  {
   "cell_type": "markdown",
   "metadata": {},
   "source": [
    "# Exercise 5\n",
    "Write a Python function to calculate the factorial of a number (a non-negative integer). The function accepts the number as an argument."
   ]
  },
  {
   "cell_type": "code",
   "execution_count": 16,
   "metadata": {},
   "outputs": [
    {
     "data": {
      "text/plain": [
       "6"
      ]
     },
     "execution_count": 16,
     "metadata": {},
     "output_type": "execute_result"
    }
   ],
   "source": [
    "def factorial(n):\n",
    "    \n",
    "    if n ==0 or n ==1:\n",
    "        return 1\n",
    "    else:\n",
    "        return n * factorial(n-1)\n",
    "    \n",
    "factorial(3)"
   ]
  },
  {
   "cell_type": "markdown",
   "metadata": {},
   "source": [
    "# Exercise 6\n",
    "\n",
    "Write a Python function called <b> InRange </b>to check whether a number is in a given range. For example for $[0,100]$, the output of 20 should appear: 20 is in the range. in addition, if the number is outside the range, print the following message: The number is outside the given range.\n"
   ]
  },
  {
   "cell_type": "code",
   "execution_count": 15,
   "metadata": {},
   "outputs": [
    {
     "data": {
      "text/plain": [
       "'9 is in the range'"
      ]
     },
     "execution_count": 15,
     "metadata": {},
     "output_type": "execute_result"
    }
   ],
   "source": [
    "def InRange(n,r):\n",
    "    if n>=r[0] and n<=r[1]:\n",
    "        return '{} is in the range'.format(n)\n",
    "    return 'The number is outside the given range.'\n",
    "\n",
    "InRange(9,[0,100])     \n"
   ]
  },
  {
   "cell_type": "markdown",
   "metadata": {},
   "source": [
    "# Exercise 7\n",
    "Write a Python function called <b>IsPrime</b> that takes a positive integer as a parameter and check the number is prime or not.\n",
    "\n",
    "Note : A prime number (or a prime) is a natural number greater than 1 and that has no positive divisors other than 1 and itself."
   ]
  },
  {
   "cell_type": "code",
   "execution_count": 28,
   "metadata": {},
   "outputs": [
    {
     "data": {
      "text/plain": [
       "'2 is a prime'"
      ]
     },
     "execution_count": 28,
     "metadata": {},
     "output_type": "execute_result"
    }
   ],
   "source": [
    "def IsPrime(n):\n",
    "    \n",
    "    if n==1:\n",
    "        return \"%d is a not prime\" %n\n",
    "    else:\n",
    "        \n",
    "    \n",
    "        for i in range(2,n):\n",
    "\n",
    "            if n%i ==0:\n",
    "                return \"%d is a not prime\" %n\n",
    "\n",
    "        return \"%d is a prime\" %n\n",
    "        \n",
    "IsPrime(2)"
   ]
  },
  {
   "cell_type": "markdown",
   "metadata": {},
   "source": [
    "# Exercise 8\n",
    "Write a Python function called <b>EvenNum</b> that  returns the list of even numbers from a given list."
   ]
  },
  {
   "cell_type": "code",
   "execution_count": 36,
   "metadata": {},
   "outputs": [
    {
     "data": {
      "text/plain": [
       "[0, 2, 8, 2, 10]"
      ]
     },
     "execution_count": 36,
     "metadata": {},
     "output_type": "execute_result"
    }
   ],
   "source": [
    "# def EvenNum(list1):\n",
    "#     list2=[]\n",
    "#     for i in list1:\n",
    "#         if i%2==0:\n",
    "#             list2.append(i)\n",
    "#     return list2\n",
    "\n",
    "\n",
    "def EvenNum(list1):\n",
    "    \n",
    "    return [i for i in list1 if i%2==0]\n",
    "\n",
    "EvenNum([0,2,8,2,10,11,13])"
   ]
  },
  {
   "cell_type": "markdown",
   "metadata": {},
   "source": [
    "# Exercise 9\n",
    "\n",
    "Write a function, named Sum_nm, that takes n,m as input and return S given by $$S = \\sum_{i=m}^{n} i^2 $$"
   ]
  },
  {
   "cell_type": "code",
   "execution_count": 92,
   "metadata": {},
   "outputs": [],
   "source": [
    "def sum_nm(m,n):\n",
    "    som=0\n",
    "    for i in range(m,n+1):\n",
    "        som=som+i**2\n",
    "        print(i)\n",
    "    return som\n",
    "\n",
    "    "
   ]
  },
  {
   "cell_type": "markdown",
   "metadata": {},
   "source": [
    "# Exercise 10\n",
    "\n",
    "Write a function called <b>rectangle</b> that takes two integers $m$ and $n$ as arguments and prints\n",
    "out an $m\\times n$ box consisting of asterisks. Shown below is the output of rectangle(3,4)\n",
    "\n",
    "\\begin{matrix}\n",
    "*& * & * & * \\\\\n",
    "*&   &   & *\\\\\n",
    "*& * & * & *\n",
    "\\end{matrix}"
   ]
  },
  {
   "cell_type": "code",
   "execution_count": 37,
   "metadata": {},
   "outputs": [],
   "source": [
    "def rectangle(m,n):\n",
    "    print(\"*\" * m)\n",
    "    for i in range(m-2):\n",
    "        print(\"*\" + \" \" * (m-2) + \"*\")\n",
    "    print(\"*\" * m)"
   ]
  },
  {
   "cell_type": "code",
   "execution_count": 50,
   "metadata": {},
   "outputs": [
    {
     "name": "stdout",
     "output_type": "stream",
     "text": [
      "****\n",
      "*  *\n",
      "*  *\n",
      "****\n"
     ]
    }
   ],
   "source": [
    "rectangle(4,5)"
   ]
  },
  {
   "cell_type": "markdown",
   "metadata": {},
   "source": [
    "# Exercise 11\n",
    "\n",
    "Write a function called <b>sum_digits</b> that is given a positive integer $num$ and returns the sum of the\n",
    "digits of $num$."
   ]
  },
  {
   "cell_type": "code",
   "execution_count": 42,
   "metadata": {},
   "outputs": [],
   "source": [
    "def sum_digits(num):\n",
    "    strg = str(num)\n",
    "    s_um = 0\n",
    "    for i in strg:\n",
    "        s_um += int(i)\n",
    "    return s_um"
   ]
  },
  {
   "cell_type": "code",
   "execution_count": 43,
   "metadata": {},
   "outputs": [
    {
     "data": {
      "text/plain": [
       "10"
      ]
     },
     "execution_count": 43,
     "metadata": {},
     "output_type": "execute_result"
    }
   ],
   "source": [
    "sum_digits(1234)"
   ]
  },
  {
   "cell_type": "markdown",
   "metadata": {},
   "source": [
    "# Exercise 12\n",
    "\n",
    "The digital root of a positive number n is obtained as follows: Add up the digits n to get a new number.\n",
    "Add up the digits of that to get another new number. Keep doing this until you get a number\n",
    "that has only one digit. That number is the digital root.\n",
    "\n",
    "For example, if $n = 45893$, we add up the digits to get $$4 + 5 + 8 + 9 + 3 = 29.$$ We then add up\n",
    "the digits of $29$ to get $$2 + 9 = 11.$$ We then add up the digits of $11$ to get $$1 + 1 = 2.$$ Since 2 has\n",
    "only one digit, 2 is our digital root.\n",
    "\n",
    "Write a function called <b>digital_root</b> that returns the digital root of an integer n."
   ]
  },
  {
   "cell_type": "code",
   "execution_count": 44,
   "metadata": {},
   "outputs": [
    {
     "data": {
      "text/plain": [
       "2"
      ]
     },
     "execution_count": 44,
     "metadata": {},
     "output_type": "execute_result"
    }
   ],
   "source": [
    "def sum_digits(num):\n",
    "    strg = str(num)\n",
    "    s_um = 0\n",
    "    for i in strg:\n",
    "        s_um += int(i)\n",
    "    return s_um\n",
    "\n",
    "def digital_root(num):\n",
    "    while len(str(num))!=1:\n",
    "        num=sum_digits(num)\n",
    "    return num\n",
    "\n",
    "digital_root(45893)"
   ]
  },
  {
   "cell_type": "markdown",
   "metadata": {},
   "source": [
    "# Exercise 13\n",
    "\n",
    "Write a function called <b>first_diff</b> that is given two strings and returns the first location in\n",
    "which the strings differ. If the strings are identical, it should return -1."
   ]
  },
  {
   "cell_type": "code",
   "execution_count": 49,
   "metadata": {},
   "outputs": [
    {
     "data": {
      "text/plain": [
       "5"
      ]
     },
     "execution_count": 49,
     "metadata": {},
     "output_type": "execute_result"
    }
   ],
   "source": [
    "def first_diff(s,j):\n",
    "    if len(s)<=len(j):\n",
    "        n= len(s)\n",
    "    else: \n",
    "        n=len(j)\n",
    "    for i in range(n):\n",
    "        if s[i]!=j[i]:\n",
    "            return i\n",
    "    if len(s)==len(j):\n",
    "        return -1\n",
    "    else:\n",
    "        return n\n",
    "first_diff('Angela','Angele')"
   ]
  },
  {
   "cell_type": "markdown",
   "metadata": {},
   "source": [
    "# Exercise 14\n",
    "\n",
    "Write a function called <b>binom</b> that takes two positive integers $n$ and $k$ and returns the binomial coefficient  $$C_k^n= \\dfrac{n!}{k!(n-k)!}$$\n",
    "if $n\\geq k$, otherwise the function should print 'Wrong input! $n$ should be greater or equal to $k$.'"
   ]
  },
  {
   "cell_type": "code",
   "execution_count": null,
   "metadata": {},
   "outputs": [],
   "source": []
  },
  {
   "cell_type": "markdown",
   "metadata": {},
   "source": [
    "# Exercise 15\n",
    "\n",
    "Write a function called <b>number_of_factors</b> that takes a positive integer and returns how many factors the number has; and a list of its factors."
   ]
  },
  {
   "cell_type": "code",
   "execution_count": null,
   "metadata": {},
   "outputs": [],
   "source": []
  },
  {
   "cell_type": "markdown",
   "metadata": {},
   "source": [
    "# Exercise 16.1.\n",
    "\n",
    "Write a function called <b>closest</b> that takes a list of numbers $L$ and a number $n$ and returns\n",
    "the largest element in $L$ that is not larger than $n$. For instance, if $L=[1,6,3,9,11]$ and $n=8$,\n",
    "then the function should return $6$, because $6$ is the closest number in $L$ to $8$ that is not larger than\n",
    "$8$. If L is empty or all of the numbers in L are larger than n then return <b> No value of L is smaller than n</b>."
   ]
  },
  {
   "cell_type": "code",
   "execution_count": null,
   "metadata": {},
   "outputs": [],
   "source": []
  },
  {
   "cell_type": "markdown",
   "metadata": {},
   "source": [
    "# Exercise 16.2.\n",
    "\n",
    "Write a function called <b> sort_ind</b> that takes a non empty and sorted list of numbers $L$ and a number $n$ and return and index $ind$ such that $L.insert(ind,n)$ gives a sorted list. Example: for $L=[2,4,7]$ and $n=5$, <b> sort_ind</b> must return 2 because $L.insert(2,5)$ return $[2,4,5,7]$\n",
    "\n",
    "Do not use the method <b>.sort()</b> or the function <b>sorted()</b>."
   ]
  },
  {
   "cell_type": "code",
   "execution_count": 57,
   "metadata": {},
   "outputs": [
    {
     "name": "stdout",
     "output_type": "stream",
     "text": [
      "[2, 4, 5, 7]\n"
     ]
    }
   ],
   "source": [
    "L=[2,4,7]\n",
    "L.insert(2,5)\n",
    "print(L)"
   ]
  },
  {
   "cell_type": "markdown",
   "metadata": {},
   "source": [
    "# Exercise 16.3.\n",
    "\n",
    "Using the above function <b> sort_ind</b>, write a function called <b>SortList</b> that returns a sorted list of a given list $L$.\n",
    "\n",
    "Do not use the method <b>.sort()</b> or the function <b>sorted()</b>.\n",
    "\n"
   ]
  },
  {
   "cell_type": "code",
   "execution_count": null,
   "metadata": {},
   "outputs": [],
   "source": []
  },
  {
   "cell_type": "markdown",
   "metadata": {},
   "source": [
    "# Exercise 17\n",
    "\n",
    "Write a function called <b>matches</b> that takes two strings as arguments and returns how many\n",
    "matches there are between the strings. A match is where the two strings have the same character\n",
    "at the same index. For instance, <b>'python'</b> and <b>'path'</b> match in the first, third, and\n",
    "fourth characters, so the function should return <b>3</b>."
   ]
  },
  {
   "cell_type": "code",
   "execution_count": 56,
   "metadata": {},
   "outputs": [
    {
     "name": "stdout",
     "output_type": "stream",
     "text": [
      "[1, 2, 3, 4]\n"
     ]
    }
   ],
   "source": [
    "l = [2,3,4]\n",
    "l.insert(0,1)\n",
    "print(l)"
   ]
  },
  {
   "cell_type": "markdown",
   "metadata": {},
   "source": [
    "# Exercise 18\n",
    "\n",
    "Recall that if <b>s</b> is a string, then <b>s.find('a')</b> will find the location of the first a in <b>s</b>. The\n",
    "problem is that it does not find the location of every a. Write a function called <b>findall</b> that\n",
    "given a string and a single character, returns a list containing all of the locations of that character\n",
    "in the string. It should return an empty list if there are no occurrences of the character\n",
    "in the string."
   ]
  },
  {
   "cell_type": "code",
   "execution_count": null,
   "metadata": {},
   "outputs": [],
   "source": []
  },
  {
   "cell_type": "markdown",
   "metadata": {},
   "source": [
    "# Exercise 19\n",
    "\n",
    "Write a function called <b>change_case</b> that given a string, returns a string with each upper\n",
    "case letter replaced by a lower case letter and vice-versa."
   ]
  },
  {
   "cell_type": "code",
   "execution_count": null,
   "metadata": {},
   "outputs": [],
   "source": []
  },
  {
   "cell_type": "markdown",
   "metadata": {},
   "source": [
    "# Exercise 20\n",
    "\n",
    "Write a function called <b>is_sorted</b> that is given a list and returns True if the list is sorted\n",
    "and False otherwise."
   ]
  },
  {
   "cell_type": "code",
   "execution_count": null,
   "metadata": {},
   "outputs": [],
   "source": []
  },
  {
   "cell_type": "markdown",
   "metadata": {},
   "source": [
    "# Exercise 21\n",
    "\n",
    "Write a function called <b>root</b> that is given a positive number $x$ and a positive integer $n$ and returns $x^{1/n}$. In\n",
    "the function definition, set the default value of $n$ to $2$."
   ]
  },
  {
   "cell_type": "code",
   "execution_count": null,
   "metadata": {},
   "outputs": [],
   "source": []
  },
  {
   "cell_type": "markdown",
   "metadata": {},
   "source": [
    "# Exercise 22\n",
    "\n",
    "Write a function called <b>one_away</b> that takes two strings and returns True if the strings are of\n",
    "the same length and differ in exactly one letter, like bike/hike or water/wafer. Otherwise, the function should return False."
   ]
  },
  {
   "cell_type": "code",
   "execution_count": null,
   "metadata": {},
   "outputs": [],
   "source": []
  },
  {
   "cell_type": "markdown",
   "metadata": {},
   "source": [
    "# Exercise 23\n",
    "\n",
    "1. Write a function called <b>primes</b> that is given a positive integer $n$ and returns a list of the first $n$ primes. Let the default value of $n$ be $100$.\n",
    "\n",
    "2. Write the function <b>primes_start</b> by modifying the function above so that there is an optional argument called start that allows the list to start at a value other than 2. The function should return the first n primes that are greater than or equal to start. The default value of start should be 2."
   ]
  },
  {
   "cell_type": "code",
   "execution_count": null,
   "metadata": {},
   "outputs": [],
   "source": []
  },
  {
   "cell_type": "markdown",
   "metadata": {},
   "source": [
    "# Exercise 24\n",
    "\n",
    "Write a function called <b>merge</b> that takes two already sorted lists of possibly different lengths,\n",
    "and merges them into a single sorted list.\n",
    "1. Do this using the sort method.\n",
    "2. Do this without using the sort method."
   ]
  },
  {
   "cell_type": "code",
   "execution_count": null,
   "metadata": {},
   "outputs": [],
   "source": []
  },
  {
   "cell_type": "markdown",
   "metadata": {},
   "source": [
    "# Exercise 25\n",
    "\n",
    "Write a function called <b>Articles</b> that takes some text and then return how many time the articles (<b>'a', 'an', 'the'</b>) appear in the text as tuple. Here the case of the letters does not matter. \n",
    "\n",
    "For <b>'The student, called Ange, is a girl from Rwanda'</b>, the function should return <b>(1,0,1)</b>."
   ]
  },
  {
   "cell_type": "code",
   "execution_count": null,
   "metadata": {},
   "outputs": [],
   "source": []
  },
  {
   "cell_type": "markdown",
   "metadata": {},
   "source": [
    "# Exercise 26\n",
    "\n",
    "Write a function called <b>wordn</b> that takes a sentence $s$ and a positive integer $n$ and return the $n^{th}$ word of the sentence if it exists otherwise return 'None'."
   ]
  },
  {
   "cell_type": "code",
   "execution_count": null,
   "metadata": {},
   "outputs": [],
   "source": []
  }
 ],
 "metadata": {
  "kernelspec": {
   "display_name": "Python 3",
   "language": "python",
   "name": "python3"
  },
  "language_info": {
   "codemirror_mode": {
    "name": "ipython",
    "version": 3
   },
   "file_extension": ".py",
   "mimetype": "text/x-python",
   "name": "python",
   "nbconvert_exporter": "python",
   "pygments_lexer": "ipython3",
   "version": "3.7.6"
  }
 },
 "nbformat": 4,
 "nbformat_minor": 4
}
