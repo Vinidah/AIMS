{
 "cells": [
  {
   "cell_type": "code",
   "execution_count": 56,
   "metadata": {},
   "outputs": [],
   "source": [
    "import numpy as np\n",
    "from scipy.integrate import odeint\n",
    "from scipy.integrate import quad\n",
    "import matplotlib.pyplot as plt"
   ]
  },
  {
   "cell_type": "code",
   "execution_count": 57,
   "metadata": {},
   "outputs": [],
   "source": [
    "def f(y,x):\n",
    "    dydx = -x/y\n",
    "    return dydx\n",
    "\n",
    "g = lambda x: -(-x**2 + 25)**(0.5)"
   ]
  },
  {
   "cell_type": "code",
   "execution_count": 72,
   "metadata": {},
   "outputs": [],
   "source": [
    "def RK4OdeSys(f,c,x):\n",
    "    \n",
    "    H = x[1] - x[0]\n",
    "    \n",
    "    N = len(x)\n",
    "    \n",
    "    z = np.zeros(N)\n",
    "    z[0] = c\n",
    "    \n",
    "    \n",
    "    for k in range(0,N-1):\n",
    "        k1 = f(z[k],x[k])\n",
    "        \n",
    "        k2 = f(z[k]+ ((H) * (k1/2)), x[k] + (H/2) )\n",
    "        \n",
    "        k3 = f(z[k]+ (H * (k2/2)), x[k] + (H/2) )\n",
    "        \n",
    "        k4 = f(z[k]+ (H * k3) , x[k] + H )\n",
    "        \n",
    "        z[k+1] =  z[k] + ((H/6) * (k1 + 2*k2 + 2*k3 + k4) )\n",
    "    return z"
   ]
  },
  {
   "cell_type": "code",
   "execution_count": 73,
   "metadata": {
    "scrolled": true
   },
   "outputs": [
    {
     "data": {
      "text/plain": [
       "(100,)"
      ]
     },
     "execution_count": 73,
     "metadata": {},
     "output_type": "execute_result"
    }
   ],
   "source": [
    "H = 0.01\n",
    "x =  np.arange(4,5,H)\n",
    "\n",
    "z0 = -3\n",
    "\n",
    "z_odeint =  odeint(f,z0,x)\n",
    "\n",
    "z_rk_4 =  RK4OdeSys(f,z0,x)\n",
    "\n",
    "z_actual = g(x)\n",
    "\n",
    "z_rk_4.shape"
   ]
  },
  {
   "cell_type": "code",
   "execution_count": 74,
   "metadata": {},
   "outputs": [
    {
     "data": {
      "text/plain": [
       "(100,)"
      ]
     },
     "execution_count": 74,
     "metadata": {},
     "output_type": "execute_result"
    }
   ],
   "source": [
    "z_odeint = z_odeint.reshape(100,)"
   ]
  },
  {
   "cell_type": "code",
   "execution_count": 80,
   "metadata": {},
   "outputs": [
    {
     "data": {
      "text/plain": [
       "Text(0.5, 1.0, 'Comparision of approximation errors')"
      ]
     },
     "execution_count": 80,
     "metadata": {},
     "output_type": "execute_result"
    },
    {
     "data": {
      "image/png": "[encoded data removed]",
      "text/plain": [
       "<Figure size 576x360 with 1 Axes>"
      ]
     },
     "metadata": {
      "needs_background": "light"
     },
     "output_type": "display_data"
    }
   ],
   "source": [
    "fig = plt.figure(1,figsize=(8,5))\n",
    "\n",
    "# plt.subplot(1,2,1)\n",
    "# plt.plot(x,z_odeint)\n",
    "# plt.plot(x[::5],z_rk_4[::5],\"ro\")\n",
    "# plt.plot(x[::10],z_actual[::10],\"go\")\n",
    "# plt.xlabel(\"x\")\n",
    "# plt.ylabel(\"y\")\n",
    "# plt.legend([\"odeint\",\"Rung-Kutta\",\"Exact\"])\n",
    "# plt.title(\"Comparison of approximation methods\")\n",
    "\n",
    "# plt.subplot(1,2,2)\n",
    "er1 = abs(z_actual - z_odeint)\n",
    "plt.plot(x,er1)\n",
    "er2 = abs(z_actual - z_rk_4)\n",
    "plt.plot(x,er2,\"r\")\n",
    "plt.xlabel(\"x\")\n",
    "plt.ylabel(\"y\")\n",
    "plt.legend([\"exact vs odeint\",\"Exact vs Rung-Kutta\"])\n",
    "plt.title(\"Comparision of approximation errors\")\n"
   ]
  },
  {
   "cell_type": "code",
   "execution_count": null,
   "metadata": {},
   "outputs": [],
   "source": []
  }
 ],
 "metadata": {
  "kernelspec": {
   "display_name": "Python 3",
   "language": "python",
   "name": "python3"
  },
  "language_info": {
   "codemirror_mode": {
    "name": "ipython",
    "version": 3
   },
   "file_extension": ".py",
   "mimetype": "text/x-python",
   "name": "python",
   "nbconvert_exporter": "python",
   "pygments_lexer": "ipython3",
   "version": "3.7.3"
  }
 },
 "nbformat": 4,
 "nbformat_minor": 2
}
