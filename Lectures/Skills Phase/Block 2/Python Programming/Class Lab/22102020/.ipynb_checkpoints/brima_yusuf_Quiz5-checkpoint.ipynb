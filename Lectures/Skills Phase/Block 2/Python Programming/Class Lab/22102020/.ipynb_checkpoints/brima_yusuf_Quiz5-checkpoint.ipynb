{
 "cells": [
  {
   "cell_type": "markdown",
   "metadata": {},
   "source": [
    "# $$\\text{Quiz 5}$$\n",
    "\n",
    "$\\text{Exercise 1}$\n",
    "\n",
    "Use python function <b> quad </b> to evaluate the following integrals\n",
    "\n",
    "1. $A = \\int_{-1}^1 4xdx$"
   ]
  },
  {
   "cell_type": "code",
   "execution_count": 22,
   "metadata": {},
   "outputs": [
    {
     "name": "stdout",
     "output_type": "stream",
     "text": [
      "0.0\n"
     ]
    }
   ],
   "source": [
    "import numpy as np\n",
    "import scipy.integrate as intg \n",
    "import matplotlib.pyplot as plt \n",
    "\n",
    "print(intg.quad(lambda x: 4*x, -1,1)[0])"
   ]
  },
  {
   "cell_type": "markdown",
   "metadata": {},
   "source": [
    "2.  $B = \\int_{-\\pi}^{\\pi} \\cos (x)dx$"
   ]
  },
  {
   "cell_type": "code",
   "execution_count": 23,
   "metadata": {},
   "outputs": [
    {
     "name": "stdout",
     "output_type": "stream",
     "text": [
      "2.615901373506474e-16\n"
     ]
    }
   ],
   "source": [
    "print(intg.quad(lambda x: np.cos(x), -np.pi,np.pi)[0])"
   ]
  },
  {
   "cell_type": "markdown",
   "metadata": {},
   "source": [
    "2.  $C = \\int_{-\\infty}^{\\infty} \\exp (-\\dfrac{x^2}{2})dx$"
   ]
  },
  {
   "cell_type": "code",
   "execution_count": 24,
   "metadata": {},
   "outputs": [
    {
     "name": "stdout",
     "output_type": "stream",
     "text": [
      "2.5066282746309994\n"
     ]
    }
   ],
   "source": [
    "print(intg.quad(lambda x: np.exp(-((x**2)/2)), -np.inf,np.inf)[0])"
   ]
  },
  {
   "cell_type": "markdown",
   "metadata": {},
   "source": [
    "$\\text{Exercise 2}$\n",
    "\n",
    "Use python function <b> odeint </b> to solve and plot the solution of the initial value problem\n",
    "\n",
    "\\begin{equation}\n",
    "  \\begin{cases}\n",
    "    y' = 2y + e^{2x},      & \\quad \\text{on } [0, 1]\\\\\\\\\n",
    "    y(0) = 3,\n",
    "  \\end{cases}\n",
    "\\end{equation}"
   ]
  },
  {
   "cell_type": "code",
   "execution_count": 21,
   "metadata": {
    "scrolled": false
   },
   "outputs": [
    {
     "data": {
      "image/png": "[encoded data removed]",
      "text/plain": [
       "<Figure size 432x288 with 1 Axes>"
      ]
     },
     "metadata": {
      "needs_background": "light"
     },
     "output_type": "display_data"
    }
   ],
   "source": [
    "def model(y,x):     \n",
    "    dydt = 2*y + np.exp(2*x)\n",
    "    \n",
    "    return dydt\n",
    "\n",
    "\n",
    "a = 0\n",
    "b = 1\n",
    "N = 100\n",
    "x =  np.linspace(a,b,N)\n",
    "y_0 = 3\n",
    "\n",
    "y =  intg.odeint(model,y_0,x)\n",
    "\n",
    "\n",
    "\n",
    "plt.plot(x,y)\n",
    "plt.xlabel(\"x\")\n",
    "plt.ylabel(\"y\")\n",
    "plt.legend([\"odeint\"])\n",
    "plt.title(\"Quad Integration\")\n",
    "plt.show()\n"
   ]
  },
  {
   "cell_type": "code",
   "execution_count": null,
   "metadata": {},
   "outputs": [],
   "source": []
  }
 ],
 "metadata": {
  "kernelspec": {
   "display_name": "Python 3",
   "language": "python",
   "name": "python3"
  },
  "language_info": {
   "codemirror_mode": {
    "name": "ipython",
    "version": 3
   },
   "file_extension": ".py",
   "mimetype": "text/x-python",
   "name": "python",
   "nbconvert_exporter": "python",
   "pygments_lexer": "ipython3",
   "version": "3.7.3"
  }
 },
 "nbformat": 4,
 "nbformat_minor": 4
}
