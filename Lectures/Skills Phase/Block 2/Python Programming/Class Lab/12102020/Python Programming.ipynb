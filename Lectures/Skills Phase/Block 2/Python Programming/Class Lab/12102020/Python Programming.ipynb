{
 "cells": [
  {
   "cell_type": "code",
   "execution_count": 14,
   "metadata": {},
   "outputs": [],
   "source": [
    "class Human:\n",
    "    name = \"\"\n",
    "    age = 0\n",
    "    pob = \"\"\n",
    "    address = \"\"\n",
    "    person = []\n",
    "    database = list()\n",
    "    def __init__(self,name,age,pob,address):\n",
    "        self.name = name\n",
    "        self.age = age\n",
    "        self.pob = pob\n",
    "        self.address = address\n",
    "    def displayPerson(self):\n",
    "        return f\"Name \\t {self.name} \\nAge \\t {self.age}\\nPOB \\t {self.pob} \\nAddress\\t {self.address}\"\n",
    "    \n",
    "    def setAddress(self,address):\n",
    "        self.address = address\n",
    "    def setName(self,name):\n",
    "        self.name = name\n",
    "    def setAge(self,age):\n",
    "        self.age  = age\n",
    "    \n",
    "    def addPerson(self,name,age,pob,address):\n",
    "        self.database.append([name,age,pob,address])\n",
    "    def displayPeople(self):\n",
    "        for person in self.database:\n",
    "            print(person)\n",
    "\n",
    "class Alien:\n",
    "    pass"
   ]
  },
  {
   "cell_type": "code",
   "execution_count": 15,
   "metadata": {},
   "outputs": [],
   "source": [
    "y =  Human(\"yusuf\",10,\"SL\",\"AIMS Kigali\")"
   ]
  },
  {
   "cell_type": "code",
   "execution_count": 16,
   "metadata": {},
   "outputs": [
    {
     "name": "stdout",
     "output_type": "stream",
     "text": [
      "Name \t yusuf \n",
      "Age \t 10\n",
      "POB \t SL \n",
      "Address\t AIMS Kigali\n"
     ]
    }
   ],
   "source": [
    "print(y.displayPerson())"
   ]
  },
  {
   "cell_type": "code",
   "execution_count": 19,
   "metadata": {},
   "outputs": [],
   "source": [
    "y.addPerson(\"Joe\",12,\"BD\",\"xyz\")\n",
    "y.addPerson(\"Jane\",15,\"US\",\"jhshd\")\n",
    "y.addPerson(\"Jack\",90,\"NG\",\"xyz\")\n",
    "y.addPerson(\"Mary\",65,\"SW\",\"xyz\")\n",
    "y.addPerson(\"Frank\",67,\"FR\",\"xyz\")"
   ]
  },
  {
   "cell_type": "code",
   "execution_count": 20,
   "metadata": {},
   "outputs": [
    {
     "name": "stdout",
     "output_type": "stream",
     "text": [
      "['Joe', 12, 'BD', 'xyz']\n",
      "['Joe', 12, 'BD', 'xyz']\n",
      "['Joe', 12, 'BD', 'xyz']\n",
      "['Joe', 12, 'BD', 'xyz']\n",
      "['Jane', 15, 'US', 'jhshd']\n",
      "['Jack', 90, 'NG', 'xyz']\n",
      "['Mary', 65, 'SW', 'xyz']\n",
      "['Frank', 67, 'FR', 'xyz']\n"
     ]
    }
   ],
   "source": [
    "y.displayPeople()"
   ]
  },
  {
   "cell_type": "code",
   "execution_count": 23,
   "metadata": {},
   "outputs": [
    {
     "data": {
      "text/plain": [
       "False"
      ]
     },
     "execution_count": 23,
     "metadata": {},
     "output_type": "execute_result"
    }
   ],
   "source": [
    "hasattr(y,'age1')"
   ]
  },
  {
   "cell_type": "code",
   "execution_count": 24,
   "metadata": {},
   "outputs": [
    {
     "data": {
      "text/plain": [
       "True"
      ]
     },
     "execution_count": 24,
     "metadata": {},
     "output_type": "execute_result"
    }
   ],
   "source": [
    "hasattr(y,'database')"
   ]
  },
  {
   "cell_type": "code",
   "execution_count": 30,
   "metadata": {},
   "outputs": [],
   "source": [
    "class Point:\n",
    "    def __init__(self,x=0,y=0):\n",
    "        self.x = x\n",
    "        self.y = y\n",
    "    \n",
    "    def pPoint(self):\n",
    "        return [self.x,self.y]\n",
    "    \n",
    "    def __del__(self):\n",
    "        class_name =  self.__class__.__name__\n",
    "        print(f\"{class_name}\")"
   ]
  },
  {
   "cell_type": "code",
   "execution_count": 31,
   "metadata": {},
   "outputs": [
    {
     "name": "stdout",
     "output_type": "stream",
     "text": [
      "Point\n"
     ]
    }
   ],
   "source": [
    "p = Point(2,4)"
   ]
  },
  {
   "cell_type": "code",
   "execution_count": 32,
   "metadata": {},
   "outputs": [
    {
     "data": {
      "text/plain": [
       "[2, 4]"
      ]
     },
     "execution_count": 32,
     "metadata": {},
     "output_type": "execute_result"
    }
   ],
   "source": [
    "p.pPoint()"
   ]
  }
 ],
 "metadata": {
  "kernelspec": {
   "display_name": "Python 3",
   "language": "python",
   "name": "python3"
  },
  "language_info": {
   "codemirror_mode": {
    "name": "ipython",
    "version": 3
   },
   "file_extension": ".py",
   "mimetype": "text/x-python",
   "name": "python",
   "nbconvert_exporter": "python",
   "pygments_lexer": "ipython3",
   "version": "3.7.3"
  }
 },
 "nbformat": 4,
 "nbformat_minor": 2
}
