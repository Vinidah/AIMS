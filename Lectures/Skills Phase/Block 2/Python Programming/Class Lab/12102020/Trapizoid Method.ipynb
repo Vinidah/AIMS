{
 "cells": [
  {
   "cell_type": "code",
   "execution_count": 114,
   "metadata": {},
   "outputs": [],
   "source": [
    "dx =  lambda a,b,n: (b-a)/(n-1)\n",
    "\n",
    "f =  lambda x: 2*x + 3"
   ]
  },
  {
   "cell_type": "code",
   "execution_count": 115,
   "metadata": {},
   "outputs": [],
   "source": [
    "def trapizoid(a,b,n):\n",
    "    step = dx(a,b,n)\n",
    "    x =  np.linspace(a,b,n)\n",
    "    Tn = 0\n",
    "    for i in range(1,n):\n",
    "        Tn += f(x[i])\n",
    "    Tn += x[0] + x[-1]\n",
    "    return (step/2) * Tn"
   ]
  },
  {
   "cell_type": "code",
   "execution_count": 116,
   "metadata": {},
   "outputs": [
    {
     "data": {
      "text/plain": [
       "60.0"
      ]
     },
     "execution_count": 116,
     "metadata": {},
     "output_type": "execute_result"
    }
   ],
   "source": [
    "a = 0\n",
    "b = 8\n",
    "n = 5\n",
    "trapizoid(a,b,n)"
   ]
  },
  {
   "cell_type": "code",
   "execution_count": null,
   "metadata": {},
   "outputs": [],
   "source": []
  }
 ],
 "metadata": {
  "kernelspec": {
   "display_name": "Python 3",
   "language": "python",
   "name": "python3"
  },
  "language_info": {
   "codemirror_mode": {
    "name": "ipython",
    "version": 3
   },
   "file_extension": ".py",
   "mimetype": "text/x-python",
   "name": "python",
   "nbconvert_exporter": "python",
   "pygments_lexer": "ipython3",
   "version": "3.7.3"
  }
 },
 "nbformat": 4,
 "nbformat_minor": 2
}
