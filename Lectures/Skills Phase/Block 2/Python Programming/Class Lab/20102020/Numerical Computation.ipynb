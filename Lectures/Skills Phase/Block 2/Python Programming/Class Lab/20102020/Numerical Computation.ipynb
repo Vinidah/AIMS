{
 "cells": [
  {
   "cell_type": "code",
   "execution_count": 1,
   "metadata": {},
   "outputs": [],
   "source": [
    "import numpy as np\n",
    "import matplotlib.pyplot as plt\n",
    "import sympy as sym\n",
    "from scipy.optimize import fsolve\n",
    "sym.init_printing()\n"
   ]
  },
  {
   "cell_type": "code",
   "execution_count": 10,
   "metadata": {},
   "outputs": [
    {
     "data": {
      "text/plain": [
       "array([[-5.],\n",
       "       [ 3.]])"
      ]
     },
     "execution_count": 10,
     "metadata": {},
     "output_type": "execute_result"
    }
   ],
   "source": [
    "A =  np.array([[3,-9],[2,4]])\n",
    "b=  np.array([[-42],[2]])\n",
    "np.linalg.solve(A,b)"
   ]
  },
  {
   "cell_type": "code",
   "execution_count": 11,
   "metadata": {},
   "outputs": [
    {
     "data": {
      "text/plain": [
       "array([[ 3.],\n",
       "       [-2.],\n",
       "       [ 1.]])"
      ]
     },
     "execution_count": 11,
     "metadata": {},
     "output_type": "execute_result"
    }
   ],
   "source": [
    "X =  np.array([[1,-2,-1],[2,2,-1],[-1,-1,2]])\n",
    "b=  np.array([[6],[1],[1]])\n",
    "np.linalg.solve(X,b)"
   ]
  },
  {
   "cell_type": "code",
   "execution_count": 14,
   "metadata": {},
   "outputs": [],
   "source": [
    "Q = np.poly1d([1,0,2,-1])"
   ]
  },
  {
   "cell_type": "code",
   "execution_count": 26,
   "metadata": {},
   "outputs": [
    {
     "data": {
      "text/plain": [
       "(1, 100)"
      ]
     },
     "execution_count": 26,
     "metadata": {},
     "output_type": "execute_result"
    }
   ],
   "source": [
    "x = np.random.randn(1,100)\n",
    "y = Q(x)\n",
    "x.shape"
   ]
  },
  {
   "cell_type": "code",
   "execution_count": 33,
   "metadata": {},
   "outputs": [
    {
     "data": {
      "text/plain": [
       "array([1.3210808e-11, 2.0000000e+00])"
      ]
     },
     "execution_count": 33,
     "metadata": {},
     "output_type": "execute_result"
    }
   ],
   "source": [
    "from scipy.optimize import fsolve\n",
    "\n",
    "def resolve(v):\n",
    "    x = v[0]\n",
    "    y = v[1]\n",
    "    \n",
    "    F = np.empty(2)\n",
    "    \n",
    "    F[0] = x**2 + y**2  - 4\n",
    "    F[1] = np.exp(x) + (x*y) -1\n",
    "    \n",
    "    return F\n",
    "\n",
    "fsolve(resolve,np.array([1,1]))\n",
    "    "
   ]
  },
  {
   "cell_type": "code",
   "execution_count": 38,
   "metadata": {},
   "outputs": [
    {
     "data": {
      "text/plain": [
       "array([6.50409711, 0.90841421])"
      ]
     },
     "execution_count": 38,
     "metadata": {},
     "output_type": "execute_result"
    }
   ],
   "source": [
    "def resolver(v):\n",
    "    x = v[0]\n",
    "    y = v[1]\n",
    "    \n",
    "    F = np.empty(2)\n",
    "    \n",
    "    F[0] = v[0]* np.cos(v[1]) -4\n",
    "    F[1] = (v[0]*v[1]) - v[1] -5\n",
    "    \n",
    "    return F\n",
    "\n",
    "fsolve(resolver,np.array([1,1]))"
   ]
  },
  {
   "cell_type": "code",
   "execution_count": 40,
   "metadata": {},
   "outputs": [
    {
     "data": {
      "image/png": "[encoded data removed]",
      "text/latex": [
       "$\\displaystyle \\left[ \\left( - \\frac{1}{2} + \\frac{\\sqrt{3}}{2}, \\  c_{1} - \\frac{3 \\sqrt{3}}{2} + \\frac{3}{2}, \\  - c_{1} - \\frac{5}{2} + \\frac{5 \\sqrt{3}}{2}\\right), \\  \\left( - \\frac{\\sqrt{3}}{2} - \\frac{1}{2}, \\  c_{1} + \\frac{3}{2} + \\frac{3 \\sqrt{3}}{2}, \\  - c_{1} - \\frac{5 \\sqrt{3}}{2} - \\frac{5}{2}\\right)\\right]$"
      ],
      "text/plain": [
       "⎡⎛  1   √3       3⋅√3   3        5   5⋅√3⎞  ⎛  √3   1       3   3⋅√3        5⋅\n",
       "⎢⎜- ─ + ──, c₁ - ──── + ─, -c₁ - ─ + ────⎟, ⎜- ── - ─, c₁ + ─ + ────, -c₁ - ──\n",
       "⎣⎝  2   2         2     2        2    2  ⎠  ⎝  2    2       2    2           2\n",
       "\n",
       "√3   5⎞⎤\n",
       "── - ─⎟⎥\n",
       "     2⎠⎦"
      ]
     },
     "execution_count": 40,
     "metadata": {},
     "output_type": "execute_result"
    }
   ],
   "source": [
    "import sympy as sym\n",
    "\n",
    "sym.init_printing()\n",
    "\n",
    "x,y,z = sym.symbols('x,y,z')\n",
    "\n",
    "c1 = sym.Symbol(\"c1\")\n",
    "\n",
    "f  =  sym.Eq(2*x**2 + y + z,1)\n",
    "g = sym.Eq(x+2*y+z,c1)\n",
    "h = sym.Eq(-2*x+y,-z)\n",
    "\n",
    "sym.solve([f,g,h],(x,y,z))"
   ]
  },
  {
   "cell_type": "code",
   "execution_count": 43,
   "metadata": {},
   "outputs": [
    {
     "data": {
      "image/png": "[encoded data removed]",
      "text/latex": [
       "$\\displaystyle \\left\\{ x : 1 - c, \\  y : - c - 1\\right\\}$"
      ],
      "text/plain": [
       "{x: 1 - c, y: -c - 1}"
      ]
     },
     "execution_count": 43,
     "metadata": {},
     "output_type": "execute_result"
    }
   ],
   "source": [
    "sym.init_printing()\n",
    "\n",
    "x,y = sym.symbols('x,y')\n",
    "\n",
    "c = sym.Symbol(\"c\")\n",
    "\n",
    "f  =  sym.Eq(x+c,1)\n",
    "g = sym.Eq(y+2*c,-x)\n",
    "sym.solve([f,g],(x,y))"
   ]
  },
  {
   "cell_type": "code",
   "execution_count": 46,
   "metadata": {},
   "outputs": [
    {
     "data": {
      "image/png": "[encoded data removed]",
      "text/latex": [
       "$\\displaystyle \\int \\sqrt{\\frac{1}{x}}\\, dx$"
      ],
      "text/plain": [
       "⌠           \n",
       "⎮     ___   \n",
       "⎮    ╱ 1    \n",
       "⎮   ╱  ─  dx\n",
       "⎮ ╲╱   x    \n",
       "⌡           "
      ]
     },
     "execution_count": 46,
     "metadata": {},
     "output_type": "execute_result"
    }
   ],
   "source": [
    "from sympy import * \n",
    "\n",
    "Integral(sqrt(1/x),x)"
   ]
  },
  {
   "cell_type": "code",
   "execution_count": 4,
   "metadata": {},
   "outputs": [],
   "source": [
    "f = lambda x,y: (2-(2*x*y))/(x**2 +1)\n",
    "g = lambda x: (2*x +1)/(x**2 +1)\n",
    "z = lambda f,g: abs(f-g)\n",
    "def RungeKutta(a,b,c,N,f):\n",
    "    t = np.linspace(a,b,N+1)\n",
    "    H = (b-a)/N\n",
    "    y = np.zeros(N+1)\n",
    "    y[0] = 1\n",
    "    for i in range(1,N+1):\n",
    "        k_1 = f(t[i-1],y[i-1])\n",
    "        k_2 = f(t[i-1]+ H/2,y[i-1] + H* (k_1/2))\n",
    "        k_3 = f(t[i-1]+ H/2,y[i-1] + H* (k_2/2))\n",
    "        k_4 = f(t[i-1] + H,y[i-1] + H*k_3)\n",
    "        y[i] = y[i-1] + (1/6)* H*(k_1 + (2*k_2) + (2*k_3) + k_4)\n",
    "    return t,y\n",
    "        "
   ]
  },
  {
   "cell_type": "code",
   "execution_count": 14,
   "metadata": {},
   "outputs": [
    {
     "data": {
      "image/png": "[encoded data removed]",
      "text/plain": [
       "<Figure size 432x288 with 1 Axes>"
      ]
     },
     "metadata": {
      "needs_background": "light"
     },
     "output_type": "display_data"
    },
    {
     "data": {
      "image/png": "[encoded data removed]",
      "text/plain": [
       "<Figure size 432x288 with 1 Axes>"
      ]
     },
     "metadata": {
      "needs_background": "light"
     },
     "output_type": "display_data"
    }
   ],
   "source": [
    "x,y = RungeKutta(0,1,1,100,f) #approximate solution\n",
    "\n",
    "y_0 = g(x) #actual solution \n",
    "err = z(y,y_0)\n",
    "\n",
    "\n",
    "\n",
    "plt.subplot(2,1,1)\n",
    "plt.plot(x,y)\n",
    "plt.plot(x[::5],y_0[::5],'o')\n",
    "plt.xlabel(\"x\")\n",
    "plt.ylabel(\"f(x) g(x)\")\n",
    "plt.title(\"Approximated Runge-Kutta solution vs Actual solution\")\n",
    "plt.legend([\"approximate\",\"actual\"])\n",
    "plt.show()\n",
    "\n",
    "plt.subplot(2,1,2)\n",
    "plt.plot(x,err,'r-')\n",
    "plt.xlabel(\"x\")\n",
    "plt.ylabel(\"Error\")\n",
    "plt.title(\"Error e_k\")\n",
    "plt.legend([\"g(x)\"])\n",
    "plt.show()"
   ]
  },
  {
   "cell_type": "code",
   "execution_count": null,
   "metadata": {},
   "outputs": [],
   "source": []
  }
 ],
 "metadata": {
  "kernelspec": {
   "display_name": "Python 3",
   "language": "python",
   "name": "python3"
  },
  "language_info": {
   "codemirror_mode": {
    "name": "ipython",
    "version": 3
   },
   "file_extension": ".py",
   "mimetype": "text/x-python",
   "name": "python",
   "nbconvert_exporter": "python",
   "pygments_lexer": "ipython3",
   "version": "3.7.3"
  }
 },
 "nbformat": 4,
 "nbformat_minor": 2
}
