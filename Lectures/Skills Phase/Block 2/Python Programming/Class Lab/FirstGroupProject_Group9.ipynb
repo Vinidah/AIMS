{
 "cells": [
  {
   "cell_type": "markdown",
   "metadata": {},
   "source": [
    "# FirstGruopProject_ Group 9\n",
    "### Group Members\n",
    "1. Yusuf Brima\n",
    "2. Rashida Salih\n",
    "3. Japheth Kasomo\n",
    "4. Vincent Wayuga\n",
    "5. Jeannnette Mukangango"
   ]
  },
  {
   "cell_type": "code",
   "execution_count": 1,
   "metadata": {},
   "outputs": [
    {
     "data": {
      "application/javascript": [
       "MathJax.Hub.Config({\n",
       "    TeX: { equationNumbers: { autoNumber: \"AMS\" } }\n",
       "});"
      ],
      "text/plain": [
       "<IPython.core.display.Javascript object>"
      ]
     },
     "metadata": {},
     "output_type": "display_data"
    }
   ],
   "source": [
    "%%javascript\n",
    "MathJax.Hub.Config({\n",
    "    TeX: { equationNumbers: { autoNumber: \"AMS\" } }\n",
    "});"
   ]
  },
  {
   "cell_type": "markdown",
   "metadata": {},
   "source": [
    "# $$\\text{Exercise 1}$$\n",
    "1. Let us consider the array $M$ defined below"
   ]
  },
  {
   "cell_type": "code",
   "execution_count": 2,
   "metadata": {
    "scrolled": true
   },
   "outputs": [
    {
     "data": {
      "text/plain": [
       "array([[ 80842, 333008, 202553, 140037,  81969,  63857,  42105, 261540],\n",
       "       [481981, 176739, 489984, 326386, 110795, 394863,  25024,  38317],\n",
       "       [ 49982, 408830, 485118,  16119, 407675, 231729, 265455, 109413],\n",
       "       [103399, 174677, 343356, 301717, 224120, 401101, 140473, 254634],\n",
       "       [112262,  25063, 108262, 375059, 406983, 208947, 115641, 296685],\n",
       "       [444899, 129585, 171318, 313094, 425041, 188411, 335140, 141681],\n",
       "       [ 59641, 211420, 287650,   8973, 477425, 382803, 465168,   3975],\n",
       "       [ 32213, 160603, 275485, 388234, 246225,  56174, 244097,   9350],\n",
       "       [496966, 225516, 273338,  73335, 283013, 212813,  38175, 282399],\n",
       "       [318413, 337639, 379802, 198049, 101115, 419547, 260219, 325793],\n",
       "       [148593, 425024, 348570, 117968, 107007,  52547, 180346, 178760],\n",
       "       [305186, 262153,  11835, 449971, 494184, 472031, 353049, 476442],\n",
       "       [ 35455, 191553, 384154,  29917, 187599,  68912, 428968,  69638],\n",
       "       [ 20140, 220691, 163112,  47862, 474879,  15713, 279173, 161443],\n",
       "       [ 76851, 450401, 193338, 189948, 211826, 384657,  17636, 189954],\n",
       "       [182580, 403458,  63004,  87202,  17143, 308769, 316192, 408259],\n",
       "       [379223, 322891, 302814, 309594,  13650,  68095, 327748,  27138],\n",
       "       [ 33346, 202960, 221234,  61986,  96524, 230606, 266487, 299766],\n",
       "       [ 46264,  33510, 434647,  26750, 412754, 346058, 263454, 270444],\n",
       "       [182770, 486269, 402948, 105055, 463911, 378799, 329053,  16793],\n",
       "       [379586, 293162, 121602, 144605, 105553,  71148,  40126, 183534],\n",
       "       [493338,   5241, 498084, 189451, 219466,  12869, 482845,  16529],\n",
       "       [145955, 461866, 427009,  70841, 318111, 199631,  99330, 407887],\n",
       "       [133826, 214053, 295543, 339707, 199545, 194494, 304822, 337793],\n",
       "       [395524, 206326, 308488, 297633, 472409, 487606, 422244, 443487],\n",
       "       [464749,  75275, 299486, 248984,  76076, 197544,  75103, 394086],\n",
       "       [404365,  67309, 267556,  96483, 166099, 203867,  57120, 211249],\n",
       "       [ 86992, 286426, 130451, 419955, 109839, 332663, 101095,  50820],\n",
       "       [108699, 436141, 333670,  45890, 425798,   6967, 155851, 360687],\n",
       "       [252907, 121138,  81509, 367876, 471831, 226950, 349068, 197092]])"
      ]
     },
     "execution_count": 2,
     "metadata": {},
     "output_type": "execute_result"
    }
   ],
   "source": [
    "import numpy as np\n",
    "import matplotlib.pyplot as plt\n",
    "M = np.array([[ 80842, 333008, 202553, 140037,  81969,  63857,  42105, 261540],\n",
    "       [481981, 176739, 489984, 326386, 110795, 394863,  25024,  38317],\n",
    "       [ 49982, 408830, 485118,  16119, 407675, 231729, 265455, 109413],\n",
    "       [103399, 174677, 343356, 301717, 224120, 401101, 140473, 254634],\n",
    "       [112262,  25063, 108262, 375059, 406983, 208947, 115641, 296685],\n",
    "       [444899, 129585, 171318, 313094, 425041, 188411, 335140, 141681],\n",
    "       [ 59641, 211420, 287650,   8973, 477425, 382803, 465168,   3975],\n",
    "       [ 32213, 160603, 275485, 388234, 246225,  56174, 244097,   9350],\n",
    "       [496966, 225516, 273338,  73335, 283013, 212813,  38175, 282399],\n",
    "       [318413, 337639, 379802, 198049, 101115, 419547, 260219, 325793],\n",
    "       [148593, 425024, 348570, 117968, 107007,  52547, 180346, 178760],\n",
    "       [305186, 262153,  11835, 449971, 494184, 472031, 353049, 476442],\n",
    "       [ 35455, 191553, 384154,  29917, 187599,  68912, 428968,  69638],\n",
    "       [ 20140, 220691, 163112,  47862, 474879,  15713, 279173, 161443],\n",
    "       [ 76851, 450401, 193338, 189948, 211826, 384657,  17636, 189954],\n",
    "       [182580, 403458,  63004,  87202,  17143, 308769, 316192, 408259],\n",
    "       [379223, 322891, 302814, 309594,  13650,  68095, 327748,  27138],\n",
    "       [ 33346, 202960, 221234,  61986,  96524, 230606, 266487, 299766],\n",
    "       [ 46264,  33510, 434647,  26750, 412754, 346058, 263454, 270444],\n",
    "       [182770, 486269, 402948, 105055, 463911, 378799, 329053,  16793],\n",
    "       [379586, 293162, 121602, 144605, 105553,  71148,  40126, 183534],\n",
    "       [493338,   5241, 498084, 189451, 219466,  12869, 482845,  16529],\n",
    "       [145955, 461866, 427009,  70841, 318111, 199631,  99330, 407887],\n",
    "       [133826, 214053, 295543, 339707, 199545, 194494, 304822, 337793],\n",
    "       [395524, 206326, 308488, 297633, 472409, 487606, 422244, 443487],\n",
    "       [464749,  75275, 299486, 248984,  76076, 197544,  75103, 394086],\n",
    "       [404365,  67309, 267556,  96483, 166099, 203867,  57120, 211249],\n",
    "       [ 86992, 286426, 130451, 419955, 109839, 332663, 101095,  50820],\n",
    "       [108699, 436141, 333670,  45890, 425798,   6967, 155851, 360687],\n",
    "       [252907, 121138,  81509, 367876, 471831, 226950, 349068, 197092]])\n",
    "M\n"
   ]
  },
  {
   "cell_type": "markdown",
   "metadata": {},
   "source": [
    "1. What is the average value of the second and fourth columns?"
   ]
  },
  {
   "cell_type": "code",
   "execution_count": 3,
   "metadata": {},
   "outputs": [
    {
     "data": {
      "text/plain": [
       "218960.13333333333"
      ]
     },
     "execution_count": 3,
     "metadata": {},
     "output_type": "execute_result"
    }
   ],
   "source": [
    "np.average(M[:,1:4:2])"
   ]
  },
  {
   "cell_type": "code",
   "execution_count": 4,
   "metadata": {},
   "outputs": [
    {
     "data": {
      "text/plain": [
       "218960.13333333333"
      ]
     },
     "execution_count": 4,
     "metadata": {},
     "output_type": "execute_result"
    }
   ],
   "source": [
    "np.average(M[:,1:4:2])\n"
   ]
  },
  {
   "cell_type": "markdown",
   "metadata": {},
   "source": [
    "2. What is the average value of the last 5 rows of the second and fourth columns?"
   ]
  },
  {
   "cell_type": "code",
   "execution_count": 5,
   "metadata": {},
   "outputs": [
    {
     "data": {
      "text/plain": [
       "216547.7"
      ]
     },
     "execution_count": 5,
     "metadata": {},
     "output_type": "execute_result"
    }
   ],
   "source": [
    "np.average(M[-5:,1:4:2])"
   ]
  },
  {
   "cell_type": "markdown",
   "metadata": {},
   "source": [
    "3. Update $M$ by Replacing all its even integers by 0."
   ]
  },
  {
   "cell_type": "code",
   "execution_count": 6,
   "metadata": {},
   "outputs": [
    {
     "data": {
      "text/plain": [
       "array([[     0,      0, 202553, 140037,  81969,  63857,  42105,      0],\n",
       "       [481981, 176739,      0,      0, 110795, 394863,      0,  38317],\n",
       "       [     0,      0,      0,  16119, 407675, 231729, 265455, 109413],\n",
       "       [103399, 174677,      0, 301717,      0, 401101, 140473,      0],\n",
       "       [     0,  25063,      0, 375059, 406983, 208947, 115641, 296685],\n",
       "       [444899, 129585,      0,      0, 425041, 188411,      0, 141681],\n",
       "       [ 59641,      0,      0,   8973, 477425, 382803,      0,   3975],\n",
       "       [ 32213, 160603, 275485,      0, 246225,      0, 244097,      0],\n",
       "       [     0,      0,      0,  73335, 283013, 212813,  38175, 282399],\n",
       "       [318413, 337639,      0, 198049, 101115, 419547, 260219, 325793],\n",
       "       [148593,      0,      0,      0, 107007,  52547,      0,      0],\n",
       "       [     0, 262153,  11835, 449971,      0, 472031, 353049,      0],\n",
       "       [ 35455, 191553,      0,  29917, 187599,      0,      0,      0],\n",
       "       [     0, 220691,      0,      0, 474879,  15713, 279173, 161443],\n",
       "       [ 76851, 450401,      0,      0,      0, 384657,      0,      0],\n",
       "       [     0,      0,      0,      0,  17143, 308769,      0, 408259],\n",
       "       [379223, 322891,      0,      0,      0,  68095,      0,      0],\n",
       "       [     0,      0,      0,      0,      0,      0, 266487,      0],\n",
       "       [     0,      0, 434647,      0,      0,      0,      0,      0],\n",
       "       [     0, 486269,      0, 105055, 463911, 378799, 329053,  16793],\n",
       "       [     0,      0,      0, 144605, 105553,      0,      0,      0],\n",
       "       [     0,   5241,      0, 189451,      0,  12869, 482845,  16529],\n",
       "       [145955,      0, 427009,  70841, 318111, 199631,      0, 407887],\n",
       "       [     0, 214053, 295543, 339707, 199545,      0,      0, 337793],\n",
       "       [     0,      0,      0, 297633, 472409,      0,      0, 443487],\n",
       "       [464749,  75275,      0,      0,      0,      0,  75103,      0],\n",
       "       [404365,  67309,      0,  96483, 166099, 203867,      0, 211249],\n",
       "       [     0,      0, 130451, 419955, 109839, 332663, 101095,      0],\n",
       "       [108699, 436141,      0,      0,      0,   6967, 155851, 360687],\n",
       "       [252907,      0,  81509,      0, 471831,      0,      0,      0]])"
      ]
     },
     "execution_count": 6,
     "metadata": {},
     "output_type": "execute_result"
    }
   ],
   "source": [
    "M[M%2==0]=0\n",
    "M"
   ]
  },
  {
   "cell_type": "markdown",
   "metadata": {},
   "source": [
    "# $$\\text{Exercise 2}$$\n",
    "\n",
    "Let $\\{ x_k\\}$ be a partition of $[a,b]$ such that $a=x_0<x_1<\\cdots<x_{N-1}<x_N=b$ and $H$ be the length of the $k$-th subinterval ($H = x_k - x_{k-1}$),\n",
    "then we have \n",
    "$$\\int_a^bf(x)dx \\approx \\sum_{k=1}^N \\frac{f(x_{k-1})+f(x_k)}{2}H = A$$\n",
    "\n",
    "\n",
    "Write a function named <b>Trap</b> that takes $a,b,N, f$ as inputs and return A"
   ]
  },
  {
   "cell_type": "code",
   "execution_count": 7,
   "metadata": {},
   "outputs": [
    {
     "data": {
      "text/plain": [
       "0.33335"
      ]
     },
     "execution_count": 7,
     "metadata": {},
     "output_type": "execute_result"
    }
   ],
   "source": [
    "import numpy as np\n",
    "def Trap(a,b,N,f):\n",
    "    x = np.linspace(a,b,N+1)\n",
    "    H = x[1]-x[0]\n",
    "    A = 0\n",
    "    for k in range (1,N+1):\n",
    "        A+=(H/2)*(f(x[k-1])+f(x[k]))\n",
    "    return A\n",
    "Trap(0,1,100,lambda x:x**2)"
   ]
  },
  {
   "cell_type": "markdown",
   "metadata": {},
   "source": [
    "# $$\\text{Exercise 3}$$\n",
    "\n",
    "Let us consider the function $f$ defined on the set of integer as follows \n",
    "\n",
    "\\begin{equation}\n",
    "f(n) =\n",
    "  \\begin{cases}\n",
    "    n/2       & \\quad \\text{if } n \\text{ is even}\\\\\n",
    "    -(n)/3 +1  & \\quad \\text{if } n \\text{ is odd and divisible by 3}\\\\\n",
    "    (n+1)/2 +1 & \\quad \\text{else}\n",
    "  \\end{cases}\n",
    "\\end{equation}\n",
    "\n",
    "Write a python function named <b> ComptFunc </b> that takes two intergers $a$ and $b$ , $a<b$ and return  an array $flist$ of all  $f(n), n \\in nlist$ where $nlist$ is the list of all the integers in the interval $[a,b]$."
   ]
  },
  {
   "cell_type": "code",
   "execution_count": 8,
   "metadata": {},
   "outputs": [
    {
     "data": {
      "text/plain": [
       "array([0., 2., 1., 0., 2., 4.])"
      ]
     },
     "execution_count": 8,
     "metadata": {},
     "output_type": "execute_result"
    }
   ],
   "source": [
    "def f(n):\n",
    "    if n%2==0:\n",
    "        return n/2\n",
    "    elif n%2==1 and n%3==0:\n",
    "        return (-(n)/3)+1\n",
    "    else:\n",
    "        return ((n+1)/2)+1\n",
    "vf = np.vectorize(f)\n",
    "def CompFunc(a,b):\n",
    "    if a<b:\n",
    "        nlist = np.arange(a,b+1)\n",
    "        flist = vf(nlist)\n",
    "        return flist\n",
    "CompFunc(0,5)"
   ]
  },
  {
   "cell_type": "markdown",
   "metadata": {},
   "source": [
    "# $$\\text{Exercise 4}$$\n",
    "\n",
    "Write a python code to create the following numpy arrays\n",
    "$$\n",
    "A = \\begin{pmatrix}\n",
    "1 & 4 & 6 \\\\ \n",
    "0 & -3 & 2 \\\\ \n",
    "-2 & -2 & -2\t\n",
    "\\end{pmatrix}, \\quad\n",
    "B = \\begin{pmatrix}\n",
    "2 & -1 & 0 \\\\ \n",
    "2 & -1 & 0 \\\\ \n",
    "2 & -3 & 1\n",
    "\\end{pmatrix},\n",
    "$$\n",
    "and compute \n",
    "- $A-B$, \n",
    "- $4A + B$, \n",
    "- $trace(A)$, \n",
    "- $B^t$ the transpose of $B$, \n",
    "- $AB$, \n",
    "- $BA^t$, \n",
    "- the determinant of $A$"
   ]
  },
  {
   "cell_type": "code",
   "execution_count": 9,
   "metadata": {},
   "outputs": [
    {
     "name": "stdout",
     "output_type": "stream",
     "text": [
      "[[ 2 -1  0]\n",
      " [ 2 -1  0]\n",
      " [ 2 -3  1]]\n",
      "--------------\n",
      "[[ 1  4  6]\n",
      " [ 0 -3  2]\n",
      " [-2 -2 -2]]\n"
     ]
    }
   ],
   "source": [
    "A = np.array([[1,4,6],[0,-3,2],[-2,-2,-2]])\n",
    "B = np.array([[2,-1,0],[2,-1,0],[2,-3,1]])\n",
    "print(B)\n",
    "print(\"--------------\")\n",
    "print(A)"
   ]
  },
  {
   "cell_type": "code",
   "execution_count": 10,
   "metadata": {},
   "outputs": [
    {
     "data": {
      "text/plain": [
       "array([[-1,  5,  6],\n",
       "       [-2, -2,  2],\n",
       "       [-4,  1, -3]])"
      ]
     },
     "execution_count": 10,
     "metadata": {},
     "output_type": "execute_result"
    }
   ],
   "source": [
    "A-B"
   ]
  },
  {
   "cell_type": "code",
   "execution_count": 11,
   "metadata": {},
   "outputs": [
    {
     "data": {
      "text/plain": [
       "array([[  6,  15,  24],\n",
       "       [  2, -13,   8],\n",
       "       [ -6, -11,  -7]])"
      ]
     },
     "execution_count": 11,
     "metadata": {},
     "output_type": "execute_result"
    }
   ],
   "source": [
    "4*A+B"
   ]
  },
  {
   "cell_type": "code",
   "execution_count": 12,
   "metadata": {},
   "outputs": [
    {
     "data": {
      "text/plain": [
       "-4"
      ]
     },
     "execution_count": 12,
     "metadata": {},
     "output_type": "execute_result"
    }
   ],
   "source": [
    "np.trace(A)"
   ]
  },
  {
   "cell_type": "code",
   "execution_count": 13,
   "metadata": {},
   "outputs": [
    {
     "data": {
      "text/plain": [
       "array([[ 2,  2,  2],\n",
       "       [-1, -1, -3],\n",
       "       [ 0,  0,  1]])"
      ]
     },
     "execution_count": 13,
     "metadata": {},
     "output_type": "execute_result"
    }
   ],
   "source": [
    "B.T"
   ]
  },
  {
   "cell_type": "code",
   "execution_count": 14,
   "metadata": {},
   "outputs": [
    {
     "data": {
      "text/plain": [
       "array([[ 22, -23,   6],\n",
       "       [ -2,  -3,   2],\n",
       "       [-12,  10,  -2]])"
      ]
     },
     "execution_count": 14,
     "metadata": {},
     "output_type": "execute_result"
    }
   ],
   "source": [
    "A@B"
   ]
  },
  {
   "cell_type": "code",
   "execution_count": 15,
   "metadata": {},
   "outputs": [
    {
     "data": {
      "text/plain": [
       "array([[-2,  3, -2],\n",
       "       [-2,  3, -2],\n",
       "       [-4, 11,  0]])"
      ]
     },
     "execution_count": 15,
     "metadata": {},
     "output_type": "execute_result"
    }
   ],
   "source": [
    "B@(A.T)"
   ]
  },
  {
   "cell_type": "code",
   "execution_count": 16,
   "metadata": {},
   "outputs": [
    {
     "data": {
      "text/plain": [
       "-41.999999999999986"
      ]
     },
     "execution_count": 16,
     "metadata": {},
     "output_type": "execute_result"
    }
   ],
   "source": [
    "np.linalg.det(A)"
   ]
  },
  {
   "cell_type": "markdown",
   "metadata": {},
   "source": [
    "# $$\\text{Exercise 5}$$\n",
    "\n",
    "write a python code to solve the system of equation  \n",
    "\\begin{equation}\\label{sysEqu}\n",
    "\\left\\lbrace \n",
    "\\begin{array}{ll}\n",
    "2x + y -2z &= 3,\\\\\n",
    "x-y-z &= 0,\\\\\n",
    "x+y+3z &=12\n",
    "\\end{array}\\right. \n",
    "\\end{equation}"
   ]
  },
  {
   "cell_type": "code",
   "execution_count": 17,
   "metadata": {},
   "outputs": [
    {
     "data": {
      "text/plain": [
       "array([[3.5],\n",
       "       [1. ],\n",
       "       [2.5]])"
      ]
     },
     "execution_count": 17,
     "metadata": {},
     "output_type": "execute_result"
    }
   ],
   "source": [
    "A = np.array([[2,1,-2],[1,-1,-1],[1,1,3]])\n",
    "B = np.array([[3],[0],[12]])\n",
    "np.linalg.solve(A,B)\n"
   ]
  },
  {
   "cell_type": "markdown",
   "metadata": {},
   "source": [
    "# $$\\text{Exercise 6}$$\n",
    "\n",
    "Let us consider the sequence $U_n$ given by \n",
    "\\begin{equation}\\label{fib}\n",
    "\\left\\lbrace \n",
    "\\begin{array}{ll}\n",
    "U_0 &= 1,\\\\\n",
    "U_1 &= 2,\\\\\n",
    "U_{n} &=-3U_{n-1} +U_{n-2}, \\;\\; \\forall\\; n=2,3,4\\cdots\n",
    "\\end{array}\\right. \n",
    "\\end{equation}\n",
    "\n",
    "Write a python function named  <b>SeqTerms</b> that takes as input an integer $n,\\;\\;n\\geq 0$ and return an array of the first $n+1$ terms (i.e. $U_0, \\cdots, U_{n}$) of the sequence \\eqref{fib}."
   ]
  },
  {
   "cell_type": "code",
   "execution_count": 34,
   "metadata": {},
   "outputs": [
    {
     "data": {
      "text/plain": [
       "array([ 1,  2, -5, 17])"
      ]
     },
     "execution_count": 34,
     "metadata": {},
     "output_type": "execute_result"
    }
   ],
   "source": [
    "def SeqTerms(n):\n",
    "    U =  np.array([])\n",
    "    if(n >= 0):\n",
    "            if(n == 0):\n",
    "                return np.append(U,1)\n",
    "            elif(n == 1):\n",
    "                return np.append(U,[1,2])\n",
    "            else:\n",
    "                U = np.append(U,[1,2])\n",
    "                for i in range(2,n+1):\n",
    "                    U = np.append(U,-3*U[i-1] + U[i-2])\n",
    "                return U.astype(int)\n",
    "SeqTerms(3)\n",
    "\n",
    "\n",
    "\n"
   ]
  },
  {
   "cell_type": "markdown",
   "metadata": {},
   "source": [
    "# $$\\text{Exercise 7}$$\n",
    "\n",
    "Let $\\{ x_k\\}$ be a partition of $[0,1]$ such that $0=x_0<x_1<\\cdots<x_{99}<x_{100}=1$ and $H$ be the length of the $k$-th subinterval ($H = x_k - x_{k-1}$). \n",
    "\n",
    "1. Write a python code that use Euler’s method to solve the initial value problem\n",
    "\\begin{equation}\\label{eul1}\n",
    "  \\begin{cases}\n",
    "    y' = \\dfrac{2-2xy}{x^2+1},      & \\quad \\text{on } [0, 1]\\\\\\\\\n",
    "    y(0) = 1,\n",
    "  \\end{cases}\n",
    "\\end{equation}\n",
    "i.e. generates array of  $y_k\\approx g(x_k)=g_k$ where $g$ is the exact solution of \\eqref{eul1}\n",
    "\n",
    "2. The exact solution of the initial value problem is given by \n",
    "\\begin{equation}\\label{exact}\n",
    "g(x) = \\dfrac{2x+1}{x^2+1}\n",
    "\\end{equation}\n",
    "\n",
    "use $subplot$ to plot side by side\n",
    "- the exact and appromixate solution in the same window (i.e. ($y_k$  vs $x_k$ and $g_k$ vs $x_k$))\n",
    "- the error $e_k = |y_k -g_k| $ against $x_k$."
   ]
  },
  {
   "cell_type": "code",
   "execution_count": 19,
   "metadata": {},
   "outputs": [],
   "source": [
    "f = lambda x,y: (2-(2*x*y))/(x**2 +1)\n",
    "g = lambda x: (2*x +1)/(x**2 +1)\n",
    "z = lambda f,g: abs(f-g)\n",
    "def Euler(a,b,n,f):\n",
    "    x = np.linspace(a,b,n+1)\n",
    "    H = (b-a)/n\n",
    "    y = np.zeros(n+1)\n",
    "    y[0] = 1\n",
    "    for i in range(1,n+1):\n",
    "        y[i] = y[i-1] + (H * f(x[i-1],y[i-1]))\n",
    "    return x,y\n"
   ]
  },
  {
   "cell_type": "code",
   "execution_count": 20,
   "metadata": {},
   "outputs": [
    {
     "data": {
      "image/png": "[encoded data removed]",
      "text/plain": [
       "<Figure size 432x288 with 1 Axes>"
      ]
     },
     "metadata": {
      "needs_background": "light"
     },
     "output_type": "display_data"
    },
    {
     "data": {
      "image/png": "[encoded data removed]",
      "text/plain": [
       "<Figure size 432x288 with 1 Axes>"
      ]
     },
     "metadata": {
      "needs_background": "light"
     },
     "output_type": "display_data"
    }
   ],
   "source": [
    "x,y = Euler(0,1,100,f) #approximate solution\n",
    "plt.plot(x,y)\n",
    "y_0 = g(x) #actual solution \n",
    "\n",
    "err = z(y,y_0)\n",
    "\n",
    "\n",
    "plt.subplot(2,1,1)\n",
    "plt.plot(x,y)\n",
    "plt.plot(x[::5],y_0[::5],'o')\n",
    "plt.xlabel(\"x\")\n",
    "plt.ylabel(\"f(x) g(x)\")\n",
    "plt.title(\"Approximated Euler solution vs Actual solution\")\n",
    "plt.legend([\"approximate\",\"actual\"])\n",
    "plt.show()\n",
    "\n",
    "plt.subplot(2,1,2)\n",
    "plt.plot(x,err,'r-')\n",
    "plt.xlabel(\"x\")\n",
    "plt.ylabel(\"Error\")\n",
    "plt.title(\"Error e_k\")\n",
    "plt.legend([\"g(x)\"])\n",
    "plt.show()"
   ]
  },
  {
   "cell_type": "markdown",
   "metadata": {},
   "source": [
    "# $$\\text{Exercise 8}\\quad (\\text{generalization of previous exercise})$$\n",
    "\n",
    "Let $\\{ x_k\\}$ be a partition of $[a,b]$ such that $a=x_0<x_1<\\cdots<x_{99}<x_{N}=b$ and $H$ be the constant length of the $k$-th subinterval ($H = x_k - x_{k-1}$). Let us consider initial value problem\n",
    "\n",
    "\\begin{equation}\\label{eul2}\n",
    "  \\begin{cases}\n",
    "    y' = f(x,y),      & \\quad \\text{on } [a, b]\\\\\\\\\n",
    "    y(a) = c,\n",
    "  \\end{cases}\n",
    "\\end{equation}\n",
    "\n",
    "1. Write a python function <b> EulerMethod </b> that takes $a,b,c,N,$ and $f$ and plot the approximate solution of \\eqref{eul2} using Euler method."
   ]
  },
  {
   "cell_type": "code",
   "execution_count": 21,
   "metadata": {},
   "outputs": [
    {
     "data": {
      "text/plain": [
       "Text(0, 0.5, 'f(x)')"
      ]
     },
     "execution_count": 21,
     "metadata": {},
     "output_type": "execute_result"
    },
    {
     "data": {
      "image/png": "[encoded data removed]",
      "text/plain": [
       "<Figure size 432x288 with 1 Axes>"
      ]
     },
     "metadata": {
      "needs_background": "light"
     },
     "output_type": "display_data"
    }
   ],
   "source": [
    "def EulerMethod(a,b,c,N,f):\n",
    "    x = np.linspace(a,b,N+1)\n",
    "    H = (b-a)/N\n",
    "    y = np.zeros(N+1)\n",
    "    y[a] = c\n",
    "    for i in range(1,N+1):\n",
    "        y[i] = y[i-1] + (H * f(x[i-1],y[i-1]))\n",
    "    return x,y\n",
    "\n",
    "x,y = EulerMethod(0,1,0,100,f) #approximate solution\n",
    "\n",
    "plt.plot(x,y)\n",
    "plt.legend([\"f(x)\"])\n",
    "plt.title(\"Euler's Method of function approximation\")\n",
    "plt.xlabel(\"x\")\n",
    "plt.ylabel(\"f(x)\")"
   ]
  },
  {
   "cell_type": "markdown",
   "metadata": {},
   "source": [
    "2. Test the function <b> EulerMethod </b> by using the data in Exercise 6"
   ]
  },
  {
   "cell_type": "code",
   "execution_count": 30,
   "metadata": {},
   "outputs": [
    {
     "data": {
      "text/plain": [
       "Text(0, 0.5, 'f(x)')"
      ]
     },
     "execution_count": 30,
     "metadata": {},
     "output_type": "execute_result"
    },
    {
     "data": {
      "image/png": "[encoded data removed]",
      "text/plain": [
       "<Figure size 432x288 with 1 Axes>"
      ]
     },
     "metadata": {
      "needs_background": "light"
     },
     "output_type": "display_data"
    }
   ],
   "source": [
    "a = 0\n",
    "b = 1\n",
    "N = 100\n",
    "c = 1\n",
    "x,y = EulerMethod(a,b,c,N,f)\n",
    "plt.plot(x,y,'g-')\n",
    "plt.legend([\"Approximation of g(x)\"])\n",
    "plt.title(\"Euler's Method of function approximation\")\n",
    "plt.xlabel(\"x\")\n",
    "plt.ylabel(\"f(x)\")"
   ]
  },
  {
   "cell_type": "markdown",
   "metadata": {},
   "source": [
    "# $$\\text{Exercise 9}$$\n",
    "\n",
    "Consider a 25 L tank that will be filled with water in two different ways. In the first case, the water volume that enters the tank per time (rate of volume increase) is piecewise constant, while in the second case, it is continuously increasing.\n",
    "\n",
    "For each of these two cases, you are asked to develop a code that can compute how the total water volume V  in the tank will develop with time t over a period of 3 s. Your calculations must be based on the information given: the initial volume of water (1L in both cases), and the volume of water entering the tank per time. Write a python code to solve and plot the exact volume against the time for the rate $r(t)$ given by \n",
    "1. Case 1: piecewise constant\n",
    "\\begin{equation}\n",
    "r(t) =\n",
    "  \\begin{cases}\n",
    "    1 L/s      & \\quad \\text{if }\\quad  0s<t<1s\\\\\n",
    "    3 L/s  & \\quad \\text{if }\\quad  1s\\leq t< 2s\\\\\n",
    "    7 L/s & \\quad  \\text{if }\\quad  2s\\leq t\\leq 3s\n",
    "  \\end{cases}\n",
    "\\end{equation}\n",
    "\n",
    "2. Case 2:  $r(t) = e^t$ for all $0< t\\leq 3$.\n"
   ]
  },
  {
   "cell_type": "code",
   "execution_count": 31,
   "metadata": {},
   "outputs": [],
   "source": [
    "def r(t):\n",
    "        if 0< t <1:\n",
    "            return t+ 1\n",
    "        elif 1<=t<2:\n",
    "            return 3*t -1\n",
    "        elif 2<=t<=3:\n",
    "            return 7*t -9\n",
    "        else:\n",
    "            return 1.0\n",
    "vr = np.vectorize(r)\n",
    "\n",
    "\n",
    "a = 0\n",
    "b = 3\n",
    "N = 100\n",
    "t=np.linspace(a,b,N+1)\n",
    "v = vr(t)"
   ]
  },
  {
   "cell_type": "code",
   "execution_count": 32,
   "metadata": {
    "scrolled": true
   },
   "outputs": [],
   "source": [
    "def Vol_Exp(a,b,N):\n",
    "    t = np.linspace(a,b,N+1)\n",
    "    v_e = np.zeros(N+1)\n",
    "    v_e[0] = 1.0\n",
    "    for k in range(len(t)):\n",
    "        v_e[k]=np.exp(t[k])\n",
    "    return v_e\n",
    "\n",
    "v_e = Vol_Exp(0,3,100)"
   ]
  },
  {
   "cell_type": "code",
   "execution_count": 33,
   "metadata": {},
   "outputs": [
    {
     "data": {
      "image/png": "[encoded data removed]",
      "text/plain": [
       "<Figure size 576x288 with 1 Axes>"
      ]
     },
     "metadata": {
      "needs_background": "light"
     },
     "output_type": "display_data"
    },
    {
     "data": {
      "image/png": "[encoded data removed]",
      "text/plain": [
       "<Figure size 864x432 with 1 Axes>"
      ]
     },
     "metadata": {
      "needs_background": "light"
     },
     "output_type": "display_data"
    }
   ],
   "source": [
    "def grapher(t,v,v_e,label):\n",
    "    plt.figure(figsize=(8,4))\n",
    "    plt.subplot(2,1,1)\n",
    "    plt.plot(t,v)\n",
    "    plt.title('Graph of Exact Values against time')\n",
    "    plt.xlabel('Time')\n",
    "    plt.ylabel('Exact Values')\n",
    "    plt.legend(['Piecewise'])\n",
    "    plt.show()\n",
    "    plt.figure(figsize=(12,6))\n",
    "    plt.subplot(2,2,1)\n",
    "    plt.plot(t,v_e)\n",
    "    plt.title('Graph of Exact Values against time')\n",
    "    plt.xlabel('Time')\n",
    "    plt.ylabel('Exact Values')\n",
    "    plt.legend(['Continuous'])\n",
    "    plt.show()\n",
    "grapher(t,v,v_e,['Graph of Exact Values against time','Exact Values','Piecewise','Continuous'])\n"
   ]
  },
  {
   "cell_type": "code",
   "execution_count": null,
   "metadata": {},
   "outputs": [],
   "source": []
  }
 ],
 "metadata": {
  "kernelspec": {
   "display_name": "Python 3",
   "language": "python",
   "name": "python3"
  },
  "language_info": {
   "codemirror_mode": {
    "name": "ipython",
    "version": 3
   },
   "file_extension": ".py",
   "mimetype": "text/x-python",
   "name": "python",
   "nbconvert_exporter": "python",
   "pygments_lexer": "ipython3",
   "version": "3.7.3"
  }
 },
 "nbformat": 4,
 "nbformat_minor": 4
}
