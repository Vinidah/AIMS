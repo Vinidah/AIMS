{
 "cells": [
  {
   "cell_type": "code",
   "execution_count": 45,
   "metadata": {},
   "outputs": [],
   "source": [
    "import numpy as np\n",
    "import matplotlib.pyplot as plt\n",
    "import pandas as pd\n",
    "from mpl_toolkits.mplot3d import Axes3D"
   ]
  },
  {
   "cell_type": "code",
   "execution_count": 7,
   "metadata": {},
   "outputs": [
    {
     "data": {
      "text/plain": [
       "0    1.0\n",
       "1    2.0\n",
       "2    3.0\n",
       "3    4.0\n",
       "4    5.0\n",
       "5    6.0\n",
       "Name: a, dtype: float64"
      ]
     },
     "execution_count": 7,
     "metadata": {},
     "output_type": "execute_result"
    }
   ],
   "source": [
    "pd.Series([1.,2,3,4,5,6,],name='a')"
   ]
  },
  {
   "cell_type": "code",
   "execution_count": 6,
   "metadata": {},
   "outputs": [],
   "source": [
    "??pd.Series"
   ]
  },
  {
   "cell_type": "code",
   "execution_count": 15,
   "metadata": {},
   "outputs": [],
   "source": [
    "prep = {\"name\": [\"Yusuf\",\"John\",\"Max\",\"Jack\",\"Ben\"],'grades':[50,10,34,23,10]}"
   ]
  },
  {
   "cell_type": "code",
   "execution_count": 16,
   "metadata": {},
   "outputs": [
    {
     "data": {
      "text/plain": [
       "{'name': ['Yusuf', 'John', 'Max', 'Jack', 'Ben'],\n",
       " 'grades': [50, 10, 34, 23, 10]}"
      ]
     },
     "execution_count": 16,
     "metadata": {},
     "output_type": "execute_result"
    }
   ],
   "source": [
    "prep"
   ]
  },
  {
   "cell_type": "code",
   "execution_count": 17,
   "metadata": {},
   "outputs": [
    {
     "data": {
      "text/plain": [
       "name      [Yusuf, John, Max, Jack, Ben]\n",
       "grades             [50, 10, 34, 23, 10]\n",
       "dtype: object"
      ]
     },
     "execution_count": 17,
     "metadata": {},
     "output_type": "execute_result"
    }
   ],
   "source": [
    "pd.Series(prep)"
   ]
  },
  {
   "cell_type": "code",
   "execution_count": 18,
   "metadata": {},
   "outputs": [
    {
     "data": {
      "text/plain": [
       "[50, 10, 34, 23, 10]"
      ]
     },
     "execution_count": 18,
     "metadata": {},
     "output_type": "execute_result"
    }
   ],
   "source": [
    "prep['grades']"
   ]
  },
  {
   "cell_type": "code",
   "execution_count": 19,
   "metadata": {},
   "outputs": [
    {
     "data": {
      "text/plain": [
       "Yusuf    50\n",
       "John     10\n",
       "Max      34\n",
       "Jack     23\n",
       "Ben      10\n",
       "dtype: int64"
      ]
     },
     "execution_count": 19,
     "metadata": {},
     "output_type": "execute_result"
    }
   ],
   "source": [
    "pd.Series(prep['grades'],index=prep['name'])"
   ]
  },
  {
   "cell_type": "code",
   "execution_count": 20,
   "metadata": {},
   "outputs": [],
   "source": [
    "dataset = pd.read_csv('data.csv')"
   ]
  },
  {
   "cell_type": "code",
   "execution_count": 22,
   "metadata": {},
   "outputs": [
    {
     "data": {
      "text/html": [
       "<div>\n",
       "<style scoped>\n",
       "    .dataframe tbody tr th:only-of-type {\n",
       "        vertical-align: middle;\n",
       "    }\n",
       "\n",
       "    .dataframe tbody tr th {\n",
       "        vertical-align: top;\n",
       "    }\n",
       "\n",
       "    .dataframe thead th {\n",
       "        text-align: right;\n",
       "    }\n",
       "</style>\n",
       "<table border=\"1\" class=\"dataframe\">\n",
       "  <thead>\n",
       "    <tr style=\"text-align: right;\">\n",
       "      <th></th>\n",
       "      <th>CRIM</th>\n",
       "      <th>ZN</th>\n",
       "      <th>INDUS</th>\n",
       "      <th>CHAS</th>\n",
       "      <th>NOX</th>\n",
       "      <th>RM</th>\n",
       "      <th>AGE</th>\n",
       "      <th>DIS</th>\n",
       "      <th>RAD</th>\n",
       "      <th>TAX</th>\n",
       "      <th>PTRATIO</th>\n",
       "      <th>B</th>\n",
       "      <th>LSTAT</th>\n",
       "      <th>MEDV</th>\n",
       "    </tr>\n",
       "  </thead>\n",
       "  <tbody>\n",
       "    <tr>\n",
       "      <th>0</th>\n",
       "      <td>0.00632</td>\n",
       "      <td>18.0</td>\n",
       "      <td>2.31</td>\n",
       "      <td>0</td>\n",
       "      <td>0.538</td>\n",
       "      <td>6.575</td>\n",
       "      <td>65.2</td>\n",
       "      <td>4.0900</td>\n",
       "      <td>1</td>\n",
       "      <td>296</td>\n",
       "      <td>15.3</td>\n",
       "      <td>396.90</td>\n",
       "      <td>4.98</td>\n",
       "      <td>24.0</td>\n",
       "    </tr>\n",
       "    <tr>\n",
       "      <th>1</th>\n",
       "      <td>0.02731</td>\n",
       "      <td>0.0</td>\n",
       "      <td>7.07</td>\n",
       "      <td>0</td>\n",
       "      <td>0.469</td>\n",
       "      <td>6.421</td>\n",
       "      <td>78.9</td>\n",
       "      <td>4.9671</td>\n",
       "      <td>2</td>\n",
       "      <td>242</td>\n",
       "      <td>17.8</td>\n",
       "      <td>396.90</td>\n",
       "      <td>9.14</td>\n",
       "      <td>21.6</td>\n",
       "    </tr>\n",
       "    <tr>\n",
       "      <th>2</th>\n",
       "      <td>0.02729</td>\n",
       "      <td>0.0</td>\n",
       "      <td>7.07</td>\n",
       "      <td>0</td>\n",
       "      <td>0.469</td>\n",
       "      <td>7.185</td>\n",
       "      <td>61.1</td>\n",
       "      <td>4.9671</td>\n",
       "      <td>2</td>\n",
       "      <td>242</td>\n",
       "      <td>17.8</td>\n",
       "      <td>392.83</td>\n",
       "      <td>4.03</td>\n",
       "      <td>34.7</td>\n",
       "    </tr>\n",
       "    <tr>\n",
       "      <th>3</th>\n",
       "      <td>0.03237</td>\n",
       "      <td>0.0</td>\n",
       "      <td>2.18</td>\n",
       "      <td>0</td>\n",
       "      <td>0.458</td>\n",
       "      <td>6.998</td>\n",
       "      <td>45.8</td>\n",
       "      <td>6.0622</td>\n",
       "      <td>3</td>\n",
       "      <td>222</td>\n",
       "      <td>18.7</td>\n",
       "      <td>394.63</td>\n",
       "      <td>2.94</td>\n",
       "      <td>33.4</td>\n",
       "    </tr>\n",
       "    <tr>\n",
       "      <th>4</th>\n",
       "      <td>0.06905</td>\n",
       "      <td>0.0</td>\n",
       "      <td>2.18</td>\n",
       "      <td>0</td>\n",
       "      <td>0.458</td>\n",
       "      <td>7.147</td>\n",
       "      <td>54.2</td>\n",
       "      <td>6.0622</td>\n",
       "      <td>3</td>\n",
       "      <td>222</td>\n",
       "      <td>18.7</td>\n",
       "      <td>396.90</td>\n",
       "      <td>5.33</td>\n",
       "      <td>36.2</td>\n",
       "    </tr>\n",
       "  </tbody>\n",
       "</table>\n",
       "</div>"
      ],
      "text/plain": [
       "      CRIM    ZN  INDUS  CHAS    NOX     RM   AGE     DIS  RAD  TAX  PTRATIO  \\\n",
       "0  0.00632  18.0   2.31     0  0.538  6.575  65.2  4.0900    1  296     15.3   \n",
       "1  0.02731   0.0   7.07     0  0.469  6.421  78.9  4.9671    2  242     17.8   \n",
       "2  0.02729   0.0   7.07     0  0.469  7.185  61.1  4.9671    2  242     17.8   \n",
       "3  0.03237   0.0   2.18     0  0.458  6.998  45.8  6.0622    3  222     18.7   \n",
       "4  0.06905   0.0   2.18     0  0.458  7.147  54.2  6.0622    3  222     18.7   \n",
       "\n",
       "        B  LSTAT  MEDV  \n",
       "0  396.90   4.98  24.0  \n",
       "1  396.90   9.14  21.6  \n",
       "2  392.83   4.03  34.7  \n",
       "3  394.63   2.94  33.4  \n",
       "4  396.90   5.33  36.2  "
      ]
     },
     "execution_count": 22,
     "metadata": {},
     "output_type": "execute_result"
    }
   ],
   "source": [
    "dataset.head()"
   ]
  },
  {
   "cell_type": "code",
   "execution_count": 24,
   "metadata": {},
   "outputs": [
    {
     "data": {
      "text/html": [
       "<div>\n",
       "<style scoped>\n",
       "    .dataframe tbody tr th:only-of-type {\n",
       "        vertical-align: middle;\n",
       "    }\n",
       "\n",
       "    .dataframe tbody tr th {\n",
       "        vertical-align: top;\n",
       "    }\n",
       "\n",
       "    .dataframe thead th {\n",
       "        text-align: right;\n",
       "    }\n",
       "</style>\n",
       "<table border=\"1\" class=\"dataframe\">\n",
       "  <thead>\n",
       "    <tr style=\"text-align: right;\">\n",
       "      <th></th>\n",
       "      <th>CRIM</th>\n",
       "      <th>ZN</th>\n",
       "      <th>INDUS</th>\n",
       "      <th>CHAS</th>\n",
       "      <th>NOX</th>\n",
       "      <th>RM</th>\n",
       "      <th>AGE</th>\n",
       "      <th>DIS</th>\n",
       "      <th>RAD</th>\n",
       "      <th>TAX</th>\n",
       "      <th>PTRATIO</th>\n",
       "      <th>B</th>\n",
       "      <th>LSTAT</th>\n",
       "      <th>MEDV</th>\n",
       "    </tr>\n",
       "  </thead>\n",
       "  <tbody>\n",
       "    <tr>\n",
       "      <th>count</th>\n",
       "      <td>511.000000</td>\n",
       "      <td>511.000000</td>\n",
       "      <td>511.000000</td>\n",
       "      <td>511.000000</td>\n",
       "      <td>511.000000</td>\n",
       "      <td>506.000000</td>\n",
       "      <td>511.000000</td>\n",
       "      <td>511.000000</td>\n",
       "      <td>511.000000</td>\n",
       "      <td>511.000000</td>\n",
       "      <td>511.000000</td>\n",
       "      <td>511.000000</td>\n",
       "      <td>511.000000</td>\n",
       "      <td>511.000000</td>\n",
       "    </tr>\n",
       "    <tr>\n",
       "      <th>mean</th>\n",
       "      <td>3.584139</td>\n",
       "      <td>11.252446</td>\n",
       "      <td>11.151096</td>\n",
       "      <td>0.068493</td>\n",
       "      <td>0.554757</td>\n",
       "      <td>6.287589</td>\n",
       "      <td>68.616243</td>\n",
       "      <td>3.783876</td>\n",
       "      <td>9.485323</td>\n",
       "      <td>407.440313</td>\n",
       "      <td>18.500000</td>\n",
       "      <td>356.600900</td>\n",
       "      <td>12.879550</td>\n",
       "      <td>22.682192</td>\n",
       "    </tr>\n",
       "    <tr>\n",
       "      <th>std</th>\n",
       "      <td>8.564433</td>\n",
       "      <td>23.234838</td>\n",
       "      <td>6.828175</td>\n",
       "      <td>0.252838</td>\n",
       "      <td>0.115310</td>\n",
       "      <td>0.703802</td>\n",
       "      <td>28.099130</td>\n",
       "      <td>2.098631</td>\n",
       "      <td>8.688469</td>\n",
       "      <td>167.903532</td>\n",
       "      <td>2.200348</td>\n",
       "      <td>90.882679</td>\n",
       "      <td>7.797416</td>\n",
       "      <td>9.484262</td>\n",
       "    </tr>\n",
       "    <tr>\n",
       "      <th>min</th>\n",
       "      <td>0.006320</td>\n",
       "      <td>0.000000</td>\n",
       "      <td>0.460000</td>\n",
       "      <td>0.000000</td>\n",
       "      <td>0.385000</td>\n",
       "      <td>3.561000</td>\n",
       "      <td>2.900000</td>\n",
       "      <td>1.129600</td>\n",
       "      <td>1.000000</td>\n",
       "      <td>187.000000</td>\n",
       "      <td>12.600000</td>\n",
       "      <td>0.320000</td>\n",
       "      <td>1.730000</td>\n",
       "      <td>5.000000</td>\n",
       "    </tr>\n",
       "    <tr>\n",
       "      <th>25%</th>\n",
       "      <td>0.082325</td>\n",
       "      <td>0.000000</td>\n",
       "      <td>5.190000</td>\n",
       "      <td>0.000000</td>\n",
       "      <td>0.449000</td>\n",
       "      <td>5.885500</td>\n",
       "      <td>45.050000</td>\n",
       "      <td>2.100350</td>\n",
       "      <td>4.000000</td>\n",
       "      <td>279.500000</td>\n",
       "      <td>17.400000</td>\n",
       "      <td>374.710000</td>\n",
       "      <td>7.065000</td>\n",
       "      <td>17.050000</td>\n",
       "    </tr>\n",
       "    <tr>\n",
       "      <th>50%</th>\n",
       "      <td>0.261690</td>\n",
       "      <td>0.000000</td>\n",
       "      <td>9.690000</td>\n",
       "      <td>0.000000</td>\n",
       "      <td>0.538000</td>\n",
       "      <td>6.209000</td>\n",
       "      <td>77.300000</td>\n",
       "      <td>3.152300</td>\n",
       "      <td>5.000000</td>\n",
       "      <td>330.000000</td>\n",
       "      <td>19.100000</td>\n",
       "      <td>391.340000</td>\n",
       "      <td>11.450000</td>\n",
       "      <td>21.200000</td>\n",
       "    </tr>\n",
       "    <tr>\n",
       "      <th>75%</th>\n",
       "      <td>3.621175</td>\n",
       "      <td>12.500000</td>\n",
       "      <td>18.100000</td>\n",
       "      <td>0.000000</td>\n",
       "      <td>0.624000</td>\n",
       "      <td>6.629750</td>\n",
       "      <td>94.050000</td>\n",
       "      <td>5.118000</td>\n",
       "      <td>24.000000</td>\n",
       "      <td>666.000000</td>\n",
       "      <td>20.200000</td>\n",
       "      <td>396.210000</td>\n",
       "      <td>17.105000</td>\n",
       "      <td>25.000000</td>\n",
       "    </tr>\n",
       "    <tr>\n",
       "      <th>max</th>\n",
       "      <td>88.976200</td>\n",
       "      <td>100.000000</td>\n",
       "      <td>27.740000</td>\n",
       "      <td>1.000000</td>\n",
       "      <td>0.871000</td>\n",
       "      <td>8.780000</td>\n",
       "      <td>100.000000</td>\n",
       "      <td>12.126500</td>\n",
       "      <td>24.000000</td>\n",
       "      <td>711.000000</td>\n",
       "      <td>23.000000</td>\n",
       "      <td>396.900000</td>\n",
       "      <td>76.000000</td>\n",
       "      <td>67.000000</td>\n",
       "    </tr>\n",
       "  </tbody>\n",
       "</table>\n",
       "</div>"
      ],
      "text/plain": [
       "             CRIM          ZN       INDUS        CHAS         NOX          RM  \\\n",
       "count  511.000000  511.000000  511.000000  511.000000  511.000000  506.000000   \n",
       "mean     3.584139   11.252446   11.151096    0.068493    0.554757    6.287589   \n",
       "std      8.564433   23.234838    6.828175    0.252838    0.115310    0.703802   \n",
       "min      0.006320    0.000000    0.460000    0.000000    0.385000    3.561000   \n",
       "25%      0.082325    0.000000    5.190000    0.000000    0.449000    5.885500   \n",
       "50%      0.261690    0.000000    9.690000    0.000000    0.538000    6.209000   \n",
       "75%      3.621175   12.500000   18.100000    0.000000    0.624000    6.629750   \n",
       "max     88.976200  100.000000   27.740000    1.000000    0.871000    8.780000   \n",
       "\n",
       "              AGE         DIS         RAD         TAX     PTRATIO           B  \\\n",
       "count  511.000000  511.000000  511.000000  511.000000  511.000000  511.000000   \n",
       "mean    68.616243    3.783876    9.485323  407.440313   18.500000  356.600900   \n",
       "std     28.099130    2.098631    8.688469  167.903532    2.200348   90.882679   \n",
       "min      2.900000    1.129600    1.000000  187.000000   12.600000    0.320000   \n",
       "25%     45.050000    2.100350    4.000000  279.500000   17.400000  374.710000   \n",
       "50%     77.300000    3.152300    5.000000  330.000000   19.100000  391.340000   \n",
       "75%     94.050000    5.118000   24.000000  666.000000   20.200000  396.210000   \n",
       "max    100.000000   12.126500   24.000000  711.000000   23.000000  396.900000   \n",
       "\n",
       "            LSTAT        MEDV  \n",
       "count  511.000000  511.000000  \n",
       "mean    12.879550   22.682192  \n",
       "std      7.797416    9.484262  \n",
       "min      1.730000    5.000000  \n",
       "25%      7.065000   17.050000  \n",
       "50%     11.450000   21.200000  \n",
       "75%     17.105000   25.000000  \n",
       "max     76.000000   67.000000  "
      ]
     },
     "execution_count": 24,
     "metadata": {},
     "output_type": "execute_result"
    }
   ],
   "source": [
    "dataset.describe()"
   ]
  },
  {
   "cell_type": "code",
   "execution_count": 25,
   "metadata": {},
   "outputs": [
    {
     "data": {
      "text/plain": [
       "CRIM         0.00632\n",
       "ZN          18.00000\n",
       "INDUS        2.31000\n",
       "CHAS         0.00000\n",
       "NOX          0.53800\n",
       "RM           6.57500\n",
       "AGE         65.20000\n",
       "DIS          4.09000\n",
       "RAD          1.00000\n",
       "TAX        296.00000\n",
       "PTRATIO     15.30000\n",
       "B          396.90000\n",
       "LSTAT        4.98000\n",
       "MEDV        24.00000\n",
       "Name: 0, dtype: float64"
      ]
     },
     "execution_count": 25,
     "metadata": {},
     "output_type": "execute_result"
    }
   ],
   "source": [
    "dataset.iloc[0]"
   ]
  },
  {
   "cell_type": "code",
   "execution_count": 30,
   "metadata": {},
   "outputs": [
    {
     "data": {
      "image/png": "[encoded data removed]",
      "text/plain": [
       "<Figure size 432x288 with 1 Axes>"
      ]
     },
     "metadata": {
      "needs_background": "light"
     },
     "output_type": "display_data"
    }
   ],
   "source": [
    "plt.scatter(dataset['CRIM'],dataset['AGE'])\n",
    "plt.xlabel(\"CRIM\")\n",
    "plt.ylabel(\"AGE\")\n",
    "plt.show()"
   ]
  },
  {
   "cell_type": "code",
   "execution_count": 31,
   "metadata": {},
   "outputs": [
    {
     "data": {
      "text/plain": [
       "(511, 14)"
      ]
     },
     "execution_count": 31,
     "metadata": {},
     "output_type": "execute_result"
    }
   ],
   "source": [
    "dataset.shape"
   ]
  },
  {
   "cell_type": "code",
   "execution_count": 32,
   "metadata": {},
   "outputs": [
    {
     "data": {
      "text/html": [
       "<div>\n",
       "<style scoped>\n",
       "    .dataframe tbody tr th:only-of-type {\n",
       "        vertical-align: middle;\n",
       "    }\n",
       "\n",
       "    .dataframe tbody tr th {\n",
       "        vertical-align: top;\n",
       "    }\n",
       "\n",
       "    .dataframe thead th {\n",
       "        text-align: right;\n",
       "    }\n",
       "</style>\n",
       "<table border=\"1\" class=\"dataframe\">\n",
       "  <thead>\n",
       "    <tr style=\"text-align: right;\">\n",
       "      <th></th>\n",
       "      <th>CRIM</th>\n",
       "      <th>ZN</th>\n",
       "      <th>INDUS</th>\n",
       "      <th>CHAS</th>\n",
       "      <th>NOX</th>\n",
       "      <th>RM</th>\n",
       "      <th>AGE</th>\n",
       "      <th>DIS</th>\n",
       "      <th>RAD</th>\n",
       "      <th>TAX</th>\n",
       "      <th>PTRATIO</th>\n",
       "      <th>B</th>\n",
       "      <th>LSTAT</th>\n",
       "      <th>MEDV</th>\n",
       "    </tr>\n",
       "  </thead>\n",
       "  <tbody>\n",
       "    <tr>\n",
       "      <th>CRIM</th>\n",
       "      <td>1.000000</td>\n",
       "      <td>-0.198451</td>\n",
       "      <td>0.405524</td>\n",
       "      <td>-0.054906</td>\n",
       "      <td>0.420524</td>\n",
       "      <td>-0.220363</td>\n",
       "      <td>0.350847</td>\n",
       "      <td>-0.377028</td>\n",
       "      <td>0.625964</td>\n",
       "      <td>0.583389</td>\n",
       "      <td>0.276695</td>\n",
       "      <td>-0.384356</td>\n",
       "      <td>0.405030</td>\n",
       "      <td>-0.380072</td>\n",
       "    </tr>\n",
       "    <tr>\n",
       "      <th>ZN</th>\n",
       "      <td>-0.198451</td>\n",
       "      <td>1.000000</td>\n",
       "      <td>-0.534106</td>\n",
       "      <td>-0.041333</td>\n",
       "      <td>-0.516256</td>\n",
       "      <td>0.307812</td>\n",
       "      <td>-0.567796</td>\n",
       "      <td>0.665185</td>\n",
       "      <td>-0.307146</td>\n",
       "      <td>-0.311531</td>\n",
       "      <td>-0.392844</td>\n",
       "      <td>0.175637</td>\n",
       "      <td>-0.390029</td>\n",
       "      <td>0.339767</td>\n",
       "    </tr>\n",
       "    <tr>\n",
       "      <th>INDUS</th>\n",
       "      <td>0.405524</td>\n",
       "      <td>-0.534106</td>\n",
       "      <td>1.000000</td>\n",
       "      <td>0.062332</td>\n",
       "      <td>0.763583</td>\n",
       "      <td>-0.392193</td>\n",
       "      <td>0.642817</td>\n",
       "      <td>-0.707886</td>\n",
       "      <td>0.591784</td>\n",
       "      <td>0.718764</td>\n",
       "      <td>0.379441</td>\n",
       "      <td>-0.356955</td>\n",
       "      <td>0.556707</td>\n",
       "      <td>-0.463269</td>\n",
       "    </tr>\n",
       "    <tr>\n",
       "      <th>CHAS</th>\n",
       "      <td>-0.054906</td>\n",
       "      <td>-0.041333</td>\n",
       "      <td>0.062332</td>\n",
       "      <td>1.000000</td>\n",
       "      <td>0.091023</td>\n",
       "      <td>0.089952</td>\n",
       "      <td>0.085814</td>\n",
       "      <td>-0.097541</td>\n",
       "      <td>-0.005343</td>\n",
       "      <td>-0.034244</td>\n",
       "      <td>-0.124415</td>\n",
       "      <td>0.048970</td>\n",
       "      <td>-0.057013</td>\n",
       "      <td>0.164782</td>\n",
       "    </tr>\n",
       "    <tr>\n",
       "      <th>NOX</th>\n",
       "      <td>0.420524</td>\n",
       "      <td>-0.516256</td>\n",
       "      <td>0.763583</td>\n",
       "      <td>0.091023</td>\n",
       "      <td>1.000000</td>\n",
       "      <td>-0.301778</td>\n",
       "      <td>0.729233</td>\n",
       "      <td>-0.768309</td>\n",
       "      <td>0.609343</td>\n",
       "      <td>0.666982</td>\n",
       "      <td>0.186073</td>\n",
       "      <td>-0.379936</td>\n",
       "      <td>0.540050</td>\n",
       "      <td>-0.411486</td>\n",
       "    </tr>\n",
       "    <tr>\n",
       "      <th>RM</th>\n",
       "      <td>-0.220363</td>\n",
       "      <td>0.307812</td>\n",
       "      <td>-0.392193</td>\n",
       "      <td>0.089952</td>\n",
       "      <td>-0.301778</td>\n",
       "      <td>1.000000</td>\n",
       "      <td>-0.237335</td>\n",
       "      <td>0.199853</td>\n",
       "      <td>-0.213078</td>\n",
       "      <td>-0.293969</td>\n",
       "      <td>-0.339755</td>\n",
       "      <td>0.127888</td>\n",
       "      <td>-0.553126</td>\n",
       "      <td>0.667695</td>\n",
       "    </tr>\n",
       "    <tr>\n",
       "      <th>AGE</th>\n",
       "      <td>0.350847</td>\n",
       "      <td>-0.567796</td>\n",
       "      <td>0.642817</td>\n",
       "      <td>0.085814</td>\n",
       "      <td>0.729233</td>\n",
       "      <td>-0.237335</td>\n",
       "      <td>1.000000</td>\n",
       "      <td>-0.745097</td>\n",
       "      <td>0.452229</td>\n",
       "      <td>0.503360</td>\n",
       "      <td>0.258251</td>\n",
       "      <td>-0.271925</td>\n",
       "      <td>0.529994</td>\n",
       "      <td>-0.368203</td>\n",
       "    </tr>\n",
       "    <tr>\n",
       "      <th>DIS</th>\n",
       "      <td>-0.377028</td>\n",
       "      <td>0.665185</td>\n",
       "      <td>-0.707886</td>\n",
       "      <td>-0.097541</td>\n",
       "      <td>-0.768309</td>\n",
       "      <td>0.199853</td>\n",
       "      <td>-0.745097</td>\n",
       "      <td>1.000000</td>\n",
       "      <td>-0.488474</td>\n",
       "      <td>-0.530379</td>\n",
       "      <td>-0.238155</td>\n",
       "      <td>0.290997</td>\n",
       "      <td>-0.467063</td>\n",
       "      <td>0.233469</td>\n",
       "    </tr>\n",
       "    <tr>\n",
       "      <th>RAD</th>\n",
       "      <td>0.625964</td>\n",
       "      <td>-0.307146</td>\n",
       "      <td>0.591784</td>\n",
       "      <td>-0.005343</td>\n",
       "      <td>0.609343</td>\n",
       "      <td>-0.213078</td>\n",
       "      <td>0.452229</td>\n",
       "      <td>-0.488474</td>\n",
       "      <td>1.000000</td>\n",
       "      <td>0.910211</td>\n",
       "      <td>0.438646</td>\n",
       "      <td>-0.442406</td>\n",
       "      <td>0.422389</td>\n",
       "      <td>-0.379016</td>\n",
       "    </tr>\n",
       "    <tr>\n",
       "      <th>TAX</th>\n",
       "      <td>0.583389</td>\n",
       "      <td>-0.311531</td>\n",
       "      <td>0.718764</td>\n",
       "      <td>-0.034244</td>\n",
       "      <td>0.666982</td>\n",
       "      <td>-0.293969</td>\n",
       "      <td>0.503360</td>\n",
       "      <td>-0.530379</td>\n",
       "      <td>0.910211</td>\n",
       "      <td>1.000000</td>\n",
       "      <td>0.440962</td>\n",
       "      <td>-0.440830</td>\n",
       "      <td>0.482088</td>\n",
       "      <td>-0.459274</td>\n",
       "    </tr>\n",
       "    <tr>\n",
       "      <th>PTRATIO</th>\n",
       "      <td>0.276695</td>\n",
       "      <td>-0.392844</td>\n",
       "      <td>0.379441</td>\n",
       "      <td>-0.124415</td>\n",
       "      <td>0.186073</td>\n",
       "      <td>-0.339755</td>\n",
       "      <td>0.258251</td>\n",
       "      <td>-0.238155</td>\n",
       "      <td>0.438646</td>\n",
       "      <td>0.440962</td>\n",
       "      <td>1.000000</td>\n",
       "      <td>-0.175251</td>\n",
       "      <td>0.393263</td>\n",
       "      <td>-0.447464</td>\n",
       "    </tr>\n",
       "    <tr>\n",
       "      <th>B</th>\n",
       "      <td>-0.384356</td>\n",
       "      <td>0.175637</td>\n",
       "      <td>-0.356955</td>\n",
       "      <td>0.048970</td>\n",
       "      <td>-0.379936</td>\n",
       "      <td>0.127888</td>\n",
       "      <td>-0.271925</td>\n",
       "      <td>0.290997</td>\n",
       "      <td>-0.442406</td>\n",
       "      <td>-0.440830</td>\n",
       "      <td>-0.175251</td>\n",
       "      <td>1.000000</td>\n",
       "      <td>-0.339910</td>\n",
       "      <td>0.317941</td>\n",
       "    </tr>\n",
       "    <tr>\n",
       "      <th>LSTAT</th>\n",
       "      <td>0.405030</td>\n",
       "      <td>-0.390029</td>\n",
       "      <td>0.556707</td>\n",
       "      <td>-0.057013</td>\n",
       "      <td>0.540050</td>\n",
       "      <td>-0.553126</td>\n",
       "      <td>0.529994</td>\n",
       "      <td>-0.467063</td>\n",
       "      <td>0.422389</td>\n",
       "      <td>0.482088</td>\n",
       "      <td>0.393263</td>\n",
       "      <td>-0.339910</td>\n",
       "      <td>1.000000</td>\n",
       "      <td>-0.562960</td>\n",
       "    </tr>\n",
       "    <tr>\n",
       "      <th>MEDV</th>\n",
       "      <td>-0.380072</td>\n",
       "      <td>0.339767</td>\n",
       "      <td>-0.463269</td>\n",
       "      <td>0.164782</td>\n",
       "      <td>-0.411486</td>\n",
       "      <td>0.667695</td>\n",
       "      <td>-0.368203</td>\n",
       "      <td>0.233469</td>\n",
       "      <td>-0.379016</td>\n",
       "      <td>-0.459274</td>\n",
       "      <td>-0.447464</td>\n",
       "      <td>0.317941</td>\n",
       "      <td>-0.562960</td>\n",
       "      <td>1.000000</td>\n",
       "    </tr>\n",
       "  </tbody>\n",
       "</table>\n",
       "</div>"
      ],
      "text/plain": [
       "             CRIM        ZN     INDUS      CHAS       NOX        RM       AGE  \\\n",
       "CRIM     1.000000 -0.198451  0.405524 -0.054906  0.420524 -0.220363  0.350847   \n",
       "ZN      -0.198451  1.000000 -0.534106 -0.041333 -0.516256  0.307812 -0.567796   \n",
       "INDUS    0.405524 -0.534106  1.000000  0.062332  0.763583 -0.392193  0.642817   \n",
       "CHAS    -0.054906 -0.041333  0.062332  1.000000  0.091023  0.089952  0.085814   \n",
       "NOX      0.420524 -0.516256  0.763583  0.091023  1.000000 -0.301778  0.729233   \n",
       "RM      -0.220363  0.307812 -0.392193  0.089952 -0.301778  1.000000 -0.237335   \n",
       "AGE      0.350847 -0.567796  0.642817  0.085814  0.729233 -0.237335  1.000000   \n",
       "DIS     -0.377028  0.665185 -0.707886 -0.097541 -0.768309  0.199853 -0.745097   \n",
       "RAD      0.625964 -0.307146  0.591784 -0.005343  0.609343 -0.213078  0.452229   \n",
       "TAX      0.583389 -0.311531  0.718764 -0.034244  0.666982 -0.293969  0.503360   \n",
       "PTRATIO  0.276695 -0.392844  0.379441 -0.124415  0.186073 -0.339755  0.258251   \n",
       "B       -0.384356  0.175637 -0.356955  0.048970 -0.379936  0.127888 -0.271925   \n",
       "LSTAT    0.405030 -0.390029  0.556707 -0.057013  0.540050 -0.553126  0.529994   \n",
       "MEDV    -0.380072  0.339767 -0.463269  0.164782 -0.411486  0.667695 -0.368203   \n",
       "\n",
       "              DIS       RAD       TAX   PTRATIO         B     LSTAT      MEDV  \n",
       "CRIM    -0.377028  0.625964  0.583389  0.276695 -0.384356  0.405030 -0.380072  \n",
       "ZN       0.665185 -0.307146 -0.311531 -0.392844  0.175637 -0.390029  0.339767  \n",
       "INDUS   -0.707886  0.591784  0.718764  0.379441 -0.356955  0.556707 -0.463269  \n",
       "CHAS    -0.097541 -0.005343 -0.034244 -0.124415  0.048970 -0.057013  0.164782  \n",
       "NOX     -0.768309  0.609343  0.666982  0.186073 -0.379936  0.540050 -0.411486  \n",
       "RM       0.199853 -0.213078 -0.293969 -0.339755  0.127888 -0.553126  0.667695  \n",
       "AGE     -0.745097  0.452229  0.503360  0.258251 -0.271925  0.529994 -0.368203  \n",
       "DIS      1.000000 -0.488474 -0.530379 -0.238155  0.290997 -0.467063  0.233469  \n",
       "RAD     -0.488474  1.000000  0.910211  0.438646 -0.442406  0.422389 -0.379016  \n",
       "TAX     -0.530379  0.910211  1.000000  0.440962 -0.440830  0.482088 -0.459274  \n",
       "PTRATIO -0.238155  0.438646  0.440962  1.000000 -0.175251  0.393263 -0.447464  \n",
       "B        0.290997 -0.442406 -0.440830 -0.175251  1.000000 -0.339910  0.317941  \n",
       "LSTAT   -0.467063  0.422389  0.482088  0.393263 -0.339910  1.000000 -0.562960  \n",
       "MEDV     0.233469 -0.379016 -0.459274 -0.447464  0.317941 -0.562960  1.000000  "
      ]
     },
     "execution_count": 32,
     "metadata": {},
     "output_type": "execute_result"
    }
   ],
   "source": [
    "dataset.corr()"
   ]
  },
  {
   "cell_type": "code",
   "execution_count": 33,
   "metadata": {},
   "outputs": [
    {
     "data": {
      "text/plain": [
       "Index(['CRIM', 'ZN', 'INDUS', 'CHAS', 'NOX', 'RM', 'AGE', 'DIS', 'RAD', 'TAX',\n",
       "       'PTRATIO', 'B', 'LSTAT', 'MEDV'],\n",
       "      dtype='object')"
      ]
     },
     "execution_count": 33,
     "metadata": {},
     "output_type": "execute_result"
    }
   ],
   "source": [
    "dataset.columns"
   ]
  },
  {
   "cell_type": "code",
   "execution_count": 37,
   "metadata": {},
   "outputs": [
    {
     "data": {
      "text/plain": [
       "RangeIndex(start=0, stop=511, step=1)"
      ]
     },
     "execution_count": 37,
     "metadata": {},
     "output_type": "execute_result"
    }
   ],
   "source": [
    "dataset.index"
   ]
  },
  {
   "cell_type": "code",
   "execution_count": 43,
   "metadata": {},
   "outputs": [
    {
     "data": {
      "text/plain": [
       "(14,)"
      ]
     },
     "execution_count": 43,
     "metadata": {},
     "output_type": "execute_result"
    }
   ],
   "source": [
    "dataset.iloc[0].shape"
   ]
  },
  {
   "cell_type": "code",
   "execution_count": 44,
   "metadata": {},
   "outputs": [],
   "source": [
    "def normal(X,y):\n",
    "    return (X.T@X)@(X.T@y)"
   ]
  },
  {
   "cell_type": "code",
   "execution_count": 51,
   "metadata": {},
   "outputs": [
    {
     "data": {
      "image/png": "[encoded data removed]",
      "text/plain": [
       "<Figure size 432x288 with 1 Axes>"
      ]
     },
     "metadata": {
      "needs_background": "light"
     },
     "output_type": "display_data"
    }
   ],
   "source": [
    "fig =  plt.figure()\n",
    "ax = Axes3D(fig)\n",
    "\n",
    "ax.scatter(dataset['CRIM'],dataset['AGE'],dataset[\"RM\"])\n",
    "plt.xlabel(\"CRIM\")\n",
    "plt.ylabel(\"AGE\")\n",
    "plt.show()"
   ]
  },
  {
   "cell_type": "code",
   "execution_count": null,
   "metadata": {},
   "outputs": [],
   "source": []
  }
 ],
 "metadata": {
  "kernelspec": {
   "display_name": "Python 3",
   "language": "python",
   "name": "python3"
  },
  "language_info": {
   "codemirror_mode": {
    "name": "ipython",
    "version": 3
   },
   "file_extension": ".py",
   "mimetype": "text/x-python",
   "name": "python",
   "nbconvert_exporter": "python",
   "pygments_lexer": "ipython3",
   "version": "3.7.3"
  }
 },
 "nbformat": 4,
 "nbformat_minor": 2
}
