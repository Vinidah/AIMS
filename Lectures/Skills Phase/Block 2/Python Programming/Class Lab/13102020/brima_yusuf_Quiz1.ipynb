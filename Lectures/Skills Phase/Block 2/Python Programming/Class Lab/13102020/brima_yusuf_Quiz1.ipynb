{
 "cells": [
  {
   "cell_type": "markdown",
   "metadata": {},
   "source": [
    "<b>$$ \\text{ Quiz 1}$$</b>\n",
    "\n",
    "Let $\\{ x_k\\}$ be a partition of $[a,b]$ such that $a=x_0<x_1<\\cdots<x_{N-1}<x_N=b$ and $H$ be the length of the $k$-th subinterval ($H = x_k - x_{k-1}$),\n",
    "then we have \n",
    "$$\\int_a^bf(x)dx \\approx \\sum_{k=1}^N \\frac{f(x_{k-1})+f(x_k)}{2}H = A$$\n",
    "\n",
    "\n",
    "Write a function that takes $a,b,H, f$ and return A"
   ]
  },
  {
   "cell_type": "code",
   "execution_count": 1,
   "metadata": {},
   "outputs": [],
   "source": [
    "import numpy as np\n",
    "f = lambda x: x**2 + 3\n",
    "def Trap(a,b,H,f):\n",
    "    N = int((b-a-H)/H)\n",
    "    x = np.linspace(a,b,N)\n",
    "    H = x[1] - x[0]\n",
    "    A = 0\n",
    "    for i in range(1,N+1):\n",
    "        A += ((f(x[k-1]) + f(x[k]))/2) * H\n",
    "    return A"
   ]
  },
  {
   "cell_type": "code",
   "execution_count": null,
   "metadata": {},
   "outputs": [],
   "source": []
  }
 ],
 "metadata": {
  "kernelspec": {
   "display_name": "Python 3",
   "language": "python",
   "name": "python3"
  },
  "language_info": {
   "codemirror_mode": {
    "name": "ipython",
    "version": 3
   },
   "file_extension": ".py",
   "mimetype": "text/x-python",
   "name": "python",
   "nbconvert_exporter": "python",
   "pygments_lexer": "ipython3",
   "version": "3.7.3"
  }
 },
 "nbformat": 4,
 "nbformat_minor": 4
}
