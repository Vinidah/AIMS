{
 "cells": [
  {
   "cell_type": "markdown",
   "metadata": {
    "id": "bko5eUdzlUKq"
   },
   "source": [
    "# Starter Notebook: AIMS Data Science Hackathon by Microsoft\n",
    "\n",
    "Welcome! This starter notebook is designed to get you started on the AIMS Data Science Hackathon, where you will be attempting to predict a measure of wealth for different locations across Africa. We will take a look at the data, create a model and then use that to make our first submission. After that we will briefly look at some ways to improve. Let's get started."
   ]
  },
  {
   "cell_type": "code",
   "execution_count": 144,
   "metadata": {
    "executionInfo": {
     "elapsed": 1567,
     "status": "ok",
     "timestamp": 1612703285867,
     "user": {
      "displayName": "Japheth kasomo",
      "photoUrl": "https://lh3.googleusercontent.com/a-/AOh14GjkvGiiqGfkQSD_jMTvE7lfUfUAlZCwsI-_E8vl=s64",
      "userId": "04938908274722798296"
     },
     "user_tz": 480
    },
    "id": "MKgc5u3dlUK7"
   },
   "outputs": [],
   "source": [
    "import pandas as pd\n",
    "import matplotlib.pyplot as plt \n",
    "import seaborn as sn\n",
    "\n",
    "from sklearn.ensemble import RandomForestRegressor\n",
    "from sklearn.discriminant_analysis import LinearDiscriminantAnalysis\n",
    "from sklearn.tree import DecisionTreeRegressor\n",
    "from sklearn.svm import SVR\n",
    "from sklearn.linear_model import LinearRegression\n",
    "from sklearn.neural_network import MLPRegressor\n",
    "from sklearn.decomposition import PCA\n",
    "\n",
    "#import xgboost as xgb\n",
    "from sklearn.metrics import accuracy_score\n",
    "from sklearn.metrics import r2_score,mean_absolute_error,mean_squared_error\n",
    "\n",
    "\n",
    "#SPILITING  DATASET\n",
    "from sklearn.model_selection import train_test_split\n",
    "from sklearn.model_selection import cross_val_score\n",
    "from sklearn.metrics import mean_squared_error\n",
    "\n",
    "from sklearn.preprocessing import StandardScaler\n",
    "\n",
    "#Recursive Feature Selection\n",
    "from sklearn.feature_selection import RFE"
   ]
  },
  {
   "cell_type": "markdown",
   "metadata": {
    "id": "f-w5XIkslUK4"
   },
   "source": [
    "# Loading the Data\n",
    "\n",
    "We're using the pandas library to load the data into dataframes - a tabular data structure that is perfect for this kind of work. Each of the three CSV files from Zindi is loaded into a dataframe and we take a look at the shape of the data (number of rows and columns) as well as a preview of the first 5 rows to get a feel for what we're working with."
   ]
  },
  {
   "cell_type": "code",
   "execution_count": 48,
   "metadata": {
    "executionInfo": {
     "elapsed": 977,
     "status": "ok",
     "timestamp": 1612703282317,
     "user": {
      "displayName": "Japheth kasomo",
      "photoUrl": "https://lh3.googleusercontent.com/a-/AOh14GjkvGiiqGfkQSD_jMTvE7lfUfUAlZCwsI-_E8vl=s64",
      "userId": "04938908274722798296"
     },
     "user_tz": 480
    },
    "id": "2QxwkZ7tlUK6"
   },
   "outputs": [],
   "source": [
    "#from fastai.tabular.data import *\n",
    "import warnings\n",
    "warnings.filterwarnings(\"ignore\")"
   ]
  },
  {
   "cell_type": "code",
   "execution_count": 60,
   "metadata": {
    "colab": {
     "base_uri": "https://localhost:8080/"
    },
    "executionInfo": {
     "elapsed": 937,
     "status": "ok",
     "timestamp": 1612704293126,
     "user": {
      "displayName": "Japheth kasomo",
      "photoUrl": "https://lh3.googleusercontent.com/a-/AOh14GjkvGiiqGfkQSD_jMTvE7lfUfUAlZCwsI-_E8vl=s64",
      "userId": "04938908274722798296"
     },
     "user_tz": 480
    },
    "id": "_5b9dko7lUK8",
    "outputId": "44b3d8c5-203c-4ee7-c48d-ad5cd29848ab"
   },
   "outputs": [
    {
     "name": "stdout",
     "output_type": "stream",
     "text": [
      "(2977, 315)\n"
     ]
    }
   ],
   "source": [
    "train = pd.read_csv('Train_Cleaned.csv')\n",
    "print(train.shape)\n",
    "train.head()\n",
    "train.drop(\"Unnamed: 0\",axis=1,inplace=True)"
   ]
  },
  {
   "cell_type": "code",
   "execution_count": 61,
   "metadata": {
    "executionInfo": {
     "elapsed": 1011,
     "status": "ok",
     "timestamp": 1612704373565,
     "user": {
      "displayName": "Japheth kasomo",
      "photoUrl": "https://lh3.googleusercontent.com/a-/AOh14GjkvGiiqGfkQSD_jMTvE7lfUfUAlZCwsI-_E8vl=s64",
      "userId": "04938908274722798296"
     },
     "user_tz": 480
    },
    "id": "Kkb5pH0dqcxh"
   },
   "outputs": [],
   "source": [
    "train.drop(\"Field_ID\",axis=1,inplace=True)"
   ]
  },
  {
   "cell_type": "code",
   "execution_count": 62,
   "metadata": {
    "colab": {
     "base_uri": "https://localhost:8080/"
    },
    "executionInfo": {
     "elapsed": 1029,
     "status": "ok",
     "timestamp": 1612704392429,
     "user": {
      "displayName": "Japheth kasomo",
      "photoUrl": "https://lh3.googleusercontent.com/a-/AOh14GjkvGiiqGfkQSD_jMTvE7lfUfUAlZCwsI-_E8vl=s64",
      "userId": "04938908274722798296"
     },
     "user_tz": 480
    },
    "id": "Z_-UwSRjq_Ly",
    "outputId": "81fb7715-4abe-47ac-d09a-119aff6a5642"
   },
   "outputs": [
    {
     "data": {
      "text/plain": [
       "(2977, 313)"
      ]
     },
     "execution_count": 62,
     "metadata": {},
     "output_type": "execute_result"
    }
   ],
   "source": [
    "train.shape"
   ]
  },
  {
   "cell_type": "markdown",
   "metadata": {
    "id": "ox4AaKthlUK-"
   },
   "source": [
    "In train, we have a set of inputs (like 'urban_or_rural' or 'ghsl_water_surface') and our desired output variable, 'Target'. There are 21454 rows - lots of juicy data!"
   ]
  },
  {
   "cell_type": "code",
   "execution_count": 63,
   "metadata": {
    "colab": {
     "base_uri": "https://localhost:8080/"
    },
    "executionInfo": {
     "elapsed": 1131,
     "status": "ok",
     "timestamp": 1612704509622,
     "user": {
      "displayName": "Japheth kasomo",
      "photoUrl": "https://lh3.googleusercontent.com/a-/AOh14GjkvGiiqGfkQSD_jMTvE7lfUfUAlZCwsI-_E8vl=s64",
      "userId": "04938908274722798296"
     },
     "user_tz": 480
    },
    "id": "_1FZYntelUK-",
    "outputId": "372a7c18-f3e4-429a-da7b-aa9dfc02de16"
   },
   "outputs": [
    {
     "name": "stdout",
     "output_type": "stream",
     "text": [
      "(1055, 313)\n"
     ]
    }
   ],
   "source": [
    "test = pd.read_csv('Test_Cleaned.csv')\n",
    "print(test.shape)"
   ]
  },
  {
   "cell_type": "code",
   "execution_count": 64,
   "metadata": {
    "colab": {
     "base_uri": "https://localhost:8080/",
     "height": 224
    },
    "executionInfo": {
     "elapsed": 1133,
     "status": "ok",
     "timestamp": 1612704530114,
     "user": {
      "displayName": "Japheth kasomo",
      "photoUrl": "https://lh3.googleusercontent.com/a-/AOh14GjkvGiiqGfkQSD_jMTvE7lfUfUAlZCwsI-_E8vl=s64",
      "userId": "04938908274722798296"
     },
     "user_tz": 480
    },
    "id": "vm0-rOvjrXmm",
    "outputId": "99f71b98-a6d3-4b4e-a12d-5e1804a2051f"
   },
   "outputs": [
    {
     "data": {
      "text/html": [
       "<div>\n",
       "<style scoped>\n",
       "    .dataframe tbody tr th:only-of-type {\n",
       "        vertical-align: middle;\n",
       "    }\n",
       "\n",
       "    .dataframe tbody tr th {\n",
       "        vertical-align: top;\n",
       "    }\n",
       "\n",
       "    .dataframe thead th {\n",
       "        text-align: right;\n",
       "    }\n",
       "</style>\n",
       "<table border=\"1\" class=\"dataframe\">\n",
       "  <thead>\n",
       "    <tr style=\"text-align: right;\">\n",
       "      <th></th>\n",
       "      <th>0_CLIM_vs</th>\n",
       "      <th>0_CLIM_vpd</th>\n",
       "      <th>0_CLIM_vap</th>\n",
       "      <th>0_CLIM_tmmx</th>\n",
       "      <th>0_CLIM_tmmn</th>\n",
       "      <th>0_CLIM_swe</th>\n",
       "      <th>0_CLIM_srad</th>\n",
       "      <th>0_CLIM_soil</th>\n",
       "      <th>0_CLIM_ro</th>\n",
       "      <th>0_CLIM_pr</th>\n",
       "      <th>...</th>\n",
       "      <th>11_S2_B12</th>\n",
       "      <th>11_2_B11</th>\n",
       "      <th>11_S2_B10</th>\n",
       "      <th>11_S2_B9</th>\n",
       "      <th>11_S2_B8</th>\n",
       "      <th>11_2_B7</th>\n",
       "      <th>11_S2_B1</th>\n",
       "      <th>11_S2_B6</th>\n",
       "      <th>11_S2_B5</th>\n",
       "      <th>11_S2_B4</th>\n",
       "    </tr>\n",
       "  </thead>\n",
       "  <tbody>\n",
       "    <tr>\n",
       "      <th>0</th>\n",
       "      <td>1133</td>\n",
       "      <td>920</td>\n",
       "      <td>987</td>\n",
       "      <td>781</td>\n",
       "      <td>1252</td>\n",
       "      <td>2551</td>\n",
       "      <td>2926</td>\n",
       "      <td>769</td>\n",
       "      <td>13</td>\n",
       "      <td>1237</td>\n",
       "      <td>...</td>\n",
       "      <td>157</td>\n",
       "      <td>8</td>\n",
       "      <td>618</td>\n",
       "      <td>1990</td>\n",
       "      <td>0</td>\n",
       "      <td>147</td>\n",
       "      <td>296</td>\n",
       "      <td>1811</td>\n",
       "      <td>111</td>\n",
       "      <td>270</td>\n",
       "    </tr>\n",
       "    <tr>\n",
       "      <th>1</th>\n",
       "      <td>1140</td>\n",
       "      <td>899</td>\n",
       "      <td>928</td>\n",
       "      <td>696</td>\n",
       "      <td>1129</td>\n",
       "      <td>2604</td>\n",
       "      <td>2951</td>\n",
       "      <td>716</td>\n",
       "      <td>12</td>\n",
       "      <td>1048</td>\n",
       "      <td>...</td>\n",
       "      <td>157</td>\n",
       "      <td>8</td>\n",
       "      <td>618</td>\n",
       "      <td>1990</td>\n",
       "      <td>0</td>\n",
       "      <td>147</td>\n",
       "      <td>296</td>\n",
       "      <td>1811</td>\n",
       "      <td>111</td>\n",
       "      <td>270</td>\n",
       "    </tr>\n",
       "    <tr>\n",
       "      <th>2</th>\n",
       "      <td>1117</td>\n",
       "      <td>966</td>\n",
       "      <td>1019</td>\n",
       "      <td>960</td>\n",
       "      <td>1299</td>\n",
       "      <td>2152</td>\n",
       "      <td>2351</td>\n",
       "      <td>688</td>\n",
       "      <td>12</td>\n",
       "      <td>1372</td>\n",
       "      <td>...</td>\n",
       "      <td>153</td>\n",
       "      <td>8</td>\n",
       "      <td>583</td>\n",
       "      <td>2002</td>\n",
       "      <td>0</td>\n",
       "      <td>150</td>\n",
       "      <td>297</td>\n",
       "      <td>1829</td>\n",
       "      <td>112</td>\n",
       "      <td>270</td>\n",
       "    </tr>\n",
       "    <tr>\n",
       "      <th>3</th>\n",
       "      <td>1147</td>\n",
       "      <td>923</td>\n",
       "      <td>1032</td>\n",
       "      <td>672</td>\n",
       "      <td>1191</td>\n",
       "      <td>2609</td>\n",
       "      <td>3450</td>\n",
       "      <td>762</td>\n",
       "      <td>12</td>\n",
       "      <td>972</td>\n",
       "      <td>...</td>\n",
       "      <td>153</td>\n",
       "      <td>8</td>\n",
       "      <td>583</td>\n",
       "      <td>2002</td>\n",
       "      <td>0</td>\n",
       "      <td>150</td>\n",
       "      <td>297</td>\n",
       "      <td>1829</td>\n",
       "      <td>112</td>\n",
       "      <td>270</td>\n",
       "    </tr>\n",
       "    <tr>\n",
       "      <th>4</th>\n",
       "      <td>1141</td>\n",
       "      <td>987</td>\n",
       "      <td>1047</td>\n",
       "      <td>1343</td>\n",
       "      <td>1441</td>\n",
       "      <td>2055</td>\n",
       "      <td>2097</td>\n",
       "      <td>718</td>\n",
       "      <td>13</td>\n",
       "      <td>1796</td>\n",
       "      <td>...</td>\n",
       "      <td>153</td>\n",
       "      <td>8</td>\n",
       "      <td>583</td>\n",
       "      <td>2002</td>\n",
       "      <td>0</td>\n",
       "      <td>150</td>\n",
       "      <td>297</td>\n",
       "      <td>1829</td>\n",
       "      <td>112</td>\n",
       "      <td>270</td>\n",
       "    </tr>\n",
       "  </tbody>\n",
       "</table>\n",
       "<p>5 rows × 312 columns</p>\n",
       "</div>"
      ],
      "text/plain": [
       "   0_CLIM_vs  0_CLIM_vpd  0_CLIM_vap  0_CLIM_tmmx  0_CLIM_tmmn  0_CLIM_swe  \\\n",
       "0       1133         920         987          781         1252        2551   \n",
       "1       1140         899         928          696         1129        2604   \n",
       "2       1117         966        1019          960         1299        2152   \n",
       "3       1147         923        1032          672         1191        2609   \n",
       "4       1141         987        1047         1343         1441        2055   \n",
       "\n",
       "   0_CLIM_srad  0_CLIM_soil  0_CLIM_ro  0_CLIM_pr  ...  11_S2_B12  11_2_B11  \\\n",
       "0         2926          769         13       1237  ...        157         8   \n",
       "1         2951          716         12       1048  ...        157         8   \n",
       "2         2351          688         12       1372  ...        153         8   \n",
       "3         3450          762         12        972  ...        153         8   \n",
       "4         2097          718         13       1796  ...        153         8   \n",
       "\n",
       "   11_S2_B10  11_S2_B9  11_S2_B8  11_2_B7  11_S2_B1  11_S2_B6  11_S2_B5  \\\n",
       "0        618      1990         0      147       296      1811       111   \n",
       "1        618      1990         0      147       296      1811       111   \n",
       "2        583      2002         0      150       297      1829       112   \n",
       "3        583      2002         0      150       297      1829       112   \n",
       "4        583      2002         0      150       297      1829       112   \n",
       "\n",
       "   11_S2_B4  \n",
       "0       270  \n",
       "1       270  \n",
       "2       270  \n",
       "3       270  \n",
       "4       270  \n",
       "\n",
       "[5 rows x 312 columns]"
      ]
     },
     "execution_count": 64,
     "metadata": {},
     "output_type": "execute_result"
    }
   ],
   "source": [
    "test.drop(\"Unnamed: 0\",axis=1,inplace=True)\n",
    "test.head()"
   ]
  },
  {
   "cell_type": "code",
   "execution_count": 65,
   "metadata": {},
   "outputs": [
    {
     "data": {
      "text/html": [
       "<div>\n",
       "<style scoped>\n",
       "    .dataframe tbody tr th:only-of-type {\n",
       "        vertical-align: middle;\n",
       "    }\n",
       "\n",
       "    .dataframe tbody tr th {\n",
       "        vertical-align: top;\n",
       "    }\n",
       "\n",
       "    .dataframe thead th {\n",
       "        text-align: right;\n",
       "    }\n",
       "</style>\n",
       "<table border=\"1\" class=\"dataframe\">\n",
       "  <thead>\n",
       "    <tr style=\"text-align: right;\">\n",
       "      <th></th>\n",
       "      <th>0</th>\n",
       "      <th>1</th>\n",
       "      <th>2</th>\n",
       "      <th>3</th>\n",
       "      <th>4</th>\n",
       "    </tr>\n",
       "  </thead>\n",
       "  <tbody>\n",
       "    <tr>\n",
       "      <th>0_CLIM_vs</th>\n",
       "      <td>1024.000</td>\n",
       "      <td>1023.000</td>\n",
       "      <td>1095.000</td>\n",
       "      <td>976.000</td>\n",
       "      <td>1300.000</td>\n",
       "    </tr>\n",
       "    <tr>\n",
       "      <th>0_CLIM_vpd</th>\n",
       "      <td>934.000</td>\n",
       "      <td>880.000</td>\n",
       "      <td>1016.000</td>\n",
       "      <td>777.000</td>\n",
       "      <td>1081.000</td>\n",
       "    </tr>\n",
       "    <tr>\n",
       "      <th>0_CLIM_vap</th>\n",
       "      <td>932.000</td>\n",
       "      <td>821.000</td>\n",
       "      <td>1070.000</td>\n",
       "      <td>784.000</td>\n",
       "      <td>1122.000</td>\n",
       "    </tr>\n",
       "    <tr>\n",
       "      <th>0_CLIM_tmmx</th>\n",
       "      <td>1173.000</td>\n",
       "      <td>924.000</td>\n",
       "      <td>1357.000</td>\n",
       "      <td>639.000</td>\n",
       "      <td>1162.000</td>\n",
       "    </tr>\n",
       "    <tr>\n",
       "      <th>0_CLIM_tmmn</th>\n",
       "      <td>1392.000</td>\n",
       "      <td>1116.000</td>\n",
       "      <td>1632.000</td>\n",
       "      <td>1064.000</td>\n",
       "      <td>1487.000</td>\n",
       "    </tr>\n",
       "    <tr>\n",
       "      <th>...</th>\n",
       "      <td>...</td>\n",
       "      <td>...</td>\n",
       "      <td>...</td>\n",
       "      <td>...</td>\n",
       "      <td>...</td>\n",
       "    </tr>\n",
       "    <tr>\n",
       "      <th>11_S2_B1</th>\n",
       "      <td>267.000</td>\n",
       "      <td>273.000</td>\n",
       "      <td>274.000</td>\n",
       "      <td>263.000</td>\n",
       "      <td>291.000</td>\n",
       "    </tr>\n",
       "    <tr>\n",
       "      <th>11_S2_B6</th>\n",
       "      <td>1680.000</td>\n",
       "      <td>1682.000</td>\n",
       "      <td>1690.000</td>\n",
       "      <td>1688.000</td>\n",
       "      <td>1972.000</td>\n",
       "    </tr>\n",
       "    <tr>\n",
       "      <th>11_S2_B5</th>\n",
       "      <td>69.000</td>\n",
       "      <td>75.000</td>\n",
       "      <td>76.000</td>\n",
       "      <td>64.000</td>\n",
       "      <td>87.000</td>\n",
       "    </tr>\n",
       "    <tr>\n",
       "      <th>11_S2_B4</th>\n",
       "      <td>210.000</td>\n",
       "      <td>190.000</td>\n",
       "      <td>200.000</td>\n",
       "      <td>210.000</td>\n",
       "      <td>270.000</td>\n",
       "    </tr>\n",
       "    <tr>\n",
       "      <th>Yield</th>\n",
       "      <td>3.686</td>\n",
       "      <td>5.657</td>\n",
       "      <td>3.082</td>\n",
       "      <td>2.707</td>\n",
       "      <td>2.679</td>\n",
       "    </tr>\n",
       "  </tbody>\n",
       "</table>\n",
       "<p>313 rows × 5 columns</p>\n",
       "</div>"
      ],
      "text/plain": [
       "                    0         1         2         3         4\n",
       "0_CLIM_vs    1024.000  1023.000  1095.000   976.000  1300.000\n",
       "0_CLIM_vpd    934.000   880.000  1016.000   777.000  1081.000\n",
       "0_CLIM_vap    932.000   821.000  1070.000   784.000  1122.000\n",
       "0_CLIM_tmmx  1173.000   924.000  1357.000   639.000  1162.000\n",
       "0_CLIM_tmmn  1392.000  1116.000  1632.000  1064.000  1487.000\n",
       "...               ...       ...       ...       ...       ...\n",
       "11_S2_B1      267.000   273.000   274.000   263.000   291.000\n",
       "11_S2_B6     1680.000  1682.000  1690.000  1688.000  1972.000\n",
       "11_S2_B5       69.000    75.000    76.000    64.000    87.000\n",
       "11_S2_B4      210.000   190.000   200.000   210.000   270.000\n",
       "Yield           3.686     5.657     3.082     2.707     2.679\n",
       "\n",
       "[313 rows x 5 columns]"
      ]
     },
     "execution_count": 65,
     "metadata": {},
     "output_type": "execute_result"
    }
   ],
   "source": [
    "train.head().T"
   ]
  },
  {
   "cell_type": "markdown",
   "metadata": {
    "id": "TsRN8ShJlUK_"
   },
   "source": [
    "Test looks just like train but without the 'Target' column and with fewer rows."
   ]
  },
  {
   "cell_type": "code",
   "execution_count": 66,
   "metadata": {
    "colab": {
     "base_uri": "https://localhost:8080/",
     "height": 221
    },
    "executionInfo": {
     "elapsed": 1085,
     "status": "ok",
     "timestamp": 1612704549086,
     "user": {
      "displayName": "Japheth kasomo",
      "photoUrl": "https://lh3.googleusercontent.com/a-/AOh14GjkvGiiqGfkQSD_jMTvE7lfUfUAlZCwsI-_E8vl=s64",
      "userId": "04938908274722798296"
     },
     "user_tz": 480
    },
    "id": "GVM-SImllULA",
    "outputId": "d9acb41c-cc3f-4298-f778-23bd5a7aa565",
    "scrolled": true
   },
   "outputs": [
    {
     "name": "stdout",
     "output_type": "stream",
     "text": [
      "(1055, 2)\n"
     ]
    },
    {
     "data": {
      "text/html": [
       "<div>\n",
       "<style scoped>\n",
       "    .dataframe tbody tr th:only-of-type {\n",
       "        vertical-align: middle;\n",
       "    }\n",
       "\n",
       "    .dataframe tbody tr th {\n",
       "        vertical-align: top;\n",
       "    }\n",
       "\n",
       "    .dataframe thead th {\n",
       "        text-align: right;\n",
       "    }\n",
       "</style>\n",
       "<table border=\"1\" class=\"dataframe\">\n",
       "  <thead>\n",
       "    <tr style=\"text-align: right;\">\n",
       "      <th></th>\n",
       "      <th>Field_ID</th>\n",
       "      <th>Yield</th>\n",
       "    </tr>\n",
       "  </thead>\n",
       "  <tbody>\n",
       "    <tr>\n",
       "      <th>0</th>\n",
       "      <td>E9UZCEA</td>\n",
       "      <td>0</td>\n",
       "    </tr>\n",
       "    <tr>\n",
       "      <th>1</th>\n",
       "      <td>1WGGS1Q</td>\n",
       "      <td>0</td>\n",
       "    </tr>\n",
       "    <tr>\n",
       "      <th>2</th>\n",
       "      <td>EG2KXE2</td>\n",
       "      <td>0</td>\n",
       "    </tr>\n",
       "    <tr>\n",
       "      <th>3</th>\n",
       "      <td>HC3GQXF</td>\n",
       "      <td>0</td>\n",
       "    </tr>\n",
       "    <tr>\n",
       "      <th>4</th>\n",
       "      <td>7AK6GFK</td>\n",
       "      <td>0</td>\n",
       "    </tr>\n",
       "  </tbody>\n",
       "</table>\n",
       "</div>"
      ],
      "text/plain": [
       "  Field_ID  Yield\n",
       "0  E9UZCEA      0\n",
       "1  1WGGS1Q      0\n",
       "2  EG2KXE2      0\n",
       "3  HC3GQXF      0\n",
       "4  7AK6GFK      0"
      ]
     },
     "execution_count": 66,
     "metadata": {},
     "output_type": "execute_result"
    }
   ],
   "source": [
    "ss = pd.read_csv('SampleSubmission.csv')\n",
    "print(ss.shape)\n",
    "ss.head()"
   ]
  },
  {
   "cell_type": "markdown",
   "metadata": {
    "id": "EBp73W7llULC"
   },
   "source": [
    "The sample submission is just the ID column from test with a 'Target' column where we will put out predictions.\n",
    "\n",
    "Now that we have the data loaded, we can start exploring."
   ]
  },
  {
   "cell_type": "markdown",
   "metadata": {
    "id": "x-D1MEJ0lULC"
   },
   "source": [
    "# EDA\n",
    "\n",
    "We will explore some trends in the data and look for any anomalies such as missing data. A few examples are done here but you can explore much further yourself and get to know the data better.\n",
    "\n",
    "First up: let's see how an input like 'nighttime lights' relates to the target column:"
   ]
  },
  {
   "cell_type": "code",
   "execution_count": 67,
   "metadata": {
    "colab": {
     "base_uri": "https://localhost:8080/",
     "height": 297
    },
    "executionInfo": {
     "elapsed": 1484,
     "status": "ok",
     "timestamp": 1612704638109,
     "user": {
      "displayName": "Japheth kasomo",
      "photoUrl": "https://lh3.googleusercontent.com/a-/AOh14GjkvGiiqGfkQSD_jMTvE7lfUfUAlZCwsI-_E8vl=s64",
      "userId": "04938908274722798296"
     },
     "user_tz": 480
    },
    "id": "soy4-LCslULD",
    "outputId": "f69fa95f-7dd7-4e09-91de-71a509eb249d"
   },
   "outputs": [
    {
     "data": {
      "text/plain": [
       "<matplotlib.axes._subplots.AxesSubplot at 0x7fb976ed0c50>"
      ]
     },
     "execution_count": 67,
     "metadata": {},
     "output_type": "execute_result"
    },
    {
     "data": {
      "image/png": "[encoded data removed]",
      "text/plain": [
       "<Figure size 432x288 with 1 Axes>"
      ]
     },
     "metadata": {
      "needs_background": "light"
     },
     "output_type": "display_data"
    }
   ],
   "source": [
    "# Plotting the relationship between an input column and the target\n",
    "train.plot(x='10_CLIM_soil', y='Yield', kind='scatter', alpha=0.2)"
   ]
  },
  {
   "cell_type": "markdown",
   "metadata": {
    "id": "-9rFtzPDlULI"
   },
   "source": [
    "See what other trends you can uncover - we have only scratched the surface here. "
   ]
  },
  {
   "cell_type": "markdown",
   "metadata": {
    "id": "KJ_cqXYLlULL"
   },
   "source": [
    "# Modelling\n",
    "\n",
    "We've had a look at our data and it looks good! Let's see if we can create a model to predict the Target given some of our inputs. To start with we will use only the numeric columns, so that we can fit a model right away. "
   ]
  },
  {
   "cell_type": "markdown",
   "metadata": {
    "id": "8g95uctxlULO"
   },
   "source": [
    "To evaluate our model, we need to keep some data separate. We will split out data into X (inputs) and y (output) and then further split into train and test sets with the following code:"
   ]
  },
  {
   "cell_type": "code",
   "execution_count": 68,
   "metadata": {},
   "outputs": [
    {
     "data": {
      "text/plain": [
       "(2977, 313)"
      ]
     },
     "execution_count": 68,
     "metadata": {},
     "output_type": "execute_result"
    }
   ],
   "source": [
    "train.shape"
   ]
  },
  {
   "cell_type": "code",
   "execution_count": 69,
   "metadata": {
    "colab": {
     "base_uri": "https://localhost:8080/"
    },
    "executionInfo": {
     "elapsed": 1011,
     "status": "ok",
     "timestamp": 1612711483598,
     "user": {
      "displayName": "Japheth kasomo",
      "photoUrl": "https://lh3.googleusercontent.com/a-/AOh14GjkvGiiqGfkQSD_jMTvE7lfUfUAlZCwsI-_E8vl=s64",
      "userId": "04938908274722798296"
     },
     "user_tz": 480
    },
    "id": "orikmSnflULP",
    "outputId": "43785222-8af8-4b2c-9bfe-8193e5ef52be",
    "scrolled": true
   },
   "outputs": [
    {
     "name": "stdout",
     "output_type": "stream",
     "text": [
      "(2381, 312) (596, 312)\n"
     ]
    }
   ],
   "source": [
    "from sklearn.model_selection import train_test_split\n",
    "X,y = train.iloc[:,0:312], train['Yield']\n",
    "X_train, X_test, y_train, y_test = train_test_split(X, y, test_size=0.2, random_state=32) # Random state keeps the split consistent\n",
    "X_train = StandardScaler().fit_transform(X_train)\n",
    "X_test = StandardScaler().fit_transform(X_test)\n",
    "print(X_train.shape, X_test.shape)"
   ]
  },
  {
   "cell_type": "markdown",
   "metadata": {
    "id": "xBOheqv1lULQ"
   },
   "source": [
    "We now have a nice test set of ~4200 rows. We will train our model and then use this test set to calculate our score."
   ]
  },
  {
   "cell_type": "code",
   "execution_count": 112,
   "metadata": {
    "executionInfo": {
     "elapsed": 26803,
     "status": "ok",
     "timestamp": 1612711518079,
     "user": {
      "displayName": "Japheth kasomo",
      "photoUrl": "https://lh3.googleusercontent.com/a-/AOh14GjkvGiiqGfkQSD_jMTvE7lfUfUAlZCwsI-_E8vl=s64",
      "userId": "04938908274722798296"
     },
     "user_tz": 480
    },
    "id": "MoFtzD6-lULR"
   },
   "outputs": [
    {
     "data": {
      "text/plain": [
       "RandomForestRegressor(bootstrap=True, ccp_alpha=0.0, criterion='mse',\n",
       "                      max_depth=4, max_features='auto', max_leaf_nodes=None,\n",
       "                      max_samples=None, min_impurity_decrease=0.0,\n",
       "                      min_impurity_split=None, min_samples_leaf=1,\n",
       "                      min_samples_split=2, min_weight_fraction_leaf=0.0,\n",
       "                      n_estimators=100, n_jobs=None, oob_score=False,\n",
       "                      random_state=0, verbose=0, warm_start=False)"
      ]
     },
     "execution_count": 112,
     "metadata": {},
     "output_type": "execute_result"
    }
   ],
   "source": [
    "model = RandomForestRegressor(n_estimators = 200,random_state = 68) # Create the model\n",
    "model.fit(X_train, y_train) # Train it (this syntax looks the same for all sklearn models)\n",
    "model.score(X_test, y_test) # Show a score\n",
    "\n",
    "\n",
    "\n",
    "Multi_lr  = LinearRegression()\n",
    "Multi_lr.fit(X_train, y_train)\n",
    "\n",
    "DTR   = DecisionTreeRegressor(random_state=0)\n",
    "DTR.fit(X_train, y_train)\n",
    "\n",
    "SVR_lr = SVR(C=1.0,epsilon=0.2,gamma='scale',kernel = 'rbf')\n",
    "SVR_lr.fit(X_train, y_train)\n",
    "\n",
    "\n",
    "\n",
    "RaFR  = RandomForestRegressor(n_estimators=100,max_depth=4,random_state=0)\n",
    "RaFR.fit(X_train, y_train)"
   ]
  },
  {
   "cell_type": "code",
   "execution_count": 110,
   "metadata": {},
   "outputs": [],
   "source": [
    "MRLPR = MLPRegressor(hidden_layer_sizes=(64,64,64),activation=\"relu\",random_state=1, max_iter=2000).fit(X_train, y_train)"
   ]
  },
  {
   "cell_type": "code",
   "execution_count": null,
   "metadata": {},
   "outputs": [],
   "source": [
    "#Estimator can be ML Model\n",
    "\n",
    "selector = RFE(estimator, n_features_to_select=5, step=1)\n",
    "selector = selector.fit(X_train, y_train)\n",
    "selector.support_\n",
    "selector.ranking_"
   ]
  },
  {
   "cell_type": "code",
   "execution_count": 105,
   "metadata": {},
   "outputs": [],
   "source": [
    "def argmax(history):\n",
    "    maxRMSE = max(history, key=lambda x:x['rmse'])\n",
    "    minRMSE = min(history, key=lambda x:x['rmse'])\n",
    "    return(maxRMSE,minRMSE)"
   ]
  },
  {
   "cell_type": "code",
   "execution_count": 106,
   "metadata": {
    "collapsed": true
   },
   "outputs": [
    {
     "ename": "KeyboardInterrupt",
     "evalue": "",
     "output_type": "error",
     "traceback": [
      "\u001b[0;31m---------------------------------------------------------------------------\u001b[0m",
      "\u001b[0;31mKeyboardInterrupt\u001b[0m                         Traceback (most recent call last)",
      "\u001b[0;32m<ipython-input-106-1bbf47ec3abe>\u001b[0m in \u001b[0;36m<module>\u001b[0;34m\u001b[0m\n\u001b[1;32m      6\u001b[0m     \u001b[0;32mfor\u001b[0m \u001b[0mj\u001b[0m \u001b[0;32min\u001b[0m \u001b[0mn_es\u001b[0m\u001b[0;34m:\u001b[0m\u001b[0;34m\u001b[0m\u001b[0;34m\u001b[0m\u001b[0m\n\u001b[1;32m      7\u001b[0m         \u001b[0mRaFR\u001b[0m  \u001b[0;34m=\u001b[0m \u001b[0mRandomForestRegressor\u001b[0m\u001b[0;34m(\u001b[0m\u001b[0mn_estimators\u001b[0m\u001b[0;34m=\u001b[0m\u001b[0mj\u001b[0m\u001b[0;34m,\u001b[0m\u001b[0mmax_depth\u001b[0m\u001b[0;34m=\u001b[0m\u001b[0mi\u001b[0m\u001b[0;34m,\u001b[0m\u001b[0mrandom_state\u001b[0m\u001b[0;34m=\u001b[0m\u001b[0;36m0\u001b[0m\u001b[0;34m)\u001b[0m\u001b[0;34m\u001b[0m\u001b[0;34m\u001b[0m\u001b[0m\n\u001b[0;32m----> 8\u001b[0;31m         \u001b[0mRaFR\u001b[0m\u001b[0;34m.\u001b[0m\u001b[0mfit\u001b[0m\u001b[0;34m(\u001b[0m\u001b[0mX_train\u001b[0m\u001b[0;34m,\u001b[0m \u001b[0my_train\u001b[0m\u001b[0;34m)\u001b[0m\u001b[0;34m\u001b[0m\u001b[0;34m\u001b[0m\u001b[0m\n\u001b[0m\u001b[1;32m      9\u001b[0m         \u001b[0;31m#print(f\"RaFR {mean_squared_error(y_test, RaFR.predict(X_test), squared=False)} max_depth = {i} n_estimators={j}\")\u001b[0m\u001b[0;34m\u001b[0m\u001b[0;34m\u001b[0m\u001b[0;34m\u001b[0m\u001b[0m\n\u001b[1;32m     10\u001b[0m         \u001b[0mrecord\u001b[0m\u001b[0;34m[\u001b[0m\u001b[0;34m\"n_estimators\"\u001b[0m\u001b[0;34m]\u001b[0m \u001b[0;34m=\u001b[0m \u001b[0mj\u001b[0m\u001b[0;34m\u001b[0m\u001b[0;34m\u001b[0m\u001b[0m\n",
      "\u001b[0;32m/opt/anaconda3/lib/python3.7/site-packages/sklearn/ensemble/_forest.py\u001b[0m in \u001b[0;36mfit\u001b[0;34m(self, X, y, sample_weight)\u001b[0m\n\u001b[1;32m    381\u001b[0m                     \u001b[0mverbose\u001b[0m\u001b[0;34m=\u001b[0m\u001b[0mself\u001b[0m\u001b[0;34m.\u001b[0m\u001b[0mverbose\u001b[0m\u001b[0;34m,\u001b[0m \u001b[0mclass_weight\u001b[0m\u001b[0;34m=\u001b[0m\u001b[0mself\u001b[0m\u001b[0;34m.\u001b[0m\u001b[0mclass_weight\u001b[0m\u001b[0;34m,\u001b[0m\u001b[0;34m\u001b[0m\u001b[0;34m\u001b[0m\u001b[0m\n\u001b[1;32m    382\u001b[0m                     n_samples_bootstrap=n_samples_bootstrap)\n\u001b[0;32m--> 383\u001b[0;31m                 for i, t in enumerate(trees))\n\u001b[0m\u001b[1;32m    384\u001b[0m \u001b[0;34m\u001b[0m\u001b[0m\n\u001b[1;32m    385\u001b[0m             \u001b[0;31m# Collect newly grown trees\u001b[0m\u001b[0;34m\u001b[0m\u001b[0;34m\u001b[0m\u001b[0;34m\u001b[0m\u001b[0m\n",
      "\u001b[0;32m/opt/anaconda3/lib/python3.7/site-packages/joblib/parallel.py\u001b[0m in \u001b[0;36m__call__\u001b[0;34m(self, iterable)\u001b[0m\n\u001b[1;32m   1005\u001b[0m                 \u001b[0mself\u001b[0m\u001b[0;34m.\u001b[0m\u001b[0m_iterating\u001b[0m \u001b[0;34m=\u001b[0m \u001b[0mself\u001b[0m\u001b[0;34m.\u001b[0m\u001b[0m_original_iterator\u001b[0m \u001b[0;32mis\u001b[0m \u001b[0;32mnot\u001b[0m \u001b[0;32mNone\u001b[0m\u001b[0;34m\u001b[0m\u001b[0;34m\u001b[0m\u001b[0m\n\u001b[1;32m   1006\u001b[0m \u001b[0;34m\u001b[0m\u001b[0m\n\u001b[0;32m-> 1007\u001b[0;31m             \u001b[0;32mwhile\u001b[0m \u001b[0mself\u001b[0m\u001b[0;34m.\u001b[0m\u001b[0mdispatch_one_batch\u001b[0m\u001b[0;34m(\u001b[0m\u001b[0miterator\u001b[0m\u001b[0;34m)\u001b[0m\u001b[0;34m:\u001b[0m\u001b[0;34m\u001b[0m\u001b[0;34m\u001b[0m\u001b[0m\n\u001b[0m\u001b[1;32m   1008\u001b[0m                 \u001b[0;32mpass\u001b[0m\u001b[0;34m\u001b[0m\u001b[0;34m\u001b[0m\u001b[0m\n\u001b[1;32m   1009\u001b[0m \u001b[0;34m\u001b[0m\u001b[0m\n",
      "\u001b[0;32m/opt/anaconda3/lib/python3.7/site-packages/joblib/parallel.py\u001b[0m in \u001b[0;36mdispatch_one_batch\u001b[0;34m(self, iterator)\u001b[0m\n\u001b[1;32m    833\u001b[0m                 \u001b[0;32mreturn\u001b[0m \u001b[0;32mFalse\u001b[0m\u001b[0;34m\u001b[0m\u001b[0;34m\u001b[0m\u001b[0m\n\u001b[1;32m    834\u001b[0m             \u001b[0;32melse\u001b[0m\u001b[0;34m:\u001b[0m\u001b[0;34m\u001b[0m\u001b[0;34m\u001b[0m\u001b[0m\n\u001b[0;32m--> 835\u001b[0;31m                 \u001b[0mself\u001b[0m\u001b[0;34m.\u001b[0m\u001b[0m_dispatch\u001b[0m\u001b[0;34m(\u001b[0m\u001b[0mtasks\u001b[0m\u001b[0;34m)\u001b[0m\u001b[0;34m\u001b[0m\u001b[0;34m\u001b[0m\u001b[0m\n\u001b[0m\u001b[1;32m    836\u001b[0m                 \u001b[0;32mreturn\u001b[0m \u001b[0;32mTrue\u001b[0m\u001b[0;34m\u001b[0m\u001b[0;34m\u001b[0m\u001b[0m\n\u001b[1;32m    837\u001b[0m \u001b[0;34m\u001b[0m\u001b[0m\n",
      "\u001b[0;32m/opt/anaconda3/lib/python3.7/site-packages/joblib/parallel.py\u001b[0m in \u001b[0;36m_dispatch\u001b[0;34m(self, batch)\u001b[0m\n\u001b[1;32m    752\u001b[0m         \u001b[0;32mwith\u001b[0m \u001b[0mself\u001b[0m\u001b[0;34m.\u001b[0m\u001b[0m_lock\u001b[0m\u001b[0;34m:\u001b[0m\u001b[0;34m\u001b[0m\u001b[0;34m\u001b[0m\u001b[0m\n\u001b[1;32m    753\u001b[0m             \u001b[0mjob_idx\u001b[0m \u001b[0;34m=\u001b[0m \u001b[0mlen\u001b[0m\u001b[0;34m(\u001b[0m\u001b[0mself\u001b[0m\u001b[0;34m.\u001b[0m\u001b[0m_jobs\u001b[0m\u001b[0;34m)\u001b[0m\u001b[0;34m\u001b[0m\u001b[0;34m\u001b[0m\u001b[0m\n\u001b[0;32m--> 754\u001b[0;31m             \u001b[0mjob\u001b[0m \u001b[0;34m=\u001b[0m \u001b[0mself\u001b[0m\u001b[0;34m.\u001b[0m\u001b[0m_backend\u001b[0m\u001b[0;34m.\u001b[0m\u001b[0mapply_async\u001b[0m\u001b[0;34m(\u001b[0m\u001b[0mbatch\u001b[0m\u001b[0;34m,\u001b[0m \u001b[0mcallback\u001b[0m\u001b[0;34m=\u001b[0m\u001b[0mcb\u001b[0m\u001b[0;34m)\u001b[0m\u001b[0;34m\u001b[0m\u001b[0;34m\u001b[0m\u001b[0m\n\u001b[0m\u001b[1;32m    755\u001b[0m             \u001b[0;31m# A job can complete so quickly than its callback is\u001b[0m\u001b[0;34m\u001b[0m\u001b[0;34m\u001b[0m\u001b[0;34m\u001b[0m\u001b[0m\n\u001b[1;32m    756\u001b[0m             \u001b[0;31m# called before we get here, causing self._jobs to\u001b[0m\u001b[0;34m\u001b[0m\u001b[0;34m\u001b[0m\u001b[0;34m\u001b[0m\u001b[0m\n",
      "\u001b[0;32m/opt/anaconda3/lib/python3.7/site-packages/joblib/_parallel_backends.py\u001b[0m in \u001b[0;36mapply_async\u001b[0;34m(self, func, callback)\u001b[0m\n\u001b[1;32m    207\u001b[0m     \u001b[0;32mdef\u001b[0m \u001b[0mapply_async\u001b[0m\u001b[0;34m(\u001b[0m\u001b[0mself\u001b[0m\u001b[0;34m,\u001b[0m \u001b[0mfunc\u001b[0m\u001b[0;34m,\u001b[0m \u001b[0mcallback\u001b[0m\u001b[0;34m=\u001b[0m\u001b[0;32mNone\u001b[0m\u001b[0;34m)\u001b[0m\u001b[0;34m:\u001b[0m\u001b[0;34m\u001b[0m\u001b[0;34m\u001b[0m\u001b[0m\n\u001b[1;32m    208\u001b[0m         \u001b[0;34m\"\"\"Schedule a func to be run\"\"\"\u001b[0m\u001b[0;34m\u001b[0m\u001b[0;34m\u001b[0m\u001b[0m\n\u001b[0;32m--> 209\u001b[0;31m         \u001b[0mresult\u001b[0m \u001b[0;34m=\u001b[0m \u001b[0mImmediateResult\u001b[0m\u001b[0;34m(\u001b[0m\u001b[0mfunc\u001b[0m\u001b[0;34m)\u001b[0m\u001b[0;34m\u001b[0m\u001b[0;34m\u001b[0m\u001b[0m\n\u001b[0m\u001b[1;32m    210\u001b[0m         \u001b[0;32mif\u001b[0m \u001b[0mcallback\u001b[0m\u001b[0;34m:\u001b[0m\u001b[0;34m\u001b[0m\u001b[0;34m\u001b[0m\u001b[0m\n\u001b[1;32m    211\u001b[0m             \u001b[0mcallback\u001b[0m\u001b[0;34m(\u001b[0m\u001b[0mresult\u001b[0m\u001b[0;34m)\u001b[0m\u001b[0;34m\u001b[0m\u001b[0;34m\u001b[0m\u001b[0m\n",
      "\u001b[0;32m/opt/anaconda3/lib/python3.7/site-packages/joblib/_parallel_backends.py\u001b[0m in \u001b[0;36m__init__\u001b[0;34m(self, batch)\u001b[0m\n\u001b[1;32m    588\u001b[0m         \u001b[0;31m# Don't delay the application, to avoid keeping the input\u001b[0m\u001b[0;34m\u001b[0m\u001b[0;34m\u001b[0m\u001b[0;34m\u001b[0m\u001b[0m\n\u001b[1;32m    589\u001b[0m         \u001b[0;31m# arguments in memory\u001b[0m\u001b[0;34m\u001b[0m\u001b[0;34m\u001b[0m\u001b[0;34m\u001b[0m\u001b[0m\n\u001b[0;32m--> 590\u001b[0;31m         \u001b[0mself\u001b[0m\u001b[0;34m.\u001b[0m\u001b[0mresults\u001b[0m \u001b[0;34m=\u001b[0m \u001b[0mbatch\u001b[0m\u001b[0;34m(\u001b[0m\u001b[0;34m)\u001b[0m\u001b[0;34m\u001b[0m\u001b[0;34m\u001b[0m\u001b[0m\n\u001b[0m\u001b[1;32m    591\u001b[0m \u001b[0;34m\u001b[0m\u001b[0m\n\u001b[1;32m    592\u001b[0m     \u001b[0;32mdef\u001b[0m \u001b[0mget\u001b[0m\u001b[0;34m(\u001b[0m\u001b[0mself\u001b[0m\u001b[0;34m)\u001b[0m\u001b[0;34m:\u001b[0m\u001b[0;34m\u001b[0m\u001b[0;34m\u001b[0m\u001b[0m\n",
      "\u001b[0;32m/opt/anaconda3/lib/python3.7/site-packages/joblib/parallel.py\u001b[0m in \u001b[0;36m__call__\u001b[0;34m(self)\u001b[0m\n\u001b[1;32m    254\u001b[0m         \u001b[0;32mwith\u001b[0m \u001b[0mparallel_backend\u001b[0m\u001b[0;34m(\u001b[0m\u001b[0mself\u001b[0m\u001b[0;34m.\u001b[0m\u001b[0m_backend\u001b[0m\u001b[0;34m,\u001b[0m \u001b[0mn_jobs\u001b[0m\u001b[0;34m=\u001b[0m\u001b[0mself\u001b[0m\u001b[0;34m.\u001b[0m\u001b[0m_n_jobs\u001b[0m\u001b[0;34m)\u001b[0m\u001b[0;34m:\u001b[0m\u001b[0;34m\u001b[0m\u001b[0;34m\u001b[0m\u001b[0m\n\u001b[1;32m    255\u001b[0m             return [func(*args, **kwargs)\n\u001b[0;32m--> 256\u001b[0;31m                     for func, args, kwargs in self.items]\n\u001b[0m\u001b[1;32m    257\u001b[0m \u001b[0;34m\u001b[0m\u001b[0m\n\u001b[1;32m    258\u001b[0m     \u001b[0;32mdef\u001b[0m \u001b[0m__len__\u001b[0m\u001b[0;34m(\u001b[0m\u001b[0mself\u001b[0m\u001b[0;34m)\u001b[0m\u001b[0;34m:\u001b[0m\u001b[0;34m\u001b[0m\u001b[0;34m\u001b[0m\u001b[0m\n",
      "\u001b[0;32m/opt/anaconda3/lib/python3.7/site-packages/joblib/parallel.py\u001b[0m in \u001b[0;36m<listcomp>\u001b[0;34m(.0)\u001b[0m\n\u001b[1;32m    254\u001b[0m         \u001b[0;32mwith\u001b[0m \u001b[0mparallel_backend\u001b[0m\u001b[0;34m(\u001b[0m\u001b[0mself\u001b[0m\u001b[0;34m.\u001b[0m\u001b[0m_backend\u001b[0m\u001b[0;34m,\u001b[0m \u001b[0mn_jobs\u001b[0m\u001b[0;34m=\u001b[0m\u001b[0mself\u001b[0m\u001b[0;34m.\u001b[0m\u001b[0m_n_jobs\u001b[0m\u001b[0;34m)\u001b[0m\u001b[0;34m:\u001b[0m\u001b[0;34m\u001b[0m\u001b[0;34m\u001b[0m\u001b[0m\n\u001b[1;32m    255\u001b[0m             return [func(*args, **kwargs)\n\u001b[0;32m--> 256\u001b[0;31m                     for func, args, kwargs in self.items]\n\u001b[0m\u001b[1;32m    257\u001b[0m \u001b[0;34m\u001b[0m\u001b[0m\n\u001b[1;32m    258\u001b[0m     \u001b[0;32mdef\u001b[0m \u001b[0m__len__\u001b[0m\u001b[0;34m(\u001b[0m\u001b[0mself\u001b[0m\u001b[0;34m)\u001b[0m\u001b[0;34m:\u001b[0m\u001b[0;34m\u001b[0m\u001b[0;34m\u001b[0m\u001b[0m\n",
      "\u001b[0;32m/opt/anaconda3/lib/python3.7/site-packages/sklearn/ensemble/_forest.py\u001b[0m in \u001b[0;36m_parallel_build_trees\u001b[0;34m(tree, forest, X, y, sample_weight, tree_idx, n_trees, verbose, class_weight, n_samples_bootstrap)\u001b[0m\n\u001b[1;32m    163\u001b[0m             \u001b[0mcurr_sample_weight\u001b[0m \u001b[0;34m*=\u001b[0m \u001b[0mcompute_sample_weight\u001b[0m\u001b[0;34m(\u001b[0m\u001b[0;34m'balanced'\u001b[0m\u001b[0;34m,\u001b[0m \u001b[0my\u001b[0m\u001b[0;34m,\u001b[0m \u001b[0mindices\u001b[0m\u001b[0;34m)\u001b[0m\u001b[0;34m\u001b[0m\u001b[0;34m\u001b[0m\u001b[0m\n\u001b[1;32m    164\u001b[0m \u001b[0;34m\u001b[0m\u001b[0m\n\u001b[0;32m--> 165\u001b[0;31m         \u001b[0mtree\u001b[0m\u001b[0;34m.\u001b[0m\u001b[0mfit\u001b[0m\u001b[0;34m(\u001b[0m\u001b[0mX\u001b[0m\u001b[0;34m,\u001b[0m \u001b[0my\u001b[0m\u001b[0;34m,\u001b[0m \u001b[0msample_weight\u001b[0m\u001b[0;34m=\u001b[0m\u001b[0mcurr_sample_weight\u001b[0m\u001b[0;34m,\u001b[0m \u001b[0mcheck_input\u001b[0m\u001b[0;34m=\u001b[0m\u001b[0;32mFalse\u001b[0m\u001b[0;34m)\u001b[0m\u001b[0;34m\u001b[0m\u001b[0;34m\u001b[0m\u001b[0m\n\u001b[0m\u001b[1;32m    166\u001b[0m     \u001b[0;32melse\u001b[0m\u001b[0;34m:\u001b[0m\u001b[0;34m\u001b[0m\u001b[0;34m\u001b[0m\u001b[0m\n\u001b[1;32m    167\u001b[0m         \u001b[0mtree\u001b[0m\u001b[0;34m.\u001b[0m\u001b[0mfit\u001b[0m\u001b[0;34m(\u001b[0m\u001b[0mX\u001b[0m\u001b[0;34m,\u001b[0m \u001b[0my\u001b[0m\u001b[0;34m,\u001b[0m \u001b[0msample_weight\u001b[0m\u001b[0;34m=\u001b[0m\u001b[0msample_weight\u001b[0m\u001b[0;34m,\u001b[0m \u001b[0mcheck_input\u001b[0m\u001b[0;34m=\u001b[0m\u001b[0;32mFalse\u001b[0m\u001b[0;34m)\u001b[0m\u001b[0;34m\u001b[0m\u001b[0;34m\u001b[0m\u001b[0m\n",
      "\u001b[0;32m/opt/anaconda3/lib/python3.7/site-packages/sklearn/tree/_classes.py\u001b[0m in \u001b[0;36mfit\u001b[0;34m(self, X, y, sample_weight, check_input, X_idx_sorted)\u001b[0m\n\u001b[1;32m   1223\u001b[0m             \u001b[0msample_weight\u001b[0m\u001b[0;34m=\u001b[0m\u001b[0msample_weight\u001b[0m\u001b[0;34m,\u001b[0m\u001b[0;34m\u001b[0m\u001b[0;34m\u001b[0m\u001b[0m\n\u001b[1;32m   1224\u001b[0m             \u001b[0mcheck_input\u001b[0m\u001b[0;34m=\u001b[0m\u001b[0mcheck_input\u001b[0m\u001b[0;34m,\u001b[0m\u001b[0;34m\u001b[0m\u001b[0;34m\u001b[0m\u001b[0m\n\u001b[0;32m-> 1225\u001b[0;31m             X_idx_sorted=X_idx_sorted)\n\u001b[0m\u001b[1;32m   1226\u001b[0m         \u001b[0;32mreturn\u001b[0m \u001b[0mself\u001b[0m\u001b[0;34m\u001b[0m\u001b[0;34m\u001b[0m\u001b[0m\n\u001b[1;32m   1227\u001b[0m \u001b[0;34m\u001b[0m\u001b[0m\n",
      "\u001b[0;32m/opt/anaconda3/lib/python3.7/site-packages/sklearn/tree/_classes.py\u001b[0m in \u001b[0;36mfit\u001b[0;34m(self, X, y, sample_weight, check_input, X_idx_sorted)\u001b[0m\n\u001b[1;32m    365\u001b[0m                                            min_impurity_split)\n\u001b[1;32m    366\u001b[0m \u001b[0;34m\u001b[0m\u001b[0m\n\u001b[0;32m--> 367\u001b[0;31m         \u001b[0mbuilder\u001b[0m\u001b[0;34m.\u001b[0m\u001b[0mbuild\u001b[0m\u001b[0;34m(\u001b[0m\u001b[0mself\u001b[0m\u001b[0;34m.\u001b[0m\u001b[0mtree_\u001b[0m\u001b[0;34m,\u001b[0m \u001b[0mX\u001b[0m\u001b[0;34m,\u001b[0m \u001b[0my\u001b[0m\u001b[0;34m,\u001b[0m \u001b[0msample_weight\u001b[0m\u001b[0;34m,\u001b[0m \u001b[0mX_idx_sorted\u001b[0m\u001b[0;34m)\u001b[0m\u001b[0;34m\u001b[0m\u001b[0;34m\u001b[0m\u001b[0m\n\u001b[0m\u001b[1;32m    368\u001b[0m \u001b[0;34m\u001b[0m\u001b[0m\n\u001b[1;32m    369\u001b[0m         \u001b[0;32mif\u001b[0m \u001b[0mself\u001b[0m\u001b[0;34m.\u001b[0m\u001b[0mn_outputs_\u001b[0m \u001b[0;34m==\u001b[0m \u001b[0;36m1\u001b[0m \u001b[0;32mand\u001b[0m \u001b[0mis_classifier\u001b[0m\u001b[0;34m(\u001b[0m\u001b[0mself\u001b[0m\u001b[0;34m)\u001b[0m\u001b[0;34m:\u001b[0m\u001b[0;34m\u001b[0m\u001b[0;34m\u001b[0m\u001b[0m\n",
      "\u001b[0;31mKeyboardInterrupt\u001b[0m: "
     ]
    }
   ],
   "source": [
    "n_es = list(range(1,100))\n",
    "m_depth = list(range(1,10))\n",
    "history = []\n",
    "record = {}\n",
    "for i in m_depth:\n",
    "    for j in n_es:\n",
    "        RaFR  = RandomForestRegressor(n_estimators=j,max_depth=i,random_state=0)\n",
    "        RaFR.fit(X_train, y_train)\n",
    "        #print(f\"RaFR {mean_squared_error(y_test, RaFR.predict(X_test), squared=False)} max_depth = {i} n_estimators={j}\")\n",
    "        record[\"n_estimators\"] = j\n",
    "        record[\"max_depth\"] = i\n",
    "        record[\"rmse\"] = mean_squared_error(y_test, RaFR.predict(X_test), squared=False)\n",
    "        history.append(record)\n",
    "argmax(history)"
   ]
  },
  {
   "cell_type": "code",
   "execution_count": 107,
   "metadata": {},
   "outputs": [
    {
     "data": {
      "text/plain": [
       "({'n_estimators': 34, 'max_depth': 4, 'rmse': 1.4971148576156899},\n",
       " {'n_estimators': 34, 'max_depth': 4, 'rmse': 1.4971148576156899})"
      ]
     },
     "execution_count": 107,
     "metadata": {},
     "output_type": "execute_result"
    }
   ],
   "source": [
    "argmax(history)"
   ]
  },
  {
   "cell_type": "code",
   "execution_count": 113,
   "metadata": {
    "colab": {
     "base_uri": "https://localhost:8080/"
    },
    "executionInfo": {
     "elapsed": 1031,
     "status": "ok",
     "timestamp": 1612711527474,
     "user": {
      "displayName": "Japheth kasomo",
      "photoUrl": "https://lh3.googleusercontent.com/a-/AOh14GjkvGiiqGfkQSD_jMTvE7lfUfUAlZCwsI-_E8vl=s64",
      "userId": "04938908274722798296"
     },
     "user_tz": 480
    },
    "id": "W1rcOUSolULY",
    "outputId": "459ec794-c6ce-4002-a1a3-28b0d4822bdd"
   },
   "outputs": [
    {
     "name": "stdout",
     "output_type": "stream",
     "text": [
      "RFR 1.526045433697511\n",
      "Multi_lr 1.7358240790385955\n",
      "DTR 2.70004486705956\n",
      "SVR_lr 1.472154356052173\n",
      "RaFR 1.5042589375448991\n",
      "MRLPR 2.0026414494697335\n"
     ]
    }
   ],
   "source": [
    "# The `squared=False` bit tells this function to return the ROOT mean squared error\n",
    "print(f\"RFR {mean_squared_error(y_test, model.predict(X_test), squared=False)}\")\n",
    "print(f\"Multi_lr {mean_squared_error(y_test, Multi_lr.predict(X_test), squared=False)}\")\n",
    "print(f\"DTR {mean_squared_error(y_test, DTR.predict(X_test), squared=False)}\")\n",
    "print(f\"SVR_lr {mean_squared_error(y_test, SVR_lr.predict(X_test), squared=False)}\")\n",
    "\n",
    "print(f\"RaFR {mean_squared_error(y_test, RaFR.predict(X_test), squared=False)}\")\n",
    "\n",
    "print(f\"MRLPR {mean_squared_error(y_test, MRLPR.predict(X_test), squared=False)}\")"
   ]
  },
  {
   "cell_type": "code",
   "execution_count": 72,
   "metadata": {
    "colab": {
     "base_uri": "https://localhost:8080/"
    },
    "executionInfo": {
     "elapsed": 998,
     "status": "ok",
     "timestamp": 1612706044964,
     "user": {
      "displayName": "Japheth kasomo",
      "photoUrl": "https://lh3.googleusercontent.com/a-/AOh14GjkvGiiqGfkQSD_jMTvE7lfUfUAlZCwsI-_E8vl=s64",
      "userId": "04938908274722798296"
     },
     "user_tz": 480
    },
    "id": "GEydg3aQlULT",
    "outputId": "0623e092-f7ea-4870-95fe-8051a839df8b"
   },
   "outputs": [
    {
     "data": {
      "text/plain": [
       "6.724618750000007"
      ]
     },
     "execution_count": 72,
     "metadata": {},
     "output_type": "execute_result"
    }
   ],
   "source": [
    "#from sklearn import metrics\n",
    "#print(\"Accuracy=\",metrics.accuracy_score(y_test,prediction_test))\n",
    "max(model.predict(X_test))\n"
   ]
  },
  {
   "cell_type": "markdown",
   "metadata": {
    "id": "y5_7eTqblULU"
   },
   "source": [
    "What is the score above? The default for regression models is the R^2 score, a measure of how well the mode does at predicting the target. 0.69 is pretty good - let's plot the predictions vs the actual values and see how close it looks to a straight line:"
   ]
  },
  {
   "cell_type": "code",
   "execution_count": 77,
   "metadata": {
    "colab": {
     "base_uri": "https://localhost:8080/",
     "height": 286
    },
    "executionInfo": {
     "elapsed": 1334,
     "status": "ok",
     "timestamp": 1612706086508,
     "user": {
      "displayName": "Japheth kasomo",
      "photoUrl": "https://lh3.googleusercontent.com/a-/AOh14GjkvGiiqGfkQSD_jMTvE7lfUfUAlZCwsI-_E8vl=s64",
      "userId": "04938908274722798296"
     },
     "user_tz": 480
    },
    "id": "-eEEFVPwlULW",
    "outputId": "e84c25bd-df60-49f0-d4cb-a5b36c0766ad"
   },
   "outputs": [
    {
     "data": {
      "text/plain": [
       "<matplotlib.collections.PathCollection at 0x7fb989403a90>"
      ]
     },
     "execution_count": 77,
     "metadata": {},
     "output_type": "execute_result"
    },
    {
     "data": {
      "image/png": "[encoded data removed]",
      "text/plain": [
       "<Figure size 432x288 with 1 Axes>"
      ]
     },
     "metadata": {
      "needs_background": "light"
     },
     "output_type": "display_data"
    }
   ],
   "source": [
    "from matplotlib import pyplot as plt\n",
    "plt.scatter(y_test, RaFR.predict(X_test), alpha=0.3)"
   ]
  },
  {
   "cell_type": "markdown",
   "metadata": {
    "id": "VS-vLrQglULX"
   },
   "source": [
    "This looks great - most predictions are nice and close to the true value! But we still don't have a way to link this to the leaderboard score on Zindi. Let's remedy that by calculating the Root Mean Squared Error, the same metric Zindi uses. "
   ]
  },
  {
   "cell_type": "markdown",
   "metadata": {
    "id": "mAmIMr1vlULZ"
   },
   "source": [
    "Great stuff. Let's make a submission and then move on to looking for ways to improve."
   ]
  },
  {
   "cell_type": "code",
   "execution_count": 45,
   "metadata": {
    "colab": {
     "base_uri": "https://localhost:8080/",
     "height": 224
    },
    "executionInfo": {
     "elapsed": 1531,
     "status": "ok",
     "timestamp": 1612706539766,
     "user": {
      "displayName": "Japheth kasomo",
      "photoUrl": "https://lh3.googleusercontent.com/a-/AOh14GjkvGiiqGfkQSD_jMTvE7lfUfUAlZCwsI-_E8vl=s64",
      "userId": "04938908274722798296"
     },
     "user_tz": 480
    },
    "id": "tX6nRc0ZzMiz",
    "outputId": "7d317cdc-bbe1-4412-f19d-7d3ae71d824f"
   },
   "outputs": [
    {
     "data": {
      "text/html": [
       "<div>\n",
       "<style scoped>\n",
       "    .dataframe tbody tr th:only-of-type {\n",
       "        vertical-align: middle;\n",
       "    }\n",
       "\n",
       "    .dataframe tbody tr th {\n",
       "        vertical-align: top;\n",
       "    }\n",
       "\n",
       "    .dataframe thead th {\n",
       "        text-align: right;\n",
       "    }\n",
       "</style>\n",
       "<table border=\"1\" class=\"dataframe\">\n",
       "  <thead>\n",
       "    <tr style=\"text-align: right;\">\n",
       "      <th></th>\n",
       "      <th>0_CLIM_vs</th>\n",
       "      <th>0_CLIM_vpd</th>\n",
       "      <th>0_CLIM_vap</th>\n",
       "      <th>0_CLIM_tmmx</th>\n",
       "      <th>0_CLIM_tmmn</th>\n",
       "      <th>0_CLIM_swe</th>\n",
       "      <th>0_CLIM_srad</th>\n",
       "      <th>0_CLIM_soil</th>\n",
       "      <th>0_CLIM_ro</th>\n",
       "      <th>0_CLIM_pr</th>\n",
       "      <th>...</th>\n",
       "      <th>11_S2_B12</th>\n",
       "      <th>11_2_B11</th>\n",
       "      <th>11_S2_B10</th>\n",
       "      <th>11_S2_B9</th>\n",
       "      <th>11_s2_B8A</th>\n",
       "      <th>11_S2_B8</th>\n",
       "      <th>11_2_B7</th>\n",
       "      <th>11_S2_B1</th>\n",
       "      <th>11_S2_B6</th>\n",
       "      <th>11_S2_B5</th>\n",
       "    </tr>\n",
       "  </thead>\n",
       "  <tbody>\n",
       "    <tr>\n",
       "      <th>0</th>\n",
       "      <td>1133</td>\n",
       "      <td>920</td>\n",
       "      <td>987</td>\n",
       "      <td>781</td>\n",
       "      <td>1252</td>\n",
       "      <td>2551</td>\n",
       "      <td>2926</td>\n",
       "      <td>769</td>\n",
       "      <td>13</td>\n",
       "      <td>1237</td>\n",
       "      <td>...</td>\n",
       "      <td>157</td>\n",
       "      <td>8</td>\n",
       "      <td>618</td>\n",
       "      <td>1990</td>\n",
       "      <td>0</td>\n",
       "      <td>147</td>\n",
       "      <td>296</td>\n",
       "      <td>1811</td>\n",
       "      <td>111</td>\n",
       "      <td>270</td>\n",
       "    </tr>\n",
       "    <tr>\n",
       "      <th>1</th>\n",
       "      <td>1140</td>\n",
       "      <td>899</td>\n",
       "      <td>928</td>\n",
       "      <td>696</td>\n",
       "      <td>1129</td>\n",
       "      <td>2604</td>\n",
       "      <td>2951</td>\n",
       "      <td>716</td>\n",
       "      <td>12</td>\n",
       "      <td>1048</td>\n",
       "      <td>...</td>\n",
       "      <td>157</td>\n",
       "      <td>8</td>\n",
       "      <td>618</td>\n",
       "      <td>1990</td>\n",
       "      <td>0</td>\n",
       "      <td>147</td>\n",
       "      <td>296</td>\n",
       "      <td>1811</td>\n",
       "      <td>111</td>\n",
       "      <td>270</td>\n",
       "    </tr>\n",
       "    <tr>\n",
       "      <th>2</th>\n",
       "      <td>1117</td>\n",
       "      <td>966</td>\n",
       "      <td>1019</td>\n",
       "      <td>960</td>\n",
       "      <td>1299</td>\n",
       "      <td>2152</td>\n",
       "      <td>2351</td>\n",
       "      <td>688</td>\n",
       "      <td>12</td>\n",
       "      <td>1372</td>\n",
       "      <td>...</td>\n",
       "      <td>153</td>\n",
       "      <td>8</td>\n",
       "      <td>583</td>\n",
       "      <td>2002</td>\n",
       "      <td>0</td>\n",
       "      <td>150</td>\n",
       "      <td>297</td>\n",
       "      <td>1829</td>\n",
       "      <td>112</td>\n",
       "      <td>270</td>\n",
       "    </tr>\n",
       "    <tr>\n",
       "      <th>3</th>\n",
       "      <td>1147</td>\n",
       "      <td>923</td>\n",
       "      <td>1032</td>\n",
       "      <td>672</td>\n",
       "      <td>1191</td>\n",
       "      <td>2609</td>\n",
       "      <td>3450</td>\n",
       "      <td>762</td>\n",
       "      <td>12</td>\n",
       "      <td>972</td>\n",
       "      <td>...</td>\n",
       "      <td>153</td>\n",
       "      <td>8</td>\n",
       "      <td>583</td>\n",
       "      <td>2002</td>\n",
       "      <td>0</td>\n",
       "      <td>150</td>\n",
       "      <td>297</td>\n",
       "      <td>1829</td>\n",
       "      <td>112</td>\n",
       "      <td>270</td>\n",
       "    </tr>\n",
       "    <tr>\n",
       "      <th>4</th>\n",
       "      <td>1141</td>\n",
       "      <td>987</td>\n",
       "      <td>1047</td>\n",
       "      <td>1343</td>\n",
       "      <td>1441</td>\n",
       "      <td>2055</td>\n",
       "      <td>2097</td>\n",
       "      <td>718</td>\n",
       "      <td>13</td>\n",
       "      <td>1796</td>\n",
       "      <td>...</td>\n",
       "      <td>153</td>\n",
       "      <td>8</td>\n",
       "      <td>583</td>\n",
       "      <td>2002</td>\n",
       "      <td>0</td>\n",
       "      <td>150</td>\n",
       "      <td>297</td>\n",
       "      <td>1829</td>\n",
       "      <td>112</td>\n",
       "      <td>270</td>\n",
       "    </tr>\n",
       "  </tbody>\n",
       "</table>\n",
       "<p>5 rows × 324 columns</p>\n",
       "</div>"
      ],
      "text/plain": [
       "   0_CLIM_vs  0_CLIM_vpd  0_CLIM_vap  0_CLIM_tmmx  0_CLIM_tmmn  0_CLIM_swe  \\\n",
       "0       1133         920         987          781         1252        2551   \n",
       "1       1140         899         928          696         1129        2604   \n",
       "2       1117         966        1019          960         1299        2152   \n",
       "3       1147         923        1032          672         1191        2609   \n",
       "4       1141         987        1047         1343         1441        2055   \n",
       "\n",
       "   0_CLIM_srad  0_CLIM_soil  0_CLIM_ro  0_CLIM_pr  ...  11_S2_B12  11_2_B11  \\\n",
       "0         2926          769         13       1237  ...        157         8   \n",
       "1         2951          716         12       1048  ...        157         8   \n",
       "2         2351          688         12       1372  ...        153         8   \n",
       "3         3450          762         12        972  ...        153         8   \n",
       "4         2097          718         13       1796  ...        153         8   \n",
       "\n",
       "   11_S2_B10  11_S2_B9  11_s2_B8A  11_S2_B8  11_2_B7  11_S2_B1  11_S2_B6  \\\n",
       "0        618      1990          0       147      296      1811       111   \n",
       "1        618      1990          0       147      296      1811       111   \n",
       "2        583      2002          0       150      297      1829       112   \n",
       "3        583      2002          0       150      297      1829       112   \n",
       "4        583      2002          0       150      297      1829       112   \n",
       "\n",
       "   11_S2_B5  \n",
       "0       270  \n",
       "1       270  \n",
       "2       270  \n",
       "3       270  \n",
       "4       270  \n",
       "\n",
       "[5 rows x 324 columns]"
      ]
     },
     "execution_count": 45,
     "metadata": {},
     "output_type": "execute_result"
    }
   ],
   "source": [
    "test.head()"
   ]
  },
  {
   "cell_type": "code",
   "execution_count": 114,
   "metadata": {
    "colab": {
     "base_uri": "https://localhost:8080/",
     "height": 204
    },
    "executionInfo": {
     "elapsed": 1314,
     "status": "ok",
     "timestamp": 1612711773388,
     "user": {
      "displayName": "Japheth kasomo",
      "photoUrl": "https://lh3.googleusercontent.com/a-/AOh14GjkvGiiqGfkQSD_jMTvE7lfUfUAlZCwsI-_E8vl=s64",
      "userId": "04938908274722798296"
     },
     "user_tz": 480
    },
    "id": "Xizyf9kNy4Uo",
    "outputId": "809e0d4f-9a58-46b3-c012-4c2b0fbb2a5f"
   },
   "outputs": [
    {
     "data": {
      "text/html": [
       "<div>\n",
       "<style scoped>\n",
       "    .dataframe tbody tr th:only-of-type {\n",
       "        vertical-align: middle;\n",
       "    }\n",
       "\n",
       "    .dataframe tbody tr th {\n",
       "        vertical-align: top;\n",
       "    }\n",
       "\n",
       "    .dataframe thead th {\n",
       "        text-align: right;\n",
       "    }\n",
       "</style>\n",
       "<table border=\"1\" class=\"dataframe\">\n",
       "  <thead>\n",
       "    <tr style=\"text-align: right;\">\n",
       "      <th></th>\n",
       "      <th>Field_ID</th>\n",
       "      <th>Yield</th>\n",
       "    </tr>\n",
       "  </thead>\n",
       "  <tbody>\n",
       "    <tr>\n",
       "      <th>0</th>\n",
       "      <td>E9UZCEA</td>\n",
       "      <td>3.667228</td>\n",
       "    </tr>\n",
       "    <tr>\n",
       "      <th>1</th>\n",
       "      <td>1WGGS1Q</td>\n",
       "      <td>3.497422</td>\n",
       "    </tr>\n",
       "    <tr>\n",
       "      <th>2</th>\n",
       "      <td>EG2KXE2</td>\n",
       "      <td>3.762183</td>\n",
       "    </tr>\n",
       "    <tr>\n",
       "      <th>3</th>\n",
       "      <td>HC3GQXF</td>\n",
       "      <td>3.546619</td>\n",
       "    </tr>\n",
       "    <tr>\n",
       "      <th>4</th>\n",
       "      <td>7AK6GFK</td>\n",
       "      <td>3.726104</td>\n",
       "    </tr>\n",
       "  </tbody>\n",
       "</table>\n",
       "</div>"
      ],
      "text/plain": [
       "  Field_ID     Yield\n",
       "0  E9UZCEA  3.667228\n",
       "1  1WGGS1Q  3.497422\n",
       "2  EG2KXE2  3.762183\n",
       "3  HC3GQXF  3.546619\n",
       "4  7AK6GFK  3.726104"
      ]
     },
     "execution_count": 114,
     "metadata": {},
     "output_type": "execute_result"
    }
   ],
   "source": [
    "# Load the sample submission file\n",
    "ss = pd.read_csv('SampleSubmission.csv')\n",
    "\n",
    "# Prep the data, using the same method we did for train\n",
    "#test_sampled = pd.DataFrame([process_im(fid, folder='image_arrays_test') for fid in ss['Field_ID'].values])\n",
    "\n",
    "test = StandardScaler().fit_transform(test)\n",
    "\n",
    "# Get model predictions\n",
    "preds = RaFR.predict(test)\n",
    "\n",
    "# Store them in the submission dataframe and save\n",
    "ss['Yield'] = preds\n",
    "ss.to_csv('Sub.csv', index=False)\n",
    "ss.head()"
   ]
  },
  {
   "cell_type": "markdown",
   "metadata": {
    "id": "F14R1sRElULb"
   },
   "source": [
    "We now have our predictions in the right format to submit. The following line saves this to a file that you can then upload to get a score:"
   ]
  },
  {
   "cell_type": "markdown",
   "metadata": {
    "id": "mZYfw1j6lULc"
   },
   "source": [
    "# Getting Better\n",
    "\n",
    "You might have noticed that your score on Zindi wasn't as good as the one you got above. This is because the test set comes from different countries to the train set. When we did a random split, we ended up with our local train and test both coming from the same countries - and it's easier for a model to extrapolate within countries than it is for it to make predictions for a new location. \n",
    "\n",
    "So our first step might be to make a scoring function that splits the data according to country, and measures the model performance on unseen countries. Try it and share your testing methods in the discussions. And look at the following questions:\n",
    "- Does your score drop when you score your model on countries it wasn't trained with?\n",
    "- Does the new score more accurately match the leaderboard score?\n",
    "- Are any countries particularly 'hard' to make predictions in?"
   ]
  },
  {
   "cell_type": "code",
   "execution_count": 116,
   "metadata": {
    "id": "rHUwfpQhlULc"
   },
   "outputs": [],
   "source": [
    "# You code for a new model evaluation method here\n",
    "# create our instances\n",
    "\n",
    "import xgboost as xgb\n",
    "#from sklearn.datasets import load_boston\n",
    "from sklearn.model_selection import train_test_split\n",
    "from sklearn.model_selection import cross_val_score, KFold\n",
    "from sklearn.metrics import mean_squared_error\n",
    "import matplotlib.pyplot as plt "
   ]
  },
  {
   "cell_type": "code",
   "execution_count": 117,
   "metadata": {
    "id": "SWlz3MkXlULd",
    "outputId": "2120756a-93bc-4398-c548-3bd3cb26bb08",
    "scrolled": true
   },
   "outputs": [
    {
     "name": "stdout",
     "output_type": "stream",
     "text": [
      "XGBRegressor(base_score=0.5, booster='gbtree', colsample_bylevel=1,\n",
      "             colsample_bynode=1, colsample_bytree=1, early_stopping_rounds=15,\n",
      "             gamma=0, importance_type='gain', learning_rate=1, max_delta_step=0,\n",
      "             max_depth=3, min_child_weight=1, missing=None, n_estimators=300,\n",
      "             n_jobs=1, nthread=None, objective='reg:linear', random_state=0,\n",
      "             reg_alpha=0, reg_lambda=1, scale_pos_weight=1, seed=None,\n",
      "             silent=None, subsample=1, verbosity=0)\n",
      "Training score:  0.9843407525418766\n"
     ]
    }
   ],
   "source": [
    "\n",
    "\n",
    "xgbr = xgb.XGBRegressor(n_estimators = 300,learning_rate = 1,early_stopping_rounds = 15,verbosity=0)\n",
    "print(xgbr)\n",
    "\n",
    "xgbr.fit(X_train, y_train)\n",
    " \n",
    "score = xgbr.score(X_train, y_train)   \n",
    "print(\"Training score: \", score) \n",
    "\n"
   ]
  },
  {
   "cell_type": "code",
   "execution_count": 119,
   "metadata": {
    "id": "yG1bwEHflULe",
    "outputId": "f2ed5953-1d49-4ffd-bf9e-c842bd21bacf"
   },
   "outputs": [
    {
     "name": "stdout",
     "output_type": "stream",
     "text": [
      "Mean cross-validation score: -0.38\n",
      "K-fold CV average score: -0.39\n",
      "MSE: 4.35\n",
      "RMSE: 2.09\n"
     ]
    },
    {
     "data": {
      "image/png": "[encoded data removed]",
      "text/plain": [
       "<Figure size 432x288 with 1 Axes>"
      ]
     },
     "metadata": {
      "needs_background": "light"
     },
     "output_type": "display_data"
    }
   ],
   "source": [
    "# - cross validataion \n",
    "scores = cross_val_score(xgbr, X_train, y_train, cv=10)\n",
    "print(\"Mean cross-validation score: %.2f\" % scores.mean())\n",
    "\n",
    "kfold = KFold(n_splits=3, shuffle=True)\n",
    "kf_cv_scores = cross_val_score(xgbr, X_train, y_train, cv=kfold )\n",
    "print(\"K-fold CV average score: %.2f\" % kf_cv_scores.mean())\n",
    " \n",
    "ypred = xgbr.predict(X_test)\n",
    "mse = mean_squared_error(y_test, ypred)\n",
    "print(\"MSE: %.2f\" % mse)\n",
    "print(\"RMSE: %.2f\" % (mse**(1/2.0)))\n",
    "\n",
    "x_ax = range(len(y_test))\n",
    "plt.scatter(x_ax, y_test, s=5, color=\"blue\", label=\"original\")\n",
    "plt.plot(x_ax, ypred, lw=0.8, color=\"red\", label=\"predicted\")\n",
    "plt.legend()\n",
    "plt.show()\n"
   ]
  },
  {
   "cell_type": "code",
   "execution_count": 123,
   "metadata": {
    "id": "6sXCaaqzlULg",
    "outputId": "530ee4b2-f837-40df-8216-6f40370746a0"
   },
   "outputs": [
    {
     "data": {
      "text/html": [
       "<div>\n",
       "<style scoped>\n",
       "    .dataframe tbody tr th:only-of-type {\n",
       "        vertical-align: middle;\n",
       "    }\n",
       "\n",
       "    .dataframe tbody tr th {\n",
       "        vertical-align: top;\n",
       "    }\n",
       "\n",
       "    .dataframe thead th {\n",
       "        text-align: right;\n",
       "    }\n",
       "</style>\n",
       "<table border=\"1\" class=\"dataframe\">\n",
       "  <thead>\n",
       "    <tr style=\"text-align: right;\">\n",
       "      <th></th>\n",
       "      <th>Field_ID</th>\n",
       "      <th>Yield</th>\n",
       "    </tr>\n",
       "  </thead>\n",
       "  <tbody>\n",
       "    <tr>\n",
       "      <th>0</th>\n",
       "      <td>E9UZCEA</td>\n",
       "      <td>5.714817</td>\n",
       "    </tr>\n",
       "    <tr>\n",
       "      <th>1</th>\n",
       "      <td>1WGGS1Q</td>\n",
       "      <td>7.106826</td>\n",
       "    </tr>\n",
       "    <tr>\n",
       "      <th>2</th>\n",
       "      <td>EG2KXE2</td>\n",
       "      <td>-0.185730</td>\n",
       "    </tr>\n",
       "    <tr>\n",
       "      <th>3</th>\n",
       "      <td>HC3GQXF</td>\n",
       "      <td>6.455561</td>\n",
       "    </tr>\n",
       "    <tr>\n",
       "      <th>4</th>\n",
       "      <td>7AK6GFK</td>\n",
       "      <td>2.285595</td>\n",
       "    </tr>\n",
       "    <tr>\n",
       "      <th>5</th>\n",
       "      <td>QBM8DGN</td>\n",
       "      <td>4.240309</td>\n",
       "    </tr>\n",
       "    <tr>\n",
       "      <th>6</th>\n",
       "      <td>1H0WQXK</td>\n",
       "      <td>6.284381</td>\n",
       "    </tr>\n",
       "    <tr>\n",
       "      <th>7</th>\n",
       "      <td>CWDN5MZ</td>\n",
       "      <td>6.868127</td>\n",
       "    </tr>\n",
       "    <tr>\n",
       "      <th>8</th>\n",
       "      <td>PTAP92J</td>\n",
       "      <td>5.773428</td>\n",
       "    </tr>\n",
       "    <tr>\n",
       "      <th>9</th>\n",
       "      <td>NTTFH97</td>\n",
       "      <td>6.479784</td>\n",
       "    </tr>\n",
       "  </tbody>\n",
       "</table>\n",
       "</div>"
      ],
      "text/plain": [
       "  Field_ID     Yield\n",
       "0  E9UZCEA  5.714817\n",
       "1  1WGGS1Q  7.106826\n",
       "2  EG2KXE2 -0.185730\n",
       "3  HC3GQXF  6.455561\n",
       "4  7AK6GFK  2.285595\n",
       "5  QBM8DGN  4.240309\n",
       "6  1H0WQXK  6.284381\n",
       "7  CWDN5MZ  6.868127\n",
       "8  PTAP92J  5.773428\n",
       "9  NTTFH97  6.479784"
      ]
     },
     "execution_count": 123,
     "metadata": {},
     "output_type": "execute_result"
    }
   ],
   "source": [
    "# Load the sample submission file\n",
    "ss = pd.read_csv('SampleSubmission.csv')\n",
    "\n",
    "# Prep the data, using the same method we did for train\n",
    "#test_sampled = pd.DataFrame([process_im(fid, folder='image_arrays_test') for fid in ss['Field_ID'].values])\n",
    "\n",
    "test = StandardScaler().fit_transform(test)\n",
    "\n",
    "# Get model predictions\n",
    "preds = xgbr.predict(test)\n",
    "\n",
    "# Store them in the submission dataframe and save\n",
    "ss['Yield'] = preds\n",
    "\n",
    "ss.head(10)"
   ]
  },
  {
   "cell_type": "code",
   "execution_count": 124,
   "metadata": {
    "id": "s_VLDvb9lULh"
   },
   "outputs": [],
   "source": [
    "ss.to_csv('Sub.csv', index=False)"
   ]
  },
  {
   "cell_type": "markdown",
   "metadata": {
    "id": "9_KNCldKlULi"
   },
   "source": [
    "Knowing how well our model is doing is useful, but however you measure that we also need ways to improve this performance! There are a few ways to do this:\n",
    "\n",
    "- Feed the model better data. How? Feature engineering! If we can add meaningful features the model will have more data to work with.\n",
    "- Tune your models. We used the default parameters - perhaps we can tweak some hyperparameters to make our models better\n",
    "- Try fancier models. Perhaps XGBoost or a neural network is better than Random Forest at this task\n",
    "\n",
    "Let's do a little of each. First up, let's create a numeric feature that encodes the 'urban_or_rural' column as something the model can use:"
   ]
  },
  {
   "cell_type": "markdown",
   "metadata": {
    "id": "iG6X2i23lULq"
   },
   "source": [
    "Did your score improve?\n",
    "\n",
    "Next, let's tune our model by adjusting the maximum depth. This is one of many hyperparameters that can be tweaked on a Random Forest model. Here I just try a few randomly chosen values, but you could also use a grid search to try values more methodically."
   ]
  },
  {
   "cell_type": "code",
   "execution_count": 127,
   "metadata": {
    "id": "feO5ceWalULq",
    "outputId": "742f8d79-5294-4c6e-b5f8-6d466ae2c7b9"
   },
   "outputs": [
    {
     "name": "stdout",
     "output_type": "stream",
     "text": [
      "max_depth = 3 n_estimators = 100 rmse = 1.4870390563831715\n",
      "max_depth = 3 n_estimators = 150 rmse = 1.4878553408004884\n",
      "max_depth = 3 n_estimators = 200 rmse = 1.4865621622784349\n",
      "max_depth = 3 n_estimators = 250 rmse = 1.4862368307654985\n",
      "max_depth = 3 n_estimators = 300 rmse = 1.4896095212575113\n",
      "max_depth = 5 n_estimators = 100 rmse = 1.5220449424426117\n",
      "max_depth = 5 n_estimators = 150 rmse = 1.5271571278838203\n",
      "max_depth = 5 n_estimators = 200 rmse = 1.5225463438268183\n",
      "max_depth = 5 n_estimators = 250 rmse = 1.5186752836085766\n",
      "max_depth = 5 n_estimators = 300 rmse = 1.5188325713348825\n",
      "max_depth = 8 n_estimators = 100 rmse = 1.5234645648629845\n",
      "max_depth = 8 n_estimators = 150 rmse = 1.5401988935122202\n",
      "max_depth = 8 n_estimators = 200 rmse = 1.5337532655148183\n",
      "max_depth = 8 n_estimators = 250 rmse = 1.5296931465144161\n",
      "max_depth = 8 n_estimators = 300 rmse = 1.5301375124530012\n",
      "max_depth = 10 n_estimators = 100 rmse = 1.532466741624681\n",
      "max_depth = 10 n_estimators = 150 rmse = 1.5444610545886288\n",
      "max_depth = 10 n_estimators = 200 rmse = 1.5423725451796517\n",
      "max_depth = 10 n_estimators = 250 rmse = 1.5366688603906389\n",
      "max_depth = 10 n_estimators = 300 rmse = 1.5344629828680674\n",
      "max_depth = 14 n_estimators = 100 rmse = 1.5259504085374036\n",
      "max_depth = 14 n_estimators = 150 rmse = 1.541966073882756\n",
      "max_depth = 14 n_estimators = 200 rmse = 1.5342229512884469\n",
      "max_depth = 14 n_estimators = 250 rmse = 1.5291537417428869\n",
      "max_depth = 14 n_estimators = 300 rmse = 1.528906439971849\n",
      "max_depth = 18 n_estimators = 100 rmse = 1.5259015235281248\n",
      "max_depth = 18 n_estimators = 150 rmse = 1.537876830894334\n",
      "max_depth = 18 n_estimators = 200 rmse = 1.5323889163911915\n",
      "max_depth = 18 n_estimators = 250 rmse = 1.5315691129108915\n",
      "max_depth = 18 n_estimators = 300 rmse = 1.5313756829936993\n"
     ]
    }
   ],
   "source": [
    "for max_depth in [3, 5, 8, 10, 14, 18]:\n",
    "    for n_estimators in [100,150,200,250,300]:\n",
    "        model = RandomForestRegressor(n_estimators=n_estimators,max_depth=max_depth,random_state=0)\n",
    "        # Again, you van use a better method to evaluate the model here...\n",
    "        model.fit(X_train, y_train)\n",
    "        print(f\"max_depth = {max_depth} n_estimators = {n_estimators} rmse = { mean_squared_error(y_test, model.predict(X_test), squared=False)}\") "
   ]
  },
  {
   "cell_type": "markdown",
   "metadata": {
    "id": "Z8l0WmTLlULq"
   },
   "source": [
    "In this case, it looks like we can improve our performance by specifying a max_depth to limit model complexity.\n",
    "\n",
    "Finally, let's try a different model out of curiosity:"
   ]
  },
  {
   "cell_type": "code",
   "execution_count": 141,
   "metadata": {
    "colab": {
     "base_uri": "https://localhost:8080/",
     "height": 333
    },
    "executionInfo": {
     "elapsed": 1153,
     "status": "error",
     "timestamp": 1612710591905,
     "user": {
      "displayName": "Japheth kasomo",
      "photoUrl": "https://lh3.googleusercontent.com/a-/AOh14GjkvGiiqGfkQSD_jMTvE7lfUfUAlZCwsI-_E8vl=s64",
      "userId": "04938908274722798296"
     },
     "user_tz": 480
    },
    "id": "tPslirlRlULr",
    "outputId": "25cfadd0-dab0-46a6-8066-c49d47c5d990"
   },
   "outputs": [
    {
     "name": "stdout",
     "output_type": "stream",
     "text": [
      "0:\tlearn: 1.3717049\ttotal: 36s\tremaining: 5m 24s\n",
      "1:\tlearn: 1.1622052\ttotal: 1m 31s\tremaining: 6m 4s\n",
      "2:\tlearn: 0.9339634\ttotal: 2m 16s\tremaining: 5m 17s\n",
      "3:\tlearn: 0.7903798\ttotal: 2m 57s\tremaining: 4m 26s\n",
      "4:\tlearn: 0.6732660\ttotal: 3m 39s\tremaining: 3m 39s\n",
      "5:\tlearn: 0.5703193\ttotal: 4m 21s\tremaining: 2m 54s\n",
      "6:\tlearn: 0.4758728\ttotal: 5m 1s\tremaining: 2m 9s\n",
      "7:\tlearn: 0.4117455\ttotal: 5m 44s\tremaining: 1m 26s\n",
      "8:\tlearn: 0.3689931\ttotal: 6m 28s\tremaining: 43.1s\n",
      "9:\tlearn: 0.3241637\ttotal: 7m 7s\tremaining: 0us\n",
      "1.6118150786812022\n"
     ]
    }
   ],
   "source": [
    "from catboost import CatBoostRegressor\n",
    "# Exercise: fit and score the model. Does it beat your other scores? Can you use it to make a submission?\n",
    "model = CatBoostRegressor(iterations=10,learning_rate=1,depth=16)\n",
    "# Fit model\n",
    "model.fit(X_train, y_train)\n",
    "# Get predictions\n",
    "print(mean_squared_error(y_test, model.predict(X_test), squared=False))"
   ]
  },
  {
   "cell_type": "code",
   "execution_count": 146,
   "metadata": {},
   "outputs": [],
   "source": [
    "XX = StandardScaler().fit_transform(X)\n",
    "pca = PCA(n_components=10)\n",
    "principalComponents = pca.fit_transform(XX)\n"
   ]
  },
  {
   "cell_type": "code",
   "execution_count": 147,
   "metadata": {},
   "outputs": [],
   "source": [
    "principalDf = pd.DataFrame(data = principalComponents, columns = ['PC1', 'PC2', 'PC3',\\\n",
    "                                                                  'PC4', 'PC5', 'PC6', 'PC7', 'PC8', 'PC9', 'PC10'])"
   ]
  },
  {
   "cell_type": "code",
   "execution_count": 148,
   "metadata": {},
   "outputs": [
    {
     "data": {
      "text/html": [
       "<div>\n",
       "<style scoped>\n",
       "    .dataframe tbody tr th:only-of-type {\n",
       "        vertical-align: middle;\n",
       "    }\n",
       "\n",
       "    .dataframe tbody tr th {\n",
       "        vertical-align: top;\n",
       "    }\n",
       "\n",
       "    .dataframe thead th {\n",
       "        text-align: right;\n",
       "    }\n",
       "</style>\n",
       "<table border=\"1\" class=\"dataframe\">\n",
       "  <thead>\n",
       "    <tr style=\"text-align: right;\">\n",
       "      <th></th>\n",
       "      <th>PC1</th>\n",
       "      <th>PC2</th>\n",
       "      <th>PC3</th>\n",
       "      <th>PC4</th>\n",
       "      <th>PC5</th>\n",
       "      <th>PC6</th>\n",
       "      <th>PC7</th>\n",
       "      <th>PC8</th>\n",
       "      <th>PC9</th>\n",
       "      <th>PC10</th>\n",
       "    </tr>\n",
       "  </thead>\n",
       "  <tbody>\n",
       "    <tr>\n",
       "      <th>0</th>\n",
       "      <td>9.880240</td>\n",
       "      <td>-4.661956</td>\n",
       "      <td>9.222531</td>\n",
       "      <td>-0.608610</td>\n",
       "      <td>-6.021890</td>\n",
       "      <td>3.735541</td>\n",
       "      <td>1.167637</td>\n",
       "      <td>-3.944419</td>\n",
       "      <td>16.754877</td>\n",
       "      <td>-6.395049</td>\n",
       "    </tr>\n",
       "    <tr>\n",
       "      <th>1</th>\n",
       "      <td>7.916839</td>\n",
       "      <td>-4.138729</td>\n",
       "      <td>6.492092</td>\n",
       "      <td>-3.164512</td>\n",
       "      <td>-4.414941</td>\n",
       "      <td>-0.929412</td>\n",
       "      <td>-0.493082</td>\n",
       "      <td>-4.493983</td>\n",
       "      <td>-0.694407</td>\n",
       "      <td>4.308019</td>\n",
       "    </tr>\n",
       "    <tr>\n",
       "      <th>2</th>\n",
       "      <td>10.449703</td>\n",
       "      <td>-3.325766</td>\n",
       "      <td>12.818180</td>\n",
       "      <td>1.862554</td>\n",
       "      <td>-8.861755</td>\n",
       "      <td>7.886094</td>\n",
       "      <td>6.385353</td>\n",
       "      <td>-1.616659</td>\n",
       "      <td>19.151537</td>\n",
       "      <td>-9.402268</td>\n",
       "    </tr>\n",
       "    <tr>\n",
       "      <th>3</th>\n",
       "      <td>10.821314</td>\n",
       "      <td>-2.975712</td>\n",
       "      <td>14.755181</td>\n",
       "      <td>2.321320</td>\n",
       "      <td>-2.236298</td>\n",
       "      <td>9.404378</td>\n",
       "      <td>2.579940</td>\n",
       "      <td>1.133918</td>\n",
       "      <td>-6.756436</td>\n",
       "      <td>-3.068698</td>\n",
       "    </tr>\n",
       "    <tr>\n",
       "      <th>4</th>\n",
       "      <td>-3.572563</td>\n",
       "      <td>0.144873</td>\n",
       "      <td>3.393827</td>\n",
       "      <td>7.726701</td>\n",
       "      <td>-4.846198</td>\n",
       "      <td>0.153034</td>\n",
       "      <td>0.654158</td>\n",
       "      <td>-0.235890</td>\n",
       "      <td>-0.602683</td>\n",
       "      <td>2.403832</td>\n",
       "    </tr>\n",
       "  </tbody>\n",
       "</table>\n",
       "</div>"
      ],
      "text/plain": [
       "         PC1       PC2        PC3       PC4       PC5       PC6       PC7  \\\n",
       "0   9.880240 -4.661956   9.222531 -0.608610 -6.021890  3.735541  1.167637   \n",
       "1   7.916839 -4.138729   6.492092 -3.164512 -4.414941 -0.929412 -0.493082   \n",
       "2  10.449703 -3.325766  12.818180  1.862554 -8.861755  7.886094  6.385353   \n",
       "3  10.821314 -2.975712  14.755181  2.321320 -2.236298  9.404378  2.579940   \n",
       "4  -3.572563  0.144873   3.393827  7.726701 -4.846198  0.153034  0.654158   \n",
       "\n",
       "        PC8        PC9      PC10  \n",
       "0 -3.944419  16.754877 -6.395049  \n",
       "1 -4.493983  -0.694407  4.308019  \n",
       "2 -1.616659  19.151537 -9.402268  \n",
       "3  1.133918  -6.756436 -3.068698  \n",
       "4 -0.235890  -0.602683  2.403832  "
      ]
     },
     "execution_count": 148,
     "metadata": {},
     "output_type": "execute_result"
    }
   ],
   "source": [
    "principalDf.head()"
   ]
  },
  {
   "cell_type": "code",
   "execution_count": 150,
   "metadata": {},
   "outputs": [
    {
     "data": {
      "text/plain": [
       "array([0.16657315, 0.12655973, 0.08862694, 0.08151486, 0.0496035 ,\n",
       "       0.03650247, 0.03367869, 0.03174189, 0.0297556 , 0.02875222])"
      ]
     },
     "execution_count": 150,
     "metadata": {},
     "output_type": "execute_result"
    }
   ],
   "source": [
    "pca.explained_variance_ratio_"
   ]
  },
  {
   "cell_type": "code",
   "execution_count": 152,
   "metadata": {},
   "outputs": [],
   "source": [
    "pca = PCA(.95)\n",
    "pca.fit(X_train)\n",
    "train_img = pca.transform(X_train)\n",
    "test_img = pca.transform(X_test)"
   ]
  },
  {
   "cell_type": "code",
   "execution_count": 155,
   "metadata": {},
   "outputs": [
    {
     "name": "stdout",
     "output_type": "stream",
     "text": [
      "1.5012701530306802\n"
     ]
    }
   ],
   "source": [
    "model = RandomForestRegressor(n_estimators=100,max_depth=3,random_state=0)\n",
    "        # Again, you van use a better method to evaluate the model here...\n",
    "model.fit(train_img, y_train)\n",
    "print(mean_squared_error(y_test, model.predict(test_img), squared=False))"
   ]
  },
  {
   "cell_type": "markdown",
   "metadata": {
    "id": "DH6bx6nglULr"
   },
   "source": [
    "Remember, you can ask questions and share ideas in the discussions. \n",
    "\n",
    "### GOOD LUCK!"
   ]
  }
 ],
 "metadata": {
  "colab": {
   "name": "hakathorn.ipynb",
   "provenance": [],
   "toc_visible": true
  },
  "kernelspec": {
   "display_name": "Python 3",
   "language": "python",
   "name": "python3"
  },
  "language_info": {
   "codemirror_mode": {
    "name": "ipython",
    "version": 3
   },
   "file_extension": ".py",
   "mimetype": "text/x-python",
   "name": "python",
   "nbconvert_exporter": "python",
   "pygments_lexer": "ipython3",
   "version": "3.7.6"
  }
 },
 "nbformat": 4,
 "nbformat_minor": 1
}
